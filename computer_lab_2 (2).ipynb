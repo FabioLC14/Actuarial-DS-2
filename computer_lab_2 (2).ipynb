{
  "cells": [
    {
      "cell_type": "markdown",
      "metadata": {
        "id": "i-QrtHYTqwRj"
      },
      "source": [
        "<center> <h1> <span style=\"color:black\"> IABE Data Science Certificate - Module 2 - Computer Lab 2  </h1> </center> \n",
        "<center> <h2> <span style=\"color:red\"> Programming : bagging and random forests in Python </h1> </center>"
      ],
      "id": "i-QrtHYTqwRj"
    },
    {
      "cell_type": "markdown",
      "id": "bdc06fc0",
      "metadata": {
        "id": "bdc06fc0"
      },
      "source": [
        "# Agenda\n",
        "\n",
        "* [Chapter 1 - Introduction](#one)\n",
        "    + [1.1 Objective of the notebook](#one-one)\n",
        "    + [1.2 Speakers](#one-two)\n",
        "    + [1.3 IT requirements](#one-three)\n",
        "\n",
        "\n",
        "* [Chapter 2 - Import of libraries and dataset](#two)\n",
        "    + [2.1 Importing the libraries](#two-one)\n",
        "    + [2.2 Importing the data](#two-two)"
      ]
    },
    {
      "cell_type": "markdown",
      "id": "dab950e4",
      "metadata": {
        "id": "dab950e4"
      },
      "source": [
        "# Chapter 1 - Introduction <a name=\"one\"></a>"
      ]
    },
    {
      "cell_type": "markdown",
      "id": "afe34e47",
      "metadata": {
        "id": "afe34e47"
      },
      "source": [
        "## 1.1 Objective of the notebook <a name=\"one-one\"></a>"
      ]
    },
    {
      "cell_type": "markdown",
      "id": "0484183a",
      "metadata": {
        "id": "0484183a"
      },
      "source": [
        "The objectif of this notebook is to illustrate \n",
        "1. The bagging and Random Forrest algorithms \n",
        "2. How to tune these models on the Ames price Dataset\n",
        "3. How to perform Random search and Grid search for hyper parameters tuning\n",
        "\n"
      ]
    },
    {
      "cell_type": "markdown",
      "id": "02cffb18",
      "metadata": {
        "id": "02cffb18"
      },
      "source": [
        "## 1.2 Speakers<a name=\"one-two\"></a>"
      ]
    },
    {
      "cell_type": "markdown",
      "id": "b30bb931",
      "metadata": {
        "id": "b30bb931"
      },
      "source": [
        "- Samuel Mahy\n",
        "\n",
        "Samuel Mahy is director at Reacfin and head of the Non-Life Center of Excellence. He holds a Master of Engineering in Applied Mathematics and a Master of Actuarial Sciences both from the University of Louvain.\n",
        "\n",
        "contact : samuel.mahy@reacfin.com\n",
        "\n",
        "- Michael Lecuivre\n",
        "\n",
        "Michael Lecuivre is senior consultant Non-Life at Reacfin. He holds a Master of Physics and a Master of Actuarial Sciences both from the University of Louvain.  \n",
        "\n",
        "contact : michael.lecuivre@reacfin.com"
      ]
    },
    {
      "cell_type": "markdown",
      "id": "29072299",
      "metadata": {
        "id": "29072299"
      },
      "source": [
        "## 1.3 IT requirements <a name=\"one-three\"></a>"
      ]
    },
    {
      "cell_type": "markdown",
      "id": "049da3b9",
      "metadata": {
        "id": "049da3b9"
      },
      "source": [
        "First, download the notebooks by clicking [here](https://gitfront.io/r/katrienantonio/a29071bdc7b2f20f24268be573ef54b68c65168c/IABE-DS-module-1/)\n",
        "\n",
        "\n",
        "\n",
        "You then have two options to join the coding exercises covered during the computer labs.\n",
        "\n",
        "**Google Colab - default!**\n",
        "\n",
        "Google Colaboratory, or “Colab” for short, allows you to write and execute Python in your browser. Having a Google account you should be able to open the notebook and to run the python code cells. You can find [here](https://colab.research.google.com/drive/1xBHj08d1rj4C_IeMGXqwDz-sGGiis40F#scrollTo=rA-4zXBijbX3) a very simple notebook with some first exploratory steps of this research environment. You can store a copy of this notebook on your Google drive, or download a local copy.\n",
        "\n",
        "To open the notebook you have downloaded from [here](https://gitfront.io/r/katrienantonio/a29071bdc7b2f20f24268be573ef54b68c65168c/IABE-DS-module-1/) just perform the following steps : \n",
        "1. go to Google Colab :  https://colab.research.google.com/notebooks/intro.ipynb \n",
        "2. click on **File>Upload notebook**. \n",
        "\n",
        "To execute the code in a code cell, select it with a click and then either press the play button to the left of the code, or use the keyboard shortcut \"Command/Ctrl+Enter\". To edit the code, just click the cell and start editing. Watch [Introduction to Colab](https://www.youtube.com/watch?v=inN8seMm7UI) to learn more.\n",
        "\n",
        "In colab many python libraries are already available by default. If a library is missing it can be installed as explained [here](https://colab.research.google.com/notebooks/snippets/importing_libraries.ipynb)\n",
        "\n",
        "**Local installation - optional**\n",
        "\n",
        "We recommend obtaining your local installation of Python via the distribution platform Anaconda. Here you should\n",
        "\n",
        "- download Anaconda at https://www.anaconda.com/distribution/#download-section, select the version for Python 3.8 and make sure to pick the right operating system (top of the page: select Windows, macOS or Linux)\n",
        "\n",
        "- install Anaconda; this is straightforward after launching the installer, but (in case you are in doubt) some instructions are at https://docs.anaconda.com/anaconda/install/windows/.\n",
        "\n",
        "To open the notebook you have downloaded [here](https://gitfront.io/r/katrienantonio/a29071bdc7b2f20f24268be573ef54b68c65168c/IABE-DS-module-1/) simply\n",
        "\n",
        "1. Launch Anaconda\n",
        "2. Launch Jupiter Notebook from Anaconda main screen\n",
        "3. Open the notebook file stored on your computer\n",
        "\n",
        "In Anaconda many python libraries are already available by default. If a library is missing it can be installed by typing **pip install [library]** in the Anaconda command prompt. In order to be able to run this command you have to install **pip** from [here](https://pip.pypa.io/en/stable/installing/)"
      ]
    },
    {
      "cell_type": "markdown",
      "id": "7d39545a",
      "metadata": {
        "id": "7d39545a"
      },
      "source": [
        "# Chapter 2 - Import of libraries and datasets <a name=\"two\"></a>"
      ]
    },
    {
      "cell_type": "markdown",
      "id": "8741d580",
      "metadata": {
        "id": "8741d580"
      },
      "source": [
        "In this chapter, we will explain how to load the required libraries and datasets\n",
        "<br><br>"
      ]
    },
    {
      "cell_type": "markdown",
      "id": "144bb0a9",
      "metadata": {
        "id": "144bb0a9"
      },
      "source": [
        "## 2.1 Importing the libraries<a name=\"two-one\"></a>"
      ]
    },
    {
      "cell_type": "markdown",
      "id": "7fa18b46",
      "metadata": {
        "id": "7fa18b46"
      },
      "source": [
        "First we make sure we are running an up to date version of Pyhton (at least 3.8)"
      ]
    },
    {
      "cell_type": "markdown",
      "id": "75e3cafb",
      "metadata": {
        "id": "75e3cafb"
      },
      "source": [
        "In this training we will use the **following libraries**: \n",
        "\n",
        "| Library | Definition | Url | pip command |\n",
        "|----|----|----|----|\n",
        "| Matplotlib | Python 2D plotting library that contains many submodules like pyplot, a matlab-like interface | https://matplotlib.org | pip install matplotlib |\n",
        "| numpy | Fundamental package for scientific computing. Numpy allows the user to integrate C/C++ and Fortran code to Python projects | http://www.numpy.org/ | pip install numpy* |\n",
        "| pandas | Provides high-performance, easy-to-use data structures and data analysis tools | https://pandas.pydata.org/ | pip install pandas |\n",
        "| sklearn | Widely used machine learning library with classification, regression, clustering, model selection, preprocessing etc. | http://scikit-learn.org/ | pip install scikit-learn |\n",
        "| seaborn | Allows to plot distributions| https://seaborn.pydata.org | pip install seaborn |"
      ]
    },
    {
      "cell_type": "markdown",
      "id": "e203ef61",
      "metadata": {
        "id": "e203ef61"
      },
      "source": [
        "After installing the libraries through the use of **pip**, we still have to import them in the notebook for which we can use the `import` statement."
      ]
    },
    {
      "cell_type": "code",
      "execution_count": null,
      "id": "e5713551",
      "metadata": {
        "id": "e5713551"
      },
      "outputs": [],
      "source": [
        "import time"
      ]
    },
    {
      "cell_type": "markdown",
      "id": "d6bd1f38",
      "metadata": {
        "id": "d6bd1f38"
      },
      "source": [
        "Basically, we know that we will have to use *pandas* library many times. To **improve the code readability**, we will also use the command `import pandas as pd`. This means that we will be able to use a pandas function using `pd.name_of_a_function`. We will apply the same manipulation for other packages as well such as package *numpy*."
      ]
    },
    {
      "cell_type": "code",
      "execution_count": null,
      "id": "4ed55ab6",
      "metadata": {
        "id": "4ed55ab6"
      },
      "outputs": [],
      "source": [
        "import pandas as pd\n",
        "import numpy as np\n",
        "import seaborn as sb\n",
        "import pylab\n",
        "import matplotlib.pyplot as plt\n",
        "from mpl_toolkits.mplot3d import axes3d\n",
        "from matplotlib import cm"
      ]
    },
    {
      "cell_type": "markdown",
      "id": "f079a68f",
      "metadata": {
        "id": "f079a68f"
      },
      "source": [
        "Some libraries, such as *sklearn*, are **too big for the use we will have**. Therefore, we prefer to import only one function at a time, *i.e.* *metrics*, from *sklearn*. The same logic is used for some other libraries:"
      ]
    },
    {
      "cell_type": "code",
      "execution_count": null,
      "id": "15bc1925",
      "metadata": {
        "id": "15bc1925"
      },
      "outputs": [],
      "source": [
        "from sklearn import metrics\n",
        "from sklearn.model_selection import train_test_split\n",
        "from sklearn.tree import DecisionTreeRegressor\n",
        "from sklearn.ensemble import BaggingRegressor\n",
        "from sklearn.ensemble import RandomForestRegressor, GradientBoostingRegressor\n",
        "from sklearn.model_selection import KFold\n",
        "from sklearn.model_selection import RandomizedSearchCV\n",
        "from sklearn.model_selection import GridSearchCV\n",
        "\n",
        "from sklearn.model_selection import train_test_split\n",
        "from sklearn.model_selection import KFold\n",
        "from sklearn.metrics import mean_squared_error\n",
        "from sklearn import tree"
      ]
    },
    {
      "cell_type": "markdown",
      "id": "14cc2964",
      "metadata": {
        "id": "14cc2964"
      },
      "source": [
        "This approach has **several benefits**:\n",
        "\n",
        "* Few functions (and their dependences) are loaded;\n",
        "* We can just call the function by its name."
      ]
    },
    {
      "cell_type": "markdown",
      "id": "77343a6f",
      "metadata": {
        "id": "77343a6f"
      },
      "source": [
        "## 2.2 Importing the data <a name=\"two-two\"></a>"
      ]
    },
    {
      "cell_type": "markdown",
      "id": "0306e99d",
      "metadata": {
        "id": "0306e99d"
      },
      "source": [
        "For business case purposes, we will use the following datasets : \n",
        "\n",
        "- a dataset describing the sale of individual residential property in Ames, Iowa from 2006 to 2010 (more info [here](http://jse.amstat.org/v19n3/decock/DataDocumentation.txt))\n",
        "- a dataset containing the claim history for Motor Third Party Liability insurance cover \n",
        "\n",
        "If we want to load these files in Python, we can use the function `read_csv()` which belongs to the panda library (which we abbreviated to `pd`)"
      ]
    },
    {
      "cell_type": "code",
      "execution_count": null,
      "id": "4d3d856b",
      "metadata": {
        "id": "4d3d856b"
      },
      "outputs": [],
      "source": [
        "ames_python = pd.read_csv(\"https://katrienantonio.github.io/hands-on-machine-learning-R-module-1/data/ames_python.csv\")\n",
        "mtpl_python = pd.read_csv(\"https://katrienantonio.github.io/hands-on-machine-learning-R-module-1/data/PC_data.txt\", delimiter = \"\\t\")"
      ]
    },
    {
      "cell_type": "markdown",
      "id": "58ceef72",
      "metadata": {
        "id": "58ceef72"
      },
      "source": [
        "We can check that the import was performed correctly by using the `head()` function."
      ]
    },
    {
      "cell_type": "code",
      "execution_count": null,
      "id": "5a6686f1",
      "metadata": {
        "id": "5a6686f1",
        "outputId": "74907574-d844-41a6-e202-596fdb8d57ca"
      },
      "outputs": [
        {
          "data": {
            "text/html": [
              "<div>\n",
              "<style scoped>\n",
              "    .dataframe tbody tr th:only-of-type {\n",
              "        vertical-align: middle;\n",
              "    }\n",
              "\n",
              "    .dataframe tbody tr th {\n",
              "        vertical-align: top;\n",
              "    }\n",
              "\n",
              "    .dataframe thead th {\n",
              "        text-align: right;\n",
              "    }\n",
              "</style>\n",
              "<table border=\"1\" class=\"dataframe\">\n",
              "  <thead>\n",
              "    <tr style=\"text-align: right;\">\n",
              "      <th></th>\n",
              "      <th>Unnamed: 0</th>\n",
              "      <th>MS_SubClass</th>\n",
              "      <th>MS_Zoning</th>\n",
              "      <th>Lot_Frontage</th>\n",
              "      <th>Lot_Area</th>\n",
              "      <th>Street</th>\n",
              "      <th>Alley</th>\n",
              "      <th>Lot_Shape</th>\n",
              "      <th>Land_Contour</th>\n",
              "      <th>Utilities</th>\n",
              "      <th>...</th>\n",
              "      <th>Fence</th>\n",
              "      <th>Misc_Feature</th>\n",
              "      <th>Misc_Val</th>\n",
              "      <th>Mo_Sold</th>\n",
              "      <th>Year_Sold</th>\n",
              "      <th>Sale_Type</th>\n",
              "      <th>Sale_Condition</th>\n",
              "      <th>Sale_Price</th>\n",
              "      <th>Longitude</th>\n",
              "      <th>Latitude</th>\n",
              "    </tr>\n",
              "  </thead>\n",
              "  <tbody>\n",
              "    <tr>\n",
              "      <th>0</th>\n",
              "      <td>1</td>\n",
              "      <td>One_Story_1946_and_Newer_All_Styles</td>\n",
              "      <td>Residential_Low_Density</td>\n",
              "      <td>141</td>\n",
              "      <td>31770</td>\n",
              "      <td>Pave</td>\n",
              "      <td>No_Alley_Access</td>\n",
              "      <td>Slightly_Irregular</td>\n",
              "      <td>Lvl</td>\n",
              "      <td>AllPub</td>\n",
              "      <td>...</td>\n",
              "      <td>No_Fence</td>\n",
              "      <td>None</td>\n",
              "      <td>0</td>\n",
              "      <td>5</td>\n",
              "      <td>2010</td>\n",
              "      <td>WD</td>\n",
              "      <td>Normal</td>\n",
              "      <td>215000</td>\n",
              "      <td>-93.619754</td>\n",
              "      <td>42.054035</td>\n",
              "    </tr>\n",
              "    <tr>\n",
              "      <th>1</th>\n",
              "      <td>2</td>\n",
              "      <td>One_Story_1946_and_Newer_All_Styles</td>\n",
              "      <td>Residential_High_Density</td>\n",
              "      <td>80</td>\n",
              "      <td>11622</td>\n",
              "      <td>Pave</td>\n",
              "      <td>No_Alley_Access</td>\n",
              "      <td>Regular</td>\n",
              "      <td>Lvl</td>\n",
              "      <td>AllPub</td>\n",
              "      <td>...</td>\n",
              "      <td>Minimum_Privacy</td>\n",
              "      <td>None</td>\n",
              "      <td>0</td>\n",
              "      <td>6</td>\n",
              "      <td>2010</td>\n",
              "      <td>WD</td>\n",
              "      <td>Normal</td>\n",
              "      <td>105000</td>\n",
              "      <td>-93.619756</td>\n",
              "      <td>42.053014</td>\n",
              "    </tr>\n",
              "    <tr>\n",
              "      <th>2</th>\n",
              "      <td>3</td>\n",
              "      <td>One_Story_1946_and_Newer_All_Styles</td>\n",
              "      <td>Residential_Low_Density</td>\n",
              "      <td>81</td>\n",
              "      <td>14267</td>\n",
              "      <td>Pave</td>\n",
              "      <td>No_Alley_Access</td>\n",
              "      <td>Slightly_Irregular</td>\n",
              "      <td>Lvl</td>\n",
              "      <td>AllPub</td>\n",
              "      <td>...</td>\n",
              "      <td>No_Fence</td>\n",
              "      <td>Gar2</td>\n",
              "      <td>12500</td>\n",
              "      <td>6</td>\n",
              "      <td>2010</td>\n",
              "      <td>WD</td>\n",
              "      <td>Normal</td>\n",
              "      <td>172000</td>\n",
              "      <td>-93.619387</td>\n",
              "      <td>42.052659</td>\n",
              "    </tr>\n",
              "    <tr>\n",
              "      <th>3</th>\n",
              "      <td>4</td>\n",
              "      <td>One_Story_1946_and_Newer_All_Styles</td>\n",
              "      <td>Residential_Low_Density</td>\n",
              "      <td>93</td>\n",
              "      <td>11160</td>\n",
              "      <td>Pave</td>\n",
              "      <td>No_Alley_Access</td>\n",
              "      <td>Regular</td>\n",
              "      <td>Lvl</td>\n",
              "      <td>AllPub</td>\n",
              "      <td>...</td>\n",
              "      <td>No_Fence</td>\n",
              "      <td>None</td>\n",
              "      <td>0</td>\n",
              "      <td>4</td>\n",
              "      <td>2010</td>\n",
              "      <td>WD</td>\n",
              "      <td>Normal</td>\n",
              "      <td>244000</td>\n",
              "      <td>-93.617320</td>\n",
              "      <td>42.051245</td>\n",
              "    </tr>\n",
              "    <tr>\n",
              "      <th>4</th>\n",
              "      <td>5</td>\n",
              "      <td>Two_Story_1946_and_Newer</td>\n",
              "      <td>Residential_Low_Density</td>\n",
              "      <td>74</td>\n",
              "      <td>13830</td>\n",
              "      <td>Pave</td>\n",
              "      <td>No_Alley_Access</td>\n",
              "      <td>Slightly_Irregular</td>\n",
              "      <td>Lvl</td>\n",
              "      <td>AllPub</td>\n",
              "      <td>...</td>\n",
              "      <td>Minimum_Privacy</td>\n",
              "      <td>None</td>\n",
              "      <td>0</td>\n",
              "      <td>3</td>\n",
              "      <td>2010</td>\n",
              "      <td>WD</td>\n",
              "      <td>Normal</td>\n",
              "      <td>189900</td>\n",
              "      <td>-93.638933</td>\n",
              "      <td>42.060899</td>\n",
              "    </tr>\n",
              "  </tbody>\n",
              "</table>\n",
              "<p>5 rows × 82 columns</p>\n",
              "</div>"
            ],
            "text/plain": [
              "   Unnamed: 0                          MS_SubClass                 MS_Zoning  \\\n",
              "0           1  One_Story_1946_and_Newer_All_Styles   Residential_Low_Density   \n",
              "1           2  One_Story_1946_and_Newer_All_Styles  Residential_High_Density   \n",
              "2           3  One_Story_1946_and_Newer_All_Styles   Residential_Low_Density   \n",
              "3           4  One_Story_1946_and_Newer_All_Styles   Residential_Low_Density   \n",
              "4           5             Two_Story_1946_and_Newer   Residential_Low_Density   \n",
              "\n",
              "   Lot_Frontage  Lot_Area Street            Alley           Lot_Shape  \\\n",
              "0           141     31770   Pave  No_Alley_Access  Slightly_Irregular   \n",
              "1            80     11622   Pave  No_Alley_Access             Regular   \n",
              "2            81     14267   Pave  No_Alley_Access  Slightly_Irregular   \n",
              "3            93     11160   Pave  No_Alley_Access             Regular   \n",
              "4            74     13830   Pave  No_Alley_Access  Slightly_Irregular   \n",
              "\n",
              "  Land_Contour Utilities  ...            Fence Misc_Feature Misc_Val Mo_Sold  \\\n",
              "0          Lvl    AllPub  ...         No_Fence         None        0       5   \n",
              "1          Lvl    AllPub  ...  Minimum_Privacy         None        0       6   \n",
              "2          Lvl    AllPub  ...         No_Fence         Gar2    12500       6   \n",
              "3          Lvl    AllPub  ...         No_Fence         None        0       4   \n",
              "4          Lvl    AllPub  ...  Minimum_Privacy         None        0       3   \n",
              "\n",
              "  Year_Sold Sale_Type Sale_Condition Sale_Price  Longitude   Latitude  \n",
              "0      2010       WD          Normal     215000 -93.619754  42.054035  \n",
              "1      2010       WD          Normal     105000 -93.619756  42.053014  \n",
              "2      2010       WD          Normal     172000 -93.619387  42.052659  \n",
              "3      2010       WD          Normal     244000 -93.617320  42.051245  \n",
              "4      2010       WD          Normal     189900 -93.638933  42.060899  \n",
              "\n",
              "[5 rows x 82 columns]"
            ]
          },
          "execution_count": 5,
          "metadata": {},
          "output_type": "execute_result"
        }
      ],
      "source": [
        "ames_python.head()"
      ]
    },
    {
      "cell_type": "code",
      "execution_count": null,
      "id": "895ad44f",
      "metadata": {
        "id": "895ad44f",
        "outputId": "f57fcc07-3f49-4d2f-92e1-292db49db75c"
      },
      "outputs": [
        {
          "data": {
            "text/html": [
              "<div>\n",
              "<style scoped>\n",
              "    .dataframe tbody tr th:only-of-type {\n",
              "        vertical-align: middle;\n",
              "    }\n",
              "\n",
              "    .dataframe tbody tr th {\n",
              "        vertical-align: top;\n",
              "    }\n",
              "\n",
              "    .dataframe thead th {\n",
              "        text-align: right;\n",
              "    }\n",
              "</style>\n",
              "<table border=\"1\" class=\"dataframe\">\n",
              "  <thead>\n",
              "    <tr style=\"text-align: right;\">\n",
              "      <th></th>\n",
              "      <th>ID</th>\n",
              "      <th>NCLAIMS</th>\n",
              "      <th>AMOUNT</th>\n",
              "      <th>AVG</th>\n",
              "      <th>EXP</th>\n",
              "      <th>COVERAGE</th>\n",
              "      <th>FUEL</th>\n",
              "      <th>USE</th>\n",
              "      <th>FLEET</th>\n",
              "      <th>SEX</th>\n",
              "      <th>AGEPH</th>\n",
              "      <th>BM</th>\n",
              "      <th>AGEC</th>\n",
              "      <th>POWER</th>\n",
              "      <th>PC</th>\n",
              "      <th>TOWN</th>\n",
              "      <th>LONG</th>\n",
              "      <th>LAT</th>\n",
              "    </tr>\n",
              "  </thead>\n",
              "  <tbody>\n",
              "    <tr>\n",
              "      <th>0</th>\n",
              "      <td>1</td>\n",
              "      <td>1</td>\n",
              "      <td>1618.001036</td>\n",
              "      <td>1618.001036</td>\n",
              "      <td>1.000000</td>\n",
              "      <td>TPL</td>\n",
              "      <td>gasoline</td>\n",
              "      <td>private</td>\n",
              "      <td>N</td>\n",
              "      <td>male</td>\n",
              "      <td>50</td>\n",
              "      <td>5</td>\n",
              "      <td>12</td>\n",
              "      <td>77</td>\n",
              "      <td>1000</td>\n",
              "      <td>BRUSSEL</td>\n",
              "      <td>4.355223</td>\n",
              "      <td>50.845386</td>\n",
              "    </tr>\n",
              "    <tr>\n",
              "      <th>1</th>\n",
              "      <td>2</td>\n",
              "      <td>0</td>\n",
              "      <td>0.000000</td>\n",
              "      <td>NaN</td>\n",
              "      <td>1.000000</td>\n",
              "      <td>PO</td>\n",
              "      <td>gasoline</td>\n",
              "      <td>private</td>\n",
              "      <td>N</td>\n",
              "      <td>female</td>\n",
              "      <td>64</td>\n",
              "      <td>5</td>\n",
              "      <td>3</td>\n",
              "      <td>66</td>\n",
              "      <td>1000</td>\n",
              "      <td>BRUSSEL</td>\n",
              "      <td>4.355223</td>\n",
              "      <td>50.845386</td>\n",
              "    </tr>\n",
              "    <tr>\n",
              "      <th>2</th>\n",
              "      <td>3</td>\n",
              "      <td>0</td>\n",
              "      <td>0.000000</td>\n",
              "      <td>NaN</td>\n",
              "      <td>1.000000</td>\n",
              "      <td>TPL</td>\n",
              "      <td>diesel</td>\n",
              "      <td>private</td>\n",
              "      <td>N</td>\n",
              "      <td>male</td>\n",
              "      <td>60</td>\n",
              "      <td>0</td>\n",
              "      <td>10</td>\n",
              "      <td>70</td>\n",
              "      <td>1000</td>\n",
              "      <td>BRUSSEL</td>\n",
              "      <td>4.355223</td>\n",
              "      <td>50.845386</td>\n",
              "    </tr>\n",
              "    <tr>\n",
              "      <th>3</th>\n",
              "      <td>4</td>\n",
              "      <td>0</td>\n",
              "      <td>0.000000</td>\n",
              "      <td>NaN</td>\n",
              "      <td>1.000000</td>\n",
              "      <td>TPL</td>\n",
              "      <td>gasoline</td>\n",
              "      <td>private</td>\n",
              "      <td>N</td>\n",
              "      <td>male</td>\n",
              "      <td>77</td>\n",
              "      <td>0</td>\n",
              "      <td>15</td>\n",
              "      <td>57</td>\n",
              "      <td>1000</td>\n",
              "      <td>BRUSSEL</td>\n",
              "      <td>4.355223</td>\n",
              "      <td>50.845386</td>\n",
              "    </tr>\n",
              "    <tr>\n",
              "      <th>4</th>\n",
              "      <td>5</td>\n",
              "      <td>1</td>\n",
              "      <td>155.974606</td>\n",
              "      <td>155.974606</td>\n",
              "      <td>0.046575</td>\n",
              "      <td>TPL</td>\n",
              "      <td>gasoline</td>\n",
              "      <td>private</td>\n",
              "      <td>N</td>\n",
              "      <td>female</td>\n",
              "      <td>28</td>\n",
              "      <td>9</td>\n",
              "      <td>7</td>\n",
              "      <td>70</td>\n",
              "      <td>1000</td>\n",
              "      <td>BRUSSEL</td>\n",
              "      <td>4.355223</td>\n",
              "      <td>50.845386</td>\n",
              "    </tr>\n",
              "  </tbody>\n",
              "</table>\n",
              "</div>"
            ],
            "text/plain": [
              "   ID  NCLAIMS       AMOUNT          AVG       EXP COVERAGE      FUEL  \\\n",
              "0   1        1  1618.001036  1618.001036  1.000000      TPL  gasoline   \n",
              "1   2        0     0.000000          NaN  1.000000       PO  gasoline   \n",
              "2   3        0     0.000000          NaN  1.000000      TPL    diesel   \n",
              "3   4        0     0.000000          NaN  1.000000      TPL  gasoline   \n",
              "4   5        1   155.974606   155.974606  0.046575      TPL  gasoline   \n",
              "\n",
              "       USE FLEET     SEX  AGEPH  BM  AGEC  POWER    PC     TOWN      LONG  \\\n",
              "0  private     N    male     50   5    12     77  1000  BRUSSEL  4.355223   \n",
              "1  private     N  female     64   5     3     66  1000  BRUSSEL  4.355223   \n",
              "2  private     N    male     60   0    10     70  1000  BRUSSEL  4.355223   \n",
              "3  private     N    male     77   0    15     57  1000  BRUSSEL  4.355223   \n",
              "4  private     N  female     28   9     7     70  1000  BRUSSEL  4.355223   \n",
              "\n",
              "         LAT  \n",
              "0  50.845386  \n",
              "1  50.845386  \n",
              "2  50.845386  \n",
              "3  50.845386  \n",
              "4  50.845386  "
            ]
          },
          "execution_count": 6,
          "metadata": {},
          "output_type": "execute_result"
        }
      ],
      "source": [
        "mtpl_python.head()"
      ]
    },
    {
      "cell_type": "code",
      "execution_count": null,
      "id": "22c2173e",
      "metadata": {
        "id": "22c2173e",
        "outputId": "e4df870b-da7f-4675-f0ee-fea2fafdb2fb"
      },
      "outputs": [
        {
          "name": "stdout",
          "output_type": "stream",
          "text": [
            "(2930, 82)\n",
            "(163231, 18)\n"
          ]
        }
      ],
      "source": [
        "print(ames_python.shape)\n",
        "print(mtpl_python.shape)"
      ]
    },
    {
      "cell_type": "markdown",
      "id": "11af95e3",
      "metadata": {
        "id": "11af95e3"
      },
      "source": [
        "We check if there is missing values."
      ]
    },
    {
      "cell_type": "code",
      "execution_count": null,
      "id": "ab3ea275",
      "metadata": {
        "id": "ab3ea275",
        "outputId": "4fe1703f-ffb7-4954-d34a-99154a5f5735"
      },
      "outputs": [
        {
          "data": {
            "text/html": [
              "<div>\n",
              "<style scoped>\n",
              "    .dataframe tbody tr th:only-of-type {\n",
              "        vertical-align: middle;\n",
              "    }\n",
              "\n",
              "    .dataframe tbody tr th {\n",
              "        vertical-align: top;\n",
              "    }\n",
              "\n",
              "    .dataframe thead th {\n",
              "        text-align: right;\n",
              "    }\n",
              "</style>\n",
              "<table border=\"1\" class=\"dataframe\">\n",
              "  <thead>\n",
              "    <tr style=\"text-align: right;\">\n",
              "      <th></th>\n",
              "      <th>Unnamed: 0</th>\n",
              "      <th>MS_SubClass</th>\n",
              "      <th>MS_Zoning</th>\n",
              "      <th>Lot_Frontage</th>\n",
              "      <th>Lot_Area</th>\n",
              "      <th>Street</th>\n",
              "      <th>Alley</th>\n",
              "      <th>Lot_Shape</th>\n",
              "      <th>Land_Contour</th>\n",
              "      <th>Utilities</th>\n",
              "      <th>...</th>\n",
              "      <th>Fence</th>\n",
              "      <th>Misc_Feature</th>\n",
              "      <th>Misc_Val</th>\n",
              "      <th>Mo_Sold</th>\n",
              "      <th>Year_Sold</th>\n",
              "      <th>Sale_Type</th>\n",
              "      <th>Sale_Condition</th>\n",
              "      <th>Sale_Price</th>\n",
              "      <th>Longitude</th>\n",
              "      <th>Latitude</th>\n",
              "    </tr>\n",
              "  </thead>\n",
              "  <tbody>\n",
              "  </tbody>\n",
              "</table>\n",
              "<p>0 rows × 82 columns</p>\n",
              "</div>"
            ],
            "text/plain": [
              "Empty DataFrame\n",
              "Columns: [Unnamed: 0, MS_SubClass, MS_Zoning, Lot_Frontage, Lot_Area, Street, Alley, Lot_Shape, Land_Contour, Utilities, Lot_Config, Land_Slope, Neighborhood, Condition_1, Condition_2, Bldg_Type, House_Style, Overall_Qual, Overall_Cond, Year_Built, Year_Remod_Add, Roof_Style, Roof_Matl, Exterior_1st, Exterior_2nd, Mas_Vnr_Type, Mas_Vnr_Area, Exter_Qual, Exter_Cond, Foundation, Bsmt_Qual, Bsmt_Cond, Bsmt_Exposure, BsmtFin_Type_1, BsmtFin_SF_1, BsmtFin_Type_2, BsmtFin_SF_2, Bsmt_Unf_SF, Total_Bsmt_SF, Heating, Heating_QC, Central_Air, Electrical, First_Flr_SF, Second_Flr_SF, Low_Qual_Fin_SF, Gr_Liv_Area, Bsmt_Full_Bath, Bsmt_Half_Bath, Full_Bath, Half_Bath, Bedroom_AbvGr, Kitchen_AbvGr, Kitchen_Qual, TotRms_AbvGrd, Functional, Fireplaces, Fireplace_Qu, Garage_Type, Garage_Finish, Garage_Cars, Garage_Area, Garage_Qual, Garage_Cond, Paved_Drive, Wood_Deck_SF, Open_Porch_SF, Enclosed_Porch, Three_season_porch, Screen_Porch, Pool_Area, Pool_QC, Fence, Misc_Feature, Misc_Val, Mo_Sold, Year_Sold, Sale_Type, Sale_Condition, Sale_Price, Longitude, Latitude]\n",
              "Index: []\n",
              "\n",
              "[0 rows x 82 columns]"
            ]
          },
          "execution_count": 8,
          "metadata": {},
          "output_type": "execute_result"
        }
      ],
      "source": [
        "ames_python[ames_python.isnull().any(axis = 1)]"
      ]
    },
    {
      "cell_type": "code",
      "execution_count": null,
      "id": "4ed9ca4a",
      "metadata": {
        "id": "4ed9ca4a",
        "outputId": "ba58a73b-3e26-40c3-c88a-c1e434a0e82c"
      },
      "outputs": [
        {
          "data": {
            "text/html": [
              "<div>\n",
              "<style scoped>\n",
              "    .dataframe tbody tr th:only-of-type {\n",
              "        vertical-align: middle;\n",
              "    }\n",
              "\n",
              "    .dataframe tbody tr th {\n",
              "        vertical-align: top;\n",
              "    }\n",
              "\n",
              "    .dataframe thead th {\n",
              "        text-align: right;\n",
              "    }\n",
              "</style>\n",
              "<table border=\"1\" class=\"dataframe\">\n",
              "  <thead>\n",
              "    <tr style=\"text-align: right;\">\n",
              "      <th></th>\n",
              "      <th>ID</th>\n",
              "      <th>NCLAIMS</th>\n",
              "      <th>AMOUNT</th>\n",
              "      <th>AVG</th>\n",
              "      <th>EXP</th>\n",
              "      <th>COVERAGE</th>\n",
              "      <th>FUEL</th>\n",
              "      <th>USE</th>\n",
              "      <th>FLEET</th>\n",
              "      <th>SEX</th>\n",
              "      <th>AGEPH</th>\n",
              "      <th>BM</th>\n",
              "      <th>AGEC</th>\n",
              "      <th>POWER</th>\n",
              "      <th>PC</th>\n",
              "      <th>TOWN</th>\n",
              "      <th>LONG</th>\n",
              "      <th>LAT</th>\n",
              "    </tr>\n",
              "  </thead>\n",
              "  <tbody>\n",
              "    <tr>\n",
              "      <th>1</th>\n",
              "      <td>2</td>\n",
              "      <td>0</td>\n",
              "      <td>0.0</td>\n",
              "      <td>NaN</td>\n",
              "      <td>1.00000</td>\n",
              "      <td>PO</td>\n",
              "      <td>gasoline</td>\n",
              "      <td>private</td>\n",
              "      <td>N</td>\n",
              "      <td>female</td>\n",
              "      <td>64</td>\n",
              "      <td>5</td>\n",
              "      <td>3</td>\n",
              "      <td>66</td>\n",
              "      <td>1000</td>\n",
              "      <td>BRUSSEL</td>\n",
              "      <td>4.355223</td>\n",
              "      <td>50.845386</td>\n",
              "    </tr>\n",
              "    <tr>\n",
              "      <th>2</th>\n",
              "      <td>3</td>\n",
              "      <td>0</td>\n",
              "      <td>0.0</td>\n",
              "      <td>NaN</td>\n",
              "      <td>1.00000</td>\n",
              "      <td>TPL</td>\n",
              "      <td>diesel</td>\n",
              "      <td>private</td>\n",
              "      <td>N</td>\n",
              "      <td>male</td>\n",
              "      <td>60</td>\n",
              "      <td>0</td>\n",
              "      <td>10</td>\n",
              "      <td>70</td>\n",
              "      <td>1000</td>\n",
              "      <td>BRUSSEL</td>\n",
              "      <td>4.355223</td>\n",
              "      <td>50.845386</td>\n",
              "    </tr>\n",
              "    <tr>\n",
              "      <th>3</th>\n",
              "      <td>4</td>\n",
              "      <td>0</td>\n",
              "      <td>0.0</td>\n",
              "      <td>NaN</td>\n",
              "      <td>1.00000</td>\n",
              "      <td>TPL</td>\n",
              "      <td>gasoline</td>\n",
              "      <td>private</td>\n",
              "      <td>N</td>\n",
              "      <td>male</td>\n",
              "      <td>77</td>\n",
              "      <td>0</td>\n",
              "      <td>15</td>\n",
              "      <td>57</td>\n",
              "      <td>1000</td>\n",
              "      <td>BRUSSEL</td>\n",
              "      <td>4.355223</td>\n",
              "      <td>50.845386</td>\n",
              "    </tr>\n",
              "    <tr>\n",
              "      <th>5</th>\n",
              "      <td>6</td>\n",
              "      <td>0</td>\n",
              "      <td>0.0</td>\n",
              "      <td>NaN</td>\n",
              "      <td>1.00000</td>\n",
              "      <td>TPL</td>\n",
              "      <td>gasoline</td>\n",
              "      <td>private</td>\n",
              "      <td>N</td>\n",
              "      <td>male</td>\n",
              "      <td>26</td>\n",
              "      <td>11</td>\n",
              "      <td>12</td>\n",
              "      <td>70</td>\n",
              "      <td>1000</td>\n",
              "      <td>BRUSSEL</td>\n",
              "      <td>4.355223</td>\n",
              "      <td>50.845386</td>\n",
              "    </tr>\n",
              "    <tr>\n",
              "      <th>7</th>\n",
              "      <td>8</td>\n",
              "      <td>0</td>\n",
              "      <td>0.0</td>\n",
              "      <td>NaN</td>\n",
              "      <td>0.40274</td>\n",
              "      <td>TPL</td>\n",
              "      <td>gasoline</td>\n",
              "      <td>private</td>\n",
              "      <td>N</td>\n",
              "      <td>female</td>\n",
              "      <td>58</td>\n",
              "      <td>11</td>\n",
              "      <td>14</td>\n",
              "      <td>47</td>\n",
              "      <td>1000</td>\n",
              "      <td>BRUSSEL</td>\n",
              "      <td>4.355223</td>\n",
              "      <td>50.845386</td>\n",
              "    </tr>\n",
              "    <tr>\n",
              "      <th>...</th>\n",
              "      <td>...</td>\n",
              "      <td>...</td>\n",
              "      <td>...</td>\n",
              "      <td>...</td>\n",
              "      <td>...</td>\n",
              "      <td>...</td>\n",
              "      <td>...</td>\n",
              "      <td>...</td>\n",
              "      <td>...</td>\n",
              "      <td>...</td>\n",
              "      <td>...</td>\n",
              "      <td>...</td>\n",
              "      <td>...</td>\n",
              "      <td>...</td>\n",
              "      <td>...</td>\n",
              "      <td>...</td>\n",
              "      <td>...</td>\n",
              "      <td>...</td>\n",
              "    </tr>\n",
              "    <tr>\n",
              "      <th>163225</th>\n",
              "      <td>163226</td>\n",
              "      <td>0</td>\n",
              "      <td>0.0</td>\n",
              "      <td>NaN</td>\n",
              "      <td>1.00000</td>\n",
              "      <td>TPL</td>\n",
              "      <td>diesel</td>\n",
              "      <td>private</td>\n",
              "      <td>N</td>\n",
              "      <td>male</td>\n",
              "      <td>32</td>\n",
              "      <td>10</td>\n",
              "      <td>8</td>\n",
              "      <td>40</td>\n",
              "      <td>9990</td>\n",
              "      <td>MALDEGEM</td>\n",
              "      <td>3.421256</td>\n",
              "      <td>51.199975</td>\n",
              "    </tr>\n",
              "    <tr>\n",
              "      <th>163226</th>\n",
              "      <td>163227</td>\n",
              "      <td>0</td>\n",
              "      <td>0.0</td>\n",
              "      <td>NaN</td>\n",
              "      <td>1.00000</td>\n",
              "      <td>TPL</td>\n",
              "      <td>diesel</td>\n",
              "      <td>work</td>\n",
              "      <td>N</td>\n",
              "      <td>male</td>\n",
              "      <td>37</td>\n",
              "      <td>5</td>\n",
              "      <td>10</td>\n",
              "      <td>40</td>\n",
              "      <td>9990</td>\n",
              "      <td>MALDEGEM</td>\n",
              "      <td>3.421256</td>\n",
              "      <td>51.199975</td>\n",
              "    </tr>\n",
              "    <tr>\n",
              "      <th>163227</th>\n",
              "      <td>163228</td>\n",
              "      <td>0</td>\n",
              "      <td>0.0</td>\n",
              "      <td>NaN</td>\n",
              "      <td>1.00000</td>\n",
              "      <td>TPL</td>\n",
              "      <td>diesel</td>\n",
              "      <td>private</td>\n",
              "      <td>N</td>\n",
              "      <td>male</td>\n",
              "      <td>44</td>\n",
              "      <td>0</td>\n",
              "      <td>6</td>\n",
              "      <td>55</td>\n",
              "      <td>9990</td>\n",
              "      <td>MALDEGEM</td>\n",
              "      <td>3.421256</td>\n",
              "      <td>51.199975</td>\n",
              "    </tr>\n",
              "    <tr>\n",
              "      <th>163228</th>\n",
              "      <td>163229</td>\n",
              "      <td>0</td>\n",
              "      <td>0.0</td>\n",
              "      <td>NaN</td>\n",
              "      <td>1.00000</td>\n",
              "      <td>TPL</td>\n",
              "      <td>diesel</td>\n",
              "      <td>private</td>\n",
              "      <td>N</td>\n",
              "      <td>male</td>\n",
              "      <td>50</td>\n",
              "      <td>0</td>\n",
              "      <td>10</td>\n",
              "      <td>40</td>\n",
              "      <td>9990</td>\n",
              "      <td>MALDEGEM</td>\n",
              "      <td>3.421256</td>\n",
              "      <td>51.199975</td>\n",
              "    </tr>\n",
              "    <tr>\n",
              "      <th>163229</th>\n",
              "      <td>163230</td>\n",
              "      <td>0</td>\n",
              "      <td>0.0</td>\n",
              "      <td>NaN</td>\n",
              "      <td>1.00000</td>\n",
              "      <td>TPL</td>\n",
              "      <td>gasoline</td>\n",
              "      <td>private</td>\n",
              "      <td>N</td>\n",
              "      <td>male</td>\n",
              "      <td>43</td>\n",
              "      <td>0</td>\n",
              "      <td>7</td>\n",
              "      <td>66</td>\n",
              "      <td>9990</td>\n",
              "      <td>MALDEGEM</td>\n",
              "      <td>3.421256</td>\n",
              "      <td>51.199975</td>\n",
              "    </tr>\n",
              "  </tbody>\n",
              "</table>\n",
              "<p>144936 rows × 18 columns</p>\n",
              "</div>"
            ],
            "text/plain": [
              "            ID  NCLAIMS  AMOUNT  AVG      EXP COVERAGE      FUEL      USE  \\\n",
              "1            2        0     0.0  NaN  1.00000       PO  gasoline  private   \n",
              "2            3        0     0.0  NaN  1.00000      TPL    diesel  private   \n",
              "3            4        0     0.0  NaN  1.00000      TPL  gasoline  private   \n",
              "5            6        0     0.0  NaN  1.00000      TPL  gasoline  private   \n",
              "7            8        0     0.0  NaN  0.40274      TPL  gasoline  private   \n",
              "...        ...      ...     ...  ...      ...      ...       ...      ...   \n",
              "163225  163226        0     0.0  NaN  1.00000      TPL    diesel  private   \n",
              "163226  163227        0     0.0  NaN  1.00000      TPL    diesel     work   \n",
              "163227  163228        0     0.0  NaN  1.00000      TPL    diesel  private   \n",
              "163228  163229        0     0.0  NaN  1.00000      TPL    diesel  private   \n",
              "163229  163230        0     0.0  NaN  1.00000      TPL  gasoline  private   \n",
              "\n",
              "       FLEET     SEX  AGEPH  BM  AGEC  POWER    PC      TOWN      LONG  \\\n",
              "1          N  female     64   5     3     66  1000   BRUSSEL  4.355223   \n",
              "2          N    male     60   0    10     70  1000   BRUSSEL  4.355223   \n",
              "3          N    male     77   0    15     57  1000   BRUSSEL  4.355223   \n",
              "5          N    male     26  11    12     70  1000   BRUSSEL  4.355223   \n",
              "7          N  female     58  11    14     47  1000   BRUSSEL  4.355223   \n",
              "...      ...     ...    ...  ..   ...    ...   ...       ...       ...   \n",
              "163225     N    male     32  10     8     40  9990  MALDEGEM  3.421256   \n",
              "163226     N    male     37   5    10     40  9990  MALDEGEM  3.421256   \n",
              "163227     N    male     44   0     6     55  9990  MALDEGEM  3.421256   \n",
              "163228     N    male     50   0    10     40  9990  MALDEGEM  3.421256   \n",
              "163229     N    male     43   0     7     66  9990  MALDEGEM  3.421256   \n",
              "\n",
              "              LAT  \n",
              "1       50.845386  \n",
              "2       50.845386  \n",
              "3       50.845386  \n",
              "5       50.845386  \n",
              "7       50.845386  \n",
              "...           ...  \n",
              "163225  51.199975  \n",
              "163226  51.199975  \n",
              "163227  51.199975  \n",
              "163228  51.199975  \n",
              "163229  51.199975  \n",
              "\n",
              "[144936 rows x 18 columns]"
            ]
          },
          "execution_count": 9,
          "metadata": {},
          "output_type": "execute_result"
        }
      ],
      "source": [
        "mtpl_python[mtpl_python.isnull().any(axis = 1)]"
      ]
    },
    {
      "cell_type": "markdown",
      "id": "c5fef145",
      "metadata": {
        "id": "c5fef145"
      },
      "source": [
        "## Chapter 3 - Random forest application <a class=\"anchor\" id=\"three\"></a>"
      ]
    },
    {
      "cell_type": "markdown",
      "id": "542e989e",
      "metadata": {
        "id": "542e989e"
      },
      "source": [
        "## Chapter 3.1 - Introduction <a name=\"three-one\"></a>"
      ]
    },
    {
      "cell_type": "markdown",
      "id": "1fab7dcd",
      "metadata": {
        "id": "1fab7dcd"
      },
      "source": [
        "Ensembles are methods that combine multiple machine learning models to create more powerfull models. \n",
        "\n",
        "A random forest is essentially a collection of decision trees, where each tree is slightly different from the others. Random forests builds a large collection of de-correlated trees with bootstrapping, and then aggregates the decisions of individual trees.\n",
        "\n",
        "A random forest eradicates the limitations of a decision tree algorithm. It reduces the overfitting of datasets and increases precision.\n",
        "\n",
        "In this chapter, we consider the random forest technique in order to model the sale of individual residential."
      ]
    },
    {
      "cell_type": "markdown",
      "id": "9f7772da",
      "metadata": {
        "id": "9f7772da"
      },
      "source": [
        "## Chapter 3.2 - Modelling of the Sales Price <a name=\"three-two\"></a>"
      ]
    },
    {
      "cell_type": "markdown",
      "id": "9ca6826f",
      "metadata": {
        "id": "9ca6826f"
      },
      "source": [
        "### 3.2.1 Training and testing sets <a class=\"anchor\" id=\"three-two-one\"></a>"
      ]
    },
    {
      "cell_type": "code",
      "execution_count": null,
      "id": "9a235389",
      "metadata": {
        "id": "9a235389",
        "outputId": "f45e64dd-1ff2-40a7-a1a2-44b2bd42977e"
      },
      "outputs": [
        {
          "data": {
            "text/html": [
              "<div>\n",
              "<style scoped>\n",
              "    .dataframe tbody tr th:only-of-type {\n",
              "        vertical-align: middle;\n",
              "    }\n",
              "\n",
              "    .dataframe tbody tr th {\n",
              "        vertical-align: top;\n",
              "    }\n",
              "\n",
              "    .dataframe thead th {\n",
              "        text-align: right;\n",
              "    }\n",
              "</style>\n",
              "<table border=\"1\" class=\"dataframe\">\n",
              "  <thead>\n",
              "    <tr style=\"text-align: right;\">\n",
              "      <th></th>\n",
              "      <th>Unnamed: 0</th>\n",
              "      <th>MS_SubClass</th>\n",
              "      <th>MS_Zoning</th>\n",
              "      <th>Lot_Frontage</th>\n",
              "      <th>Lot_Area</th>\n",
              "      <th>Street</th>\n",
              "      <th>Alley</th>\n",
              "      <th>Lot_Shape</th>\n",
              "      <th>Land_Contour</th>\n",
              "      <th>Utilities</th>\n",
              "      <th>Lot_Config</th>\n",
              "      <th>Land_Slope</th>\n",
              "      <th>Neighborhood</th>\n",
              "      <th>Condition_1</th>\n",
              "      <th>Condition_2</th>\n",
              "      <th>Bldg_Type</th>\n",
              "      <th>House_Style</th>\n",
              "      <th>Overall_Qual</th>\n",
              "      <th>Overall_Cond</th>\n",
              "      <th>Year_Built</th>\n",
              "      <th>Year_Remod_Add</th>\n",
              "      <th>Roof_Style</th>\n",
              "      <th>Roof_Matl</th>\n",
              "      <th>Exterior_1st</th>\n",
              "      <th>Exterior_2nd</th>\n",
              "      <th>Mas_Vnr_Type</th>\n",
              "      <th>Mas_Vnr_Area</th>\n",
              "      <th>Exter_Qual</th>\n",
              "      <th>Exter_Cond</th>\n",
              "      <th>Foundation</th>\n",
              "      <th>Bsmt_Qual</th>\n",
              "      <th>Bsmt_Cond</th>\n",
              "      <th>Bsmt_Exposure</th>\n",
              "      <th>BsmtFin_Type_1</th>\n",
              "      <th>BsmtFin_SF_1</th>\n",
              "      <th>BsmtFin_Type_2</th>\n",
              "      <th>BsmtFin_SF_2</th>\n",
              "      <th>Bsmt_Unf_SF</th>\n",
              "      <th>Total_Bsmt_SF</th>\n",
              "      <th>Heating</th>\n",
              "      <th>Heating_QC</th>\n",
              "      <th>Central_Air</th>\n",
              "      <th>Electrical</th>\n",
              "      <th>First_Flr_SF</th>\n",
              "      <th>Second_Flr_SF</th>\n",
              "      <th>Low_Qual_Fin_SF</th>\n",
              "      <th>Gr_Liv_Area</th>\n",
              "      <th>Bsmt_Full_Bath</th>\n",
              "      <th>Bsmt_Half_Bath</th>\n",
              "      <th>Full_Bath</th>\n",
              "      <th>Half_Bath</th>\n",
              "      <th>Bedroom_AbvGr</th>\n",
              "      <th>Kitchen_AbvGr</th>\n",
              "      <th>Kitchen_Qual</th>\n",
              "      <th>TotRms_AbvGrd</th>\n",
              "      <th>Functional</th>\n",
              "      <th>Fireplaces</th>\n",
              "      <th>Fireplace_Qu</th>\n",
              "      <th>Garage_Type</th>\n",
              "      <th>Garage_Finish</th>\n",
              "      <th>Garage_Cars</th>\n",
              "      <th>Garage_Area</th>\n",
              "      <th>Garage_Qual</th>\n",
              "      <th>Garage_Cond</th>\n",
              "      <th>Paved_Drive</th>\n",
              "      <th>Wood_Deck_SF</th>\n",
              "      <th>Open_Porch_SF</th>\n",
              "      <th>Enclosed_Porch</th>\n",
              "      <th>Three_season_porch</th>\n",
              "      <th>Screen_Porch</th>\n",
              "      <th>Pool_Area</th>\n",
              "      <th>Pool_QC</th>\n",
              "      <th>Fence</th>\n",
              "      <th>Misc_Feature</th>\n",
              "      <th>Misc_Val</th>\n",
              "      <th>Mo_Sold</th>\n",
              "      <th>Year_Sold</th>\n",
              "      <th>Sale_Type</th>\n",
              "      <th>Sale_Condition</th>\n",
              "      <th>Sale_Price</th>\n",
              "      <th>Longitude</th>\n",
              "      <th>Latitude</th>\n",
              "    </tr>\n",
              "  </thead>\n",
              "  <tbody>\n",
              "    <tr>\n",
              "      <th>count</th>\n",
              "      <td>2930.00000</td>\n",
              "      <td>2930</td>\n",
              "      <td>2930</td>\n",
              "      <td>2930.000000</td>\n",
              "      <td>2930.000000</td>\n",
              "      <td>2930</td>\n",
              "      <td>2930</td>\n",
              "      <td>2930</td>\n",
              "      <td>2930</td>\n",
              "      <td>2930</td>\n",
              "      <td>2930</td>\n",
              "      <td>2930</td>\n",
              "      <td>2930</td>\n",
              "      <td>2930</td>\n",
              "      <td>2930</td>\n",
              "      <td>2930</td>\n",
              "      <td>2930</td>\n",
              "      <td>2930</td>\n",
              "      <td>2930</td>\n",
              "      <td>2930.000000</td>\n",
              "      <td>2930.000000</td>\n",
              "      <td>2930</td>\n",
              "      <td>2930</td>\n",
              "      <td>2930</td>\n",
              "      <td>2930</td>\n",
              "      <td>2930</td>\n",
              "      <td>2930.000000</td>\n",
              "      <td>2930</td>\n",
              "      <td>2930</td>\n",
              "      <td>2930</td>\n",
              "      <td>2930</td>\n",
              "      <td>2930</td>\n",
              "      <td>2930</td>\n",
              "      <td>2930</td>\n",
              "      <td>2930.000000</td>\n",
              "      <td>2930</td>\n",
              "      <td>2930.000000</td>\n",
              "      <td>2930.000000</td>\n",
              "      <td>2930.000000</td>\n",
              "      <td>2930</td>\n",
              "      <td>2930</td>\n",
              "      <td>2930</td>\n",
              "      <td>2930</td>\n",
              "      <td>2930.000000</td>\n",
              "      <td>2930.000000</td>\n",
              "      <td>2930.000000</td>\n",
              "      <td>2930.000000</td>\n",
              "      <td>2930.000000</td>\n",
              "      <td>2930.000000</td>\n",
              "      <td>2930.000000</td>\n",
              "      <td>2930.000000</td>\n",
              "      <td>2930.000000</td>\n",
              "      <td>2930.000000</td>\n",
              "      <td>2930</td>\n",
              "      <td>2930.000000</td>\n",
              "      <td>2930</td>\n",
              "      <td>2930.000000</td>\n",
              "      <td>2930</td>\n",
              "      <td>2930</td>\n",
              "      <td>2930</td>\n",
              "      <td>2930.000000</td>\n",
              "      <td>2930.000000</td>\n",
              "      <td>2930</td>\n",
              "      <td>2930</td>\n",
              "      <td>2930</td>\n",
              "      <td>2930.000000</td>\n",
              "      <td>2930.000000</td>\n",
              "      <td>2930.000000</td>\n",
              "      <td>2930.000000</td>\n",
              "      <td>2930.000000</td>\n",
              "      <td>2930.000000</td>\n",
              "      <td>2930</td>\n",
              "      <td>2930</td>\n",
              "      <td>2930</td>\n",
              "      <td>2930.000000</td>\n",
              "      <td>2930.000000</td>\n",
              "      <td>2930.000000</td>\n",
              "      <td>2930</td>\n",
              "      <td>2930</td>\n",
              "      <td>2930.000000</td>\n",
              "      <td>2930.000000</td>\n",
              "      <td>2930.000000</td>\n",
              "    </tr>\n",
              "    <tr>\n",
              "      <th>unique</th>\n",
              "      <td>NaN</td>\n",
              "      <td>16</td>\n",
              "      <td>7</td>\n",
              "      <td>NaN</td>\n",
              "      <td>NaN</td>\n",
              "      <td>2</td>\n",
              "      <td>3</td>\n",
              "      <td>4</td>\n",
              "      <td>4</td>\n",
              "      <td>3</td>\n",
              "      <td>5</td>\n",
              "      <td>3</td>\n",
              "      <td>28</td>\n",
              "      <td>9</td>\n",
              "      <td>8</td>\n",
              "      <td>5</td>\n",
              "      <td>8</td>\n",
              "      <td>10</td>\n",
              "      <td>9</td>\n",
              "      <td>NaN</td>\n",
              "      <td>NaN</td>\n",
              "      <td>6</td>\n",
              "      <td>8</td>\n",
              "      <td>16</td>\n",
              "      <td>17</td>\n",
              "      <td>5</td>\n",
              "      <td>NaN</td>\n",
              "      <td>4</td>\n",
              "      <td>5</td>\n",
              "      <td>6</td>\n",
              "      <td>6</td>\n",
              "      <td>6</td>\n",
              "      <td>5</td>\n",
              "      <td>7</td>\n",
              "      <td>NaN</td>\n",
              "      <td>7</td>\n",
              "      <td>NaN</td>\n",
              "      <td>NaN</td>\n",
              "      <td>NaN</td>\n",
              "      <td>6</td>\n",
              "      <td>5</td>\n",
              "      <td>2</td>\n",
              "      <td>6</td>\n",
              "      <td>NaN</td>\n",
              "      <td>NaN</td>\n",
              "      <td>NaN</td>\n",
              "      <td>NaN</td>\n",
              "      <td>NaN</td>\n",
              "      <td>NaN</td>\n",
              "      <td>NaN</td>\n",
              "      <td>NaN</td>\n",
              "      <td>NaN</td>\n",
              "      <td>NaN</td>\n",
              "      <td>5</td>\n",
              "      <td>NaN</td>\n",
              "      <td>8</td>\n",
              "      <td>NaN</td>\n",
              "      <td>6</td>\n",
              "      <td>7</td>\n",
              "      <td>4</td>\n",
              "      <td>NaN</td>\n",
              "      <td>NaN</td>\n",
              "      <td>6</td>\n",
              "      <td>6</td>\n",
              "      <td>3</td>\n",
              "      <td>NaN</td>\n",
              "      <td>NaN</td>\n",
              "      <td>NaN</td>\n",
              "      <td>NaN</td>\n",
              "      <td>NaN</td>\n",
              "      <td>NaN</td>\n",
              "      <td>5</td>\n",
              "      <td>5</td>\n",
              "      <td>6</td>\n",
              "      <td>NaN</td>\n",
              "      <td>NaN</td>\n",
              "      <td>NaN</td>\n",
              "      <td>10</td>\n",
              "      <td>6</td>\n",
              "      <td>NaN</td>\n",
              "      <td>NaN</td>\n",
              "      <td>NaN</td>\n",
              "    </tr>\n",
              "    <tr>\n",
              "      <th>top</th>\n",
              "      <td>NaN</td>\n",
              "      <td>One_Story_1946_and_Newer_All_Styles</td>\n",
              "      <td>Residential_Low_Density</td>\n",
              "      <td>NaN</td>\n",
              "      <td>NaN</td>\n",
              "      <td>Pave</td>\n",
              "      <td>No_Alley_Access</td>\n",
              "      <td>Regular</td>\n",
              "      <td>Lvl</td>\n",
              "      <td>AllPub</td>\n",
              "      <td>Inside</td>\n",
              "      <td>Gtl</td>\n",
              "      <td>North_Ames</td>\n",
              "      <td>Norm</td>\n",
              "      <td>Norm</td>\n",
              "      <td>OneFam</td>\n",
              "      <td>One_Story</td>\n",
              "      <td>Average</td>\n",
              "      <td>Average</td>\n",
              "      <td>NaN</td>\n",
              "      <td>NaN</td>\n",
              "      <td>Gable</td>\n",
              "      <td>CompShg</td>\n",
              "      <td>VinylSd</td>\n",
              "      <td>VinylSd</td>\n",
              "      <td>None</td>\n",
              "      <td>NaN</td>\n",
              "      <td>Typical</td>\n",
              "      <td>Typical</td>\n",
              "      <td>PConc</td>\n",
              "      <td>Typical</td>\n",
              "      <td>Typical</td>\n",
              "      <td>No</td>\n",
              "      <td>GLQ</td>\n",
              "      <td>NaN</td>\n",
              "      <td>Unf</td>\n",
              "      <td>NaN</td>\n",
              "      <td>NaN</td>\n",
              "      <td>NaN</td>\n",
              "      <td>GasA</td>\n",
              "      <td>Excellent</td>\n",
              "      <td>Y</td>\n",
              "      <td>SBrkr</td>\n",
              "      <td>NaN</td>\n",
              "      <td>NaN</td>\n",
              "      <td>NaN</td>\n",
              "      <td>NaN</td>\n",
              "      <td>NaN</td>\n",
              "      <td>NaN</td>\n",
              "      <td>NaN</td>\n",
              "      <td>NaN</td>\n",
              "      <td>NaN</td>\n",
              "      <td>NaN</td>\n",
              "      <td>Typical</td>\n",
              "      <td>NaN</td>\n",
              "      <td>Typ</td>\n",
              "      <td>NaN</td>\n",
              "      <td>No_Fireplace</td>\n",
              "      <td>Attchd</td>\n",
              "      <td>Unf</td>\n",
              "      <td>NaN</td>\n",
              "      <td>NaN</td>\n",
              "      <td>Typical</td>\n",
              "      <td>Typical</td>\n",
              "      <td>Paved</td>\n",
              "      <td>NaN</td>\n",
              "      <td>NaN</td>\n",
              "      <td>NaN</td>\n",
              "      <td>NaN</td>\n",
              "      <td>NaN</td>\n",
              "      <td>NaN</td>\n",
              "      <td>No_Pool</td>\n",
              "      <td>No_Fence</td>\n",
              "      <td>None</td>\n",
              "      <td>NaN</td>\n",
              "      <td>NaN</td>\n",
              "      <td>NaN</td>\n",
              "      <td>WD</td>\n",
              "      <td>Normal</td>\n",
              "      <td>NaN</td>\n",
              "      <td>NaN</td>\n",
              "      <td>NaN</td>\n",
              "    </tr>\n",
              "    <tr>\n",
              "      <th>freq</th>\n",
              "      <td>NaN</td>\n",
              "      <td>1079</td>\n",
              "      <td>2273</td>\n",
              "      <td>NaN</td>\n",
              "      <td>NaN</td>\n",
              "      <td>2918</td>\n",
              "      <td>2732</td>\n",
              "      <td>1859</td>\n",
              "      <td>2633</td>\n",
              "      <td>2927</td>\n",
              "      <td>2140</td>\n",
              "      <td>2789</td>\n",
              "      <td>443</td>\n",
              "      <td>2522</td>\n",
              "      <td>2900</td>\n",
              "      <td>2425</td>\n",
              "      <td>1481</td>\n",
              "      <td>825</td>\n",
              "      <td>1654</td>\n",
              "      <td>NaN</td>\n",
              "      <td>NaN</td>\n",
              "      <td>2321</td>\n",
              "      <td>2887</td>\n",
              "      <td>1026</td>\n",
              "      <td>1015</td>\n",
              "      <td>1775</td>\n",
              "      <td>NaN</td>\n",
              "      <td>1799</td>\n",
              "      <td>2549</td>\n",
              "      <td>1310</td>\n",
              "      <td>1283</td>\n",
              "      <td>2616</td>\n",
              "      <td>1906</td>\n",
              "      <td>859</td>\n",
              "      <td>NaN</td>\n",
              "      <td>2499</td>\n",
              "      <td>NaN</td>\n",
              "      <td>NaN</td>\n",
              "      <td>NaN</td>\n",
              "      <td>2885</td>\n",
              "      <td>1495</td>\n",
              "      <td>2734</td>\n",
              "      <td>2682</td>\n",
              "      <td>NaN</td>\n",
              "      <td>NaN</td>\n",
              "      <td>NaN</td>\n",
              "      <td>NaN</td>\n",
              "      <td>NaN</td>\n",
              "      <td>NaN</td>\n",
              "      <td>NaN</td>\n",
              "      <td>NaN</td>\n",
              "      <td>NaN</td>\n",
              "      <td>NaN</td>\n",
              "      <td>1494</td>\n",
              "      <td>NaN</td>\n",
              "      <td>2728</td>\n",
              "      <td>NaN</td>\n",
              "      <td>1422</td>\n",
              "      <td>1731</td>\n",
              "      <td>1231</td>\n",
              "      <td>NaN</td>\n",
              "      <td>NaN</td>\n",
              "      <td>2615</td>\n",
              "      <td>2665</td>\n",
              "      <td>2652</td>\n",
              "      <td>NaN</td>\n",
              "      <td>NaN</td>\n",
              "      <td>NaN</td>\n",
              "      <td>NaN</td>\n",
              "      <td>NaN</td>\n",
              "      <td>NaN</td>\n",
              "      <td>2917</td>\n",
              "      <td>2358</td>\n",
              "      <td>2824</td>\n",
              "      <td>NaN</td>\n",
              "      <td>NaN</td>\n",
              "      <td>NaN</td>\n",
              "      <td>2536</td>\n",
              "      <td>2413</td>\n",
              "      <td>NaN</td>\n",
              "      <td>NaN</td>\n",
              "      <td>NaN</td>\n",
              "    </tr>\n",
              "    <tr>\n",
              "      <th>mean</th>\n",
              "      <td>1465.50000</td>\n",
              "      <td>NaN</td>\n",
              "      <td>NaN</td>\n",
              "      <td>57.647782</td>\n",
              "      <td>10147.921843</td>\n",
              "      <td>NaN</td>\n",
              "      <td>NaN</td>\n",
              "      <td>NaN</td>\n",
              "      <td>NaN</td>\n",
              "      <td>NaN</td>\n",
              "      <td>NaN</td>\n",
              "      <td>NaN</td>\n",
              "      <td>NaN</td>\n",
              "      <td>NaN</td>\n",
              "      <td>NaN</td>\n",
              "      <td>NaN</td>\n",
              "      <td>NaN</td>\n",
              "      <td>NaN</td>\n",
              "      <td>NaN</td>\n",
              "      <td>1971.356314</td>\n",
              "      <td>1984.266553</td>\n",
              "      <td>NaN</td>\n",
              "      <td>NaN</td>\n",
              "      <td>NaN</td>\n",
              "      <td>NaN</td>\n",
              "      <td>NaN</td>\n",
              "      <td>101.096928</td>\n",
              "      <td>NaN</td>\n",
              "      <td>NaN</td>\n",
              "      <td>NaN</td>\n",
              "      <td>NaN</td>\n",
              "      <td>NaN</td>\n",
              "      <td>NaN</td>\n",
              "      <td>NaN</td>\n",
              "      <td>4.177474</td>\n",
              "      <td>NaN</td>\n",
              "      <td>49.705461</td>\n",
              "      <td>559.071672</td>\n",
              "      <td>1051.255631</td>\n",
              "      <td>NaN</td>\n",
              "      <td>NaN</td>\n",
              "      <td>NaN</td>\n",
              "      <td>NaN</td>\n",
              "      <td>1159.557679</td>\n",
              "      <td>335.455973</td>\n",
              "      <td>4.676792</td>\n",
              "      <td>1499.690444</td>\n",
              "      <td>0.431058</td>\n",
              "      <td>0.061092</td>\n",
              "      <td>1.566553</td>\n",
              "      <td>0.379522</td>\n",
              "      <td>2.854266</td>\n",
              "      <td>1.044369</td>\n",
              "      <td>NaN</td>\n",
              "      <td>6.443003</td>\n",
              "      <td>NaN</td>\n",
              "      <td>0.599317</td>\n",
              "      <td>NaN</td>\n",
              "      <td>NaN</td>\n",
              "      <td>NaN</td>\n",
              "      <td>1.766212</td>\n",
              "      <td>472.658362</td>\n",
              "      <td>NaN</td>\n",
              "      <td>NaN</td>\n",
              "      <td>NaN</td>\n",
              "      <td>93.751877</td>\n",
              "      <td>47.533447</td>\n",
              "      <td>23.011604</td>\n",
              "      <td>2.592491</td>\n",
              "      <td>16.002048</td>\n",
              "      <td>2.243345</td>\n",
              "      <td>NaN</td>\n",
              "      <td>NaN</td>\n",
              "      <td>NaN</td>\n",
              "      <td>50.635154</td>\n",
              "      <td>6.216041</td>\n",
              "      <td>2007.790444</td>\n",
              "      <td>NaN</td>\n",
              "      <td>NaN</td>\n",
              "      <td>180796.060068</td>\n",
              "      <td>-93.642897</td>\n",
              "      <td>42.034482</td>\n",
              "    </tr>\n",
              "    <tr>\n",
              "      <th>std</th>\n",
              "      <td>845.96247</td>\n",
              "      <td>NaN</td>\n",
              "      <td>NaN</td>\n",
              "      <td>33.499441</td>\n",
              "      <td>7880.017759</td>\n",
              "      <td>NaN</td>\n",
              "      <td>NaN</td>\n",
              "      <td>NaN</td>\n",
              "      <td>NaN</td>\n",
              "      <td>NaN</td>\n",
              "      <td>NaN</td>\n",
              "      <td>NaN</td>\n",
              "      <td>NaN</td>\n",
              "      <td>NaN</td>\n",
              "      <td>NaN</td>\n",
              "      <td>NaN</td>\n",
              "      <td>NaN</td>\n",
              "      <td>NaN</td>\n",
              "      <td>NaN</td>\n",
              "      <td>30.245361</td>\n",
              "      <td>20.860286</td>\n",
              "      <td>NaN</td>\n",
              "      <td>NaN</td>\n",
              "      <td>NaN</td>\n",
              "      <td>NaN</td>\n",
              "      <td>NaN</td>\n",
              "      <td>178.634545</td>\n",
              "      <td>NaN</td>\n",
              "      <td>NaN</td>\n",
              "      <td>NaN</td>\n",
              "      <td>NaN</td>\n",
              "      <td>NaN</td>\n",
              "      <td>NaN</td>\n",
              "      <td>NaN</td>\n",
              "      <td>2.233372</td>\n",
              "      <td>NaN</td>\n",
              "      <td>169.142089</td>\n",
              "      <td>439.540571</td>\n",
              "      <td>440.968018</td>\n",
              "      <td>NaN</td>\n",
              "      <td>NaN</td>\n",
              "      <td>NaN</td>\n",
              "      <td>NaN</td>\n",
              "      <td>391.890885</td>\n",
              "      <td>428.395715</td>\n",
              "      <td>46.310510</td>\n",
              "      <td>505.508887</td>\n",
              "      <td>0.524762</td>\n",
              "      <td>0.245175</td>\n",
              "      <td>0.552941</td>\n",
              "      <td>0.502629</td>\n",
              "      <td>0.827731</td>\n",
              "      <td>0.214076</td>\n",
              "      <td>NaN</td>\n",
              "      <td>1.572964</td>\n",
              "      <td>NaN</td>\n",
              "      <td>0.647921</td>\n",
              "      <td>NaN</td>\n",
              "      <td>NaN</td>\n",
              "      <td>NaN</td>\n",
              "      <td>0.761137</td>\n",
              "      <td>215.187196</td>\n",
              "      <td>NaN</td>\n",
              "      <td>NaN</td>\n",
              "      <td>NaN</td>\n",
              "      <td>126.361562</td>\n",
              "      <td>67.483400</td>\n",
              "      <td>64.139059</td>\n",
              "      <td>25.141331</td>\n",
              "      <td>56.087370</td>\n",
              "      <td>35.597181</td>\n",
              "      <td>NaN</td>\n",
              "      <td>NaN</td>\n",
              "      <td>NaN</td>\n",
              "      <td>566.344288</td>\n",
              "      <td>2.714492</td>\n",
              "      <td>1.316613</td>\n",
              "      <td>NaN</td>\n",
              "      <td>NaN</td>\n",
              "      <td>79886.692357</td>\n",
              "      <td>0.025700</td>\n",
              "      <td>0.018410</td>\n",
              "    </tr>\n",
              "    <tr>\n",
              "      <th>min</th>\n",
              "      <td>1.00000</td>\n",
              "      <td>NaN</td>\n",
              "      <td>NaN</td>\n",
              "      <td>0.000000</td>\n",
              "      <td>1300.000000</td>\n",
              "      <td>NaN</td>\n",
              "      <td>NaN</td>\n",
              "      <td>NaN</td>\n",
              "      <td>NaN</td>\n",
              "      <td>NaN</td>\n",
              "      <td>NaN</td>\n",
              "      <td>NaN</td>\n",
              "      <td>NaN</td>\n",
              "      <td>NaN</td>\n",
              "      <td>NaN</td>\n",
              "      <td>NaN</td>\n",
              "      <td>NaN</td>\n",
              "      <td>NaN</td>\n",
              "      <td>NaN</td>\n",
              "      <td>1872.000000</td>\n",
              "      <td>1950.000000</td>\n",
              "      <td>NaN</td>\n",
              "      <td>NaN</td>\n",
              "      <td>NaN</td>\n",
              "      <td>NaN</td>\n",
              "      <td>NaN</td>\n",
              "      <td>0.000000</td>\n",
              "      <td>NaN</td>\n",
              "      <td>NaN</td>\n",
              "      <td>NaN</td>\n",
              "      <td>NaN</td>\n",
              "      <td>NaN</td>\n",
              "      <td>NaN</td>\n",
              "      <td>NaN</td>\n",
              "      <td>0.000000</td>\n",
              "      <td>NaN</td>\n",
              "      <td>0.000000</td>\n",
              "      <td>0.000000</td>\n",
              "      <td>0.000000</td>\n",
              "      <td>NaN</td>\n",
              "      <td>NaN</td>\n",
              "      <td>NaN</td>\n",
              "      <td>NaN</td>\n",
              "      <td>334.000000</td>\n",
              "      <td>0.000000</td>\n",
              "      <td>0.000000</td>\n",
              "      <td>334.000000</td>\n",
              "      <td>0.000000</td>\n",
              "      <td>0.000000</td>\n",
              "      <td>0.000000</td>\n",
              "      <td>0.000000</td>\n",
              "      <td>0.000000</td>\n",
              "      <td>0.000000</td>\n",
              "      <td>NaN</td>\n",
              "      <td>2.000000</td>\n",
              "      <td>NaN</td>\n",
              "      <td>0.000000</td>\n",
              "      <td>NaN</td>\n",
              "      <td>NaN</td>\n",
              "      <td>NaN</td>\n",
              "      <td>0.000000</td>\n",
              "      <td>0.000000</td>\n",
              "      <td>NaN</td>\n",
              "      <td>NaN</td>\n",
              "      <td>NaN</td>\n",
              "      <td>0.000000</td>\n",
              "      <td>0.000000</td>\n",
              "      <td>0.000000</td>\n",
              "      <td>0.000000</td>\n",
              "      <td>0.000000</td>\n",
              "      <td>0.000000</td>\n",
              "      <td>NaN</td>\n",
              "      <td>NaN</td>\n",
              "      <td>NaN</td>\n",
              "      <td>0.000000</td>\n",
              "      <td>1.000000</td>\n",
              "      <td>2006.000000</td>\n",
              "      <td>NaN</td>\n",
              "      <td>NaN</td>\n",
              "      <td>12789.000000</td>\n",
              "      <td>-93.693153</td>\n",
              "      <td>41.986498</td>\n",
              "    </tr>\n",
              "    <tr>\n",
              "      <th>25%</th>\n",
              "      <td>733.25000</td>\n",
              "      <td>NaN</td>\n",
              "      <td>NaN</td>\n",
              "      <td>43.000000</td>\n",
              "      <td>7440.250000</td>\n",
              "      <td>NaN</td>\n",
              "      <td>NaN</td>\n",
              "      <td>NaN</td>\n",
              "      <td>NaN</td>\n",
              "      <td>NaN</td>\n",
              "      <td>NaN</td>\n",
              "      <td>NaN</td>\n",
              "      <td>NaN</td>\n",
              "      <td>NaN</td>\n",
              "      <td>NaN</td>\n",
              "      <td>NaN</td>\n",
              "      <td>NaN</td>\n",
              "      <td>NaN</td>\n",
              "      <td>NaN</td>\n",
              "      <td>1954.000000</td>\n",
              "      <td>1965.000000</td>\n",
              "      <td>NaN</td>\n",
              "      <td>NaN</td>\n",
              "      <td>NaN</td>\n",
              "      <td>NaN</td>\n",
              "      <td>NaN</td>\n",
              "      <td>0.000000</td>\n",
              "      <td>NaN</td>\n",
              "      <td>NaN</td>\n",
              "      <td>NaN</td>\n",
              "      <td>NaN</td>\n",
              "      <td>NaN</td>\n",
              "      <td>NaN</td>\n",
              "      <td>NaN</td>\n",
              "      <td>3.000000</td>\n",
              "      <td>NaN</td>\n",
              "      <td>0.000000</td>\n",
              "      <td>219.000000</td>\n",
              "      <td>793.000000</td>\n",
              "      <td>NaN</td>\n",
              "      <td>NaN</td>\n",
              "      <td>NaN</td>\n",
              "      <td>NaN</td>\n",
              "      <td>876.250000</td>\n",
              "      <td>0.000000</td>\n",
              "      <td>0.000000</td>\n",
              "      <td>1126.000000</td>\n",
              "      <td>0.000000</td>\n",
              "      <td>0.000000</td>\n",
              "      <td>1.000000</td>\n",
              "      <td>0.000000</td>\n",
              "      <td>2.000000</td>\n",
              "      <td>1.000000</td>\n",
              "      <td>NaN</td>\n",
              "      <td>5.000000</td>\n",
              "      <td>NaN</td>\n",
              "      <td>0.000000</td>\n",
              "      <td>NaN</td>\n",
              "      <td>NaN</td>\n",
              "      <td>NaN</td>\n",
              "      <td>1.000000</td>\n",
              "      <td>320.000000</td>\n",
              "      <td>NaN</td>\n",
              "      <td>NaN</td>\n",
              "      <td>NaN</td>\n",
              "      <td>0.000000</td>\n",
              "      <td>0.000000</td>\n",
              "      <td>0.000000</td>\n",
              "      <td>0.000000</td>\n",
              "      <td>0.000000</td>\n",
              "      <td>0.000000</td>\n",
              "      <td>NaN</td>\n",
              "      <td>NaN</td>\n",
              "      <td>NaN</td>\n",
              "      <td>0.000000</td>\n",
              "      <td>4.000000</td>\n",
              "      <td>2007.000000</td>\n",
              "      <td>NaN</td>\n",
              "      <td>NaN</td>\n",
              "      <td>129500.000000</td>\n",
              "      <td>-93.660217</td>\n",
              "      <td>42.022088</td>\n",
              "    </tr>\n",
              "    <tr>\n",
              "      <th>50%</th>\n",
              "      <td>1465.50000</td>\n",
              "      <td>NaN</td>\n",
              "      <td>NaN</td>\n",
              "      <td>63.000000</td>\n",
              "      <td>9436.500000</td>\n",
              "      <td>NaN</td>\n",
              "      <td>NaN</td>\n",
              "      <td>NaN</td>\n",
              "      <td>NaN</td>\n",
              "      <td>NaN</td>\n",
              "      <td>NaN</td>\n",
              "      <td>NaN</td>\n",
              "      <td>NaN</td>\n",
              "      <td>NaN</td>\n",
              "      <td>NaN</td>\n",
              "      <td>NaN</td>\n",
              "      <td>NaN</td>\n",
              "      <td>NaN</td>\n",
              "      <td>NaN</td>\n",
              "      <td>1973.000000</td>\n",
              "      <td>1993.000000</td>\n",
              "      <td>NaN</td>\n",
              "      <td>NaN</td>\n",
              "      <td>NaN</td>\n",
              "      <td>NaN</td>\n",
              "      <td>NaN</td>\n",
              "      <td>0.000000</td>\n",
              "      <td>NaN</td>\n",
              "      <td>NaN</td>\n",
              "      <td>NaN</td>\n",
              "      <td>NaN</td>\n",
              "      <td>NaN</td>\n",
              "      <td>NaN</td>\n",
              "      <td>NaN</td>\n",
              "      <td>3.000000</td>\n",
              "      <td>NaN</td>\n",
              "      <td>0.000000</td>\n",
              "      <td>465.500000</td>\n",
              "      <td>990.000000</td>\n",
              "      <td>NaN</td>\n",
              "      <td>NaN</td>\n",
              "      <td>NaN</td>\n",
              "      <td>NaN</td>\n",
              "      <td>1084.000000</td>\n",
              "      <td>0.000000</td>\n",
              "      <td>0.000000</td>\n",
              "      <td>1442.000000</td>\n",
              "      <td>0.000000</td>\n",
              "      <td>0.000000</td>\n",
              "      <td>2.000000</td>\n",
              "      <td>0.000000</td>\n",
              "      <td>3.000000</td>\n",
              "      <td>1.000000</td>\n",
              "      <td>NaN</td>\n",
              "      <td>6.000000</td>\n",
              "      <td>NaN</td>\n",
              "      <td>1.000000</td>\n",
              "      <td>NaN</td>\n",
              "      <td>NaN</td>\n",
              "      <td>NaN</td>\n",
              "      <td>2.000000</td>\n",
              "      <td>480.000000</td>\n",
              "      <td>NaN</td>\n",
              "      <td>NaN</td>\n",
              "      <td>NaN</td>\n",
              "      <td>0.000000</td>\n",
              "      <td>27.000000</td>\n",
              "      <td>0.000000</td>\n",
              "      <td>0.000000</td>\n",
              "      <td>0.000000</td>\n",
              "      <td>0.000000</td>\n",
              "      <td>NaN</td>\n",
              "      <td>NaN</td>\n",
              "      <td>NaN</td>\n",
              "      <td>0.000000</td>\n",
              "      <td>6.000000</td>\n",
              "      <td>2008.000000</td>\n",
              "      <td>NaN</td>\n",
              "      <td>NaN</td>\n",
              "      <td>160000.000000</td>\n",
              "      <td>-93.641806</td>\n",
              "      <td>42.034662</td>\n",
              "    </tr>\n",
              "    <tr>\n",
              "      <th>75%</th>\n",
              "      <td>2197.75000</td>\n",
              "      <td>NaN</td>\n",
              "      <td>NaN</td>\n",
              "      <td>78.000000</td>\n",
              "      <td>11555.250000</td>\n",
              "      <td>NaN</td>\n",
              "      <td>NaN</td>\n",
              "      <td>NaN</td>\n",
              "      <td>NaN</td>\n",
              "      <td>NaN</td>\n",
              "      <td>NaN</td>\n",
              "      <td>NaN</td>\n",
              "      <td>NaN</td>\n",
              "      <td>NaN</td>\n",
              "      <td>NaN</td>\n",
              "      <td>NaN</td>\n",
              "      <td>NaN</td>\n",
              "      <td>NaN</td>\n",
              "      <td>NaN</td>\n",
              "      <td>2001.000000</td>\n",
              "      <td>2004.000000</td>\n",
              "      <td>NaN</td>\n",
              "      <td>NaN</td>\n",
              "      <td>NaN</td>\n",
              "      <td>NaN</td>\n",
              "      <td>NaN</td>\n",
              "      <td>162.750000</td>\n",
              "      <td>NaN</td>\n",
              "      <td>NaN</td>\n",
              "      <td>NaN</td>\n",
              "      <td>NaN</td>\n",
              "      <td>NaN</td>\n",
              "      <td>NaN</td>\n",
              "      <td>NaN</td>\n",
              "      <td>7.000000</td>\n",
              "      <td>NaN</td>\n",
              "      <td>0.000000</td>\n",
              "      <td>801.750000</td>\n",
              "      <td>1301.500000</td>\n",
              "      <td>NaN</td>\n",
              "      <td>NaN</td>\n",
              "      <td>NaN</td>\n",
              "      <td>NaN</td>\n",
              "      <td>1384.000000</td>\n",
              "      <td>703.750000</td>\n",
              "      <td>0.000000</td>\n",
              "      <td>1742.750000</td>\n",
              "      <td>1.000000</td>\n",
              "      <td>0.000000</td>\n",
              "      <td>2.000000</td>\n",
              "      <td>1.000000</td>\n",
              "      <td>3.000000</td>\n",
              "      <td>1.000000</td>\n",
              "      <td>NaN</td>\n",
              "      <td>7.000000</td>\n",
              "      <td>NaN</td>\n",
              "      <td>1.000000</td>\n",
              "      <td>NaN</td>\n",
              "      <td>NaN</td>\n",
              "      <td>NaN</td>\n",
              "      <td>2.000000</td>\n",
              "      <td>576.000000</td>\n",
              "      <td>NaN</td>\n",
              "      <td>NaN</td>\n",
              "      <td>NaN</td>\n",
              "      <td>168.000000</td>\n",
              "      <td>70.000000</td>\n",
              "      <td>0.000000</td>\n",
              "      <td>0.000000</td>\n",
              "      <td>0.000000</td>\n",
              "      <td>0.000000</td>\n",
              "      <td>NaN</td>\n",
              "      <td>NaN</td>\n",
              "      <td>NaN</td>\n",
              "      <td>0.000000</td>\n",
              "      <td>8.000000</td>\n",
              "      <td>2009.000000</td>\n",
              "      <td>NaN</td>\n",
              "      <td>NaN</td>\n",
              "      <td>213500.000000</td>\n",
              "      <td>-93.622113</td>\n",
              "      <td>42.049853</td>\n",
              "    </tr>\n",
              "    <tr>\n",
              "      <th>max</th>\n",
              "      <td>2930.00000</td>\n",
              "      <td>NaN</td>\n",
              "      <td>NaN</td>\n",
              "      <td>313.000000</td>\n",
              "      <td>215245.000000</td>\n",
              "      <td>NaN</td>\n",
              "      <td>NaN</td>\n",
              "      <td>NaN</td>\n",
              "      <td>NaN</td>\n",
              "      <td>NaN</td>\n",
              "      <td>NaN</td>\n",
              "      <td>NaN</td>\n",
              "      <td>NaN</td>\n",
              "      <td>NaN</td>\n",
              "      <td>NaN</td>\n",
              "      <td>NaN</td>\n",
              "      <td>NaN</td>\n",
              "      <td>NaN</td>\n",
              "      <td>NaN</td>\n",
              "      <td>2010.000000</td>\n",
              "      <td>2010.000000</td>\n",
              "      <td>NaN</td>\n",
              "      <td>NaN</td>\n",
              "      <td>NaN</td>\n",
              "      <td>NaN</td>\n",
              "      <td>NaN</td>\n",
              "      <td>1600.000000</td>\n",
              "      <td>NaN</td>\n",
              "      <td>NaN</td>\n",
              "      <td>NaN</td>\n",
              "      <td>NaN</td>\n",
              "      <td>NaN</td>\n",
              "      <td>NaN</td>\n",
              "      <td>NaN</td>\n",
              "      <td>7.000000</td>\n",
              "      <td>NaN</td>\n",
              "      <td>1526.000000</td>\n",
              "      <td>2336.000000</td>\n",
              "      <td>6110.000000</td>\n",
              "      <td>NaN</td>\n",
              "      <td>NaN</td>\n",
              "      <td>NaN</td>\n",
              "      <td>NaN</td>\n",
              "      <td>5095.000000</td>\n",
              "      <td>2065.000000</td>\n",
              "      <td>1064.000000</td>\n",
              "      <td>5642.000000</td>\n",
              "      <td>3.000000</td>\n",
              "      <td>2.000000</td>\n",
              "      <td>4.000000</td>\n",
              "      <td>2.000000</td>\n",
              "      <td>8.000000</td>\n",
              "      <td>3.000000</td>\n",
              "      <td>NaN</td>\n",
              "      <td>15.000000</td>\n",
              "      <td>NaN</td>\n",
              "      <td>4.000000</td>\n",
              "      <td>NaN</td>\n",
              "      <td>NaN</td>\n",
              "      <td>NaN</td>\n",
              "      <td>5.000000</td>\n",
              "      <td>1488.000000</td>\n",
              "      <td>NaN</td>\n",
              "      <td>NaN</td>\n",
              "      <td>NaN</td>\n",
              "      <td>1424.000000</td>\n",
              "      <td>742.000000</td>\n",
              "      <td>1012.000000</td>\n",
              "      <td>508.000000</td>\n",
              "      <td>576.000000</td>\n",
              "      <td>800.000000</td>\n",
              "      <td>NaN</td>\n",
              "      <td>NaN</td>\n",
              "      <td>NaN</td>\n",
              "      <td>17000.000000</td>\n",
              "      <td>12.000000</td>\n",
              "      <td>2010.000000</td>\n",
              "      <td>NaN</td>\n",
              "      <td>NaN</td>\n",
              "      <td>755000.000000</td>\n",
              "      <td>-93.577427</td>\n",
              "      <td>42.063388</td>\n",
              "    </tr>\n",
              "  </tbody>\n",
              "</table>\n",
              "</div>"
            ],
            "text/plain": [
              "        Unnamed: 0                          MS_SubClass  \\\n",
              "count   2930.00000                                 2930   \n",
              "unique         NaN                                   16   \n",
              "top            NaN  One_Story_1946_and_Newer_All_Styles   \n",
              "freq           NaN                                 1079   \n",
              "mean    1465.50000                                  NaN   \n",
              "std      845.96247                                  NaN   \n",
              "min        1.00000                                  NaN   \n",
              "25%      733.25000                                  NaN   \n",
              "50%     1465.50000                                  NaN   \n",
              "75%     2197.75000                                  NaN   \n",
              "max     2930.00000                                  NaN   \n",
              "\n",
              "                      MS_Zoning  Lot_Frontage       Lot_Area Street  \\\n",
              "count                      2930   2930.000000    2930.000000   2930   \n",
              "unique                        7           NaN            NaN      2   \n",
              "top     Residential_Low_Density           NaN            NaN   Pave   \n",
              "freq                       2273           NaN            NaN   2918   \n",
              "mean                        NaN     57.647782   10147.921843    NaN   \n",
              "std                         NaN     33.499441    7880.017759    NaN   \n",
              "min                         NaN      0.000000    1300.000000    NaN   \n",
              "25%                         NaN     43.000000    7440.250000    NaN   \n",
              "50%                         NaN     63.000000    9436.500000    NaN   \n",
              "75%                         NaN     78.000000   11555.250000    NaN   \n",
              "max                         NaN    313.000000  215245.000000    NaN   \n",
              "\n",
              "                  Alley Lot_Shape Land_Contour Utilities Lot_Config  \\\n",
              "count              2930      2930         2930      2930       2930   \n",
              "unique                3         4            4         3          5   \n",
              "top     No_Alley_Access   Regular          Lvl    AllPub     Inside   \n",
              "freq               2732      1859         2633      2927       2140   \n",
              "mean                NaN       NaN          NaN       NaN        NaN   \n",
              "std                 NaN       NaN          NaN       NaN        NaN   \n",
              "min                 NaN       NaN          NaN       NaN        NaN   \n",
              "25%                 NaN       NaN          NaN       NaN        NaN   \n",
              "50%                 NaN       NaN          NaN       NaN        NaN   \n",
              "75%                 NaN       NaN          NaN       NaN        NaN   \n",
              "max                 NaN       NaN          NaN       NaN        NaN   \n",
              "\n",
              "       Land_Slope Neighborhood Condition_1 Condition_2 Bldg_Type House_Style  \\\n",
              "count        2930         2930        2930        2930      2930        2930   \n",
              "unique          3           28           9           8         5           8   \n",
              "top           Gtl   North_Ames        Norm        Norm    OneFam   One_Story   \n",
              "freq         2789          443        2522        2900      2425        1481   \n",
              "mean          NaN          NaN         NaN         NaN       NaN         NaN   \n",
              "std           NaN          NaN         NaN         NaN       NaN         NaN   \n",
              "min           NaN          NaN         NaN         NaN       NaN         NaN   \n",
              "25%           NaN          NaN         NaN         NaN       NaN         NaN   \n",
              "50%           NaN          NaN         NaN         NaN       NaN         NaN   \n",
              "75%           NaN          NaN         NaN         NaN       NaN         NaN   \n",
              "max           NaN          NaN         NaN         NaN       NaN         NaN   \n",
              "\n",
              "       Overall_Qual Overall_Cond   Year_Built  Year_Remod_Add Roof_Style  \\\n",
              "count          2930         2930  2930.000000     2930.000000       2930   \n",
              "unique           10            9          NaN             NaN          6   \n",
              "top         Average      Average          NaN             NaN      Gable   \n",
              "freq            825         1654          NaN             NaN       2321   \n",
              "mean            NaN          NaN  1971.356314     1984.266553        NaN   \n",
              "std             NaN          NaN    30.245361       20.860286        NaN   \n",
              "min             NaN          NaN  1872.000000     1950.000000        NaN   \n",
              "25%             NaN          NaN  1954.000000     1965.000000        NaN   \n",
              "50%             NaN          NaN  1973.000000     1993.000000        NaN   \n",
              "75%             NaN          NaN  2001.000000     2004.000000        NaN   \n",
              "max             NaN          NaN  2010.000000     2010.000000        NaN   \n",
              "\n",
              "       Roof_Matl Exterior_1st Exterior_2nd Mas_Vnr_Type  Mas_Vnr_Area  \\\n",
              "count       2930         2930         2930         2930   2930.000000   \n",
              "unique         8           16           17            5           NaN   \n",
              "top      CompShg      VinylSd      VinylSd         None           NaN   \n",
              "freq        2887         1026         1015         1775           NaN   \n",
              "mean         NaN          NaN          NaN          NaN    101.096928   \n",
              "std          NaN          NaN          NaN          NaN    178.634545   \n",
              "min          NaN          NaN          NaN          NaN      0.000000   \n",
              "25%          NaN          NaN          NaN          NaN      0.000000   \n",
              "50%          NaN          NaN          NaN          NaN      0.000000   \n",
              "75%          NaN          NaN          NaN          NaN    162.750000   \n",
              "max          NaN          NaN          NaN          NaN   1600.000000   \n",
              "\n",
              "       Exter_Qual Exter_Cond Foundation Bsmt_Qual Bsmt_Cond Bsmt_Exposure  \\\n",
              "count        2930       2930       2930      2930      2930          2930   \n",
              "unique          4          5          6         6         6             5   \n",
              "top       Typical    Typical      PConc   Typical   Typical            No   \n",
              "freq         1799       2549       1310      1283      2616          1906   \n",
              "mean          NaN        NaN        NaN       NaN       NaN           NaN   \n",
              "std           NaN        NaN        NaN       NaN       NaN           NaN   \n",
              "min           NaN        NaN        NaN       NaN       NaN           NaN   \n",
              "25%           NaN        NaN        NaN       NaN       NaN           NaN   \n",
              "50%           NaN        NaN        NaN       NaN       NaN           NaN   \n",
              "75%           NaN        NaN        NaN       NaN       NaN           NaN   \n",
              "max           NaN        NaN        NaN       NaN       NaN           NaN   \n",
              "\n",
              "       BsmtFin_Type_1  BsmtFin_SF_1 BsmtFin_Type_2  BsmtFin_SF_2  Bsmt_Unf_SF  \\\n",
              "count            2930   2930.000000           2930   2930.000000  2930.000000   \n",
              "unique              7           NaN              7           NaN          NaN   \n",
              "top               GLQ           NaN            Unf           NaN          NaN   \n",
              "freq              859           NaN           2499           NaN          NaN   \n",
              "mean              NaN      4.177474            NaN     49.705461   559.071672   \n",
              "std               NaN      2.233372            NaN    169.142089   439.540571   \n",
              "min               NaN      0.000000            NaN      0.000000     0.000000   \n",
              "25%               NaN      3.000000            NaN      0.000000   219.000000   \n",
              "50%               NaN      3.000000            NaN      0.000000   465.500000   \n",
              "75%               NaN      7.000000            NaN      0.000000   801.750000   \n",
              "max               NaN      7.000000            NaN   1526.000000  2336.000000   \n",
              "\n",
              "        Total_Bsmt_SF Heating Heating_QC Central_Air Electrical  First_Flr_SF  \\\n",
              "count     2930.000000    2930       2930        2930       2930   2930.000000   \n",
              "unique            NaN       6          5           2          6           NaN   \n",
              "top               NaN    GasA  Excellent           Y      SBrkr           NaN   \n",
              "freq              NaN    2885       1495        2734       2682           NaN   \n",
              "mean      1051.255631     NaN        NaN         NaN        NaN   1159.557679   \n",
              "std        440.968018     NaN        NaN         NaN        NaN    391.890885   \n",
              "min          0.000000     NaN        NaN         NaN        NaN    334.000000   \n",
              "25%        793.000000     NaN        NaN         NaN        NaN    876.250000   \n",
              "50%        990.000000     NaN        NaN         NaN        NaN   1084.000000   \n",
              "75%       1301.500000     NaN        NaN         NaN        NaN   1384.000000   \n",
              "max       6110.000000     NaN        NaN         NaN        NaN   5095.000000   \n",
              "\n",
              "        Second_Flr_SF  Low_Qual_Fin_SF  Gr_Liv_Area  Bsmt_Full_Bath  \\\n",
              "count     2930.000000      2930.000000  2930.000000     2930.000000   \n",
              "unique            NaN              NaN          NaN             NaN   \n",
              "top               NaN              NaN          NaN             NaN   \n",
              "freq              NaN              NaN          NaN             NaN   \n",
              "mean       335.455973         4.676792  1499.690444        0.431058   \n",
              "std        428.395715        46.310510   505.508887        0.524762   \n",
              "min          0.000000         0.000000   334.000000        0.000000   \n",
              "25%          0.000000         0.000000  1126.000000        0.000000   \n",
              "50%          0.000000         0.000000  1442.000000        0.000000   \n",
              "75%        703.750000         0.000000  1742.750000        1.000000   \n",
              "max       2065.000000      1064.000000  5642.000000        3.000000   \n",
              "\n",
              "        Bsmt_Half_Bath    Full_Bath    Half_Bath  Bedroom_AbvGr  \\\n",
              "count      2930.000000  2930.000000  2930.000000    2930.000000   \n",
              "unique             NaN          NaN          NaN            NaN   \n",
              "top                NaN          NaN          NaN            NaN   \n",
              "freq               NaN          NaN          NaN            NaN   \n",
              "mean          0.061092     1.566553     0.379522       2.854266   \n",
              "std           0.245175     0.552941     0.502629       0.827731   \n",
              "min           0.000000     0.000000     0.000000       0.000000   \n",
              "25%           0.000000     1.000000     0.000000       2.000000   \n",
              "50%           0.000000     2.000000     0.000000       3.000000   \n",
              "75%           0.000000     2.000000     1.000000       3.000000   \n",
              "max           2.000000     4.000000     2.000000       8.000000   \n",
              "\n",
              "        Kitchen_AbvGr Kitchen_Qual  TotRms_AbvGrd Functional   Fireplaces  \\\n",
              "count     2930.000000         2930    2930.000000       2930  2930.000000   \n",
              "unique            NaN            5            NaN          8          NaN   \n",
              "top               NaN      Typical            NaN        Typ          NaN   \n",
              "freq              NaN         1494            NaN       2728          NaN   \n",
              "mean         1.044369          NaN       6.443003        NaN     0.599317   \n",
              "std          0.214076          NaN       1.572964        NaN     0.647921   \n",
              "min          0.000000          NaN       2.000000        NaN     0.000000   \n",
              "25%          1.000000          NaN       5.000000        NaN     0.000000   \n",
              "50%          1.000000          NaN       6.000000        NaN     1.000000   \n",
              "75%          1.000000          NaN       7.000000        NaN     1.000000   \n",
              "max          3.000000          NaN      15.000000        NaN     4.000000   \n",
              "\n",
              "        Fireplace_Qu Garage_Type Garage_Finish  Garage_Cars  Garage_Area  \\\n",
              "count           2930        2930          2930  2930.000000  2930.000000   \n",
              "unique             6           7             4          NaN          NaN   \n",
              "top     No_Fireplace      Attchd           Unf          NaN          NaN   \n",
              "freq            1422        1731          1231          NaN          NaN   \n",
              "mean             NaN         NaN           NaN     1.766212   472.658362   \n",
              "std              NaN         NaN           NaN     0.761137   215.187196   \n",
              "min              NaN         NaN           NaN     0.000000     0.000000   \n",
              "25%              NaN         NaN           NaN     1.000000   320.000000   \n",
              "50%              NaN         NaN           NaN     2.000000   480.000000   \n",
              "75%              NaN         NaN           NaN     2.000000   576.000000   \n",
              "max              NaN         NaN           NaN     5.000000  1488.000000   \n",
              "\n",
              "       Garage_Qual Garage_Cond Paved_Drive  Wood_Deck_SF  Open_Porch_SF  \\\n",
              "count         2930        2930        2930   2930.000000    2930.000000   \n",
              "unique           6           6           3           NaN            NaN   \n",
              "top        Typical     Typical       Paved           NaN            NaN   \n",
              "freq          2615        2665        2652           NaN            NaN   \n",
              "mean           NaN         NaN         NaN     93.751877      47.533447   \n",
              "std            NaN         NaN         NaN    126.361562      67.483400   \n",
              "min            NaN         NaN         NaN      0.000000       0.000000   \n",
              "25%            NaN         NaN         NaN      0.000000       0.000000   \n",
              "50%            NaN         NaN         NaN      0.000000      27.000000   \n",
              "75%            NaN         NaN         NaN    168.000000      70.000000   \n",
              "max            NaN         NaN         NaN   1424.000000     742.000000   \n",
              "\n",
              "        Enclosed_Porch  Three_season_porch  Screen_Porch    Pool_Area  \\\n",
              "count      2930.000000         2930.000000   2930.000000  2930.000000   \n",
              "unique             NaN                 NaN           NaN          NaN   \n",
              "top                NaN                 NaN           NaN          NaN   \n",
              "freq               NaN                 NaN           NaN          NaN   \n",
              "mean         23.011604            2.592491     16.002048     2.243345   \n",
              "std          64.139059           25.141331     56.087370    35.597181   \n",
              "min           0.000000            0.000000      0.000000     0.000000   \n",
              "25%           0.000000            0.000000      0.000000     0.000000   \n",
              "50%           0.000000            0.000000      0.000000     0.000000   \n",
              "75%           0.000000            0.000000      0.000000     0.000000   \n",
              "max        1012.000000          508.000000    576.000000   800.000000   \n",
              "\n",
              "        Pool_QC     Fence Misc_Feature      Misc_Val      Mo_Sold  \\\n",
              "count      2930      2930         2930   2930.000000  2930.000000   \n",
              "unique        5         5            6           NaN          NaN   \n",
              "top     No_Pool  No_Fence         None           NaN          NaN   \n",
              "freq       2917      2358         2824           NaN          NaN   \n",
              "mean        NaN       NaN          NaN     50.635154     6.216041   \n",
              "std         NaN       NaN          NaN    566.344288     2.714492   \n",
              "min         NaN       NaN          NaN      0.000000     1.000000   \n",
              "25%         NaN       NaN          NaN      0.000000     4.000000   \n",
              "50%         NaN       NaN          NaN      0.000000     6.000000   \n",
              "75%         NaN       NaN          NaN      0.000000     8.000000   \n",
              "max         NaN       NaN          NaN  17000.000000    12.000000   \n",
              "\n",
              "          Year_Sold Sale_Type Sale_Condition     Sale_Price    Longitude  \\\n",
              "count   2930.000000      2930           2930    2930.000000  2930.000000   \n",
              "unique          NaN        10              6            NaN          NaN   \n",
              "top             NaN       WD          Normal            NaN          NaN   \n",
              "freq            NaN      2536           2413            NaN          NaN   \n",
              "mean    2007.790444       NaN            NaN  180796.060068   -93.642897   \n",
              "std        1.316613       NaN            NaN   79886.692357     0.025700   \n",
              "min     2006.000000       NaN            NaN   12789.000000   -93.693153   \n",
              "25%     2007.000000       NaN            NaN  129500.000000   -93.660217   \n",
              "50%     2008.000000       NaN            NaN  160000.000000   -93.641806   \n",
              "75%     2009.000000       NaN            NaN  213500.000000   -93.622113   \n",
              "max     2010.000000       NaN            NaN  755000.000000   -93.577427   \n",
              "\n",
              "           Latitude  \n",
              "count   2930.000000  \n",
              "unique          NaN  \n",
              "top             NaN  \n",
              "freq            NaN  \n",
              "mean      42.034482  \n",
              "std        0.018410  \n",
              "min       41.986498  \n",
              "25%       42.022088  \n",
              "50%       42.034662  \n",
              "75%       42.049853  \n",
              "max       42.063388  "
            ]
          },
          "execution_count": 10,
          "metadata": {},
          "output_type": "execute_result"
        }
      ],
      "source": [
        "pd.options.display.max_columns = 82\n",
        "ames_python.describe(include='all')"
      ]
    },
    {
      "cell_type": "markdown",
      "id": "65b3091f",
      "metadata": {
        "id": "65b3091f"
      },
      "source": [
        "We will use the following expanatory variables to model the Sales Price:\n",
        "- MS_Zoning\n",
        "- Exter_Qual\n",
        "- Year_Built\n",
        "- Lot_Area "
      ]
    },
    {
      "cell_type": "code",
      "execution_count": null,
      "id": "837a56f2",
      "metadata": {
        "id": "837a56f2"
      },
      "outputs": [],
      "source": [
        "ames_python_2=ames_python[['MS_Zoning','Lot_Area','Year_Built','Exter_Qual','Sale_Price']]"
      ]
    },
    {
      "cell_type": "markdown",
      "id": "664a59f6",
      "metadata": {
        "id": "664a59f6"
      },
      "source": [
        "We convert categorical variables to one-hot vectors with the `pd.get_dummies`function :\n",
        "- `data` : Data of which to get dummy indicators.\n",
        "- `drop_first` : Whether to get k-1 dummies out of k categorical levels by removing the first level.\n"
      ]
    },
    {
      "cell_type": "code",
      "execution_count": null,
      "id": "6ae120b9",
      "metadata": {
        "id": "6ae120b9",
        "outputId": "ff1c8271-15cd-447e-84c9-0664a5259dc2"
      },
      "outputs": [
        {
          "data": {
            "text/html": [
              "<div>\n",
              "<style scoped>\n",
              "    .dataframe tbody tr th:only-of-type {\n",
              "        vertical-align: middle;\n",
              "    }\n",
              "\n",
              "    .dataframe tbody tr th {\n",
              "        vertical-align: top;\n",
              "    }\n",
              "\n",
              "    .dataframe thead th {\n",
              "        text-align: right;\n",
              "    }\n",
              "</style>\n",
              "<table border=\"1\" class=\"dataframe\">\n",
              "  <thead>\n",
              "    <tr style=\"text-align: right;\">\n",
              "      <th></th>\n",
              "      <th>Lot_Area</th>\n",
              "      <th>Year_Built</th>\n",
              "      <th>Sale_Price</th>\n",
              "      <th>MS_Zoning_C_all</th>\n",
              "      <th>MS_Zoning_Floating_Village_Residential</th>\n",
              "      <th>MS_Zoning_I_all</th>\n",
              "      <th>MS_Zoning_Residential_High_Density</th>\n",
              "      <th>MS_Zoning_Residential_Low_Density</th>\n",
              "      <th>MS_Zoning_Residential_Medium_Density</th>\n",
              "      <th>Exter_Qual_Fair</th>\n",
              "      <th>Exter_Qual_Good</th>\n",
              "      <th>Exter_Qual_Typical</th>\n",
              "    </tr>\n",
              "  </thead>\n",
              "  <tbody>\n",
              "    <tr>\n",
              "      <th>0</th>\n",
              "      <td>31770</td>\n",
              "      <td>1960</td>\n",
              "      <td>215000</td>\n",
              "      <td>0</td>\n",
              "      <td>0</td>\n",
              "      <td>0</td>\n",
              "      <td>0</td>\n",
              "      <td>1</td>\n",
              "      <td>0</td>\n",
              "      <td>0</td>\n",
              "      <td>0</td>\n",
              "      <td>1</td>\n",
              "    </tr>\n",
              "    <tr>\n",
              "      <th>1</th>\n",
              "      <td>11622</td>\n",
              "      <td>1961</td>\n",
              "      <td>105000</td>\n",
              "      <td>0</td>\n",
              "      <td>0</td>\n",
              "      <td>0</td>\n",
              "      <td>1</td>\n",
              "      <td>0</td>\n",
              "      <td>0</td>\n",
              "      <td>0</td>\n",
              "      <td>0</td>\n",
              "      <td>1</td>\n",
              "    </tr>\n",
              "    <tr>\n",
              "      <th>2</th>\n",
              "      <td>14267</td>\n",
              "      <td>1958</td>\n",
              "      <td>172000</td>\n",
              "      <td>0</td>\n",
              "      <td>0</td>\n",
              "      <td>0</td>\n",
              "      <td>0</td>\n",
              "      <td>1</td>\n",
              "      <td>0</td>\n",
              "      <td>0</td>\n",
              "      <td>0</td>\n",
              "      <td>1</td>\n",
              "    </tr>\n",
              "    <tr>\n",
              "      <th>3</th>\n",
              "      <td>11160</td>\n",
              "      <td>1968</td>\n",
              "      <td>244000</td>\n",
              "      <td>0</td>\n",
              "      <td>0</td>\n",
              "      <td>0</td>\n",
              "      <td>0</td>\n",
              "      <td>1</td>\n",
              "      <td>0</td>\n",
              "      <td>0</td>\n",
              "      <td>1</td>\n",
              "      <td>0</td>\n",
              "    </tr>\n",
              "    <tr>\n",
              "      <th>4</th>\n",
              "      <td>13830</td>\n",
              "      <td>1997</td>\n",
              "      <td>189900</td>\n",
              "      <td>0</td>\n",
              "      <td>0</td>\n",
              "      <td>0</td>\n",
              "      <td>0</td>\n",
              "      <td>1</td>\n",
              "      <td>0</td>\n",
              "      <td>0</td>\n",
              "      <td>0</td>\n",
              "      <td>1</td>\n",
              "    </tr>\n",
              "  </tbody>\n",
              "</table>\n",
              "</div>"
            ],
            "text/plain": [
              "   Lot_Area  Year_Built  Sale_Price  MS_Zoning_C_all  \\\n",
              "0     31770        1960      215000                0   \n",
              "1     11622        1961      105000                0   \n",
              "2     14267        1958      172000                0   \n",
              "3     11160        1968      244000                0   \n",
              "4     13830        1997      189900                0   \n",
              "\n",
              "   MS_Zoning_Floating_Village_Residential  MS_Zoning_I_all  \\\n",
              "0                                       0                0   \n",
              "1                                       0                0   \n",
              "2                                       0                0   \n",
              "3                                       0                0   \n",
              "4                                       0                0   \n",
              "\n",
              "   MS_Zoning_Residential_High_Density  MS_Zoning_Residential_Low_Density  \\\n",
              "0                                   0                                  1   \n",
              "1                                   1                                  0   \n",
              "2                                   0                                  1   \n",
              "3                                   0                                  1   \n",
              "4                                   0                                  1   \n",
              "\n",
              "   MS_Zoning_Residential_Medium_Density  Exter_Qual_Fair  Exter_Qual_Good  \\\n",
              "0                                     0                0                0   \n",
              "1                                     0                0                0   \n",
              "2                                     0                0                0   \n",
              "3                                     0                0                1   \n",
              "4                                     0                0                0   \n",
              "\n",
              "   Exter_Qual_Typical  \n",
              "0                   1  \n",
              "1                   1  \n",
              "2                   1  \n",
              "3                   0  \n",
              "4                   1  "
            ]
          },
          "execution_count": 12,
          "metadata": {},
          "output_type": "execute_result"
        }
      ],
      "source": [
        "ames_python_3=pd.get_dummies(data=ames_python_2,drop_first=True)\n",
        "ames_python_3.head()"
      ]
    },
    {
      "cell_type": "markdown",
      "id": "42c906e7",
      "metadata": {
        "id": "42c906e7"
      },
      "source": [
        "We split the AMES dataset into a training and test set while preserving the distribution of the target variable. To do so, we can use `train_test_split` from `sklearn.model_selection`. We keep 20% of the database for testing. We want to obtain a stratified train-test split. A stratified train-test split allows to split the dataset into train and test sets in a way that preserves the same proportions of examples in each class as observed in the original dataset.\n",
        "\n",
        "With the following function, we set different classes as observed in the original dataset.\n",
        "- `np.linspace` : Return evenly spaced numbers over a specified interval.\n",
        "- `pd.cut` : This function is also useful for going from a continuous variable to a categorical variable.\n",
        "\n",
        "The function `train_test_split()` splits arrays or matrices into random train and test subsets.\n",
        "- `DataFrame.drop` : Return new object with labels in requested axis removed."
      ]
    },
    {
      "cell_type": "code",
      "execution_count": null,
      "id": "40cd509b",
      "metadata": {
        "id": "40cd509b"
      },
      "outputs": [],
      "source": [
        "bins = np.linspace(ames_python.Sale_Price.min(),ames_python.Sale_Price.max(), 20)\n",
        "y_cat = pd.cut(ames_python.Sale_Price,bins=bins,include_lowest=True) \n",
        "\n",
        "np.random.seed(123)\n",
        "\n",
        "ames_python_X = ames_python_3.drop(labels=['Sale_Price'], axis=1) \n",
        "ames_python_X_train, ames_python_X_test, ames_python_y_train, ames_python_y_test = train_test_split(ames_python_X, ames_python_3.Sale_Price, test_size=0.2, stratify=y_cat)"
      ]
    },
    {
      "cell_type": "code",
      "execution_count": null,
      "id": "8ab191bd",
      "metadata": {
        "id": "8ab191bd",
        "outputId": "f67656a5-5301-4866-bdb3-70d704a24659"
      },
      "outputs": [
        {
          "data": {
            "image/png": "[encoded data removed]",
            "text/plain": [
              "<Figure size 1000x500 with 1 Axes>"
            ]
          },
          "metadata": {},
          "output_type": "display_data"
        }
      ],
      "source": [
        "#Create dataframe from different vector lengths\n",
        "df1 = pd.DataFrame(ames_python_y_train)\n",
        "df2= pd.DataFrame(ames_python_y_test)\n",
        "plot_pd = pd.concat([df1,df2], ignore_index=True, axis=1)\n",
        "\n",
        "#rename columns for x-label\n",
        "plot_pd.columns = ['Sales Price train', 'Sales Price test']\n",
        "\n",
        "#plot \n",
        "fig, axs = plt.subplots(ncols=1, figsize=(10,5))\n",
        "sb.kdeplot(np.log(plot_pd['Sales Price train']), ax = axs, color='r').set(title='Sales Price Distribution')\n",
        "sb.kdeplot(np.log(plot_pd['Sales Price test']), ax = axs, color='k')\n",
        "plt.show()\n"
      ]
    },
    {
      "cell_type": "code",
      "execution_count": null,
      "id": "985968fb",
      "metadata": {
        "id": "985968fb",
        "outputId": "e6d4e96c-3ee5-4588-ced1-ed164d5e8784"
      },
      "outputs": [
        {
          "data": {
            "image/png": "[encoded data removed]",
            "text/plain": [
              "<Figure size 640x480 with 1 Axes>"
            ]
          },
          "metadata": {},
          "output_type": "display_data"
        }
      ],
      "source": [
        "plt.title('Sales Price train histogram')\n",
        "plt.hist(np.log(plot_pd['Sales Price train']))\n",
        "plt.axvline(np.log(plot_pd['Sales Price train']).mean(), color='k', linestyle='dashed', linewidth=1)\n",
        "plt.show()"
      ]
    },
    {
      "cell_type": "code",
      "execution_count": null,
      "id": "e4dd9cba",
      "metadata": {
        "id": "e4dd9cba",
        "outputId": "0173c85c-8975-4f02-a22a-326f41afef27"
      },
      "outputs": [
        {
          "data": {
            "image/png": "[encoded data removed]",
            "text/plain": [
              "<Figure size 640x480 with 1 Axes>"
            ]
          },
          "metadata": {},
          "output_type": "display_data"
        }
      ],
      "source": [
        "plt.title('Sales Price test histogram')\n",
        "plt.hist(np.log(plot_pd['Sales Price test']),label=\"Sales Price test\")\n",
        "plt.axvline(np.log(plot_pd['Sales Price test']).mean(), color='k', linestyle='dashed', linewidth=1)\n",
        "plt.show()"
      ]
    },
    {
      "cell_type": "code",
      "execution_count": null,
      "id": "5ef9ad28",
      "metadata": {
        "id": "5ef9ad28"
      },
      "outputs": [],
      "source": [
        "X_train=ames_python_X_train\n",
        "Y_train=ames_python_y_train\n",
        "\n",
        "X_test=ames_python_X_test\n",
        "Y_test=ames_python_y_test"
      ]
    },
    {
      "cell_type": "markdown",
      "id": "f31847a7",
      "metadata": {
        "id": "f31847a7"
      },
      "source": [
        "### 3.2.2 A decision tree <a class=\"anchor\" id=\"three-two-two\"></a>"
      ]
    },
    {
      "cell_type": "markdown",
      "id": "45859239",
      "metadata": {
        "id": "45859239"
      },
      "source": [
        "We can fit a simple tree with the `DecisionTreeRegressor()` function from sklearn. \n",
        "* `criterion` : the function to measure the quality of a split\n",
        "* `max_depth` : the maximum depth of the tree (allows to control the size of the tree)"
      ]
    },
    {
      "cell_type": "code",
      "execution_count": null,
      "id": "263f0401",
      "metadata": {
        "id": "263f0401"
      },
      "outputs": [],
      "source": [
        "class_tree=DecisionTreeRegressor(criterion='squared_error',max_depth = 50, random_state = 0)"
      ]
    },
    {
      "cell_type": "markdown",
      "id": "48058585",
      "metadata": {
        "id": "48058585"
      },
      "source": [
        "Let's train the model."
      ]
    },
    {
      "cell_type": "code",
      "execution_count": null,
      "id": "9e4d8a5d",
      "metadata": {
        "id": "9e4d8a5d",
        "outputId": "d0f8493f-ae32-407a-93c4-0e90b5fedad0"
      },
      "outputs": [
        {
          "name": "stdout",
          "output_type": "stream",
          "text": [
            "0.008975028991699219\n"
          ]
        }
      ],
      "source": [
        "# Starting time\n",
        "start = time.time()\n",
        "# Training\n",
        "reg_tree=class_tree.fit(X_train, np.log(Y_train))\n",
        "# Elapsed time\n",
        "end = time.time()\n",
        "print(end - start)"
      ]
    },
    {
      "cell_type": "code",
      "execution_count": null,
      "id": "908d198e",
      "metadata": {
        "id": "908d198e",
        "outputId": "a4700637-cf64-4daa-b46d-f2fd43257a38"
      },
      "outputs": [
        {
          "name": "stdout",
          "output_type": "stream",
          "text": [
            "MSE on training set: 0.0010983762171052655\n",
            "MSE on testing set: 0.09888260981103926\n"
          ]
        }
      ],
      "source": [
        "# Prediction\n",
        "Y_pred_train = reg_tree.predict(X_train)\n",
        "Y_pred_test = reg_tree.predict(X_test)\n",
        "\n",
        "# Metrics\n",
        "print(\"MSE on training set:\", metrics.mean_squared_error(np.log(Y_train), Y_pred_train))\n",
        "print(\"MSE on testing set:\", metrics.mean_squared_error(np.log(Y_test), Y_pred_test))"
      ]
    },
    {
      "cell_type": "markdown",
      "id": "6ade076d",
      "metadata": {
        "id": "6ade076d"
      },
      "source": [
        "Deep decision trees are really sensitive to the data they are trained and leads to high variance which is overfitting of data."
      ]
    },
    {
      "cell_type": "markdown",
      "id": "6499af7c",
      "metadata": {
        "id": "6499af7c"
      },
      "source": [
        "### 3.2.3 Bagging <a class=\"anchor\" id=\"three-two-three\"></a>"
      ]
    },
    {
      "cell_type": "markdown",
      "id": "a572e41b",
      "metadata": {
        "id": "a572e41b"
      },
      "source": [
        "Bagging is the process of using bootstrapped samples with replacement and applying a model on each of them and then average out the results to avoid high variance.\n",
        "\n",
        "Here, we apply a bagging regressor on a decision tree with the function `BaggingRegressor()`. The bagging regressor fits decision tree each on random subsets of the original dataset and then aggregate their individual predictions to form a final prediction. \n",
        "* `base_estimator` : the base estimator to fit on random subsets of the dataset (here a decision tree)\n",
        "* `n_estimators` : The number of trees in the ensemble."
      ]
    },
    {
      "cell_type": "code",
      "execution_count": null,
      "id": "2b222916",
      "metadata": {
        "id": "2b222916",
        "outputId": "897336bb-dea9-40e8-e18d-1094ebdd6e01"
      },
      "outputs": [
        {
          "name": "stdout",
          "output_type": "stream",
          "text": [
            "0.5788974761962891\n"
          ]
        }
      ],
      "source": [
        "class_bagging = BaggingRegressor(base_estimator=class_tree,n_estimators=100,random_state=0)\n",
        "# Starting time\n",
        "start = time.time()\n",
        "# Training\n",
        "reg_bagging=class_bagging.fit(X_train, np.log(Y_train))\n",
        "# Elapsed time\n",
        "end = time.time()\n",
        "print(end - start)"
      ]
    },
    {
      "cell_type": "code",
      "execution_count": null,
      "id": "cf85e336",
      "metadata": {
        "id": "cf85e336",
        "outputId": "51faafac-b4ab-4f1d-97c9-d857bc4378f8"
      },
      "outputs": [
        {
          "name": "stdout",
          "output_type": "stream",
          "text": [
            "MSE on training set: 0.009750735478872369\n",
            "MSE on testing set: 0.050652602272487746\n"
          ]
        }
      ],
      "source": [
        "# Prediction\n",
        "Y_pred_train = reg_bagging.predict(X_train)\n",
        "Y_pred_test = reg_bagging.predict(X_test)\n",
        "\n",
        "print(\"MSE on training set:\", metrics.mean_squared_error(np.log(Y_train), Y_pred_train))\n",
        "print(\"MSE on testing set:\", metrics.mean_squared_error(np.log(Y_test), Y_pred_test))"
      ]
    },
    {
      "cell_type": "markdown",
      "id": "364d507f",
      "metadata": {
        "id": "364d507f"
      },
      "source": [
        "### 3.2.4 A random forest <a class=\"anchor\" id=\"three-two-four\"></a>"
      ]
    },
    {
      "cell_type": "markdown",
      "id": "7606e595",
      "metadata": {
        "id": "7606e595"
      },
      "source": [
        "In random forests, we consider only a subset of the features at each split. By doing so, decision trees will produce uncorrelated results. So random forests are based on the bagging process with uncorrelated trees (using uncorrelated trees will result in substantial reduction in variance).\n",
        "\n",
        "We can fit a simple random forest with the `DecisionTreeClassifier()` function from sklearn. \n",
        "* `n_estimators` : the number of trees in the forest.\n",
        "* `criterion` : the function to measure the quality of a split\n",
        "* `max_depth` : the maximum depth of the tree (allows to control the size of the tree)\n",
        "* `min_samples_split` : The minimum number of samples required to split an internal node\n",
        "* `min_samples_leaf` : The minimum number of samples required to be at a leaf node. \n",
        "* `max_features` : The number of features to consider when looking for the best split"
      ]
    },
    {
      "cell_type": "code",
      "execution_count": null,
      "id": "2165310e",
      "metadata": {
        "id": "2165310e",
        "outputId": "7812f5de-bbfe-4ae8-f2e4-95a9840ff6dc"
      },
      "outputs": [
        {
          "name": "stdout",
          "output_type": "stream",
          "text": [
            "0.3824489116668701\n"
          ]
        }
      ],
      "source": [
        "class_rf = RandomForestRegressor(n_estimators=100,criterion='squared_error',max_depth = 50, max_features='sqrt',random_state = 0)\n",
        "# Starting time\n",
        "start = time.time()\n",
        "# Training\n",
        "reg_rf=class_rf.fit(X_train, np.log(Y_train))\n",
        "# Elapsed time\n",
        "end = time.time()\n",
        "print(end - start)"
      ]
    },
    {
      "cell_type": "code",
      "execution_count": null,
      "id": "afed4a04",
      "metadata": {
        "id": "afed4a04",
        "outputId": "8abf8d21-1bfb-4dae-9777-7d167f58dfc5"
      },
      "outputs": [
        {
          "name": "stdout",
          "output_type": "stream",
          "text": [
            "MSE on training set: 0.009667340348504517\n",
            "MSE on testing set: 0.0495942020251307\n"
          ]
        }
      ],
      "source": [
        "# Prediction\n",
        "Y_pred_train = reg_rf.predict(X_train)\n",
        "Y_pred_test = reg_rf.predict(X_test)\n",
        "\n",
        "print(\"MSE on training set:\", metrics.mean_squared_error(np.log(Y_train), Y_pred_train))\n",
        "print(\"MSE on testing set:\", metrics.mean_squared_error(np.log(Y_test), Y_pred_test))"
      ]
    },
    {
      "cell_type": "markdown",
      "id": "0556ab63",
      "metadata": {
        "id": "0556ab63"
      },
      "source": [
        "## Chapter 3.3 - Hyperparameter Tuning <a name=\"three-three\"></a>"
      ]
    },
    {
      "cell_type": "markdown",
      "id": "9b632b4f",
      "metadata": {
        "id": "9b632b4f"
      },
      "source": [
        "Parameters which define the model architecture are referred to as hyperparameters. Hyperparameter tuning is the process of searching for the ideal model architecture. Hyperparameters are learned during data training when we optimize a loss function depending of the model results and predictions.\n",
        "\n",
        "Hyperparameter tuning includes differents steps :\n",
        "1) Define a model (here, we use a random forest)\n",
        " \n",
        "2) Define the range of possible values for all hyperparameters\n",
        " \n",
        "3) Define a method for sampling hyperparameter values (random or grid search)\n",
        " \n",
        "4) Define a criteria or a loss funcion to judge the model (here we use the mse loss function)\n",
        "\n",
        "5) Define a cross-validation method \n",
        "\n",
        "In the following section, we want to tune two hyperparameters:\n",
        "* the number of trees in the random forest\n",
        "* the minimum number of samples per leaf in each tree of the random forest\n",
        "\n"
      ]
    },
    {
      "cell_type": "markdown",
      "id": "4979fbe2",
      "metadata": {
        "id": "4979fbe2"
      },
      "source": [
        "### 3.3.1 Range of possible values <a name=\"three-three-one\"></a>"
      ]
    },
    {
      "cell_type": "markdown",
      "id": "a65f2bb8",
      "metadata": {
        "id": "a65f2bb8"
      },
      "source": [
        "#### 3.3.1.a Impact of the number of trees <a name=\"three-three-one-a\"></a>"
      ]
    },
    {
      "cell_type": "markdown",
      "id": "ebd03343",
      "metadata": {
        "id": "ebd03343"
      },
      "source": [
        "Let's use k-fold cross-validation in order to determine a relevant number of trees.\n",
        "\n",
        "We want to test the model with 1, 10, 20 up to 100 trees.\n",
        "\n",
        "__Runtime:__ Be carefull that k-fold cross-validation can take some time according to the complexity of the model, *i.e.* the number of trees in the forest."
      ]
    },
    {
      "cell_type": "code",
      "execution_count": null,
      "id": "e41f5b3b",
      "metadata": {
        "id": "e41f5b3b",
        "outputId": "b2e00765-9253-4355-e6d2-df2d58bf4c60"
      },
      "outputs": [
        {
          "data": {
            "text/plain": [
              "array([  1,  10,  20,  30,  40,  50,  60,  70,  80,  90, 100])"
            ]
          },
          "execution_count": 25,
          "metadata": {},
          "output_type": "execute_result"
        }
      ],
      "source": [
        "num_trees = np.append([1], np.arange(10, 101, 10))\n",
        "num_trees"
      ]
    },
    {
      "cell_type": "markdown",
      "id": "741e159f",
      "metadata": {
        "id": "741e159f"
      },
      "source": [
        "We do k-fold with $k = 5$."
      ]
    },
    {
      "cell_type": "code",
      "execution_count": null,
      "id": "e1b2f606",
      "metadata": {
        "id": "e1b2f606"
      },
      "outputs": [],
      "source": [
        "num_k_fold = 5"
      ]
    },
    {
      "cell_type": "markdown",
      "id": "7f0e0ed9",
      "metadata": {
        "id": "7f0e0ed9"
      },
      "source": [
        "We record the training and testing MSE and Poisson deviance in a data frame."
      ]
    },
    {
      "cell_type": "code",
      "execution_count": null,
      "id": "93d9a801",
      "metadata": {
        "id": "93d9a801",
        "outputId": "3695b9d0-dfee-4a29-d488-9eb26be0c336"
      },
      "outputs": [
        {
          "data": {
            "text/html": [
              "<div>\n",
              "<style scoped>\n",
              "    .dataframe tbody tr th:only-of-type {\n",
              "        vertical-align: middle;\n",
              "    }\n",
              "\n",
              "    .dataframe tbody tr th {\n",
              "        vertical-align: top;\n",
              "    }\n",
              "\n",
              "    .dataframe thead th {\n",
              "        text-align: right;\n",
              "    }\n",
              "</style>\n",
              "<table border=\"1\" class=\"dataframe\">\n",
              "  <thead>\n",
              "    <tr style=\"text-align: right;\">\n",
              "      <th></th>\n",
              "      <th>Number of trees</th>\n",
              "      <th>MSE (testing)</th>\n",
              "      <th>MSE (training)</th>\n",
              "    </tr>\n",
              "  </thead>\n",
              "  <tbody>\n",
              "    <tr>\n",
              "      <th>0</th>\n",
              "      <td>0.0</td>\n",
              "      <td>0.0</td>\n",
              "      <td>0.0</td>\n",
              "    </tr>\n",
              "    <tr>\n",
              "      <th>1</th>\n",
              "      <td>0.0</td>\n",
              "      <td>0.0</td>\n",
              "      <td>0.0</td>\n",
              "    </tr>\n",
              "    <tr>\n",
              "      <th>2</th>\n",
              "      <td>0.0</td>\n",
              "      <td>0.0</td>\n",
              "      <td>0.0</td>\n",
              "    </tr>\n",
              "    <tr>\n",
              "      <th>3</th>\n",
              "      <td>0.0</td>\n",
              "      <td>0.0</td>\n",
              "      <td>0.0</td>\n",
              "    </tr>\n",
              "    <tr>\n",
              "      <th>4</th>\n",
              "      <td>0.0</td>\n",
              "      <td>0.0</td>\n",
              "      <td>0.0</td>\n",
              "    </tr>\n",
              "  </tbody>\n",
              "</table>\n",
              "</div>"
            ],
            "text/plain": [
              "   Number of trees  MSE (testing)  MSE (training)\n",
              "0              0.0            0.0             0.0\n",
              "1              0.0            0.0             0.0\n",
              "2              0.0            0.0             0.0\n",
              "3              0.0            0.0             0.0\n",
              "4              0.0            0.0             0.0"
            ]
          },
          "execution_count": 27,
          "metadata": {},
          "output_type": "execute_result"
        }
      ],
      "source": [
        "scores = pd.DataFrame(columns = ['Number of trees', 'MSE (testing)', 'MSE (training)'],\n",
        "                      data = np.zeros((num_k_fold * len(num_trees), 3)))\n",
        "scores.head()"
      ]
    },
    {
      "cell_type": "markdown",
      "id": "e3cc0b39",
      "metadata": {
        "id": "e3cc0b39"
      },
      "source": [
        "For each number of trees in `num_trees`, we do k-fold cross-validation."
      ]
    },
    {
      "cell_type": "code",
      "execution_count": null,
      "id": "48785f30",
      "metadata": {
        "id": "48785f30",
        "outputId": "503a5845-f69b-4119-d0a9-b5c93b727e80"
      },
      "outputs": [
        {
          "name": "stdout",
          "output_type": "stream",
          "text": [
            "Step 1 completed ( 0.09075665473937988 sec)...\n",
            "Step 2 completed ( 0.24203801155090332 sec)...\n",
            "Step 3 completed ( 0.41002893447875977 sec)...\n",
            "Step 4 completed ( 0.6755990982055664 sec)...\n",
            "Step 5 completed ( 0.8863747119903564 sec)...\n",
            "Step 6 completed ( 1.0424423217773438 sec)...\n",
            "Step 7 completed ( 1.2717292308807373 sec)...\n",
            "Step 8 completed ( 1.4608368873596191 sec)...\n",
            "Step 9 completed ( 1.5653374195098877 sec)...\n",
            "Step 10 completed ( 1.7106475830078125 sec)...\n",
            "Step 11 completed ( 1.8571841716766357 sec)...\n",
            "Total time: 11.217977285385132 sec!\n"
          ]
        }
      ],
      "source": [
        "# Starting time\n",
        "start_global = time.time()\n",
        "\n",
        "# Loop over the number of trees\n",
        "for j in range(len(num_trees)):\n",
        "    i = 0\n",
        "    \n",
        "    # Initiate k-fold object\n",
        "    kf = KFold(n_splits = num_k_fold, shuffle = True)\n",
        "    \n",
        "    # Record starting time\n",
        "    start = time.time()\n",
        "    \n",
        "    # k-fold cross-validation for the selected number of trees\n",
        "    for train, test in kf.split(X_train):\n",
        "        # Select training and testing subsets\n",
        "        X_train_cv, Y_train_cv = X_train.iloc[train], Y_train.iloc[train]\n",
        "        X_test_cv, Y_test_cv= X_train.iloc[test], Y_train.iloc[test]\n",
        "        \n",
        "        # Training\n",
        "        class_rf = RandomForestRegressor(criterion = \"squared_error\", max_features = \"sqrt\",\n",
        "                                   n_estimators = num_trees[j],max_depth = 50, random_state = 0, n_jobs = 1)\n",
        "        reg_rf=class_rf.fit(X_train_cv, np.log(Y_train_cv))\n",
        "        \n",
        "        # Prediction\n",
        "        Y_pred_train = reg_rf.predict(X_train_cv)\n",
        "        Y_pred_test = reg_rf.predict(X_test_cv)\n",
        "\n",
        "        # Metrics\n",
        "        index = j * num_k_fold + i\n",
        "        scores.at[index, 'Number of trees'] = num_trees[j]\n",
        "        scores.at[index, 'MSE (testing)'] = metrics.mean_squared_error(np.log(Y_test_cv) , Y_pred_test)\n",
        "        scores.at[index, 'MSE (training)'] = metrics.mean_squared_error(np.log(Y_train_cv) , Y_pred_train)\n",
        "        i = i + 1\n",
        "    \n",
        "    # Elasped time for the k-fold step\n",
        "    end = time.time()\n",
        "    elapsed = end - start\n",
        "    print('Step', j + 1, 'completed (', elapsed, 'sec)...')\n",
        "\n",
        "# Global elapsed time\n",
        "end_global = time.time()\n",
        "elapsed = end_global - start_global\n",
        "print('Total time:', elapsed, 'sec!')"
      ]
    },
    {
      "cell_type": "code",
      "execution_count": null,
      "id": "6e106250",
      "metadata": {
        "id": "6e106250",
        "outputId": "5cf381e8-a74f-420b-8435-5f6714196945"
      },
      "outputs": [
        {
          "data": {
            "text/html": [
              "<div>\n",
              "<style scoped>\n",
              "    .dataframe tbody tr th:only-of-type {\n",
              "        vertical-align: middle;\n",
              "    }\n",
              "\n",
              "    .dataframe tbody tr th {\n",
              "        vertical-align: top;\n",
              "    }\n",
              "\n",
              "    .dataframe thead th {\n",
              "        text-align: right;\n",
              "    }\n",
              "</style>\n",
              "<table border=\"1\" class=\"dataframe\">\n",
              "  <thead>\n",
              "    <tr style=\"text-align: right;\">\n",
              "      <th></th>\n",
              "      <th>MSE (testing)</th>\n",
              "      <th>MSE (training)</th>\n",
              "    </tr>\n",
              "    <tr>\n",
              "      <th>Number of trees</th>\n",
              "      <th></th>\n",
              "      <th></th>\n",
              "    </tr>\n",
              "  </thead>\n",
              "  <tbody>\n",
              "    <tr>\n",
              "      <th>1.0</th>\n",
              "      <td>0.114739</td>\n",
              "      <td>0.044352</td>\n",
              "    </tr>\n",
              "    <tr>\n",
              "      <th>10.0</th>\n",
              "      <td>0.071289</td>\n",
              "      <td>0.012888</td>\n",
              "    </tr>\n",
              "    <tr>\n",
              "      <th>20.0</th>\n",
              "      <td>0.067063</td>\n",
              "      <td>0.011031</td>\n",
              "    </tr>\n",
              "    <tr>\n",
              "      <th>30.0</th>\n",
              "      <td>0.067009</td>\n",
              "      <td>0.010256</td>\n",
              "    </tr>\n",
              "    <tr>\n",
              "      <th>40.0</th>\n",
              "      <td>0.065463</td>\n",
              "      <td>0.010102</td>\n",
              "    </tr>\n",
              "    <tr>\n",
              "      <th>50.0</th>\n",
              "      <td>0.063688</td>\n",
              "      <td>0.009934</td>\n",
              "    </tr>\n",
              "    <tr>\n",
              "      <th>60.0</th>\n",
              "      <td>0.064096</td>\n",
              "      <td>0.009820</td>\n",
              "    </tr>\n",
              "    <tr>\n",
              "      <th>70.0</th>\n",
              "      <td>0.065300</td>\n",
              "      <td>0.009907</td>\n",
              "    </tr>\n",
              "    <tr>\n",
              "      <th>80.0</th>\n",
              "      <td>0.064184</td>\n",
              "      <td>0.009627</td>\n",
              "    </tr>\n",
              "    <tr>\n",
              "      <th>90.0</th>\n",
              "      <td>0.064098</td>\n",
              "      <td>0.009689</td>\n",
              "    </tr>\n",
              "    <tr>\n",
              "      <th>100.0</th>\n",
              "      <td>0.066272</td>\n",
              "      <td>0.009620</td>\n",
              "    </tr>\n",
              "  </tbody>\n",
              "</table>\n",
              "</div>"
            ],
            "text/plain": [
              "                 MSE (testing)  MSE (training)\n",
              "Number of trees                               \n",
              "1.0                   0.114739        0.044352\n",
              "10.0                  0.071289        0.012888\n",
              "20.0                  0.067063        0.011031\n",
              "30.0                  0.067009        0.010256\n",
              "40.0                  0.065463        0.010102\n",
              "50.0                  0.063688        0.009934\n",
              "60.0                  0.064096        0.009820\n",
              "70.0                  0.065300        0.009907\n",
              "80.0                  0.064184        0.009627\n",
              "90.0                  0.064098        0.009689\n",
              "100.0                 0.066272        0.009620"
            ]
          },
          "execution_count": 29,
          "metadata": {},
          "output_type": "execute_result"
        }
      ],
      "source": [
        "gp = scores.groupby('Number of trees')\n",
        "means = gp.mean()\n",
        "means"
      ]
    },
    {
      "cell_type": "code",
      "execution_count": null,
      "id": "715cd34c",
      "metadata": {
        "id": "715cd34c",
        "outputId": "5cc60e03-27d8-4996-ccad-ad8fcf95102e"
      },
      "outputs": [
        {
          "data": {
            "image/png": "[encoded data removed]",
            "text/plain": [
              "<Figure size 640x480 with 1 Axes>"
            ]
          },
          "metadata": {},
          "output_type": "display_data"
        }
      ],
      "source": [
        "measures = ['MSE (testing)','MSE (training)']\n",
        "plt.figure()\n",
        "plt.plot(means[measures])\n",
        "plt.legend(measures)\n",
        "plt.show()"
      ]
    },
    {
      "cell_type": "markdown",
      "id": "77e6022d",
      "metadata": {
        "id": "77e6022d"
      },
      "source": [
        "#### 3.3.1.b Impact of the minimum number of samples per leaf <a name=\"three-three-one-b\"></a>"
      ]
    },
    {
      "cell_type": "markdown",
      "id": "c6c57a1e",
      "metadata": {
        "id": "c6c57a1e"
      },
      "source": [
        "As an exercise, let's use k-fold cross-validation in order to determine a relevant minimum number of samples per leaf.\n",
        "\n",
        "* Test for 1, 50, 100, 150, up to 500 as the minimum number of samples per leaf.\n",
        "* Consider a k-fold cross-validation with $k = 5$.\n",
        "\n",
        "Be carefull that k-fold cross-validation can take some time according to the complexity of the model, *i.e.* the minimum number of samples per leaf in each tree."
      ]
    },
    {
      "cell_type": "code",
      "execution_count": null,
      "id": "92f925b8",
      "metadata": {
        "id": "92f925b8",
        "outputId": "fd11c519-10e6-41dc-bc89-22cddd556c26"
      },
      "outputs": [
        {
          "data": {
            "text/plain": [
              "array([  1,  50, 100, 150, 200, 250, 300, 350, 400, 450, 500])"
            ]
          },
          "execution_count": 31,
          "metadata": {},
          "output_type": "execute_result"
        }
      ],
      "source": [
        "min_sample_per_leaf = np.append([1],np.arange(start = 50, stop = 501, step = 50))\n",
        "min_sample_per_leaf"
      ]
    },
    {
      "cell_type": "code",
      "execution_count": null,
      "id": "f224495a",
      "metadata": {
        "id": "f224495a"
      },
      "outputs": [],
      "source": [
        "num_k_fold = 5"
      ]
    },
    {
      "cell_type": "code",
      "execution_count": null,
      "id": "7c7dc325",
      "metadata": {
        "id": "7c7dc325",
        "outputId": "4eedfd52-2896-4b5d-f8fd-19e1738d591f"
      },
      "outputs": [
        {
          "data": {
            "text/html": [
              "<div>\n",
              "<style scoped>\n",
              "    .dataframe tbody tr th:only-of-type {\n",
              "        vertical-align: middle;\n",
              "    }\n",
              "\n",
              "    .dataframe tbody tr th {\n",
              "        vertical-align: top;\n",
              "    }\n",
              "\n",
              "    .dataframe thead th {\n",
              "        text-align: right;\n",
              "    }\n",
              "</style>\n",
              "<table border=\"1\" class=\"dataframe\">\n",
              "  <thead>\n",
              "    <tr style=\"text-align: right;\">\n",
              "      <th></th>\n",
              "      <th>Min samples per leaf</th>\n",
              "      <th>MSE (testing)</th>\n",
              "      <th>MSE (training)</th>\n",
              "    </tr>\n",
              "  </thead>\n",
              "  <tbody>\n",
              "    <tr>\n",
              "      <th>0</th>\n",
              "      <td>0.0</td>\n",
              "      <td>0.0</td>\n",
              "      <td>0.0</td>\n",
              "    </tr>\n",
              "    <tr>\n",
              "      <th>1</th>\n",
              "      <td>0.0</td>\n",
              "      <td>0.0</td>\n",
              "      <td>0.0</td>\n",
              "    </tr>\n",
              "    <tr>\n",
              "      <th>2</th>\n",
              "      <td>0.0</td>\n",
              "      <td>0.0</td>\n",
              "      <td>0.0</td>\n",
              "    </tr>\n",
              "    <tr>\n",
              "      <th>3</th>\n",
              "      <td>0.0</td>\n",
              "      <td>0.0</td>\n",
              "      <td>0.0</td>\n",
              "    </tr>\n",
              "    <tr>\n",
              "      <th>4</th>\n",
              "      <td>0.0</td>\n",
              "      <td>0.0</td>\n",
              "      <td>0.0</td>\n",
              "    </tr>\n",
              "  </tbody>\n",
              "</table>\n",
              "</div>"
            ],
            "text/plain": [
              "   Min samples per leaf  MSE (testing)  MSE (training)\n",
              "0                   0.0            0.0             0.0\n",
              "1                   0.0            0.0             0.0\n",
              "2                   0.0            0.0             0.0\n",
              "3                   0.0            0.0             0.0\n",
              "4                   0.0            0.0             0.0"
            ]
          },
          "execution_count": 33,
          "metadata": {},
          "output_type": "execute_result"
        }
      ],
      "source": [
        "scores = pd.DataFrame(columns = ['Min samples per leaf', 'MSE (testing)', 'MSE (training)',],\n",
        "                      data = np.zeros((num_k_fold * len(min_sample_per_leaf), 3)))\n",
        "scores.head()"
      ]
    },
    {
      "cell_type": "markdown",
      "id": "e6760584",
      "metadata": {
        "id": "e6760584"
      },
      "source": [
        "For each minimum number of samples per leaf in `min_sample_per_leaf`, do the k-fold cross-validation."
      ]
    },
    {
      "cell_type": "code",
      "execution_count": null,
      "id": "aff2ac8f",
      "metadata": {
        "id": "aff2ac8f",
        "outputId": "00255e3c-ebe9-4b19-e2d4-d30e5a6d0342"
      },
      "outputs": [
        {
          "name": "stdout",
          "output_type": "stream",
          "text": [
            "Step 1 completed ( 0.07859086990356445 sec)...\n",
            "Step 2 completed ( 0.07081961631774902 sec)...\n",
            "Step 3 completed ( 0.05487251281738281 sec)...\n",
            "Step 4 completed ( 0.0528569221496582 sec)...\n",
            "Step 5 completed ( 0.06382989883422852 sec)...\n",
            "Step 6 completed ( 0.053858280181884766 sec)...\n",
            "Step 7 completed ( 0.055013179779052734 sec)...\n",
            "Step 8 completed ( 0.061810970306396484 sec)...\n",
            "Step 9 completed ( 0.052858829498291016 sec)...\n",
            "Step 10 completed ( 0.0499272346496582 sec)...\n",
            "Step 11 completed ( 0.05881357192993164 sec)...\n",
            "Total time: 0.6562225818634033 sec!\n"
          ]
        }
      ],
      "source": [
        "# Starting time\n",
        "start_global = time.time()\n",
        "\n",
        "# Loop over the number of minimum number of samples per leaf\n",
        "for j in range(len(min_sample_per_leaf)):\n",
        "    i = 0\n",
        "    \n",
        "    # Initiate k-fold object\n",
        "    kf = KFold(n_splits = num_k_fold, shuffle = True)\n",
        "    \n",
        "    # Record starting time\n",
        "    start = time.time()\n",
        "    \n",
        "    # k-fold cross-validation for the selected minimum number of samples per leaf\n",
        "    for train, test in kf.split(X_train):\n",
        "        # Select training and testing subsets\n",
        "        X_train_cv, Y_train_cv = X_train.iloc[train], Y_train.iloc[train]\n",
        "        X_test_cv, Y_test_cv = X_train.iloc[test], Y_train.iloc[test]\n",
        "        \n",
        "        # Training\n",
        "        class_rf = RandomForestRegressor(criterion = \"squared_error\", max_features = \"sqrt\",\n",
        "                                   n_estimators = 2, min_samples_leaf = min_sample_per_leaf[j],\n",
        "                                   random_state = 0, n_jobs = 1)\n",
        "        reg_rf=class_rf.fit(X_train_cv, np.log(Y_train_cv))\n",
        "        \n",
        "        # Prediction\n",
        "        Y_pred_train = reg_rf.predict(X_train_cv)\n",
        "        Y_pred_test = reg_rf.predict(X_test_cv)\n",
        "\n",
        "        # Metrics\n",
        "        index = j * num_k_fold + i\n",
        "        scores.at[index, 'Min samples per leaf'] = min_sample_per_leaf[j]\n",
        "        scores.at[index, 'MSE (testing)'] = metrics.mean_squared_error(np.log(Y_test_cv), Y_pred_test)\n",
        "        scores.at[index, 'MSE (training)'] = metrics.mean_squared_error(np.log(Y_train_cv), Y_pred_train)\n",
        "        i = i + 1\n",
        "    \n",
        "    # Elasped time for the k-fold step\n",
        "    end = time.time()\n",
        "    elapsed = end - start\n",
        "    print('Step', j + 1, 'completed (', elapsed, 'sec)...')\n",
        "\n",
        "# Global elapsed time\n",
        "end_global = time.time()\n",
        "elapsed = end_global - start_global\n",
        "print('Total time:', elapsed, 'sec!')"
      ]
    },
    {
      "cell_type": "markdown",
      "id": "cc93124a",
      "metadata": {
        "id": "cc93124a"
      },
      "source": [
        "Group the results according to the minimum number of samples per leaf and compute the average errors."
      ]
    },
    {
      "cell_type": "code",
      "execution_count": null,
      "id": "4c9bbb50",
      "metadata": {
        "id": "4c9bbb50",
        "outputId": "4a386ed7-4a34-4bcd-cc99-02233a54247c"
      },
      "outputs": [
        {
          "data": {
            "text/html": [
              "<div>\n",
              "<style scoped>\n",
              "    .dataframe tbody tr th:only-of-type {\n",
              "        vertical-align: middle;\n",
              "    }\n",
              "\n",
              "    .dataframe tbody tr th {\n",
              "        vertical-align: top;\n",
              "    }\n",
              "\n",
              "    .dataframe thead th {\n",
              "        text-align: right;\n",
              "    }\n",
              "</style>\n",
              "<table border=\"1\" class=\"dataframe\">\n",
              "  <thead>\n",
              "    <tr style=\"text-align: right;\">\n",
              "      <th></th>\n",
              "      <th>MSE (testing)</th>\n",
              "      <th>MSE (training)</th>\n",
              "    </tr>\n",
              "    <tr>\n",
              "      <th>Min samples per leaf</th>\n",
              "      <th></th>\n",
              "      <th></th>\n",
              "    </tr>\n",
              "  </thead>\n",
              "  <tbody>\n",
              "    <tr>\n",
              "      <th>1.0</th>\n",
              "      <td>0.089770</td>\n",
              "      <td>0.025149</td>\n",
              "    </tr>\n",
              "    <tr>\n",
              "      <th>50.0</th>\n",
              "      <td>0.078827</td>\n",
              "      <td>0.075561</td>\n",
              "    </tr>\n",
              "    <tr>\n",
              "      <th>100.0</th>\n",
              "      <td>0.083181</td>\n",
              "      <td>0.079795</td>\n",
              "    </tr>\n",
              "    <tr>\n",
              "      <th>150.0</th>\n",
              "      <td>0.087845</td>\n",
              "      <td>0.085546</td>\n",
              "    </tr>\n",
              "    <tr>\n",
              "      <th>200.0</th>\n",
              "      <td>0.091274</td>\n",
              "      <td>0.090724</td>\n",
              "    </tr>\n",
              "    <tr>\n",
              "      <th>250.0</th>\n",
              "      <td>0.100221</td>\n",
              "      <td>0.098814</td>\n",
              "    </tr>\n",
              "    <tr>\n",
              "      <th>300.0</th>\n",
              "      <td>0.102429</td>\n",
              "      <td>0.102004</td>\n",
              "    </tr>\n",
              "    <tr>\n",
              "      <th>350.0</th>\n",
              "      <td>0.103844</td>\n",
              "      <td>0.102973</td>\n",
              "    </tr>\n",
              "    <tr>\n",
              "      <th>400.0</th>\n",
              "      <td>0.113569</td>\n",
              "      <td>0.114066</td>\n",
              "    </tr>\n",
              "    <tr>\n",
              "      <th>450.0</th>\n",
              "      <td>0.149937</td>\n",
              "      <td>0.148920</td>\n",
              "    </tr>\n",
              "    <tr>\n",
              "      <th>500.0</th>\n",
              "      <td>0.150444</td>\n",
              "      <td>0.149993</td>\n",
              "    </tr>\n",
              "  </tbody>\n",
              "</table>\n",
              "</div>"
            ],
            "text/plain": [
              "                      MSE (testing)  MSE (training)\n",
              "Min samples per leaf                               \n",
              "1.0                        0.089770        0.025149\n",
              "50.0                       0.078827        0.075561\n",
              "100.0                      0.083181        0.079795\n",
              "150.0                      0.087845        0.085546\n",
              "200.0                      0.091274        0.090724\n",
              "250.0                      0.100221        0.098814\n",
              "300.0                      0.102429        0.102004\n",
              "350.0                      0.103844        0.102973\n",
              "400.0                      0.113569        0.114066\n",
              "450.0                      0.149937        0.148920\n",
              "500.0                      0.150444        0.149993"
            ]
          },
          "execution_count": 55,
          "metadata": {},
          "output_type": "execute_result"
        }
      ],
      "source": [
        "gp = scores.groupby('Min samples per leaf')\n",
        "means = gp.mean()\n",
        "means"
      ]
    },
    {
      "cell_type": "markdown",
      "id": "fe2becd9",
      "metadata": {
        "id": "fe2becd9"
      },
      "source": [
        "Plot the MSE for the testing set according to the minimum number of samples per leaf."
      ]
    },
    {
      "cell_type": "code",
      "execution_count": null,
      "id": "34661c60",
      "metadata": {
        "id": "34661c60",
        "outputId": "d3767440-0722-4122-a5ee-f3d73c497127"
      },
      "outputs": [
        {
          "data": {
            "image/png": "[encoded data removed]",
            "text/plain": [
              "<Figure size 640x480 with 1 Axes>"
            ]
          },
          "metadata": {},
          "output_type": "display_data"
        }
      ],
      "source": [
        "measures = ['MSE (testing)','MSE (training)']\n",
        "plt.figure()\n",
        "plt.plot(means[measures])\n",
        "plt.legend(measures)\n",
        "plt.show()"
      ]
    },
    {
      "cell_type": "markdown",
      "id": "121387e4",
      "metadata": {
        "id": "121387e4"
      },
      "source": [
        "### 3.3.2 Hypertuning of the number of trees and the minimum sample leaf <a name=\"three-three-two\"></a>"
      ]
    },
    {
      "cell_type": "markdown",
      "id": "48a77530",
      "metadata": {
        "id": "48a77530"
      },
      "source": [
        "#### 3.3.2.a Random search in the 2D parameters space <a name=\"three-three-two-a\"></a>"
      ]
    },
    {
      "cell_type": "code",
      "execution_count": null,
      "id": "16f2124d",
      "metadata": {
        "id": "16f2124d",
        "outputId": "b88e09a2-96d2-4e49-81ef-398447bf4755"
      },
      "outputs": [
        {
          "data": {
            "text/plain": [
              "{'n_estimators': array([  1,  10,  20,  30,  40,  50,  60,  70,  80,  90, 100]),\n",
              " 'min_samples_leaf': array([  1,  50, 100, 150, 200, 250, 300, 350, 400, 450, 500])}"
            ]
          },
          "execution_count": 70,
          "metadata": {},
          "output_type": "execute_result"
        }
      ],
      "source": [
        "num_trees = np.append([1], np.arange(10, 101, 10))\n",
        "min_sample_per_leaf = np.append([1],np.arange(start = 50, stop = 501, step = 50))\n",
        "\n",
        "random_grid = {'n_estimators': num_trees,\n",
        "               'min_samples_leaf': min_sample_per_leaf}\n",
        "random_grid"
      ]
    },
    {
      "cell_type": "markdown",
      "id": "8f62fc80",
      "metadata": {
        "id": "8f62fc80"
      },
      "source": [
        "`RandomizedSearchCV` implements a randomized search on two hyper parameters (n_estimators,min_samples_leaf):"
      ]
    },
    {
      "cell_type": "code",
      "execution_count": null,
      "id": "ab3f14c7",
      "metadata": {
        "id": "ab3f14c7",
        "outputId": "783215b8-4373-45d1-97d1-cc8f4f160412"
      },
      "outputs": [
        {
          "name": "stdout",
          "output_type": "stream",
          "text": [
            "Fitting 5 folds for each of 20 candidates, totalling 100 fits\n"
          ]
        }
      ],
      "source": [
        "class_rf = RandomForestRegressor(random_state=0)\n",
        "class_rf_random = RandomizedSearchCV(estimator = class_rf, param_distributions = random_grid, n_iter = 20, cv = 5, verbose=2, random_state=0, n_jobs = -1,scoring='neg_mean_squared_error')\n",
        "reg_rf_random=class_rf_random.fit(X_train, np.log(Y_train))"
      ]
    },
    {
      "cell_type": "code",
      "execution_count": null,
      "id": "dfe32ab3",
      "metadata": {
        "id": "dfe32ab3",
        "outputId": "09aaf521-3722-4a2b-9f28-0ce7065552f6"
      },
      "outputs": [
        {
          "data": {
            "text/plain": [
              "{'n_estimators': 80, 'min_samples_leaf': 1}"
            ]
          },
          "execution_count": 101,
          "metadata": {},
          "output_type": "execute_result"
        }
      ],
      "source": [
        "reg_rf_random.best_params_"
      ]
    },
    {
      "cell_type": "code",
      "execution_count": null,
      "id": "035aa643",
      "metadata": {
        "id": "035aa643"
      },
      "outputs": [],
      "source": [
        "best_index = np.nonzero(reg_rf_random.cv_results_[\"rank_test_score\"] == 1)[0][0]"
      ]
    },
    {
      "cell_type": "code",
      "execution_count": null,
      "id": "00fa4da2",
      "metadata": {
        "id": "00fa4da2",
        "outputId": "07f220f8-a3ec-48fa-bfb7-c5031e5d0ad8"
      },
      "outputs": [
        {
          "data": {
            "image/png": "[encoded data removed]",
            "text/plain": [
              "<Figure size 1500x1000 with 1 Axes>"
            ]
          },
          "metadata": {},
          "output_type": "display_data"
        }
      ],
      "source": [
        "X = reg_rf_random.cv_results_[\"param_n_estimators\"].data.astype(int)\n",
        "Y = reg_rf_random.cv_results_[\"param_min_samples_leaf\"].data.astype(int)\n",
        "Z=-reg_rf_random.cv_results_[\"mean_test_score\"].astype(float)\n",
        "\n",
        "fig = plt.figure(figsize=[15,10])\n",
        "ax = fig.add_subplot(111, projection='3d')\n",
        "\n",
        "ax.scatter(X, Y, Z,marker='o',c=Z,cmap = cm.coolwarm)\n",
        "ax.text(X[best_index], Y[best_index], Z[best_index], \"Best\", color='green',size='large')\n",
        "\n",
        "plt.title('Mean test scores')\n",
        "ax.set_xlabel('num_tree')\n",
        "ax.set_ylabel('min_sample_leaf')\n",
        "ax.set_zlabel('mean_test_score')\n",
        "\n",
        "plt.show()"
      ]
    },
    {
      "cell_type": "markdown",
      "id": "13c28da9",
      "metadata": {
        "id": "13c28da9"
      },
      "source": [
        "The mean test score for the tuned hyperparameters :"
      ]
    },
    {
      "cell_type": "code",
      "execution_count": null,
      "id": "700b89bf",
      "metadata": {
        "id": "700b89bf",
        "outputId": "a2fcd148-b197-4abe-ee15-46c0fbb7c22c"
      },
      "outputs": [
        {
          "data": {
            "text/plain": [
              "0.06607747771930346"
            ]
          },
          "execution_count": 104,
          "metadata": {},
          "output_type": "execute_result"
        }
      ],
      "source": [
        "Z[best_index]"
      ]
    },
    {
      "cell_type": "markdown",
      "id": "c3db42bb",
      "metadata": {
        "id": "c3db42bb"
      },
      "source": [
        "#### 3.3.2.b Grid search around the best parameters found during the random search <a name=\"three-three-two-b\"></a>"
      ]
    },
    {
      "cell_type": "code",
      "execution_count": null,
      "id": "05558c11",
      "metadata": {
        "id": "05558c11",
        "outputId": "85abe922-bbd6-4d62-cf81-6e098a133437"
      },
      "outputs": [
        {
          "data": {
            "text/plain": [
              "{'n_estimators': array([ 60,  62,  64,  66,  68,  70,  72,  74,  76,  78,  80,  82,  84,\n",
              "         86,  88,  90,  92,  94,  96,  98, 100]),\n",
              " 'min_samples_leaf': array([ 1,  5, 10, 15, 20, 25, 30, 35, 40, 45, 50])}"
            ]
          },
          "execution_count": 212,
          "metadata": {},
          "output_type": "execute_result"
        }
      ],
      "source": [
        "param_grid = {'n_estimators': np.arange(start = 60, stop = 101, step = 2),\n",
        "               'min_samples_leaf': np.append([1],np.arange(start = 5, stop = 51, step = 5))}\n",
        "param_grid"
      ]
    },
    {
      "cell_type": "code",
      "execution_count": null,
      "id": "e872ea29",
      "metadata": {
        "id": "e872ea29",
        "outputId": "5dd1a44e-084f-4481-a7d8-1368f9f7cb74"
      },
      "outputs": [
        {
          "name": "stdout",
          "output_type": "stream",
          "text": [
            "Fitting 5 folds for each of 231 candidates, totalling 1155 fits\n"
          ]
        },
        {
          "data": {
            "text/plain": [
              "GridSearchCV(cv=5, estimator=RandomForestRegressor(random_state=0), n_jobs=-1,\n",
              "             param_grid={'min_samples_leaf': array([ 1,  5, 10, 15, 20, 25, 30, 35, 40, 45, 50]),\n",
              "                         'n_estimators': array([ 60,  62,  64,  66,  68,  70,  72,  74,  76,  78,  80,  82,  84,\n",
              "        86,  88,  90,  92,  94,  96,  98, 100])},\n",
              "             scoring='neg_mean_squared_error', verbose=2)"
            ]
          },
          "execution_count": 213,
          "metadata": {},
          "output_type": "execute_result"
        }
      ],
      "source": [
        "class_rf = RandomForestRegressor(random_state=0)\n",
        "reg_rf_grid = GridSearchCV(estimator = class_rf, param_grid = param_grid,\n",
        "                          cv = 5, n_jobs = -1, verbose = 2,scoring='neg_mean_squared_error')\n",
        "reg_rf_grid.fit(X_train, np.log(Y_train))"
      ]
    },
    {
      "cell_type": "code",
      "execution_count": null,
      "id": "8894bcbb",
      "metadata": {
        "id": "8894bcbb",
        "outputId": "d743c7c6-9cfc-473f-9406-52615ee06bf3"
      },
      "outputs": [
        {
          "data": {
            "text/plain": [
              "{'min_samples_leaf': 5, 'n_estimators': 62}"
            ]
          },
          "execution_count": 214,
          "metadata": {},
          "output_type": "execute_result"
        }
      ],
      "source": [
        "reg_rf_grid.best_params_"
      ]
    },
    {
      "cell_type": "code",
      "execution_count": null,
      "id": "fe56f28d",
      "metadata": {
        "id": "fe56f28d",
        "outputId": "e2e0d8bd-d8fe-4b19-8893-92999b7ffe37"
      },
      "outputs": [
        {
          "data": {
            "text/plain": [
              "-0.061027962350032515"
            ]
          },
          "execution_count": 215,
          "metadata": {},
          "output_type": "execute_result"
        }
      ],
      "source": [
        "reg_rf_grid.best_score_"
      ]
    },
    {
      "cell_type": "code",
      "execution_count": null,
      "id": "db3be245",
      "metadata": {
        "id": "db3be245"
      },
      "outputs": [],
      "source": [
        "best_index = np.nonzero(reg_rf_grid.cv_results_[\"rank_test_score\"] == 1)[0][0]"
      ]
    },
    {
      "cell_type": "code",
      "execution_count": null,
      "id": "78ce531d",
      "metadata": {
        "scrolled": false,
        "id": "78ce531d",
        "outputId": "0b404b04-9e77-4b25-9e9b-41ce3d307638"
      },
      "outputs": [
        {
          "data": {
            "image/png": "[encoded data removed]",
            "text/plain": [
              "<Figure size 1500x1000 with 1 Axes>"
            ]
          },
          "metadata": {},
          "output_type": "display_data"
        }
      ],
      "source": [
        "X = reg_rf_grid.cv_results_[\"param_n_estimators\"].data.astype(int)\n",
        "Y = reg_rf_grid.cv_results_[\"param_min_samples_leaf\"].data.astype(int)\n",
        "Z=-reg_rf_grid.cv_results_[\"mean_test_score\"].astype(float)\n",
        "\n",
        "fig = plt.figure(figsize=[15,10])\n",
        "ax = fig.add_subplot(111, projection='3d')\n",
        "\n",
        "ax.scatter(X, Y, Z,marker='o',c=Z,cmap = cm.coolwarm)\n",
        "ax.text(X[best_index], Y[best_index], Z[best_index], \"Best\", color='green',size='large')\n",
        "\n",
        "plt.title('Mean test scores')\n",
        "ax.set_xlabel('num_tree')\n",
        "ax.set_ylabel('min_sample_leaf')\n",
        "ax.set_zlabel('mean_test_score')\n",
        "\n",
        "plt.show()"
      ]
    },
    {
      "cell_type": "markdown",
      "id": "8da8e67b",
      "metadata": {
        "id": "8da8e67b"
      },
      "source": [
        "The mean test score for the tuned hyperparameters :"
      ]
    },
    {
      "cell_type": "code",
      "execution_count": null,
      "id": "b8df2626",
      "metadata": {
        "id": "b8df2626",
        "outputId": "0ff7cd0b-2ba6-43b8-d009-1281c348516b"
      },
      "outputs": [
        {
          "data": {
            "text/plain": [
              "0.061027962350032515"
            ]
          },
          "execution_count": 218,
          "metadata": {},
          "output_type": "execute_result"
        }
      ],
      "source": [
        "Z[best_index]"
      ]
    },
    {
      "cell_type": "markdown",
      "id": "fde23e0d",
      "metadata": {
        "id": "fde23e0d"
      },
      "source": [
        "## Chapter 3.4 - Random forest interpretation  <a name=\"three-four\"></a>"
      ]
    },
    {
      "cell_type": "markdown",
      "id": "6ec68836",
      "metadata": {
        "id": "6ec68836"
      },
      "source": [
        "We implement a random forest with the tuned hyperparameters."
      ]
    },
    {
      "cell_type": "code",
      "execution_count": null,
      "id": "7cabbc79",
      "metadata": {
        "id": "7cabbc79",
        "outputId": "af8213ed-c6d0-4f5a-b33a-10c204550961"
      },
      "outputs": [
        {
          "name": "stdout",
          "output_type": "stream",
          "text": [
            "0.1291978359222412\n"
          ]
        }
      ],
      "source": [
        "class_rf = RandomForestRegressor(n_estimators=reg_rf_grid.best_params_['n_estimators'],\n",
        "                                 min_samples_leaf=reg_rf_grid.best_params_['min_samples_leaf'],\n",
        "                                 criterion='squared_error',max_depth = 50, max_features='sqrt',random_state = 0)\n",
        "\n",
        "# Starting time\n",
        "start = time.time()\n",
        "# Training\n",
        "reg_rf=class_rf.fit(X_train, np.log(Y_train))\n",
        "# Elapsed time\n",
        "end = time.time()\n",
        "print(end - start)"
      ]
    },
    {
      "cell_type": "code",
      "execution_count": null,
      "id": "6ee4c4c3",
      "metadata": {
        "id": "6ee4c4c3",
        "outputId": "01849e14-bf63-4452-fe1e-c17d48f808fc"
      },
      "outputs": [
        {
          "name": "stdout",
          "output_type": "stream",
          "text": [
            "MSE on training set: 0.04716960654188793\n",
            "MSE on testing set: 0.048550343241973354\n"
          ]
        }
      ],
      "source": [
        "# Prediction\n",
        "Y_pred_train = reg_rf.predict(X_train)\n",
        "Y_pred_test = reg_rf.predict(X_test)\n",
        "\n",
        "print(\"MSE on training set:\", metrics.mean_squared_error(np.log(Y_train), Y_pred_train))\n",
        "print(\"MSE on testing set:\", metrics.mean_squared_error(np.log(Y_test), Y_pred_test))"
      ]
    },
    {
      "cell_type": "markdown",
      "id": "dbcc7ba8",
      "metadata": {
        "id": "dbcc7ba8"
      },
      "source": [
        "### 3.4.1 Variable importance measures <a class=\"anchor\" id=\"three-four-one\"></a>"
      ]
    },
    {
      "cell_type": "markdown",
      "id": "15cd493b",
      "metadata": {
        "id": "15cd493b"
      },
      "source": [
        "Variable importance refers to how much the random forest relies on a variable to make predictions. Variable importance mesuares evaluate how important a variable is for random forest.\n",
        "\n",
        "Let's take a look at the variable importance measures."
      ]
    },
    {
      "cell_type": "code",
      "execution_count": null,
      "id": "409b2e5c",
      "metadata": {
        "id": "409b2e5c",
        "outputId": "17ed5584-f89f-44b4-f57c-c25e0e0bf587"
      },
      "outputs": [
        {
          "data": {
            "image/png": "[encoded data removed]",
            "text/plain": [
              "<Figure size 640x480 with 1 Axes>"
            ]
          },
          "metadata": {},
          "output_type": "display_data"
        }
      ],
      "source": [
        "# Features' names\n",
        "features = list(X_train)\n",
        "\n",
        "# Importance measures\n",
        "importances = reg_rf.feature_importances_\n",
        "\n",
        "# We sort the features by highest importance\n",
        "indices = np.flip(np.argsort(importances))\n",
        "\n",
        "\n",
        "#Plot\n",
        "plt.title('Variables importances')\n",
        "plt.barh(range(len(indices)), importances[indices] / importances[indices[0]], color = 'b', align = 'center')\n",
        "plt.yticks(range(len(indices)), [features[i] for i in indices])\n",
        "plt.xlabel('Relative importance')\n",
        "plt.show()"
      ]
    },
    {
      "cell_type": "markdown",
      "id": "7b93578e",
      "metadata": {
        "id": "7b93578e"
      },
      "source": [
        "### 3.4.2 Partial Dependence plots (PDP) <a class=\"anchor\" id=\"three-four-two\"></a>"
      ]
    },
    {
      "cell_type": "markdown",
      "id": "93b7223a",
      "metadata": {
        "id": "93b7223a"
      },
      "source": [
        "A PDP shows the marginal effect one or two features have on the predicted outcome of a machine learning model. A PDP can show whether the relationship between the target and a feature is linear, monotonic or more complex. \n",
        "\n",
        "A flat PDP indicates that the feature is not important."
      ]
    },
    {
      "cell_type": "code",
      "execution_count": null,
      "id": "52d5dad1",
      "metadata": {
        "id": "52d5dad1",
        "outputId": "8c263e1e-2748-4400-a91e-ef3f9b685117"
      },
      "outputs": [
        {
          "data": {
            "text/plain": [
              "<Figure size 8000x7000 with 0 Axes>"
            ]
          },
          "metadata": {},
          "output_type": "display_data"
        },
        {
          "data": {
            "image/png": "[encoded data removed]",
            "text/plain": [
              "<Figure size 640x480 with 4 Axes>"
            ]
          },
          "metadata": {},
          "output_type": "display_data"
        }
      ],
      "source": [
        "from sklearn.datasets import make_hastie_10_2\n",
        "from sklearn.ensemble import GradientBoostingClassifier\n",
        "from sklearn.inspection import PartialDependenceDisplay\n",
        "\n",
        "#labels=np.flip(features)\n",
        "labels=['Year_Built', 'Lot_Area',('Year_Built', 'Lot_Area')]\n",
        "\n",
        "plt.figure(figsize=(80,70))\n",
        "PartialDependenceDisplay.from_estimator(reg_rf, X_train, labels)\n",
        "plt.show()"
      ]
    },
    {
      "cell_type": "code",
      "execution_count": null,
      "id": "63e70474",
      "metadata": {
        "id": "63e70474"
      },
      "outputs": [],
      "source": [
        ""
      ]
    }
  ],
  "metadata": {
    "kernelspec": {
      "display_name": "Python 3 (ipykernel)",
      "language": "python",
      "name": "python3"
    },
    "language_info": {
      "codemirror_mode": {
        "name": "ipython",
        "version": 3
      },
      "file_extension": ".py",
      "mimetype": "text/x-python",
      "name": "python",
      "nbconvert_exporter": "python",
      "pygments_lexer": "ipython3",
      "version": "3.7.3"
    },
    "colab": {
      "name": "computer_lab_2.ipynb",
      "provenance": []
    }
  },
  "nbformat": 4,
  "nbformat_minor": 5
}