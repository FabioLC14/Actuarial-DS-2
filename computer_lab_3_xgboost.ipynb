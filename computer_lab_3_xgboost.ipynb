{
  "cells": [
    {
      "cell_type": "markdown",
      "metadata": {
        "collapsed": true,
        "pycharm": {
          "name": "#%% md\n"
        },
        "id": "TSUUyF39Wt6c"
      },
      "source": [
        "<center> <h1> <span style=\"color:black\"> IA|BE Data Science Certificate - Module 2 - Computer lab 3  </h1> </center> \n",
        "<center> <h2> <span style=\"color:red\"> Stochastic gradient boosting machines with XGboost </h1> </center>"
      ]
    },
    {
      "cell_type": "markdown",
      "source": [
        "## 1. Introduction"
      ],
      "metadata": {
        "collapsed": false,
        "pycharm": {
          "name": "#%% md\n"
        },
        "id": "NkmDr_5lWt6d"
      }
    },
    {
      "cell_type": "markdown",
      "source": [
        "Similarly to bagging, boosting is a general technique to create an ensemble of any type of base learner.\n",
        "In the case of boosting:\n",
        "* base learners are weak learners (e.g. decision trees), therefore have low variance but high bias\n",
        "* bias reduction is obtained by updating each fit sequentially\n",
        "    * current tree uses information from all past trees\n",
        "    * high performance is obtained by rectifying past mistakes\n",
        "    * high risk of overfitting.\n",
        "\n",
        "The base learner can be any type of weak learner. We will use decision trees as weak learners, but linear models could be used as well. The general terminology for tree-based boosting is often called a stochastic gradient boosting machine:\n",
        "* the algorithm is stochastic by subsampling in the rows (and columns) of the data\n",
        "* the loss function is optimized via a gradient descent search."
      ],
      "metadata": {
        "collapsed": false,
        "pycharm": {
          "name": "#%% md\n"
        },
        "id": "KZgzJxLfWt6d"
      }
    },
    {
      "cell_type": "markdown",
      "source": [
        "### 1.1 Stochastic gradient descent"
      ],
      "metadata": {
        "collapsed": false,
        "pycharm": {
          "name": "#%% md\n"
        },
        "id": "f_4eDrm2Wt6e"
      }
    },
    {
      "cell_type": "markdown",
      "source": [
        "<figure>\n",
        "<img src=\"https://katrienantonio.github.io/IABE-DS-module-2/img/learning_rate.png\" alt=\"autoencoder_schema\" style=\"width: 800px;\"/>\n",
        "<figcaption><center>Figure 12.4 from Boehmke & Greenwell <a href=\"https://bradleyboehmke.github.io/HOML/gbm.html\">Hands-on with machine learning with R</a>.<p></p></center></figcaption>\n",
        "</figure>"
      ],
      "metadata": {
        "collapsed": false,
        "pycharm": {
          "name": "#%% md\n"
        },
        "id": "aF52Y0yfWt6e"
      }
    },
    {
      "cell_type": "markdown",
      "source": [
        "The selection of the appropriate learning rate is crucial to properly optimize the loss function:\n",
        "* if too big -> likely to overshoot the optimal solution\n",
        "* if too small -> slow the process to reach the optimal solution"
      ],
      "metadata": {
        "collapsed": false,
        "pycharm": {
          "name": "#%% md\n"
        },
        "id": "ntTN1PI5Wt6e"
      }
    },
    {
      "cell_type": "markdown",
      "source": [
        "### 1.2 Fitting procedure"
      ],
      "metadata": {
        "collapsed": false,
        "pycharm": {
          "name": "#%% md\n"
        },
        "id": "xLBdAr4uWt6e"
      }
    },
    {
      "cell_type": "markdown",
      "source": [
        "Initialize the model fit with a global average and calculate so-called pseudo-residuals.\n",
        "\n",
        "Do the following $B$ times:\n",
        "* fit a tree of a pre-specified depth to the <span style=\"color:#173F5F\">**pseudo-residuals**</span>\n",
        "* <span style=\"color:#173F5F\">**update**</span> the model fit and pseudo-residuals with <span style=\"color:#173F5F\">**shrunk**</span> version\n",
        "* shrinkage is used to slow down the learning and to <span style=\"color:#173F5F\">**prevent**</span> overfitting.\n",
        "\n",
        "The model after $B$ iteration is the <span style=\"color:#173F5F\">**end product**</span>.\n",
        "\n",
        "We refer to the <a href=\"https://arxiv.org/abs/1904.10890\">Henckaerts et al. (2021, North American Actuarial Journal)</a> paper for more details, including a sketch of the algorithm in pseudo code. "
      ],
      "metadata": {
        "collapsed": false,
        "pycharm": {
          "name": "#%% md\n"
        },
        "id": "iaeZ7LfZWt6e"
      }
    },
    {
      "cell_type": "markdown",
      "source": [
        "### 1.3 Implementation"
      ],
      "metadata": {
        "collapsed": false,
        "pycharm": {
          "name": "#%% md\n"
        },
        "id": "R2WnPv4fWt6f"
      }
    },
    {
      "cell_type": "markdown",
      "source": [
        "One of the most popular packages in python (and beyond) for stochastic gradient boosting machines is ```xgboost```.\n",
        "This library provides an efficient implementation of the gradient boosting algorithm with some useful extra features."
      ],
      "metadata": {
        "collapsed": false,
        "pycharm": {
          "name": "#%% md\n"
        },
        "id": "Q5_6m7kUWt6f"
      }
    },
    {
      "cell_type": "markdown",
      "source": [
        "The method ```class xgboost.XGBRegressor(*, objective='reg:squarederror', **kwargs)``` presents the following parameters:\n",
        "* ```n_estimators```: number of gradient boosted trees; this is equivalent to the number of boosting rounds\n",
        "* ```max_depth```: max. tree depth for base learners\n",
        "* ```learning_rate```: boosting learning rate\n",
        "* ```objective```: objective function to be used\n",
        "* ```tree_method```: which tree method to use, default = ```auto```\n",
        "* ```reg_alpha```: L1 regularization term on weights\n",
        "* ```reg_lambda```: L2 regularization term on weights\n",
        "* ```monotone_constraints```: Constraint of variable monotonicity\n",
        "* ..."
      ],
      "metadata": {
        "collapsed": false,
        "id": "2TnosYHrWt6f"
      }
    },
    {
      "cell_type": "markdown",
      "source": [
        "Let's start by importing all libraries needed to run this notebook."
      ],
      "metadata": {
        "id": "zCBRiVCDa0wl"
      }
    },
    {
      "cell_type": "code",
      "execution_count": null,
      "outputs": [],
      "source": [
        "# import relevant libraries\n",
        "import numpy as np\n",
        "import pandas as pd\n",
        "import matplotlib.pyplot as plt\n",
        "import xgboost as xgb\n",
        "from sklearn.model_selection import train_test_split,GridSearchCV,RandomizedSearchCV\n",
        "from sklearn.metrics import mean_squared_error\n",
        "from sklearn.inspection import PartialDependenceDisplay"
      ],
      "metadata": {
        "pycharm": {
          "name": "#%%\n"
        },
        "id": "9qsoezIyWt6g"
      }
    },
    {
      "cell_type": "markdown",
      "source": [
        "## 2 Toy example"
      ],
      "metadata": {
        "collapsed": false,
        "id": "lJLwnUjOWt6g"
      }
    },
    {
      "cell_type": "markdown",
      "source": [
        "### 2.1 Data generation"
      ],
      "metadata": {
        "collapsed": false,
        "id": "FGr-o8gtWt6g"
      }
    },
    {
      "cell_type": "code",
      "execution_count": null,
      "outputs": [],
      "source": [
        "# generate synthetic data\n",
        "x = np.linspace(start=0, stop=2 * np.pi, num=500)\n",
        "m = 2 * np.sin(x)\n",
        "y = m + np.random.normal(loc = 0, scale = 1, size = len(x))"
      ],
      "metadata": {
        "pycharm": {
          "name": "#%%\n"
        },
        "id": "nZIzWfzQWt6g"
      }
    },
    {
      "cell_type": "code",
      "execution_count": null,
      "outputs": [],
      "source": [
        "# Define a function to plot the data and/or predictions\n",
        "def plot_toy(x, y, m_true, m_pred=None, m_pred_label=None):\n",
        "    plt.figure()\n",
        "    plt.scatter(x, y, s=20, edgecolor=\"black\", c=\"darkorange\", label=\"data\")\n",
        "    plt.plot(x, m_true, color=\"red\", label=\"true function\", linewidth=2)\n",
        "    if(m_pred is not None): plt.plot(x, m_pred, color=\"cornflowerblue\", label=m_pred_label, linewidth=2)\n",
        "    plt.xlabel(\"data\")\n",
        "    plt.ylabel(\"target\")\n",
        "    plt.title(\"Toy example xgboost\")\n",
        "    plt.legend()\n",
        "    plt.show()"
      ],
      "metadata": {
        "pycharm": {
          "name": "#%%\n"
        },
        "id": "9QIcVQvNWt6h"
      }
    },
    {
      "cell_type": "code",
      "execution_count": null,
      "outputs": [
        {
          "output_type": "display_data",
          "data": {
            "text/plain": [
              "<Figure size 432x288 with 1 Axes>"
            ],
            "image/png": "[encoded data removed]"
          },
          "metadata": {
            "needs_background": "light"
          }
        }
      ],
      "source": [
        "# Plot the raw data without any model prediction\n",
        "plot_toy(x, y, m)"
      ],
      "metadata": {
        "pycharm": {
          "name": "#%%\n"
        },
        "colab": {
          "base_uri": "https://localhost:8080/",
          "height": 295
        },
        "id": "qJE7VWOjWt6h",
        "outputId": "e2e928da-8f5e-45c9-9544-d98494875564"
      }
    },
    {
      "cell_type": "markdown",
      "source": [
        "Let's have a look at the shape of our feature x and target y."
      ],
      "metadata": {
        "id": "jL2-iCI8YRL2"
      }
    },
    {
      "cell_type": "code",
      "source": [
        "print(x.shape)\n",
        "print(y.shape)"
      ],
      "metadata": {
        "colab": {
          "base_uri": "https://localhost:8080/"
        },
        "id": "4bYvAIeLYWQF",
        "outputId": "9cf3bb58-f435-4042-ba02-4f66f3de24aa"
      },
      "execution_count": null,
      "outputs": [
        {
          "output_type": "stream",
          "name": "stdout",
          "text": [
            "(500,)\n",
            "(500,)\n"
          ]
        }
      ]
    },
    {
      "cell_type": "markdown",
      "source": [
        "These are both 1-dimensional arrays. XGBoost needs the input to be a 2-dimensional array, se we need to reshape this array."
      ],
      "metadata": {
        "id": "gzwZzFFLYaTf"
      }
    },
    {
      "cell_type": "code",
      "source": [
        "x_2d = x.reshape(-1,1)\n",
        "print(x_2d.shape)"
      ],
      "metadata": {
        "colab": {
          "base_uri": "https://localhost:8080/"
        },
        "id": "tt9BXCmmYmTM",
        "outputId": "8926a43a-8fc9-4a1a-c31b-5824636b703b"
      },
      "execution_count": null,
      "outputs": [
        {
          "output_type": "stream",
          "name": "stdout",
          "text": [
            "(500, 1)\n"
          ]
        }
      ]
    },
    {
      "cell_type": "markdown",
      "source": [
        "### 2.2 XGBoost toy model: step 1\n",
        "\n",
        "We start our exploration of the XGBoost algorithm by fitting a model with:\n",
        "* low number of trees\n",
        "* shallow trees\n",
        "* very high learning rate"
      ],
      "metadata": {
        "collapsed": false,
        "pycharm": {
          "name": "#%% md\n"
        },
        "id": "-dvJf2NzWt6h"
      }
    },
    {
      "cell_type": "code",
      "execution_count": null,
      "outputs": [
        {
          "output_type": "execute_result",
          "data": {
            "text/plain": [
              "XGBRegressor(learning_rate=1, max_depth=1, n_estimators=5,\n",
              "             objective='reg:squarederror')"
            ]
          },
          "metadata": {},
          "execution_count": 55
        }
      ],
      "source": [
        "# fitting model 1\n",
        "xgb_model1 = xgb.XGBRegressor(n_estimators = 5,\n",
        "                              objective='reg:squarederror',\n",
        "                              max_depth = 1,\n",
        "                              learning_rate = 1)\n",
        "\n",
        "xgb_model1.fit(x_2d, y)"
      ],
      "metadata": {
        "pycharm": {
          "name": "#%%\n"
        },
        "colab": {
          "base_uri": "https://localhost:8080/"
        },
        "id": "P5ZddBlnWt6i",
        "outputId": "e5446810-9ae6-4674-9c5d-8e72c56fa133"
      }
    },
    {
      "cell_type": "code",
      "execution_count": null,
      "outputs": [],
      "source": [
        "# predict model 1\n",
        "predict_model1 = xgb_model1.predict(x_2d)"
      ],
      "metadata": {
        "pycharm": {
          "name": "#%%\n"
        },
        "id": "1TUXSOstWt6i"
      }
    },
    {
      "cell_type": "code",
      "execution_count": null,
      "outputs": [
        {
          "output_type": "display_data",
          "data": {
            "image/png": "[encoded data removed]",
            "text/plain": [
              "<Figure size 432x288 with 1 Axes>"
            ]
          },
          "metadata": {
            "needs_background": "light"
          }
        }
      ],
      "source": [
        "# Plot the predictions for model 1\n",
        "plot_toy(x, y, m, predict_model1, \"model 1\")"
      ],
      "metadata": {
        "pycharm": {
          "name": "#%%\n"
        },
        "colab": {
          "base_uri": "https://localhost:8080/",
          "height": 295
        },
        "id": "itgS3-8uWt6i",
        "outputId": "8e77acaf-dbcd-45ef-b52c-5afbde87ad94"
      }
    },
    {
      "cell_type": "markdown",
      "source": [
        "### 2.3 XGBoost toy model: step 2"
      ],
      "metadata": {
        "collapsed": false,
        "id": "DkAUssKEWt6i"
      }
    },
    {
      "cell_type": "markdown",
      "source": [
        "We continue our exploration of the XGBoost algorithm by fitting a model with:\n",
        "* low number of trees\n",
        "* shallow trees\n",
        "* very small learning rate."
      ],
      "metadata": {
        "collapsed": false,
        "id": "GpmDvverWt6j"
      }
    },
    {
      "cell_type": "code",
      "execution_count": null,
      "outputs": [
        {
          "output_type": "execute_result",
          "data": {
            "text/plain": [
              "XGBRegressor(max_depth=1, n_estimators=5, objective='reg:squarederror')"
            ]
          },
          "metadata": {},
          "execution_count": 7
        }
      ],
      "source": [
        "# fitting model 2\n",
        "xgb_model2 = xgb.XGBRegressor(n_estimators = 5,\n",
        "                              objective='reg:squarederror',\n",
        "                              max_depth = 1,\n",
        "                              learning_rate = 0.1)\n",
        "xgb_model2.fit(x_2d, y)"
      ],
      "metadata": {
        "pycharm": {
          "name": "#%%\n"
        },
        "colab": {
          "base_uri": "https://localhost:8080/"
        },
        "id": "TsYPM2SBWt6j",
        "outputId": "f81412b2-9444-4dbf-bfe3-58ff54675eb5"
      }
    },
    {
      "cell_type": "code",
      "execution_count": null,
      "outputs": [],
      "source": [
        "# predict model 2\n",
        "predict_model2 = xgb_model2.predict(x_2d)"
      ],
      "metadata": {
        "pycharm": {
          "name": "#%%\n"
        },
        "id": "vpe785mxWt6j"
      }
    },
    {
      "cell_type": "code",
      "execution_count": null,
      "outputs": [
        {
          "output_type": "display_data",
          "data": {
            "text/plain": [
              "<Figure size 432x288 with 1 Axes>"
            ],
            "image/png": "[encoded data removed]"
          },
          "metadata": {
            "needs_background": "light"
          }
        }
      ],
      "source": [
        "# Plot the predictions for model1\n",
        "plot_toy(x, y, m, predict_model2, \"model 2\")"
      ],
      "metadata": {
        "pycharm": {
          "name": "#%%\n"
        },
        "colab": {
          "base_uri": "https://localhost:8080/",
          "height": 295
        },
        "id": "135CRJ2CWt6j",
        "outputId": "203e6e36-9cfa-4cab-bac3-c99e80f92842"
      }
    },
    {
      "cell_type": "markdown",
      "source": [
        "### 2.4 XGBoost toy model: step 3"
      ],
      "metadata": {
        "collapsed": false,
        "id": "PeD87ZLkWt6k"
      }
    },
    {
      "cell_type": "markdown",
      "source": [
        "Let us now fit a model with:\n",
        "* high number of trees <span style=\"color:#173F5F\">**(careful considerations wrt overfitting must be done)**</span>\n",
        "* higher ```max_depth``` parameter compared to the models constructed in step 1 and step 2\n",
        "* very small learning rate."
      ],
      "metadata": {
        "collapsed": false,
        "id": "oHc_UgMZWt6k"
      }
    },
    {
      "cell_type": "code",
      "execution_count": null,
      "outputs": [
        {
          "output_type": "execute_result",
          "data": {
            "text/plain": [
              "XGBRegressor(learning_rate=0.01, max_depth=2, n_estimators=300,\n",
              "             objective='reg:squarederror')"
            ]
          },
          "metadata": {},
          "execution_count": 10
        }
      ],
      "source": [
        "# fitting model 3\n",
        "xgb_model3 = xgb.XGBRegressor(n_estimators = 300,\n",
        "                              objective='reg:squarederror',\n",
        "                              max_depth = 2,\n",
        "                              learning_rate = 0.01)\n",
        "xgb_model3.fit(x_2d, y)"
      ],
      "metadata": {
        "pycharm": {
          "name": "#%%\n"
        },
        "colab": {
          "base_uri": "https://localhost:8080/"
        },
        "id": "_bn1I76NWt6k",
        "outputId": "fa01ef53-a403-4caf-a570-d5624c0e48c8"
      }
    },
    {
      "cell_type": "markdown",
      "source": [
        "We can now visiualize the fitting procedure by plotting the predictions at different boosting iterations."
      ],
      "metadata": {
        "id": "PkS-p0H2aKAc"
      }
    },
    {
      "cell_type": "code",
      "execution_count": null,
      "outputs": [
        {
          "output_type": "stream",
          "name": "stdout",
          "text": [
            "(500, 9)\n"
          ]
        },
        {
          "output_type": "execute_result",
          "data": {
            "text/plain": [
              "array([[ 0.50958866,  0.73592377,  0.72380406, ...,  0.50984818,\n",
              "         0.46063888,  0.40252906],\n",
              "       [ 0.50958866,  0.73592377,  0.72380406, ...,  0.50984818,\n",
              "         0.46063888,  0.40252906],\n",
              "       [ 0.50958866,  0.73592377,  0.72380406, ...,  0.50984818,\n",
              "         0.46063888,  0.40252906],\n",
              "       ...,\n",
              "       [ 0.49090728,  0.21087366, -0.07815206, ..., -0.45671779,\n",
              "        -0.43809116, -0.41294008],\n",
              "       [ 0.49090728,  0.21087366, -0.07815206, ..., -0.45671779,\n",
              "        -0.43809116, -0.41294008],\n",
              "       [ 0.49090728,  0.21087366, -0.07815206, ..., -0.45671779,\n",
              "        -0.43809116, -0.41294008]])"
            ]
          },
          "metadata": {},
          "execution_count": 11
        }
      ],
      "source": [
        "# generate an array that contains prediction per boosting iteration for model 3\n",
        "iterations = np.arange(1,299,34)\n",
        "prediction_per_iteration = np.array([[0.0]*len(iterations)]*x.shape[0])\n",
        "for i in np.arange(len(iterations)):\n",
        "    prediction_per_iteration[:,i] = xgb_model3.predict(x.reshape(-1,1), ntree_limit = int(iterations[i]))\n",
        "\n",
        "print(prediction_per_iteration.shape)\n",
        "prediction_per_iteration"
      ],
      "metadata": {
        "pycharm": {
          "name": "#%%\n"
        },
        "colab": {
          "base_uri": "https://localhost:8080/"
        },
        "id": "Qhyff2FWWt6k",
        "outputId": "1a05bd6a-90a7-49ab-93f5-9eec71988e08"
      }
    },
    {
      "cell_type": "code",
      "execution_count": null,
      "outputs": [
        {
          "output_type": "display_data",
          "data": {
            "text/plain": [
              "<Figure size 1440x1080 with 9 Axes>"
            ],
            "image/png": "[encoded data removed]"
          },
          "metadata": {
            "needs_background": "light"
          }
        }
      ],
      "source": [
        "# plot using incremental number of boosts to improve fitting\n",
        "seg = int(prediction_per_iteration.shape[1]/3)\n",
        "fig, ax = plt.subplots(nrows=seg, ncols=seg, figsize=(20, 15))\n",
        "ax = ax.ravel()\n",
        "for i in range(prediction_per_iteration.shape[1]):\n",
        "    ax[i].scatter(x, y, s=20, edgecolor=\"black\", c=\"darkorange\", label=\"data\")\n",
        "    ax[i].plot(x, m, color=\"red\", label=\"true function\", linewidth=2)\n",
        "    ax[i].plot(x, prediction_per_iteration[:,i], color=\"cornflowerblue\", label=\"model 3\", linewidth=2)"
      ],
      "metadata": {
        "pycharm": {
          "name": "#%%\n"
        },
        "colab": {
          "base_uri": "https://localhost:8080/",
          "height": 814
        },
        "id": "3bwp1LbGWt6k",
        "outputId": "1ec6a489-d056-4ab2-de5a-ee5647389861"
      }
    },
    {
      "cell_type": "markdown",
      "source": [
        "## 3. Tuning parameters"
      ],
      "metadata": {
        "collapsed": false,
        "id": "xroAc5SrWt6l"
      }
    },
    {
      "cell_type": "markdown",
      "source": [
        "It has become clear by now that we have a lot of (tuning) parameters at our disposal to <span style=\"color:#173F5F\">**tweak**</span> the GBM.\n",
        "\n",
        "Some have a <span style=\"color:#173F5F\">**big impact**</span> on the performance and should therefore be <span style=\"color:#173F5F\">**properly tuned**</span>:\n",
        "* ```n_estimators```: depends very much on the use case, it varies between 100 and 10000\n",
        "* ```max_depth```: low values are preferred for boosting to obtain weak base learners\n",
        "* ```learning rate```: typically set the lowest possible value that is computationally feasable.\n",
        "\n",
        "<span style=\"color:#173F5F\">**Rule of thumb**</span>: if ```learning_rate``` goes down, then ```n_estimators``` goes up.\n",
        "\n",
        "XGBoost relies on a lot of parameters which can impact performance. A proper tuning procedure is therefore crucial.\n",
        "We start by separating a train and test set for further use."
      ],
      "metadata": {
        "collapsed": false,
        "pycharm": {
          "name": "#%% md\n"
        },
        "id": "d5rvwE1VWt6l"
      }
    },
    {
      "cell_type": "markdown",
      "source": [
        "### 3.1 Train test split\n",
        "\n",
        "Tuning parameters should always be picked on a train set and the resulting performance is afterwards evaluated on an out-of-sample test set. Below we perform a typical 80-20 split (train vs. test) by stratifying on the target variable. This makes sure that the distribution of the target in train and test set is similar."
      ],
      "metadata": {
        "collapsed": false,
        "pycharm": {
          "name": "#%% md\n"
        },
        "id": "EsHffLkHWt6l"
      }
    },
    {
      "cell_type": "code",
      "execution_count": null,
      "outputs": [],
      "source": [
        "# Split the data in train and test data\n",
        "x_train, x_test, y_train, y_test = train_test_split(x_2d, y, test_size = 0.2, random_state = 54321,stratify = pd.cut(y, bins = 10))"
      ],
      "metadata": {
        "pycharm": {
          "name": "#%%\n"
        },
        "id": "kYAh1_akWt6l"
      }
    },
    {
      "cell_type": "code",
      "execution_count": null,
      "outputs": [
        {
          "output_type": "stream",
          "name": "stdout",
          "text": [
            "(500, 1)\n",
            "(400, 1)\n",
            "(100, 1)\n"
          ]
        }
      ],
      "source": [
        "# Print the shape of the full data and train/test components\n",
        "print(x_2d.shape)\n",
        "print(x_train.shape)\n",
        "print(x_test.shape)"
      ],
      "metadata": {
        "pycharm": {
          "name": "#%%\n"
        },
        "colab": {
          "base_uri": "https://localhost:8080/"
        },
        "id": "TbL8voGHWt6l",
        "outputId": "9d6ee026-c52e-4d76-9e4c-d91110889fd1"
      }
    },
    {
      "cell_type": "markdown",
      "source": [
        "### 3.2 Manual grid search example\n",
        "\n",
        "We first set up a manual grid search to iterate over possible values for the following tuning parameters\n",
        "* the maximal tree depth\n",
        "* the learning rate"
      ],
      "metadata": {
        "collapsed": false,
        "pycharm": {
          "name": "#%% md\n"
        },
        "id": "XcaWIbrTWt6m"
      }
    },
    {
      "cell_type": "code",
      "execution_count": null,
      "outputs": [
        {
          "output_type": "execute_result",
          "data": {
            "text/plain": [
              "   max_depth  learning_rate  MSE\n",
              "0          1           0.01  inf\n",
              "1          1           0.10  inf\n",
              "2          3           0.01  inf\n",
              "3          3           0.10  inf\n",
              "4          5           0.01  inf\n",
              "5          5           0.10  inf\n",
              "6          7           0.01  inf\n",
              "7          7           0.10  inf"
            ],
            "text/html": [
              "\n",
              "  <div id=\"df-c40a26c7-a4ca-4e96-b546-f85291d070bb\">\n",
              "    <div class=\"colab-df-container\">\n",
              "      <div>\n",
              "<style scoped>\n",
              "    .dataframe tbody tr th:only-of-type {\n",
              "        vertical-align: middle;\n",
              "    }\n",
              "\n",
              "    .dataframe tbody tr th {\n",
              "        vertical-align: top;\n",
              "    }\n",
              "\n",
              "    .dataframe thead th {\n",
              "        text-align: right;\n",
              "    }\n",
              "</style>\n",
              "<table border=\"1\" class=\"dataframe\">\n",
              "  <thead>\n",
              "    <tr style=\"text-align: right;\">\n",
              "      <th></th>\n",
              "      <th>max_depth</th>\n",
              "      <th>learning_rate</th>\n",
              "      <th>MSE</th>\n",
              "    </tr>\n",
              "  </thead>\n",
              "  <tbody>\n",
              "    <tr>\n",
              "      <th>0</th>\n",
              "      <td>1</td>\n",
              "      <td>0.01</td>\n",
              "      <td>inf</td>\n",
              "    </tr>\n",
              "    <tr>\n",
              "      <th>1</th>\n",
              "      <td>1</td>\n",
              "      <td>0.10</td>\n",
              "      <td>inf</td>\n",
              "    </tr>\n",
              "    <tr>\n",
              "      <th>2</th>\n",
              "      <td>3</td>\n",
              "      <td>0.01</td>\n",
              "      <td>inf</td>\n",
              "    </tr>\n",
              "    <tr>\n",
              "      <th>3</th>\n",
              "      <td>3</td>\n",
              "      <td>0.10</td>\n",
              "      <td>inf</td>\n",
              "    </tr>\n",
              "    <tr>\n",
              "      <th>4</th>\n",
              "      <td>5</td>\n",
              "      <td>0.01</td>\n",
              "      <td>inf</td>\n",
              "    </tr>\n",
              "    <tr>\n",
              "      <th>5</th>\n",
              "      <td>5</td>\n",
              "      <td>0.10</td>\n",
              "      <td>inf</td>\n",
              "    </tr>\n",
              "    <tr>\n",
              "      <th>6</th>\n",
              "      <td>7</td>\n",
              "      <td>0.01</td>\n",
              "      <td>inf</td>\n",
              "    </tr>\n",
              "    <tr>\n",
              "      <th>7</th>\n",
              "      <td>7</td>\n",
              "      <td>0.10</td>\n",
              "      <td>inf</td>\n",
              "    </tr>\n",
              "  </tbody>\n",
              "</table>\n",
              "</div>\n",
              "      <button class=\"colab-df-convert\" onclick=\"convertToInteractive('df-c40a26c7-a4ca-4e96-b546-f85291d070bb')\"\n",
              "              title=\"Convert this dataframe to an interactive table.\"\n",
              "              style=\"display:none;\">\n",
              "        \n",
              "  <svg xmlns=\"http://www.w3.org/2000/svg\" height=\"24px\"viewBox=\"0 0 24 24\"\n",
              "       width=\"24px\">\n",
              "    <path d=\"M0 0h24v24H0V0z\" fill=\"none\"/>\n",
              "    <path d=\"M18.56 5.44l.94 2.06.94-2.06 2.06-.94-2.06-.94-.94-2.06-.94 2.06-2.06.94zm-11 1L8.5 8.5l.94-2.06 2.06-.94-2.06-.94L8.5 2.5l-.94 2.06-2.06.94zm10 10l.94 2.06.94-2.06 2.06-.94-2.06-.94-.94-2.06-.94 2.06-2.06.94z\"/><path d=\"M17.41 7.96l-1.37-1.37c-.4-.4-.92-.59-1.43-.59-.52 0-1.04.2-1.43.59L10.3 9.45l-7.72 7.72c-.78.78-.78 2.05 0 2.83L4 21.41c.39.39.9.59 1.41.59.51 0 1.02-.2 1.41-.59l7.78-7.78 2.81-2.81c.8-.78.8-2.07 0-2.86zM5.41 20L4 18.59l7.72-7.72 1.47 1.35L5.41 20z\"/>\n",
              "  </svg>\n",
              "      </button>\n",
              "      \n",
              "  <style>\n",
              "    .colab-df-container {\n",
              "      display:flex;\n",
              "      flex-wrap:wrap;\n",
              "      gap: 12px;\n",
              "    }\n",
              "\n",
              "    .colab-df-convert {\n",
              "      background-color: #E8F0FE;\n",
              "      border: none;\n",
              "      border-radius: 50%;\n",
              "      cursor: pointer;\n",
              "      display: none;\n",
              "      fill: #1967D2;\n",
              "      height: 32px;\n",
              "      padding: 0 0 0 0;\n",
              "      width: 32px;\n",
              "    }\n",
              "\n",
              "    .colab-df-convert:hover {\n",
              "      background-color: #E2EBFA;\n",
              "      box-shadow: 0px 1px 2px rgba(60, 64, 67, 0.3), 0px 1px 3px 1px rgba(60, 64, 67, 0.15);\n",
              "      fill: #174EA6;\n",
              "    }\n",
              "\n",
              "    [theme=dark] .colab-df-convert {\n",
              "      background-color: #3B4455;\n",
              "      fill: #D2E3FC;\n",
              "    }\n",
              "\n",
              "    [theme=dark] .colab-df-convert:hover {\n",
              "      background-color: #434B5C;\n",
              "      box-shadow: 0px 1px 3px 1px rgba(0, 0, 0, 0.15);\n",
              "      filter: drop-shadow(0px 1px 2px rgba(0, 0, 0, 0.3));\n",
              "      fill: #FFFFFF;\n",
              "    }\n",
              "  </style>\n",
              "\n",
              "      <script>\n",
              "        const buttonEl =\n",
              "          document.querySelector('#df-c40a26c7-a4ca-4e96-b546-f85291d070bb button.colab-df-convert');\n",
              "        buttonEl.style.display =\n",
              "          google.colab.kernel.accessAllowed ? 'block' : 'none';\n",
              "\n",
              "        async function convertToInteractive(key) {\n",
              "          const element = document.querySelector('#df-c40a26c7-a4ca-4e96-b546-f85291d070bb');\n",
              "          const dataTable =\n",
              "            await google.colab.kernel.invokeFunction('convertToInteractive',\n",
              "                                                     [key], {});\n",
              "          if (!dataTable) return;\n",
              "\n",
              "          const docLinkHtml = 'Like what you see? Visit the ' +\n",
              "            '<a target=\"_blank\" href=https://colab.research.google.com/notebooks/data_table.ipynb>data table notebook</a>'\n",
              "            + ' to learn more about interactive tables.';\n",
              "          element.innerHTML = '';\n",
              "          dataTable['output_type'] = 'display_data';\n",
              "          await google.colab.output.renderOutput(dataTable, element);\n",
              "          const docLink = document.createElement('div');\n",
              "          docLink.innerHTML = docLinkHtml;\n",
              "          element.appendChild(docLink);\n",
              "        }\n",
              "      </script>\n",
              "    </div>\n",
              "  </div>\n",
              "  "
            ]
          },
          "metadata": {},
          "execution_count": 15
        }
      ],
      "source": [
        "# DataFrame to store tuning results\n",
        "pd_search_manual = pd.DataFrame({'max_depth':[1,1,3,3,5,5,7,7],\n",
        "                                 'learning_rate':[0.01,0.1,0.01,0.1,0.01,0.1,0.01,0.1],\n",
        "                                 'MSE':np.inf})\n",
        "pd_search_manual"
      ],
      "metadata": {
        "pycharm": {
          "name": "#%%\n"
        },
        "colab": {
          "base_uri": "https://localhost:8080/",
          "height": 300
        },
        "id": "9qDafmUiWt6m",
        "outputId": "474639e9-9a63-478b-f180-8ebfaba0dd14"
      }
    },
    {
      "cell_type": "markdown",
      "source": [
        "We now fit each combination of tuning parameters on the train data and evaluate the performance of the fitted model on the test data:"
      ],
      "metadata": {
        "collapsed": false,
        "pycharm": {
          "name": "#%% md\n"
        },
        "id": "zAUfThehWt6m"
      }
    },
    {
      "cell_type": "code",
      "execution_count": null,
      "outputs": [
        {
          "output_type": "execute_result",
          "data": {
            "text/plain": [
              "   max_depth  learning_rate       MSE\n",
              "1          1           0.10  1.222235\n",
              "3          3           0.10  1.234072\n",
              "5          5           0.10  1.346051\n",
              "6          7           0.01  1.418137\n",
              "4          5           0.01  1.438008\n",
              "2          3           0.01  1.462660\n",
              "7          7           0.10  1.476382\n",
              "0          1           0.01  1.738995"
            ],
            "text/html": [
              "\n",
              "  <div id=\"df-00286680-a33e-401e-aaca-9b1114f600fb\">\n",
              "    <div class=\"colab-df-container\">\n",
              "      <div>\n",
              "<style scoped>\n",
              "    .dataframe tbody tr th:only-of-type {\n",
              "        vertical-align: middle;\n",
              "    }\n",
              "\n",
              "    .dataframe tbody tr th {\n",
              "        vertical-align: top;\n",
              "    }\n",
              "\n",
              "    .dataframe thead th {\n",
              "        text-align: right;\n",
              "    }\n",
              "</style>\n",
              "<table border=\"1\" class=\"dataframe\">\n",
              "  <thead>\n",
              "    <tr style=\"text-align: right;\">\n",
              "      <th></th>\n",
              "      <th>max_depth</th>\n",
              "      <th>learning_rate</th>\n",
              "      <th>MSE</th>\n",
              "    </tr>\n",
              "  </thead>\n",
              "  <tbody>\n",
              "    <tr>\n",
              "      <th>1</th>\n",
              "      <td>1</td>\n",
              "      <td>0.10</td>\n",
              "      <td>1.222235</td>\n",
              "    </tr>\n",
              "    <tr>\n",
              "      <th>3</th>\n",
              "      <td>3</td>\n",
              "      <td>0.10</td>\n",
              "      <td>1.234072</td>\n",
              "    </tr>\n",
              "    <tr>\n",
              "      <th>5</th>\n",
              "      <td>5</td>\n",
              "      <td>0.10</td>\n",
              "      <td>1.346051</td>\n",
              "    </tr>\n",
              "    <tr>\n",
              "      <th>6</th>\n",
              "      <td>7</td>\n",
              "      <td>0.01</td>\n",
              "      <td>1.418137</td>\n",
              "    </tr>\n",
              "    <tr>\n",
              "      <th>4</th>\n",
              "      <td>5</td>\n",
              "      <td>0.01</td>\n",
              "      <td>1.438008</td>\n",
              "    </tr>\n",
              "    <tr>\n",
              "      <th>2</th>\n",
              "      <td>3</td>\n",
              "      <td>0.01</td>\n",
              "      <td>1.462660</td>\n",
              "    </tr>\n",
              "    <tr>\n",
              "      <th>7</th>\n",
              "      <td>7</td>\n",
              "      <td>0.10</td>\n",
              "      <td>1.476382</td>\n",
              "    </tr>\n",
              "    <tr>\n",
              "      <th>0</th>\n",
              "      <td>1</td>\n",
              "      <td>0.01</td>\n",
              "      <td>1.738995</td>\n",
              "    </tr>\n",
              "  </tbody>\n",
              "</table>\n",
              "</div>\n",
              "      <button class=\"colab-df-convert\" onclick=\"convertToInteractive('df-00286680-a33e-401e-aaca-9b1114f600fb')\"\n",
              "              title=\"Convert this dataframe to an interactive table.\"\n",
              "              style=\"display:none;\">\n",
              "        \n",
              "  <svg xmlns=\"http://www.w3.org/2000/svg\" height=\"24px\"viewBox=\"0 0 24 24\"\n",
              "       width=\"24px\">\n",
              "    <path d=\"M0 0h24v24H0V0z\" fill=\"none\"/>\n",
              "    <path d=\"M18.56 5.44l.94 2.06.94-2.06 2.06-.94-2.06-.94-.94-2.06-.94 2.06-2.06.94zm-11 1L8.5 8.5l.94-2.06 2.06-.94-2.06-.94L8.5 2.5l-.94 2.06-2.06.94zm10 10l.94 2.06.94-2.06 2.06-.94-2.06-.94-.94-2.06-.94 2.06-2.06.94z\"/><path d=\"M17.41 7.96l-1.37-1.37c-.4-.4-.92-.59-1.43-.59-.52 0-1.04.2-1.43.59L10.3 9.45l-7.72 7.72c-.78.78-.78 2.05 0 2.83L4 21.41c.39.39.9.59 1.41.59.51 0 1.02-.2 1.41-.59l7.78-7.78 2.81-2.81c.8-.78.8-2.07 0-2.86zM5.41 20L4 18.59l7.72-7.72 1.47 1.35L5.41 20z\"/>\n",
              "  </svg>\n",
              "      </button>\n",
              "      \n",
              "  <style>\n",
              "    .colab-df-container {\n",
              "      display:flex;\n",
              "      flex-wrap:wrap;\n",
              "      gap: 12px;\n",
              "    }\n",
              "\n",
              "    .colab-df-convert {\n",
              "      background-color: #E8F0FE;\n",
              "      border: none;\n",
              "      border-radius: 50%;\n",
              "      cursor: pointer;\n",
              "      display: none;\n",
              "      fill: #1967D2;\n",
              "      height: 32px;\n",
              "      padding: 0 0 0 0;\n",
              "      width: 32px;\n",
              "    }\n",
              "\n",
              "    .colab-df-convert:hover {\n",
              "      background-color: #E2EBFA;\n",
              "      box-shadow: 0px 1px 2px rgba(60, 64, 67, 0.3), 0px 1px 3px 1px rgba(60, 64, 67, 0.15);\n",
              "      fill: #174EA6;\n",
              "    }\n",
              "\n",
              "    [theme=dark] .colab-df-convert {\n",
              "      background-color: #3B4455;\n",
              "      fill: #D2E3FC;\n",
              "    }\n",
              "\n",
              "    [theme=dark] .colab-df-convert:hover {\n",
              "      background-color: #434B5C;\n",
              "      box-shadow: 0px 1px 3px 1px rgba(0, 0, 0, 0.15);\n",
              "      filter: drop-shadow(0px 1px 2px rgba(0, 0, 0, 0.3));\n",
              "      fill: #FFFFFF;\n",
              "    }\n",
              "  </style>\n",
              "\n",
              "      <script>\n",
              "        const buttonEl =\n",
              "          document.querySelector('#df-00286680-a33e-401e-aaca-9b1114f600fb button.colab-df-convert');\n",
              "        buttonEl.style.display =\n",
              "          google.colab.kernel.accessAllowed ? 'block' : 'none';\n",
              "\n",
              "        async function convertToInteractive(key) {\n",
              "          const element = document.querySelector('#df-00286680-a33e-401e-aaca-9b1114f600fb');\n",
              "          const dataTable =\n",
              "            await google.colab.kernel.invokeFunction('convertToInteractive',\n",
              "                                                     [key], {});\n",
              "          if (!dataTable) return;\n",
              "\n",
              "          const docLinkHtml = 'Like what you see? Visit the ' +\n",
              "            '<a target=\"_blank\" href=https://colab.research.google.com/notebooks/data_table.ipynb>data table notebook</a>'\n",
              "            + ' to learn more about interactive tables.';\n",
              "          element.innerHTML = '';\n",
              "          dataTable['output_type'] = 'display_data';\n",
              "          await google.colab.output.renderOutput(dataTable, element);\n",
              "          const docLink = document.createElement('div');\n",
              "          docLink.innerHTML = docLinkHtml;\n",
              "          element.appendChild(docLink);\n",
              "        }\n",
              "      </script>\n",
              "    </div>\n",
              "  </div>\n",
              "  "
            ]
          },
          "metadata": {},
          "execution_count": 16
        }
      ],
      "source": [
        "# fit 8 XGBRegressors manually and retain the performance in the DataFrame\n",
        "for i in np.arange(pd_search_manual.shape[0]):\n",
        "    xgb_it = xgb.XGBRegressor(objective='reg:squarederror',\n",
        "                              n_estimators = 100,\n",
        "                              booster='gbtree',\n",
        "                              max_depth = pd_search_manual.loc[i,'max_depth'],\n",
        "                              learning_rate = pd_search_manual.loc[i,'learning_rate'])\n",
        "    xgb_it.fit(x_train,y_train)\n",
        "    y_pred_it = xgb_it.predict(x_test)\n",
        "    pd_search_manual.loc[i,'MSE'] = mean_squared_error(y_true=y_test, y_pred=y_pred_it)\n",
        "\n",
        "pd_search_manual.sort_values('MSE')"
      ],
      "metadata": {
        "pycharm": {
          "name": "#%%\n"
        },
        "colab": {
          "base_uri": "https://localhost:8080/",
          "height": 300
        },
        "id": "IOybUkItWt6m",
        "outputId": "697bc37a-8a6f-4d3f-d45f-6035e397d6e4"
      }
    },
    {
      "cell_type": "markdown",
      "source": [
        "**Which problem can you spot following this approach?**"
      ],
      "metadata": {
        "id": "pMsQTt6CbbA5"
      }
    },
    {
      "cell_type": "markdown",
      "source": [
        "### 3.3 Cross-validation with an automatic grid search"
      ],
      "metadata": {
        "collapsed": false,
        "pycharm": {
          "name": "#%% md\n"
        },
        "id": "rr2F9k89Wt6m"
      }
    },
    {
      "cell_type": "markdown",
      "source": [
        "We can exploit ```GridSearchCV``` from ```sklearn``` to automate a grid-search operation with cross-validation:\n",
        "* a set of hyperparameters is required to be defined in a dictionary a priori\n",
        "* all the combinations of the values defined in the dictionary are passed and evaluatied using Cross-Validation method\n",
        "* we define a scoring rule to define which is the best parameter combination"
      ],
      "metadata": {
        "collapsed": false,
        "id": "PCwTdifBWt6m"
      }
    },
    {
      "cell_type": "code",
      "execution_count": null,
      "outputs": [],
      "source": [
        "# define dictionary for gridsearch\n",
        "search_dict = {'max_depth':[1,3,5,7,9],\n",
        "               'learning_rate':[0.001,0.01,0.1,1]}\n",
        "\n",
        "# Initialize an XGBRegressor\n",
        "xgb_grid = xgb.XGBRegressor(objective='reg:squarederror',\n",
        "                            n_estimators = 100,\n",
        "                            booster='gbtree')"
      ],
      "metadata": {
        "pycharm": {
          "name": "#%%\n"
        },
        "id": "uHEcH6syWt6n"
      }
    },
    {
      "cell_type": "markdown",
      "source": [
        "The method ```sklearn.model_selection.GridSearchCV``` presents the following arguments:\n",
        "\n",
        "* ```estimator```: pass the model instance for which you want to check the hyperparameters\n",
        "* ```param_grid```: the dictionary object that holds the hyperparameters you want to try\n",
        "* ```scoring```: evaluation metric that you want to use, you can simply pass a valid string/object of evaluation metric\n",
        "* ```n_jobs```: number of processes you wish to run in parallel for this task; if equal to -1 all available processors will be used.\n",
        "* ```cv```: number of cross-validation you have to try for each selected set of hyperparameters\n",
        "* ```verbose```: you can set it to 1 to get the detailed print out while you fit the data to GridSearchCV* ..."
      ],
      "metadata": {
        "collapsed": false,
        "id": "r9Lv5oauWt6n"
      }
    },
    {
      "cell_type": "code",
      "execution_count": null,
      "outputs": [
        {
          "output_type": "stream",
          "name": "stdout",
          "text": [
            "Fitting 5 folds for each of 20 candidates, totalling 100 fits\n"
          ]
        },
        {
          "output_type": "execute_result",
          "data": {
            "text/plain": [
              "GridSearchCV(cv=5, estimator=XGBRegressor(objective='reg:squarederror'),\n",
              "             param_grid={'learning_rate': [0.001, 0.01, 0.1, 1],\n",
              "                         'max_depth': [1, 3, 5, 7, 9]},\n",
              "             scoring='neg_mean_squared_error', verbose=1)"
            ]
          },
          "metadata": {},
          "execution_count": 69
        }
      ],
      "source": [
        "# execute cross_validation\n",
        "xgb_gridsearch = GridSearchCV(estimator=xgb_grid,\n",
        "                              param_grid=search_dict,\n",
        "                              scoring='neg_mean_squared_error',\n",
        "                              return_train_score=False,\n",
        "                              verbose=1,\n",
        "                              cv=5)\n",
        "xgb_gridsearch.fit(x_train, y_train)"
      ],
      "metadata": {
        "pycharm": {
          "name": "#%%\n"
        },
        "colab": {
          "base_uri": "https://localhost:8080/"
        },
        "id": "HDt04SCjWt6n",
        "outputId": "39b7a186-f318-4435-f227-1c93524ce1bf"
      }
    },
    {
      "cell_type": "code",
      "execution_count": null,
      "outputs": [
        {
          "output_type": "execute_result",
          "data": {
            "text/html": [
              "\n",
              "  <div id=\"df-43926b0b-4a70-4ba3-ba22-8cd9028988d5\">\n",
              "    <div class=\"colab-df-container\">\n",
              "      <div>\n",
              "<style scoped>\n",
              "    .dataframe tbody tr th:only-of-type {\n",
              "        vertical-align: middle;\n",
              "    }\n",
              "\n",
              "    .dataframe tbody tr th {\n",
              "        vertical-align: top;\n",
              "    }\n",
              "\n",
              "    .dataframe thead th {\n",
              "        text-align: right;\n",
              "    }\n",
              "</style>\n",
              "<table border=\"1\" class=\"dataframe\">\n",
              "  <thead>\n",
              "    <tr style=\"text-align: right;\">\n",
              "      <th></th>\n",
              "      <th>mean_fit_time</th>\n",
              "      <th>std_fit_time</th>\n",
              "      <th>mean_score_time</th>\n",
              "      <th>std_score_time</th>\n",
              "      <th>param_learning_rate</th>\n",
              "      <th>param_max_depth</th>\n",
              "      <th>params</th>\n",
              "      <th>split0_test_score</th>\n",
              "      <th>split1_test_score</th>\n",
              "      <th>split2_test_score</th>\n",
              "      <th>split3_test_score</th>\n",
              "      <th>split4_test_score</th>\n",
              "      <th>mean_test_score</th>\n",
              "      <th>std_test_score</th>\n",
              "      <th>rank_test_score</th>\n",
              "    </tr>\n",
              "  </thead>\n",
              "  <tbody>\n",
              "    <tr>\n",
              "      <th>10</th>\n",
              "      <td>0.011724</td>\n",
              "      <td>0.000080</td>\n",
              "      <td>0.000642</td>\n",
              "      <td>0.000010</td>\n",
              "      <td>0.1</td>\n",
              "      <td>1</td>\n",
              "      <td>{'learning_rate': 0.1, 'max_depth': 1}</td>\n",
              "      <td>-1.679581</td>\n",
              "      <td>-1.054547</td>\n",
              "      <td>-1.203540</td>\n",
              "      <td>-1.181949</td>\n",
              "      <td>-1.224757</td>\n",
              "      <td>-1.268875</td>\n",
              "      <td>0.213723</td>\n",
              "      <td>1</td>\n",
              "    </tr>\n",
              "    <tr>\n",
              "      <th>11</th>\n",
              "      <td>0.016330</td>\n",
              "      <td>0.000866</td>\n",
              "      <td>0.000978</td>\n",
              "      <td>0.000221</td>\n",
              "      <td>0.1</td>\n",
              "      <td>3</td>\n",
              "      <td>{'learning_rate': 0.1, 'max_depth': 3}</td>\n",
              "      <td>-1.668660</td>\n",
              "      <td>-1.123877</td>\n",
              "      <td>-1.272220</td>\n",
              "      <td>-1.353485</td>\n",
              "      <td>-1.388917</td>\n",
              "      <td>-1.361432</td>\n",
              "      <td>0.178661</td>\n",
              "      <td>2</td>\n",
              "    </tr>\n",
              "    <tr>\n",
              "      <th>15</th>\n",
              "      <td>0.012077</td>\n",
              "      <td>0.000348</td>\n",
              "      <td>0.000652</td>\n",
              "      <td>0.000022</td>\n",
              "      <td>1</td>\n",
              "      <td>1</td>\n",
              "      <td>{'learning_rate': 1, 'max_depth': 1}</td>\n",
              "      <td>-1.631114</td>\n",
              "      <td>-1.173289</td>\n",
              "      <td>-1.349548</td>\n",
              "      <td>-1.318998</td>\n",
              "      <td>-1.399552</td>\n",
              "      <td>-1.374500</td>\n",
              "      <td>0.148773</td>\n",
              "      <td>3</td>\n",
              "    </tr>\n",
              "    <tr>\n",
              "      <th>6</th>\n",
              "      <td>0.016030</td>\n",
              "      <td>0.001211</td>\n",
              "      <td>0.000717</td>\n",
              "      <td>0.000023</td>\n",
              "      <td>0.01</td>\n",
              "      <td>3</td>\n",
              "      <td>{'learning_rate': 0.01, 'max_depth': 3}</td>\n",
              "      <td>-1.914337</td>\n",
              "      <td>-1.307901</td>\n",
              "      <td>-1.314777</td>\n",
              "      <td>-1.474654</td>\n",
              "      <td>-1.641916</td>\n",
              "      <td>-1.530717</td>\n",
              "      <td>0.227574</td>\n",
              "      <td>4</td>\n",
              "    </tr>\n",
              "    <tr>\n",
              "      <th>12</th>\n",
              "      <td>0.019827</td>\n",
              "      <td>0.000308</td>\n",
              "      <td>0.001045</td>\n",
              "      <td>0.000068</td>\n",
              "      <td>0.1</td>\n",
              "      <td>5</td>\n",
              "      <td>{'learning_rate': 0.1, 'max_depth': 5}</td>\n",
              "      <td>-1.914190</td>\n",
              "      <td>-1.271914</td>\n",
              "      <td>-1.441368</td>\n",
              "      <td>-1.517921</td>\n",
              "      <td>-1.635781</td>\n",
              "      <td>-1.556235</td>\n",
              "      <td>0.214457</td>\n",
              "      <td>5</td>\n",
              "    </tr>\n",
              "  </tbody>\n",
              "</table>\n",
              "</div>\n",
              "      <button class=\"colab-df-convert\" onclick=\"convertToInteractive('df-43926b0b-4a70-4ba3-ba22-8cd9028988d5')\"\n",
              "              title=\"Convert this dataframe to an interactive table.\"\n",
              "              style=\"display:none;\">\n",
              "        \n",
              "  <svg xmlns=\"http://www.w3.org/2000/svg\" height=\"24px\"viewBox=\"0 0 24 24\"\n",
              "       width=\"24px\">\n",
              "    <path d=\"M0 0h24v24H0V0z\" fill=\"none\"/>\n",
              "    <path d=\"M18.56 5.44l.94 2.06.94-2.06 2.06-.94-2.06-.94-.94-2.06-.94 2.06-2.06.94zm-11 1L8.5 8.5l.94-2.06 2.06-.94-2.06-.94L8.5 2.5l-.94 2.06-2.06.94zm10 10l.94 2.06.94-2.06 2.06-.94-2.06-.94-.94-2.06-.94 2.06-2.06.94z\"/><path d=\"M17.41 7.96l-1.37-1.37c-.4-.4-.92-.59-1.43-.59-.52 0-1.04.2-1.43.59L10.3 9.45l-7.72 7.72c-.78.78-.78 2.05 0 2.83L4 21.41c.39.39.9.59 1.41.59.51 0 1.02-.2 1.41-.59l7.78-7.78 2.81-2.81c.8-.78.8-2.07 0-2.86zM5.41 20L4 18.59l7.72-7.72 1.47 1.35L5.41 20z\"/>\n",
              "  </svg>\n",
              "      </button>\n",
              "      \n",
              "  <style>\n",
              "    .colab-df-container {\n",
              "      display:flex;\n",
              "      flex-wrap:wrap;\n",
              "      gap: 12px;\n",
              "    }\n",
              "\n",
              "    .colab-df-convert {\n",
              "      background-color: #E8F0FE;\n",
              "      border: none;\n",
              "      border-radius: 50%;\n",
              "      cursor: pointer;\n",
              "      display: none;\n",
              "      fill: #1967D2;\n",
              "      height: 32px;\n",
              "      padding: 0 0 0 0;\n",
              "      width: 32px;\n",
              "    }\n",
              "\n",
              "    .colab-df-convert:hover {\n",
              "      background-color: #E2EBFA;\n",
              "      box-shadow: 0px 1px 2px rgba(60, 64, 67, 0.3), 0px 1px 3px 1px rgba(60, 64, 67, 0.15);\n",
              "      fill: #174EA6;\n",
              "    }\n",
              "\n",
              "    [theme=dark] .colab-df-convert {\n",
              "      background-color: #3B4455;\n",
              "      fill: #D2E3FC;\n",
              "    }\n",
              "\n",
              "    [theme=dark] .colab-df-convert:hover {\n",
              "      background-color: #434B5C;\n",
              "      box-shadow: 0px 1px 3px 1px rgba(0, 0, 0, 0.15);\n",
              "      filter: drop-shadow(0px 1px 2px rgba(0, 0, 0, 0.3));\n",
              "      fill: #FFFFFF;\n",
              "    }\n",
              "  </style>\n",
              "\n",
              "      <script>\n",
              "        const buttonEl =\n",
              "          document.querySelector('#df-43926b0b-4a70-4ba3-ba22-8cd9028988d5 button.colab-df-convert');\n",
              "        buttonEl.style.display =\n",
              "          google.colab.kernel.accessAllowed ? 'block' : 'none';\n",
              "\n",
              "        async function convertToInteractive(key) {\n",
              "          const element = document.querySelector('#df-43926b0b-4a70-4ba3-ba22-8cd9028988d5');\n",
              "          const dataTable =\n",
              "            await google.colab.kernel.invokeFunction('convertToInteractive',\n",
              "                                                     [key], {});\n",
              "          if (!dataTable) return;\n",
              "\n",
              "          const docLinkHtml = 'Like what you see? Visit the ' +\n",
              "            '<a target=\"_blank\" href=https://colab.research.google.com/notebooks/data_table.ipynb>data table notebook</a>'\n",
              "            + ' to learn more about interactive tables.';\n",
              "          element.innerHTML = '';\n",
              "          dataTable['output_type'] = 'display_data';\n",
              "          await google.colab.output.renderOutput(dataTable, element);\n",
              "          const docLink = document.createElement('div');\n",
              "          docLink.innerHTML = docLinkHtml;\n",
              "          element.appendChild(docLink);\n",
              "        }\n",
              "      </script>\n",
              "    </div>\n",
              "  </div>\n",
              "  "
            ],
            "text/plain": [
              "    mean_fit_time  std_fit_time  mean_score_time  std_score_time  \\\n",
              "10       0.011724      0.000080         0.000642        0.000010   \n",
              "11       0.016330      0.000866         0.000978        0.000221   \n",
              "15       0.012077      0.000348         0.000652        0.000022   \n",
              "6        0.016030      0.001211         0.000717        0.000023   \n",
              "12       0.019827      0.000308         0.001045        0.000068   \n",
              "\n",
              "   param_learning_rate param_max_depth  \\\n",
              "10                 0.1               1   \n",
              "11                 0.1               3   \n",
              "15                   1               1   \n",
              "6                 0.01               3   \n",
              "12                 0.1               5   \n",
              "\n",
              "                                     params  split0_test_score  \\\n",
              "10   {'learning_rate': 0.1, 'max_depth': 1}          -1.679581   \n",
              "11   {'learning_rate': 0.1, 'max_depth': 3}          -1.668660   \n",
              "15     {'learning_rate': 1, 'max_depth': 1}          -1.631114   \n",
              "6   {'learning_rate': 0.01, 'max_depth': 3}          -1.914337   \n",
              "12   {'learning_rate': 0.1, 'max_depth': 5}          -1.914190   \n",
              "\n",
              "    split1_test_score  split2_test_score  split3_test_score  \\\n",
              "10          -1.054547          -1.203540          -1.181949   \n",
              "11          -1.123877          -1.272220          -1.353485   \n",
              "15          -1.173289          -1.349548          -1.318998   \n",
              "6           -1.307901          -1.314777          -1.474654   \n",
              "12          -1.271914          -1.441368          -1.517921   \n",
              "\n",
              "    split4_test_score  mean_test_score  std_test_score  rank_test_score  \n",
              "10          -1.224757        -1.268875        0.213723                1  \n",
              "11          -1.388917        -1.361432        0.178661                2  \n",
              "15          -1.399552        -1.374500        0.148773                3  \n",
              "6           -1.641916        -1.530717        0.227574                4  \n",
              "12          -1.635781        -1.556235        0.214457                5  "
            ]
          },
          "metadata": {},
          "execution_count": 70
        }
      ],
      "source": [
        "pd.DataFrame(xgb_gridsearch.cv_results_).sort_values('rank_test_score')[0:5]"
      ],
      "metadata": {
        "pycharm": {
          "name": "#%%\n"
        },
        "colab": {
          "base_uri": "https://localhost:8080/",
          "height": 438
        },
        "id": "GfwDy9VvWt6n",
        "outputId": "7e235b81-8002-4f0d-c6b7-211357d43ca0"
      }
    },
    {
      "cell_type": "code",
      "execution_count": null,
      "outputs": [
        {
          "output_type": "execute_result",
          "data": {
            "text/plain": [
              "{'learning_rate': 0.1, 'max_depth': 1}"
            ]
          },
          "metadata": {},
          "execution_count": 71
        }
      ],
      "source": [
        "xgb_gridsearch.best_params_"
      ],
      "metadata": {
        "pycharm": {
          "name": "#%%\n"
        },
        "colab": {
          "base_uri": "https://localhost:8080/"
        },
        "id": "igIYZnXhWt6n",
        "outputId": "bbbf211a-e26f-4dbc-9736-87a433051e30"
      }
    },
    {
      "cell_type": "markdown",
      "source": [
        "### 3.4 Randomized search"
      ],
      "metadata": {
        "collapsed": false,
        "pycharm": {
          "name": "#%% md\n"
        },
        "id": "uZO2on8tWt6o"
      }
    },
    {
      "cell_type": "markdown",
      "source": [
        "A grid search has the advantage that all possible combinations of tuning parameters are considered and the optimal combination is found. This procedure however becomes extremely time-consuming if a lot of tuning parameters are involved. In such a situation, a randomized search is better to save computation time. A randomized search simply tries *m* possible combinations out of *n* cases and returns the best performing one from this subset.\n",
        "\n",
        "The method ```sklearn.model_selection.RandomizedSearchCV``` presents the following additional (or other) parameters:\n",
        "\n",
        "* ```param_distributions```: the dictionary object that holds the distribution of possible hyperparameters you want to try\n",
        "* ```n_iter```: the number of random tuning parameter combinations to try out\n",
        "* ```random_state```: an initializer to make the random selection process repeatable."
      ],
      "metadata": {
        "collapsed": false,
        "id": "CNAOCxprWt6o"
      }
    },
    {
      "cell_type": "code",
      "execution_count": null,
      "outputs": [
        {
          "output_type": "stream",
          "name": "stdout",
          "text": [
            "Fitting 5 folds for each of 10 candidates, totalling 50 fits\n"
          ]
        },
        {
          "output_type": "execute_result",
          "data": {
            "text/plain": [
              "RandomizedSearchCV(cv=5, estimator=XGBRegressor(objective='reg:squarederror'),\n",
              "                   param_distributions={'learning_rate': [0.001, 0.01, 0.1, 1],\n",
              "                                        'max_depth': [1, 3, 5, 7, 9]},\n",
              "                   random_state=54321, scoring='neg_mean_squared_error',\n",
              "                   verbose=1)"
            ]
          },
          "metadata": {},
          "execution_count": 72
        }
      ],
      "source": [
        "# execute cross_validation\n",
        "xgb_randomsearch = RandomizedSearchCV(estimator=xgb_grid,\n",
        "                                      param_distributions=search_dict,\n",
        "                                      n_iter=10,\n",
        "                                      scoring='neg_mean_squared_error',\n",
        "                                      return_train_score=False,\n",
        "                                      verbose=1,\n",
        "                                      cv=5,\n",
        "                                      random_state = 54321)\n",
        "xgb_randomsearch.fit(x_train, y_train)"
      ],
      "metadata": {
        "pycharm": {
          "name": "#%%\n"
        },
        "colab": {
          "base_uri": "https://localhost:8080/"
        },
        "id": "yoFT9QKkWt6o",
        "outputId": "889b51cf-d07a-4904-8fe6-fcff0d5a078f"
      }
    },
    {
      "cell_type": "markdown",
      "source": [
        "The optimal combination of parameters is not within the subset of 10 out of 100 possibilities in our grid:"
      ],
      "metadata": {
        "collapsed": false,
        "id": "2SqqULQPWt6o"
      }
    },
    {
      "cell_type": "code",
      "execution_count": null,
      "outputs": [
        {
          "output_type": "execute_result",
          "data": {
            "text/html": [
              "\n",
              "  <div id=\"df-75ad2a7d-0839-481d-b9fd-51db738ff02c\">\n",
              "    <div class=\"colab-df-container\">\n",
              "      <div>\n",
              "<style scoped>\n",
              "    .dataframe tbody tr th:only-of-type {\n",
              "        vertical-align: middle;\n",
              "    }\n",
              "\n",
              "    .dataframe tbody tr th {\n",
              "        vertical-align: top;\n",
              "    }\n",
              "\n",
              "    .dataframe thead th {\n",
              "        text-align: right;\n",
              "    }\n",
              "</style>\n",
              "<table border=\"1\" class=\"dataframe\">\n",
              "  <thead>\n",
              "    <tr style=\"text-align: right;\">\n",
              "      <th></th>\n",
              "      <th>mean_fit_time</th>\n",
              "      <th>std_fit_time</th>\n",
              "      <th>mean_score_time</th>\n",
              "      <th>std_score_time</th>\n",
              "      <th>param_max_depth</th>\n",
              "      <th>param_learning_rate</th>\n",
              "      <th>params</th>\n",
              "      <th>split0_test_score</th>\n",
              "      <th>split1_test_score</th>\n",
              "      <th>split2_test_score</th>\n",
              "      <th>split3_test_score</th>\n",
              "      <th>split4_test_score</th>\n",
              "      <th>mean_test_score</th>\n",
              "      <th>std_test_score</th>\n",
              "      <th>rank_test_score</th>\n",
              "    </tr>\n",
              "  </thead>\n",
              "  <tbody>\n",
              "    <tr>\n",
              "      <th>4</th>\n",
              "      <td>0.015882</td>\n",
              "      <td>0.000656</td>\n",
              "      <td>0.000878</td>\n",
              "      <td>0.000112</td>\n",
              "      <td>3</td>\n",
              "      <td>0.1</td>\n",
              "      <td>{'max_depth': 3, 'learning_rate': 0.1}</td>\n",
              "      <td>-1.668660</td>\n",
              "      <td>-1.123877</td>\n",
              "      <td>-1.272220</td>\n",
              "      <td>-1.353485</td>\n",
              "      <td>-1.388917</td>\n",
              "      <td>-1.361432</td>\n",
              "      <td>0.178661</td>\n",
              "      <td>1</td>\n",
              "    </tr>\n",
              "    <tr>\n",
              "      <th>6</th>\n",
              "      <td>0.013048</td>\n",
              "      <td>0.001674</td>\n",
              "      <td>0.000694</td>\n",
              "      <td>0.000087</td>\n",
              "      <td>1</td>\n",
              "      <td>1</td>\n",
              "      <td>{'max_depth': 1, 'learning_rate': 1}</td>\n",
              "      <td>-1.631114</td>\n",
              "      <td>-1.173289</td>\n",
              "      <td>-1.349548</td>\n",
              "      <td>-1.318998</td>\n",
              "      <td>-1.399552</td>\n",
              "      <td>-1.374500</td>\n",
              "      <td>0.148773</td>\n",
              "      <td>2</td>\n",
              "    </tr>\n",
              "    <tr>\n",
              "      <th>2</th>\n",
              "      <td>0.019638</td>\n",
              "      <td>0.000196</td>\n",
              "      <td>0.000998</td>\n",
              "      <td>0.000014</td>\n",
              "      <td>5</td>\n",
              "      <td>0.1</td>\n",
              "      <td>{'max_depth': 5, 'learning_rate': 0.1}</td>\n",
              "      <td>-1.914190</td>\n",
              "      <td>-1.271914</td>\n",
              "      <td>-1.441368</td>\n",
              "      <td>-1.517921</td>\n",
              "      <td>-1.635781</td>\n",
              "      <td>-1.556235</td>\n",
              "      <td>0.214457</td>\n",
              "      <td>3</td>\n",
              "    </tr>\n",
              "    <tr>\n",
              "      <th>1</th>\n",
              "      <td>0.030232</td>\n",
              "      <td>0.003143</td>\n",
              "      <td>0.001142</td>\n",
              "      <td>0.000041</td>\n",
              "      <td>9</td>\n",
              "      <td>0.01</td>\n",
              "      <td>{'max_depth': 9, 'learning_rate': 0.01}</td>\n",
              "      <td>-1.997941</td>\n",
              "      <td>-1.394366</td>\n",
              "      <td>-1.350813</td>\n",
              "      <td>-1.729463</td>\n",
              "      <td>-2.004928</td>\n",
              "      <td>-1.695502</td>\n",
              "      <td>0.282085</td>\n",
              "      <td>4</td>\n",
              "    </tr>\n",
              "    <tr>\n",
              "      <th>0</th>\n",
              "      <td>0.013431</td>\n",
              "      <td>0.002499</td>\n",
              "      <td>0.000653</td>\n",
              "      <td>0.000028</td>\n",
              "      <td>1</td>\n",
              "      <td>0.01</td>\n",
              "      <td>{'max_depth': 1, 'learning_rate': 0.01}</td>\n",
              "      <td>-2.250516</td>\n",
              "      <td>-1.547494</td>\n",
              "      <td>-1.575817</td>\n",
              "      <td>-1.733928</td>\n",
              "      <td>-1.803403</td>\n",
              "      <td>-1.782232</td>\n",
              "      <td>0.252895</td>\n",
              "      <td>5</td>\n",
              "    </tr>\n",
              "    <tr>\n",
              "      <th>8</th>\n",
              "      <td>0.026523</td>\n",
              "      <td>0.003537</td>\n",
              "      <td>0.001165</td>\n",
              "      <td>0.000023</td>\n",
              "      <td>7</td>\n",
              "      <td>0.1</td>\n",
              "      <td>{'max_depth': 7, 'learning_rate': 0.1}</td>\n",
              "      <td>-2.176838</td>\n",
              "      <td>-1.440022</td>\n",
              "      <td>-1.682409</td>\n",
              "      <td>-1.844431</td>\n",
              "      <td>-1.835764</td>\n",
              "      <td>-1.795893</td>\n",
              "      <td>0.240245</td>\n",
              "      <td>6</td>\n",
              "    </tr>\n",
              "    <tr>\n",
              "      <th>5</th>\n",
              "      <td>0.016596</td>\n",
              "      <td>0.001287</td>\n",
              "      <td>0.000909</td>\n",
              "      <td>0.000161</td>\n",
              "      <td>3</td>\n",
              "      <td>1</td>\n",
              "      <td>{'max_depth': 3, 'learning_rate': 1}</td>\n",
              "      <td>-2.680865</td>\n",
              "      <td>-1.732931</td>\n",
              "      <td>-1.983423</td>\n",
              "      <td>-2.172457</td>\n",
              "      <td>-2.283173</td>\n",
              "      <td>-2.170570</td>\n",
              "      <td>0.316113</td>\n",
              "      <td>7</td>\n",
              "    </tr>\n",
              "    <tr>\n",
              "      <th>9</th>\n",
              "      <td>0.023483</td>\n",
              "      <td>0.001186</td>\n",
              "      <td>0.001123</td>\n",
              "      <td>0.000036</td>\n",
              "      <td>9</td>\n",
              "      <td>1</td>\n",
              "      <td>{'max_depth': 9, 'learning_rate': 1}</td>\n",
              "      <td>-3.042363</td>\n",
              "      <td>-1.948582</td>\n",
              "      <td>-2.248963</td>\n",
              "      <td>-2.466232</td>\n",
              "      <td>-2.427492</td>\n",
              "      <td>-2.426726</td>\n",
              "      <td>0.357992</td>\n",
              "      <td>8</td>\n",
              "    </tr>\n",
              "    <tr>\n",
              "      <th>3</th>\n",
              "      <td>0.015492</td>\n",
              "      <td>0.000280</td>\n",
              "      <td>0.000692</td>\n",
              "      <td>0.000028</td>\n",
              "      <td>3</td>\n",
              "      <td>0.001</td>\n",
              "      <td>{'max_depth': 3, 'learning_rate': 0.001}</td>\n",
              "      <td>-3.407591</td>\n",
              "      <td>-2.860098</td>\n",
              "      <td>-2.836675</td>\n",
              "      <td>-2.928167</td>\n",
              "      <td>-3.230745</td>\n",
              "      <td>-3.052655</td>\n",
              "      <td>0.226680</td>\n",
              "      <td>9</td>\n",
              "    </tr>\n",
              "    <tr>\n",
              "      <th>7</th>\n",
              "      <td>0.023527</td>\n",
              "      <td>0.000437</td>\n",
              "      <td>0.000894</td>\n",
              "      <td>0.000033</td>\n",
              "      <td>7</td>\n",
              "      <td>0.001</td>\n",
              "      <td>{'max_depth': 7, 'learning_rate': 0.001}</td>\n",
              "      <td>-3.418826</td>\n",
              "      <td>-2.854942</td>\n",
              "      <td>-2.818655</td>\n",
              "      <td>-2.941027</td>\n",
              "      <td>-3.244230</td>\n",
              "      <td>-3.055536</td>\n",
              "      <td>0.235392</td>\n",
              "      <td>10</td>\n",
              "    </tr>\n",
              "  </tbody>\n",
              "</table>\n",
              "</div>\n",
              "      <button class=\"colab-df-convert\" onclick=\"convertToInteractive('df-75ad2a7d-0839-481d-b9fd-51db738ff02c')\"\n",
              "              title=\"Convert this dataframe to an interactive table.\"\n",
              "              style=\"display:none;\">\n",
              "        \n",
              "  <svg xmlns=\"http://www.w3.org/2000/svg\" height=\"24px\"viewBox=\"0 0 24 24\"\n",
              "       width=\"24px\">\n",
              "    <path d=\"M0 0h24v24H0V0z\" fill=\"none\"/>\n",
              "    <path d=\"M18.56 5.44l.94 2.06.94-2.06 2.06-.94-2.06-.94-.94-2.06-.94 2.06-2.06.94zm-11 1L8.5 8.5l.94-2.06 2.06-.94-2.06-.94L8.5 2.5l-.94 2.06-2.06.94zm10 10l.94 2.06.94-2.06 2.06-.94-2.06-.94-.94-2.06-.94 2.06-2.06.94z\"/><path d=\"M17.41 7.96l-1.37-1.37c-.4-.4-.92-.59-1.43-.59-.52 0-1.04.2-1.43.59L10.3 9.45l-7.72 7.72c-.78.78-.78 2.05 0 2.83L4 21.41c.39.39.9.59 1.41.59.51 0 1.02-.2 1.41-.59l7.78-7.78 2.81-2.81c.8-.78.8-2.07 0-2.86zM5.41 20L4 18.59l7.72-7.72 1.47 1.35L5.41 20z\"/>\n",
              "  </svg>\n",
              "      </button>\n",
              "      \n",
              "  <style>\n",
              "    .colab-df-container {\n",
              "      display:flex;\n",
              "      flex-wrap:wrap;\n",
              "      gap: 12px;\n",
              "    }\n",
              "\n",
              "    .colab-df-convert {\n",
              "      background-color: #E8F0FE;\n",
              "      border: none;\n",
              "      border-radius: 50%;\n",
              "      cursor: pointer;\n",
              "      display: none;\n",
              "      fill: #1967D2;\n",
              "      height: 32px;\n",
              "      padding: 0 0 0 0;\n",
              "      width: 32px;\n",
              "    }\n",
              "\n",
              "    .colab-df-convert:hover {\n",
              "      background-color: #E2EBFA;\n",
              "      box-shadow: 0px 1px 2px rgba(60, 64, 67, 0.3), 0px 1px 3px 1px rgba(60, 64, 67, 0.15);\n",
              "      fill: #174EA6;\n",
              "    }\n",
              "\n",
              "    [theme=dark] .colab-df-convert {\n",
              "      background-color: #3B4455;\n",
              "      fill: #D2E3FC;\n",
              "    }\n",
              "\n",
              "    [theme=dark] .colab-df-convert:hover {\n",
              "      background-color: #434B5C;\n",
              "      box-shadow: 0px 1px 3px 1px rgba(0, 0, 0, 0.15);\n",
              "      filter: drop-shadow(0px 1px 2px rgba(0, 0, 0, 0.3));\n",
              "      fill: #FFFFFF;\n",
              "    }\n",
              "  </style>\n",
              "\n",
              "      <script>\n",
              "        const buttonEl =\n",
              "          document.querySelector('#df-75ad2a7d-0839-481d-b9fd-51db738ff02c button.colab-df-convert');\n",
              "        buttonEl.style.display =\n",
              "          google.colab.kernel.accessAllowed ? 'block' : 'none';\n",
              "\n",
              "        async function convertToInteractive(key) {\n",
              "          const element = document.querySelector('#df-75ad2a7d-0839-481d-b9fd-51db738ff02c');\n",
              "          const dataTable =\n",
              "            await google.colab.kernel.invokeFunction('convertToInteractive',\n",
              "                                                     [key], {});\n",
              "          if (!dataTable) return;\n",
              "\n",
              "          const docLinkHtml = 'Like what you see? Visit the ' +\n",
              "            '<a target=\"_blank\" href=https://colab.research.google.com/notebooks/data_table.ipynb>data table notebook</a>'\n",
              "            + ' to learn more about interactive tables.';\n",
              "          element.innerHTML = '';\n",
              "          dataTable['output_type'] = 'display_data';\n",
              "          await google.colab.output.renderOutput(dataTable, element);\n",
              "          const docLink = document.createElement('div');\n",
              "          docLink.innerHTML = docLinkHtml;\n",
              "          element.appendChild(docLink);\n",
              "        }\n",
              "      </script>\n",
              "    </div>\n",
              "  </div>\n",
              "  "
            ],
            "text/plain": [
              "   mean_fit_time  std_fit_time  mean_score_time  std_score_time  \\\n",
              "4       0.015882      0.000656         0.000878        0.000112   \n",
              "6       0.013048      0.001674         0.000694        0.000087   \n",
              "2       0.019638      0.000196         0.000998        0.000014   \n",
              "1       0.030232      0.003143         0.001142        0.000041   \n",
              "0       0.013431      0.002499         0.000653        0.000028   \n",
              "8       0.026523      0.003537         0.001165        0.000023   \n",
              "5       0.016596      0.001287         0.000909        0.000161   \n",
              "9       0.023483      0.001186         0.001123        0.000036   \n",
              "3       0.015492      0.000280         0.000692        0.000028   \n",
              "7       0.023527      0.000437         0.000894        0.000033   \n",
              "\n",
              "  param_max_depth param_learning_rate  \\\n",
              "4               3                 0.1   \n",
              "6               1                   1   \n",
              "2               5                 0.1   \n",
              "1               9                0.01   \n",
              "0               1                0.01   \n",
              "8               7                 0.1   \n",
              "5               3                   1   \n",
              "9               9                   1   \n",
              "3               3               0.001   \n",
              "7               7               0.001   \n",
              "\n",
              "                                     params  split0_test_score  \\\n",
              "4    {'max_depth': 3, 'learning_rate': 0.1}          -1.668660   \n",
              "6      {'max_depth': 1, 'learning_rate': 1}          -1.631114   \n",
              "2    {'max_depth': 5, 'learning_rate': 0.1}          -1.914190   \n",
              "1   {'max_depth': 9, 'learning_rate': 0.01}          -1.997941   \n",
              "0   {'max_depth': 1, 'learning_rate': 0.01}          -2.250516   \n",
              "8    {'max_depth': 7, 'learning_rate': 0.1}          -2.176838   \n",
              "5      {'max_depth': 3, 'learning_rate': 1}          -2.680865   \n",
              "9      {'max_depth': 9, 'learning_rate': 1}          -3.042363   \n",
              "3  {'max_depth': 3, 'learning_rate': 0.001}          -3.407591   \n",
              "7  {'max_depth': 7, 'learning_rate': 0.001}          -3.418826   \n",
              "\n",
              "   split1_test_score  split2_test_score  split3_test_score  split4_test_score  \\\n",
              "4          -1.123877          -1.272220          -1.353485          -1.388917   \n",
              "6          -1.173289          -1.349548          -1.318998          -1.399552   \n",
              "2          -1.271914          -1.441368          -1.517921          -1.635781   \n",
              "1          -1.394366          -1.350813          -1.729463          -2.004928   \n",
              "0          -1.547494          -1.575817          -1.733928          -1.803403   \n",
              "8          -1.440022          -1.682409          -1.844431          -1.835764   \n",
              "5          -1.732931          -1.983423          -2.172457          -2.283173   \n",
              "9          -1.948582          -2.248963          -2.466232          -2.427492   \n",
              "3          -2.860098          -2.836675          -2.928167          -3.230745   \n",
              "7          -2.854942          -2.818655          -2.941027          -3.244230   \n",
              "\n",
              "   mean_test_score  std_test_score  rank_test_score  \n",
              "4        -1.361432        0.178661                1  \n",
              "6        -1.374500        0.148773                2  \n",
              "2        -1.556235        0.214457                3  \n",
              "1        -1.695502        0.282085                4  \n",
              "0        -1.782232        0.252895                5  \n",
              "8        -1.795893        0.240245                6  \n",
              "5        -2.170570        0.316113                7  \n",
              "9        -2.426726        0.357992                8  \n",
              "3        -3.052655        0.226680                9  \n",
              "7        -3.055536        0.235392               10  "
            ]
          },
          "metadata": {},
          "execution_count": 73
        }
      ],
      "source": [
        "pd.DataFrame(xgb_randomsearch.cv_results_).sort_values('rank_test_score')"
      ],
      "metadata": {
        "pycharm": {
          "name": "#%%\n"
        },
        "colab": {
          "base_uri": "https://localhost:8080/",
          "height": 933
        },
        "id": "8cxnqm4KWt6o",
        "outputId": "eedfaf7c-b56f-4ab0-fe85-e5966f75718b"
      }
    },
    {
      "cell_type": "code",
      "execution_count": null,
      "outputs": [
        {
          "output_type": "execute_result",
          "data": {
            "text/plain": [
              "{'learning_rate': 0.1, 'max_depth': 3}"
            ]
          },
          "metadata": {},
          "execution_count": 74
        }
      ],
      "source": [
        "xgb_randomsearch.best_params_"
      ],
      "metadata": {
        "pycharm": {
          "name": "#%%\n"
        },
        "colab": {
          "base_uri": "https://localhost:8080/"
        },
        "id": "86CcOEIdWt6o",
        "outputId": "4f6f23dc-e93b-454d-b165-b41ce7a3c97a"
      }
    },
    {
      "cell_type": "markdown",
      "source": [
        "## 4. Claim frequency and severity data\n",
        "\n",
        "We now turn to the modeling of claim frequency and severity data with XGBoost."
      ],
      "metadata": {
        "collapsed": false,
        "id": "HKK_pqA9Wt6o"
      }
    },
    {
      "cell_type": "markdown",
      "source": [
        "### 4.1 Read the MTPL dataset\n",
        "\n",
        "We first read and pre-process the MTPL data."
      ],
      "metadata": {
        "collapsed": false,
        "pycharm": {
          "name": "#%% md\n"
        },
        "id": "phEUB5TMWt6p"
      }
    },
    {
      "cell_type": "code",
      "execution_count": null,
      "outputs": [
        {
          "output_type": "stream",
          "name": "stdout",
          "text": [
            "(163231, 18)\n"
          ]
        },
        {
          "output_type": "execute_result",
          "data": {
            "text/html": [
              "\n",
              "  <div id=\"df-aa039503-f9c5-4a88-9b4e-d8e643b78c6e\">\n",
              "    <div class=\"colab-df-container\">\n",
              "      <div>\n",
              "<style scoped>\n",
              "    .dataframe tbody tr th:only-of-type {\n",
              "        vertical-align: middle;\n",
              "    }\n",
              "\n",
              "    .dataframe tbody tr th {\n",
              "        vertical-align: top;\n",
              "    }\n",
              "\n",
              "    .dataframe thead th {\n",
              "        text-align: right;\n",
              "    }\n",
              "</style>\n",
              "<table border=\"1\" class=\"dataframe\">\n",
              "  <thead>\n",
              "    <tr style=\"text-align: right;\">\n",
              "      <th></th>\n",
              "      <th>id</th>\n",
              "      <th>nclaims</th>\n",
              "      <th>amount</th>\n",
              "      <th>avg</th>\n",
              "      <th>expo</th>\n",
              "      <th>coverage</th>\n",
              "      <th>fuel</th>\n",
              "      <th>use</th>\n",
              "      <th>fleet</th>\n",
              "      <th>sex</th>\n",
              "      <th>ageph</th>\n",
              "      <th>bm</th>\n",
              "      <th>agec</th>\n",
              "      <th>power</th>\n",
              "      <th>pc</th>\n",
              "      <th>town</th>\n",
              "      <th>long</th>\n",
              "      <th>lat</th>\n",
              "    </tr>\n",
              "  </thead>\n",
              "  <tbody>\n",
              "    <tr>\n",
              "      <th>0</th>\n",
              "      <td>1</td>\n",
              "      <td>1</td>\n",
              "      <td>1618.001036</td>\n",
              "      <td>1618.001036</td>\n",
              "      <td>1.000000</td>\n",
              "      <td>TPL</td>\n",
              "      <td>gasoline</td>\n",
              "      <td>private</td>\n",
              "      <td>N</td>\n",
              "      <td>male</td>\n",
              "      <td>50</td>\n",
              "      <td>5</td>\n",
              "      <td>12</td>\n",
              "      <td>77</td>\n",
              "      <td>1000</td>\n",
              "      <td>BRUSSEL</td>\n",
              "      <td>4.355223</td>\n",
              "      <td>50.845386</td>\n",
              "    </tr>\n",
              "    <tr>\n",
              "      <th>1</th>\n",
              "      <td>2</td>\n",
              "      <td>0</td>\n",
              "      <td>0.000000</td>\n",
              "      <td>NaN</td>\n",
              "      <td>1.000000</td>\n",
              "      <td>PO</td>\n",
              "      <td>gasoline</td>\n",
              "      <td>private</td>\n",
              "      <td>N</td>\n",
              "      <td>female</td>\n",
              "      <td>64</td>\n",
              "      <td>5</td>\n",
              "      <td>3</td>\n",
              "      <td>66</td>\n",
              "      <td>1000</td>\n",
              "      <td>BRUSSEL</td>\n",
              "      <td>4.355223</td>\n",
              "      <td>50.845386</td>\n",
              "    </tr>\n",
              "    <tr>\n",
              "      <th>2</th>\n",
              "      <td>3</td>\n",
              "      <td>0</td>\n",
              "      <td>0.000000</td>\n",
              "      <td>NaN</td>\n",
              "      <td>1.000000</td>\n",
              "      <td>TPL</td>\n",
              "      <td>diesel</td>\n",
              "      <td>private</td>\n",
              "      <td>N</td>\n",
              "      <td>male</td>\n",
              "      <td>60</td>\n",
              "      <td>0</td>\n",
              "      <td>10</td>\n",
              "      <td>70</td>\n",
              "      <td>1000</td>\n",
              "      <td>BRUSSEL</td>\n",
              "      <td>4.355223</td>\n",
              "      <td>50.845386</td>\n",
              "    </tr>\n",
              "    <tr>\n",
              "      <th>3</th>\n",
              "      <td>4</td>\n",
              "      <td>0</td>\n",
              "      <td>0.000000</td>\n",
              "      <td>NaN</td>\n",
              "      <td>1.000000</td>\n",
              "      <td>TPL</td>\n",
              "      <td>gasoline</td>\n",
              "      <td>private</td>\n",
              "      <td>N</td>\n",
              "      <td>male</td>\n",
              "      <td>77</td>\n",
              "      <td>0</td>\n",
              "      <td>15</td>\n",
              "      <td>57</td>\n",
              "      <td>1000</td>\n",
              "      <td>BRUSSEL</td>\n",
              "      <td>4.355223</td>\n",
              "      <td>50.845386</td>\n",
              "    </tr>\n",
              "    <tr>\n",
              "      <th>4</th>\n",
              "      <td>5</td>\n",
              "      <td>1</td>\n",
              "      <td>155.974606</td>\n",
              "      <td>155.974606</td>\n",
              "      <td>0.046575</td>\n",
              "      <td>TPL</td>\n",
              "      <td>gasoline</td>\n",
              "      <td>private</td>\n",
              "      <td>N</td>\n",
              "      <td>female</td>\n",
              "      <td>28</td>\n",
              "      <td>9</td>\n",
              "      <td>7</td>\n",
              "      <td>70</td>\n",
              "      <td>1000</td>\n",
              "      <td>BRUSSEL</td>\n",
              "      <td>4.355223</td>\n",
              "      <td>50.845386</td>\n",
              "    </tr>\n",
              "  </tbody>\n",
              "</table>\n",
              "</div>\n",
              "      <button class=\"colab-df-convert\" onclick=\"convertToInteractive('df-aa039503-f9c5-4a88-9b4e-d8e643b78c6e')\"\n",
              "              title=\"Convert this dataframe to an interactive table.\"\n",
              "              style=\"display:none;\">\n",
              "        \n",
              "  <svg xmlns=\"http://www.w3.org/2000/svg\" height=\"24px\"viewBox=\"0 0 24 24\"\n",
              "       width=\"24px\">\n",
              "    <path d=\"M0 0h24v24H0V0z\" fill=\"none\"/>\n",
              "    <path d=\"M18.56 5.44l.94 2.06.94-2.06 2.06-.94-2.06-.94-.94-2.06-.94 2.06-2.06.94zm-11 1L8.5 8.5l.94-2.06 2.06-.94-2.06-.94L8.5 2.5l-.94 2.06-2.06.94zm10 10l.94 2.06.94-2.06 2.06-.94-2.06-.94-.94-2.06-.94 2.06-2.06.94z\"/><path d=\"M17.41 7.96l-1.37-1.37c-.4-.4-.92-.59-1.43-.59-.52 0-1.04.2-1.43.59L10.3 9.45l-7.72 7.72c-.78.78-.78 2.05 0 2.83L4 21.41c.39.39.9.59 1.41.59.51 0 1.02-.2 1.41-.59l7.78-7.78 2.81-2.81c.8-.78.8-2.07 0-2.86zM5.41 20L4 18.59l7.72-7.72 1.47 1.35L5.41 20z\"/>\n",
              "  </svg>\n",
              "      </button>\n",
              "      \n",
              "  <style>\n",
              "    .colab-df-container {\n",
              "      display:flex;\n",
              "      flex-wrap:wrap;\n",
              "      gap: 12px;\n",
              "    }\n",
              "\n",
              "    .colab-df-convert {\n",
              "      background-color: #E8F0FE;\n",
              "      border: none;\n",
              "      border-radius: 50%;\n",
              "      cursor: pointer;\n",
              "      display: none;\n",
              "      fill: #1967D2;\n",
              "      height: 32px;\n",
              "      padding: 0 0 0 0;\n",
              "      width: 32px;\n",
              "    }\n",
              "\n",
              "    .colab-df-convert:hover {\n",
              "      background-color: #E2EBFA;\n",
              "      box-shadow: 0px 1px 2px rgba(60, 64, 67, 0.3), 0px 1px 3px 1px rgba(60, 64, 67, 0.15);\n",
              "      fill: #174EA6;\n",
              "    }\n",
              "\n",
              "    [theme=dark] .colab-df-convert {\n",
              "      background-color: #3B4455;\n",
              "      fill: #D2E3FC;\n",
              "    }\n",
              "\n",
              "    [theme=dark] .colab-df-convert:hover {\n",
              "      background-color: #434B5C;\n",
              "      box-shadow: 0px 1px 3px 1px rgba(0, 0, 0, 0.15);\n",
              "      filter: drop-shadow(0px 1px 2px rgba(0, 0, 0, 0.3));\n",
              "      fill: #FFFFFF;\n",
              "    }\n",
              "  </style>\n",
              "\n",
              "      <script>\n",
              "        const buttonEl =\n",
              "          document.querySelector('#df-aa039503-f9c5-4a88-9b4e-d8e643b78c6e button.colab-df-convert');\n",
              "        buttonEl.style.display =\n",
              "          google.colab.kernel.accessAllowed ? 'block' : 'none';\n",
              "\n",
              "        async function convertToInteractive(key) {\n",
              "          const element = document.querySelector('#df-aa039503-f9c5-4a88-9b4e-d8e643b78c6e');\n",
              "          const dataTable =\n",
              "            await google.colab.kernel.invokeFunction('convertToInteractive',\n",
              "                                                     [key], {});\n",
              "          if (!dataTable) return;\n",
              "\n",
              "          const docLinkHtml = 'Like what you see? Visit the ' +\n",
              "            '<a target=\"_blank\" href=https://colab.research.google.com/notebooks/data_table.ipynb>data table notebook</a>'\n",
              "            + ' to learn more about interactive tables.';\n",
              "          element.innerHTML = '';\n",
              "          dataTable['output_type'] = 'display_data';\n",
              "          await google.colab.output.renderOutput(dataTable, element);\n",
              "          const docLink = document.createElement('div');\n",
              "          docLink.innerHTML = docLinkHtml;\n",
              "          element.appendChild(docLink);\n",
              "        }\n",
              "      </script>\n",
              "    </div>\n",
              "  </div>\n",
              "  "
            ],
            "text/plain": [
              "   id  nclaims       amount          avg      expo coverage      fuel  \\\n",
              "0   1        1  1618.001036  1618.001036  1.000000      TPL  gasoline   \n",
              "1   2        0     0.000000          NaN  1.000000       PO  gasoline   \n",
              "2   3        0     0.000000          NaN  1.000000      TPL    diesel   \n",
              "3   4        0     0.000000          NaN  1.000000      TPL  gasoline   \n",
              "4   5        1   155.974606   155.974606  0.046575      TPL  gasoline   \n",
              "\n",
              "       use fleet     sex  ageph  bm  agec  power    pc     town      long  \\\n",
              "0  private     N    male     50   5    12     77  1000  BRUSSEL  4.355223   \n",
              "1  private     N  female     64   5     3     66  1000  BRUSSEL  4.355223   \n",
              "2  private     N    male     60   0    10     70  1000  BRUSSEL  4.355223   \n",
              "3  private     N    male     77   0    15     57  1000  BRUSSEL  4.355223   \n",
              "4  private     N  female     28   9     7     70  1000  BRUSSEL  4.355223   \n",
              "\n",
              "         lat  \n",
              "0  50.845386  \n",
              "1  50.845386  \n",
              "2  50.845386  \n",
              "3  50.845386  \n",
              "4  50.845386  "
            ]
          },
          "metadata": {},
          "execution_count": 75
        }
      ],
      "source": [
        "mtpl = pd.read_csv(\"https://katrienantonio.github.io/hands-on-machine-learning-R-module-1/data/PC_data.txt\", delimiter = \"\\t\")\n",
        "mtpl.columns = mtpl.columns.str.lower()\n",
        "mtpl = mtpl.rename(columns= {'exp': 'expo'})\n",
        "print(mtpl.shape)\n",
        "mtpl.head()"
      ],
      "metadata": {
        "pycharm": {
          "name": "#%%\n"
        },
        "colab": {
          "base_uri": "https://localhost:8080/",
          "height": 221
        },
        "id": "4hvLq5RcWt6p",
        "outputId": "9e1a8eee-dc21-4741-9974-8b34e9ea2f9a"
      }
    },
    {
      "cell_type": "markdown",
      "source": [
        "We check the data types of all features:"
      ],
      "metadata": {
        "collapsed": false,
        "id": "bnlEvNkHWt6p"
      }
    },
    {
      "cell_type": "code",
      "execution_count": null,
      "outputs": [
        {
          "output_type": "execute_result",
          "data": {
            "text/plain": [
              "id            int64\n",
              "nclaims       int64\n",
              "amount      float64\n",
              "avg         float64\n",
              "expo        float64\n",
              "coverage     object\n",
              "fuel         object\n",
              "use          object\n",
              "fleet        object\n",
              "sex          object\n",
              "ageph         int64\n",
              "bm            int64\n",
              "agec          int64\n",
              "power         int64\n",
              "pc            int64\n",
              "town         object\n",
              "long        float64\n",
              "lat         float64\n",
              "dtype: object"
            ]
          },
          "metadata": {},
          "execution_count": 76
        }
      ],
      "source": [
        "mtpl.dtypes"
      ],
      "metadata": {
        "pycharm": {
          "name": "#%%\n"
        },
        "colab": {
          "base_uri": "https://localhost:8080/"
        },
        "id": "nE4n6O5VWt6p",
        "outputId": "5c497bed-dc96-4c35-e810-60700af7c1f8"
      }
    },
    {
      "cell_type": "markdown",
      "source": [
        "We need to transform the non-numeric features to a numerical format:"
      ],
      "metadata": {
        "collapsed": false,
        "id": "o_WBJXPQWt6p"
      }
    },
    {
      "cell_type": "code",
      "execution_count": null,
      "outputs": [],
      "source": [
        "# converting type(str) columns to categorical\n",
        "cat_feats = ['coverage','fleet','sex','fuel','use']\n",
        "for feat in cat_feats:\n",
        "    mtpl[feat] = mtpl[feat].astype('category').cat.codes"
      ],
      "metadata": {
        "pycharm": {
          "name": "#%%\n"
        },
        "id": "7hBFZkDpWt6p"
      }
    },
    {
      "cell_type": "code",
      "execution_count": null,
      "outputs": [
        {
          "output_type": "execute_result",
          "data": {
            "text/plain": [
              "id            int64\n",
              "nclaims       int64\n",
              "amount      float64\n",
              "avg         float64\n",
              "expo        float64\n",
              "coverage       int8\n",
              "fuel           int8\n",
              "use            int8\n",
              "fleet          int8\n",
              "sex            int8\n",
              "ageph         int64\n",
              "bm            int64\n",
              "agec          int64\n",
              "power         int64\n",
              "pc            int64\n",
              "town         object\n",
              "long        float64\n",
              "lat         float64\n",
              "dtype: object"
            ]
          },
          "metadata": {},
          "execution_count": 78
        }
      ],
      "source": [
        "mtpl.dtypes"
      ],
      "metadata": {
        "pycharm": {
          "name": "#%%\n"
        },
        "colab": {
          "base_uri": "https://localhost:8080/"
        },
        "id": "Z5CLiuNTWt6p",
        "outputId": "ad7d80d3-14b2-4dd1-e3f8-95f5e1ad0564"
      }
    },
    {
      "cell_type": "markdown",
      "source": [
        "Let's select some columns to retain as features for model training."
      ],
      "metadata": {
        "collapsed": false,
        "id": "1LLAVN33Wt6p"
      }
    },
    {
      "cell_type": "code",
      "execution_count": null,
      "outputs": [
        {
          "output_type": "execute_result",
          "data": {
            "text/html": [
              "\n",
              "  <div id=\"df-6aee5310-1a52-4ed7-9a29-220b24c02f7d\">\n",
              "    <div class=\"colab-df-container\">\n",
              "      <div>\n",
              "<style scoped>\n",
              "    .dataframe tbody tr th:only-of-type {\n",
              "        vertical-align: middle;\n",
              "    }\n",
              "\n",
              "    .dataframe tbody tr th {\n",
              "        vertical-align: top;\n",
              "    }\n",
              "\n",
              "    .dataframe thead th {\n",
              "        text-align: right;\n",
              "    }\n",
              "</style>\n",
              "<table border=\"1\" class=\"dataframe\">\n",
              "  <thead>\n",
              "    <tr style=\"text-align: right;\">\n",
              "      <th></th>\n",
              "      <th>bm</th>\n",
              "      <th>ageph</th>\n",
              "      <th>agec</th>\n",
              "      <th>power</th>\n",
              "      <th>coverage</th>\n",
              "      <th>fuel</th>\n",
              "      <th>sex</th>\n",
              "      <th>fleet</th>\n",
              "      <th>use</th>\n",
              "    </tr>\n",
              "  </thead>\n",
              "  <tbody>\n",
              "    <tr>\n",
              "      <th>0</th>\n",
              "      <td>5</td>\n",
              "      <td>50</td>\n",
              "      <td>12</td>\n",
              "      <td>77</td>\n",
              "      <td>2</td>\n",
              "      <td>1</td>\n",
              "      <td>1</td>\n",
              "      <td>0</td>\n",
              "      <td>0</td>\n",
              "    </tr>\n",
              "    <tr>\n",
              "      <th>1</th>\n",
              "      <td>5</td>\n",
              "      <td>64</td>\n",
              "      <td>3</td>\n",
              "      <td>66</td>\n",
              "      <td>1</td>\n",
              "      <td>1</td>\n",
              "      <td>0</td>\n",
              "      <td>0</td>\n",
              "      <td>0</td>\n",
              "    </tr>\n",
              "    <tr>\n",
              "      <th>2</th>\n",
              "      <td>0</td>\n",
              "      <td>60</td>\n",
              "      <td>10</td>\n",
              "      <td>70</td>\n",
              "      <td>2</td>\n",
              "      <td>0</td>\n",
              "      <td>1</td>\n",
              "      <td>0</td>\n",
              "      <td>0</td>\n",
              "    </tr>\n",
              "    <tr>\n",
              "      <th>3</th>\n",
              "      <td>0</td>\n",
              "      <td>77</td>\n",
              "      <td>15</td>\n",
              "      <td>57</td>\n",
              "      <td>2</td>\n",
              "      <td>1</td>\n",
              "      <td>1</td>\n",
              "      <td>0</td>\n",
              "      <td>0</td>\n",
              "    </tr>\n",
              "    <tr>\n",
              "      <th>4</th>\n",
              "      <td>9</td>\n",
              "      <td>28</td>\n",
              "      <td>7</td>\n",
              "      <td>70</td>\n",
              "      <td>2</td>\n",
              "      <td>1</td>\n",
              "      <td>0</td>\n",
              "      <td>0</td>\n",
              "      <td>0</td>\n",
              "    </tr>\n",
              "    <tr>\n",
              "      <th>...</th>\n",
              "      <td>...</td>\n",
              "      <td>...</td>\n",
              "      <td>...</td>\n",
              "      <td>...</td>\n",
              "      <td>...</td>\n",
              "      <td>...</td>\n",
              "      <td>...</td>\n",
              "      <td>...</td>\n",
              "      <td>...</td>\n",
              "    </tr>\n",
              "    <tr>\n",
              "      <th>163226</th>\n",
              "      <td>5</td>\n",
              "      <td>37</td>\n",
              "      <td>10</td>\n",
              "      <td>40</td>\n",
              "      <td>2</td>\n",
              "      <td>0</td>\n",
              "      <td>1</td>\n",
              "      <td>0</td>\n",
              "      <td>1</td>\n",
              "    </tr>\n",
              "    <tr>\n",
              "      <th>163227</th>\n",
              "      <td>0</td>\n",
              "      <td>44</td>\n",
              "      <td>6</td>\n",
              "      <td>55</td>\n",
              "      <td>2</td>\n",
              "      <td>0</td>\n",
              "      <td>1</td>\n",
              "      <td>0</td>\n",
              "      <td>0</td>\n",
              "    </tr>\n",
              "    <tr>\n",
              "      <th>163228</th>\n",
              "      <td>0</td>\n",
              "      <td>50</td>\n",
              "      <td>10</td>\n",
              "      <td>40</td>\n",
              "      <td>2</td>\n",
              "      <td>0</td>\n",
              "      <td>1</td>\n",
              "      <td>0</td>\n",
              "      <td>0</td>\n",
              "    </tr>\n",
              "    <tr>\n",
              "      <th>163229</th>\n",
              "      <td>0</td>\n",
              "      <td>43</td>\n",
              "      <td>7</td>\n",
              "      <td>66</td>\n",
              "      <td>2</td>\n",
              "      <td>1</td>\n",
              "      <td>1</td>\n",
              "      <td>0</td>\n",
              "      <td>0</td>\n",
              "    </tr>\n",
              "    <tr>\n",
              "      <th>163230</th>\n",
              "      <td>6</td>\n",
              "      <td>24</td>\n",
              "      <td>2</td>\n",
              "      <td>47</td>\n",
              "      <td>0</td>\n",
              "      <td>1</td>\n",
              "      <td>1</td>\n",
              "      <td>0</td>\n",
              "      <td>0</td>\n",
              "    </tr>\n",
              "  </tbody>\n",
              "</table>\n",
              "<p>163231 rows × 9 columns</p>\n",
              "</div>\n",
              "      <button class=\"colab-df-convert\" onclick=\"convertToInteractive('df-6aee5310-1a52-4ed7-9a29-220b24c02f7d')\"\n",
              "              title=\"Convert this dataframe to an interactive table.\"\n",
              "              style=\"display:none;\">\n",
              "        \n",
              "  <svg xmlns=\"http://www.w3.org/2000/svg\" height=\"24px\"viewBox=\"0 0 24 24\"\n",
              "       width=\"24px\">\n",
              "    <path d=\"M0 0h24v24H0V0z\" fill=\"none\"/>\n",
              "    <path d=\"M18.56 5.44l.94 2.06.94-2.06 2.06-.94-2.06-.94-.94-2.06-.94 2.06-2.06.94zm-11 1L8.5 8.5l.94-2.06 2.06-.94-2.06-.94L8.5 2.5l-.94 2.06-2.06.94zm10 10l.94 2.06.94-2.06 2.06-.94-2.06-.94-.94-2.06-.94 2.06-2.06.94z\"/><path d=\"M17.41 7.96l-1.37-1.37c-.4-.4-.92-.59-1.43-.59-.52 0-1.04.2-1.43.59L10.3 9.45l-7.72 7.72c-.78.78-.78 2.05 0 2.83L4 21.41c.39.39.9.59 1.41.59.51 0 1.02-.2 1.41-.59l7.78-7.78 2.81-2.81c.8-.78.8-2.07 0-2.86zM5.41 20L4 18.59l7.72-7.72 1.47 1.35L5.41 20z\"/>\n",
              "  </svg>\n",
              "      </button>\n",
              "      \n",
              "  <style>\n",
              "    .colab-df-container {\n",
              "      display:flex;\n",
              "      flex-wrap:wrap;\n",
              "      gap: 12px;\n",
              "    }\n",
              "\n",
              "    .colab-df-convert {\n",
              "      background-color: #E8F0FE;\n",
              "      border: none;\n",
              "      border-radius: 50%;\n",
              "      cursor: pointer;\n",
              "      display: none;\n",
              "      fill: #1967D2;\n",
              "      height: 32px;\n",
              "      padding: 0 0 0 0;\n",
              "      width: 32px;\n",
              "    }\n",
              "\n",
              "    .colab-df-convert:hover {\n",
              "      background-color: #E2EBFA;\n",
              "      box-shadow: 0px 1px 2px rgba(60, 64, 67, 0.3), 0px 1px 3px 1px rgba(60, 64, 67, 0.15);\n",
              "      fill: #174EA6;\n",
              "    }\n",
              "\n",
              "    [theme=dark] .colab-df-convert {\n",
              "      background-color: #3B4455;\n",
              "      fill: #D2E3FC;\n",
              "    }\n",
              "\n",
              "    [theme=dark] .colab-df-convert:hover {\n",
              "      background-color: #434B5C;\n",
              "      box-shadow: 0px 1px 3px 1px rgba(0, 0, 0, 0.15);\n",
              "      filter: drop-shadow(0px 1px 2px rgba(0, 0, 0, 0.3));\n",
              "      fill: #FFFFFF;\n",
              "    }\n",
              "  </style>\n",
              "\n",
              "      <script>\n",
              "        const buttonEl =\n",
              "          document.querySelector('#df-6aee5310-1a52-4ed7-9a29-220b24c02f7d button.colab-df-convert');\n",
              "        buttonEl.style.display =\n",
              "          google.colab.kernel.accessAllowed ? 'block' : 'none';\n",
              "\n",
              "        async function convertToInteractive(key) {\n",
              "          const element = document.querySelector('#df-6aee5310-1a52-4ed7-9a29-220b24c02f7d');\n",
              "          const dataTable =\n",
              "            await google.colab.kernel.invokeFunction('convertToInteractive',\n",
              "                                                     [key], {});\n",
              "          if (!dataTable) return;\n",
              "\n",
              "          const docLinkHtml = 'Like what you see? Visit the ' +\n",
              "            '<a target=\"_blank\" href=https://colab.research.google.com/notebooks/data_table.ipynb>data table notebook</a>'\n",
              "            + ' to learn more about interactive tables.';\n",
              "          element.innerHTML = '';\n",
              "          dataTable['output_type'] = 'display_data';\n",
              "          await google.colab.output.renderOutput(dataTable, element);\n",
              "          const docLink = document.createElement('div');\n",
              "          docLink.innerHTML = docLinkHtml;\n",
              "          element.appendChild(docLink);\n",
              "        }\n",
              "      </script>\n",
              "    </div>\n",
              "  </div>\n",
              "  "
            ],
            "text/plain": [
              "        bm  ageph  agec  power  coverage  fuel  sex  fleet  use\n",
              "0        5     50    12     77         2     1    1      0    0\n",
              "1        5     64     3     66         1     1    0      0    0\n",
              "2        0     60    10     70         2     0    1      0    0\n",
              "3        0     77    15     57         2     1    1      0    0\n",
              "4        9     28     7     70         2     1    0      0    0\n",
              "...     ..    ...   ...    ...       ...   ...  ...    ...  ...\n",
              "163226   5     37    10     40         2     0    1      0    1\n",
              "163227   0     44     6     55         2     0    1      0    0\n",
              "163228   0     50    10     40         2     0    1      0    0\n",
              "163229   0     43     7     66         2     1    1      0    0\n",
              "163230   6     24     2     47         0     1    1      0    0\n",
              "\n",
              "[163231 rows x 9 columns]"
            ]
          },
          "metadata": {},
          "execution_count": 79
        }
      ],
      "source": [
        "# cols to retain\n",
        "feat_cols = ['bm','ageph','agec','power','coverage','fuel','sex','fleet','use']\n",
        "X_mtpl = mtpl[feat_cols]\n",
        "X_mtpl"
      ],
      "metadata": {
        "pycharm": {
          "name": "#%%\n"
        },
        "colab": {
          "base_uri": "https://localhost:8080/",
          "height": 419
        },
        "id": "sjCjgrbAWt6p",
        "outputId": "1c3c1cff-2305-489c-c4fa-99aac10e5170"
      }
    },
    {
      "cell_type": "markdown",
      "source": [
        "### 4.2 Claim frequency\n",
        "\n",
        "Let's develop a claim frequency model to predict the number of claims someone is expected to file. The most straightforward way to do so, is by modeling claim frequencies directly and incorporating exposure periods as weights (cfr. the theory session on neural networks in module 1 where a similar modelling strategy was demonstrated)."
      ],
      "metadata": {
        "collapsed": false,
        "id": "oRc5HOVbWt6q"
      }
    },
    {
      "cell_type": "code",
      "execution_count": null,
      "outputs": [],
      "source": [
        "# let's calculate claim frequency and weights\n",
        "y_mtpl_freq = np.array(mtpl.nclaims/mtpl.expo)\n",
        "w_mtpl_freq = np.array(mtpl.expo)"
      ],
      "metadata": {
        "pycharm": {
          "name": "#%%\n"
        },
        "id": "pjveilzNWt6q"
      }
    },
    {
      "cell_type": "markdown",
      "source": [
        "We now fit an XGBRegressor using the Poisson deviance as loss function and putting a monotonic increasing contraint on the bonus-malus feature."
      ],
      "metadata": {
        "collapsed": false,
        "pycharm": {
          "name": "#%% md\n"
        },
        "id": "6WxCVH8hWt6q"
      }
    },
    {
      "cell_type": "code",
      "execution_count": null,
      "outputs": [
        {
          "output_type": "execute_result",
          "data": {
            "text/plain": [
              "XGBRegressor(base_score=0.1393352157253468, learning_rate=0.01,\n",
              "             monotone_constraints=(1, 0, 0, 0, 0, 0, 0, 0, 0), n_estimators=500,\n",
              "             objective='count:poisson')"
            ]
          },
          "metadata": {},
          "execution_count": 81
        }
      ],
      "source": [
        "xgb_frequency = xgb.XGBRegressor(n_estimators = 500,\n",
        "                                 objective='count:poisson',\n",
        "                                 monotone_constraints = (1,0,0,0,0,0,0,0,0),\n",
        "                                 max_depth = 3,\n",
        "                                 learning_rate = 0.01,\n",
        "                                 base_score = np.sum(y_mtpl_freq * w_mtpl_freq)/np.sum(w_mtpl_freq))\n",
        "\n",
        "xgb_frequency.fit(X_mtpl, y_mtpl_freq, sample_weight=w_mtpl_freq)"
      ],
      "metadata": {
        "pycharm": {
          "name": "#%%\n"
        },
        "colab": {
          "base_uri": "https://localhost:8080/"
        },
        "id": "b3gM8mxPWt6q",
        "outputId": "21937569-4d83-4546-9f1b-284dc669caa0"
      }
    },
    {
      "cell_type": "code",
      "execution_count": null,
      "outputs": [
        {
          "output_type": "display_data",
          "data": {
            "image/png": "[encoded data removed]",
            "text/plain": [
              "<Figure size 432x288 with 1 Axes>"
            ]
          },
          "metadata": {
            "needs_background": "light"
          }
        }
      ],
      "source": [
        "# prediction on the target scale\n",
        "pred_on_target_scale = np.round(xgb_frequency.predict(X_mtpl), 5)\n",
        "plt.hist(pred_on_target_scale, bins=10);"
      ],
      "metadata": {
        "pycharm": {
          "name": "#%%\n"
        },
        "colab": {
          "base_uri": "https://localhost:8080/",
          "height": 265
        },
        "id": "ndQch2cKWt6q",
        "outputId": "bef8bd65-f610-45d0-a685-fa2c19b6bc2e"
      }
    },
    {
      "cell_type": "code",
      "execution_count": null,
      "outputs": [
        {
          "output_type": "display_data",
          "data": {
            "image/png": "[encoded data removed]",
            "text/plain": [
              "<Figure size 432x288 with 1 Axes>"
            ]
          },
          "metadata": {
            "needs_background": "light"
          }
        }
      ],
      "source": [
        "# prediction on raw log scale\n",
        "raw_pred_on_log_scale = np.round(xgb_frequency.predict(X_mtpl, output_margin = True), 5)\n",
        "plt.hist(raw_pred_on_log_scale, bins=10);"
      ],
      "metadata": {
        "pycharm": {
          "name": "#%%\n"
        },
        "colab": {
          "base_uri": "https://localhost:8080/",
          "height": 265
        },
        "id": "gWa6y_kKWt6r",
        "outputId": "df2b1bd7-69db-4d0c-bb6d-711419eb80f5"
      }
    },
    {
      "cell_type": "markdown",
      "source": [
        "We can check if both can be related to each other:"
      ],
      "metadata": {
        "collapsed": false,
        "id": "4F2jmXmDWt6r"
      }
    },
    {
      "cell_type": "code",
      "execution_count": null,
      "outputs": [
        {
          "output_type": "execute_result",
          "data": {
            "text/plain": [
              "True"
            ]
          },
          "metadata": {},
          "execution_count": 84
        }
      ],
      "source": [
        "# prediction on y scala starting from row log scale\n",
        "pred_on_target_scale_from_raw = np.round(np.exp(xgb_frequency.predict(X_mtpl, output_margin = True)),5)\n",
        "#checking equality (with tolerance for decimals)\n",
        "np.isclose(pred_on_target_scale, pred_on_target_scale_from_raw, atol=1e-05, equal_nan=False).all()"
      ],
      "metadata": {
        "pycharm": {
          "name": "#%%\n"
        },
        "colab": {
          "base_uri": "https://localhost:8080/"
        },
        "id": "jp7t7x0mWt6r",
        "outputId": "08c15897-74f0-43e1-8f34-9484c12e865d"
      }
    },
    {
      "cell_type": "markdown",
      "source": [
        "Another approach to model claim frequencies is by working via the number of claims as target and including exposure as an offset. This can be done via **xgboost.DMatrix** and using the **base_margin** argument."
      ],
      "metadata": {
        "collapsed": false,
        "id": "A1YiNSBwWt6r"
      }
    },
    {
      "cell_type": "markdown",
      "source": [
        "### 4.3 Claim severity\n",
        "\n",
        "We can also develop an XGBoost model for claim severity. For this purpose, we only retain these records that filed a claim and use the average claim cost as target and the number of claims as weights."
      ],
      "metadata": {
        "collapsed": false,
        "id": "Q19GPHzCWt6r"
      }
    },
    {
      "cell_type": "code",
      "execution_count": null,
      "outputs": [],
      "source": [
        "# let's get the target and weights for a severity model\n",
        "mtpl_sev = mtpl[mtpl.avg.notna()]\n",
        "X_mtpl_sev = mtpl_sev[feat_cols]\n",
        "y_mtpl_sev = np.array(mtpl_sev.avg)\n",
        "w_mtpl_sev = np.array(mtpl_sev.nclaims)"
      ],
      "metadata": {
        "pycharm": {
          "name": "#%%\n"
        },
        "id": "SxRb1T4XWt6r"
      }
    },
    {
      "cell_type": "markdown",
      "source": [
        "For claim severity, we typically work with a right-skewed distribution like for example the gamma distribution."
      ],
      "metadata": {
        "collapsed": false,
        "id": "lTZaR-PtWt6r"
      }
    },
    {
      "cell_type": "code",
      "execution_count": null,
      "outputs": [
        {
          "output_type": "execute_result",
          "data": {
            "text/plain": [
              "XGBRegressor(base_score=1620.055008489457, learning_rate=0.01,\n",
              "             objective='reg:gamma')"
            ]
          },
          "metadata": {},
          "execution_count": 86
        }
      ],
      "source": [
        "xgb_severity = xgb.XGBRegressor(n_estimators = 100,\n",
        "                                 objective='reg:gamma',\n",
        "                                 max_depth = 3,\n",
        "                                 learning_rate = 0.01,\n",
        "                                 base_score = np.sum(y_mtpl_sev * w_mtpl_sev)/np.sum(w_mtpl_sev))\n",
        "\n",
        "xgb_severity.fit(X_mtpl_sev, y_mtpl_sev, sample_weight=w_mtpl_sev)"
      ],
      "metadata": {
        "pycharm": {
          "name": "#%%\n"
        },
        "colab": {
          "base_uri": "https://localhost:8080/"
        },
        "id": "DkTIwZATWt6r",
        "outputId": "d07565cd-9114-4185-8c45-f109b7a4c34e"
      }
    },
    {
      "cell_type": "code",
      "execution_count": null,
      "outputs": [
        {
          "output_type": "display_data",
          "data": {
            "image/png": "[encoded data removed]",
            "text/plain": [
              "<Figure size 432x288 with 1 Axes>"
            ]
          },
          "metadata": {
            "needs_background": "light"
          }
        }
      ],
      "source": [
        "# prediction on the target scale\n",
        "pred_on_target_scale_sev = np.round(xgb_severity.predict(X_mtpl_sev), 5)\n",
        "plt.hist(pred_on_target_scale_sev, bins=10);"
      ],
      "metadata": {
        "pycharm": {
          "name": "#%%\n"
        },
        "colab": {
          "base_uri": "https://localhost:8080/",
          "height": 265
        },
        "id": "LPfHjV4rWt6r",
        "outputId": "ef0b9039-4f1b-4132-f343-c5db07ec35fe"
      }
    },
    {
      "cell_type": "markdown",
      "source": [
        "## 5. Explainability\n",
        "\n",
        "An XGBoost model is an ensemble of many trees, and therefore can be described as a **black box** model. There are no observable parameters or coefficients that directly explain the reasoning followed by the model. However, luckily there are many tools available from the explainable artificial intelligence (XAI) field. We will look at a small selection of tools here and dive deeper in this subject in Module 3. Let's continue working with the claim frequency XGBoost model."
      ],
      "metadata": {
        "collapsed": false,
        "id": "Eq7pKfOTWt6s"
      }
    },
    {
      "cell_type": "markdown",
      "source": [
        "### 5.1 Visualizing individual trees\n",
        "\n",
        "A first possibility is to inspect the individual trees in the ensemble. The first tree in the ensemble (i.e., developed in the first boosting iteration) can be seen as the most important one, trying to capture the general trend in the data. As the boosting iterations increase, the trees start to rectify past mistakes and therefore capture more and more detail."
      ],
      "metadata": {
        "collapsed": false,
        "id": "nRJxnXFHWt6s"
      }
    },
    {
      "cell_type": "markdown",
      "source": [
        "The code below:\n",
        "* first gets the booster model\n",
        "* then takes the first element (or the first tree in the ensemble) and\n",
        "* finally dumps the result as a collection of strings"
      ],
      "metadata": {
        "collapsed": false,
        "id": "LAtriFWGWt6s"
      }
    },
    {
      "cell_type": "code",
      "execution_count": null,
      "outputs": [
        {
          "output_type": "execute_result",
          "data": {
            "application/vnd.google.colaboratory.intrinsic+json": {
              "type": "string"
            },
            "text/plain": [
              "'0:[bm<7] yes=1,no=2,missing=1\\n\\t1:[bm<2] yes=3,no=4,missing=3\\n\\t\\t3:[ageph<56] yes=7,no=8,missing=7\\n\\t\\t\\t7:leaf=-0.00167595968\\n\\t\\t\\t8:leaf=-0.00361266197\\n\\t\\t4:[fuel<1] yes=9,no=10,missing=9\\n\\t\\t\\t9:leaf=0.00195933296\\n\\t\\t\\t10:leaf=-0.000201333838\\n\\t2:[bm<11] yes=5,no=6,missing=5\\n\\t\\t5:[ageph<27] yes=11,no=12,missing=11\\n\\t\\t\\t11:leaf=0.00670837145\\n\\t\\t\\t12:leaf=0.00332410773\\n\\t\\t6:[agec<7] yes=13,no=14,missing=13\\n\\t\\t\\t13:leaf=0.00681917462\\n\\t\\t\\t14:leaf=0.0105548501\\n'"
            ]
          },
          "metadata": {},
          "execution_count": 88
        }
      ],
      "source": [
        "# Print the first tree in the ensemble\n",
        "xgb_frequency.get_booster().get_dump()[0]"
      ],
      "metadata": {
        "pycharm": {
          "name": "#%%\n"
        },
        "colab": {
          "base_uri": "https://localhost:8080/",
          "height": 71
        },
        "id": "pUdpM4gOWt6s",
        "outputId": "75eaea87-7323-4e2e-ab49-69e7f72c50fb"
      }
    },
    {
      "cell_type": "markdown",
      "source": [
        "Unfortunately, the formatting is not very nice, but we can already see that the **bm** and **ageph** features are used the most. The formatting is improved by writing to a txt file and reading that back into the notebook."
      ],
      "metadata": {
        "collapsed": false,
        "id": "roBdTHwQWt6s"
      }
    },
    {
      "cell_type": "code",
      "execution_count": null,
      "outputs": [
        {
          "output_type": "stream",
          "name": "stdout",
          "text": [
            "booster[0]:\n",
            "0:[bm<7] yes=1,no=2,missing=1,gain=1849.69177,cover=20236\n",
            "\t1:[bm<2] yes=3,no=4,missing=3,gain=291.496796,cover=16056.0566\n",
            "\t\t3:[ageph<56] yes=7,no=8,missing=7,gain=99.8544312,cover=11213.9785\n",
            "\t\t\t7:leaf=-0.00167595968,cover=6861.05225\n",
            "\t\t\t8:leaf=-0.00361266197,cover=4352.92627\n",
            "\t\t4:[fuel<1] yes=9,no=10,missing=9,gain=49.8545456,cover=4842.07812\n",
            "\t\t\t9:leaf=0.00195933296,cover=1588.55359\n",
            "\t\t\t10:leaf=-0.000201333838,cover=3253.52466\n",
            "\t2:[bm<11] yes=5,no=6,missing=5,gain=233.626953,cover=4179.94287\n",
            "\t\t5:[ageph<27] yes=11,no=12,missing=11,gain=67.2042847,cover=2748.69946\n",
            "\t\t\t11:leaf=0.00670837145,cover=667.75885\n",
            "\t\t\t12:leaf=0.00332410773,cover=2080.94043\n",
            "\t\t6:[agec<7] yes=13,no=14,missing=13,gain=45.4702148,cover=1431.24365\n",
            "\t\t\t13:leaf=0.00681917462,cover=521.023254\n",
            "\t\t\t14:leaf=0.0105548501,cover=910.220459\n",
            "booster[1]:\n",
            "0:[bm<7] yes=1,no=2,missing=1,gain=1805.18896,cover=20235.9199\n",
            "\t1:[bm<3] yes=3,no=4,missing=3,gain=286.733185,cover=16031.3311\n",
            "\t\t3:[ageph<56] yes=7,no=8,missing=7,gain=115.188965,cover=12394.9941\n",
            "\t\t\t7:leaf=-0.00150839554,cover=7758.42871\n",
            "\t\t\t8:leaf=-0.00350090046,cover=4636.56543\n",
            "\t\t4:[ageph<56] yes=9,no=10,missing=9,gain=42.2443199,cover=3636.33618\n",
            "\t\t\t9:leaf=0.00157152361,cover=2716.01465\n",
            "\t\t\t10:leaf=-0.000657312397,cover=920.321411\n",
            "\t2:[bm<11] yes=5,no=6,missing=5,gain=224.468872,cover=4204.58984\n",
            "\t\t5:[ageph<27] yes=11,no=12,missing=11,gain=65.0347595,cover=2760.12305\n",
            "\t\t\t11:leaf=0.0065911389,cover=672.253479\n",
            "\t\t\t12:leaf=0.00327991066,cover=2087.86938\n",
            "\t\t6:[agec<7] yes=13,\n"
          ]
        }
      ],
      "source": [
        "xgb_frequency.get_booster().dump_model(\"xgboost_modeldump.txt\", with_stats=True)\n",
        "with open('xgboost_modeldump.txt', 'r') as f:\n",
        "    txt_xgb = f.read(1500)\n",
        "print(txt_xgb)"
      ],
      "metadata": {
        "pycharm": {
          "name": "#%%\n"
        },
        "colab": {
          "base_uri": "https://localhost:8080/"
        },
        "id": "JnHlrlmEWt6s",
        "outputId": "8666463f-7a9f-4f5d-e053-fb8887b31f2d"
      }
    },
    {
      "cell_type": "markdown",
      "source": [
        "It is also possible to summarize the whole XGBoost model in a DataFrame"
      ],
      "metadata": {
        "collapsed": false,
        "id": "HwbmUO3kWt6s"
      }
    },
    {
      "cell_type": "code",
      "execution_count": null,
      "outputs": [
        {
          "output_type": "execute_result",
          "data": {
            "text/html": [
              "\n",
              "  <div id=\"df-688410d5-3ff6-49e1-9bd6-dcdb0e42f904\">\n",
              "    <div class=\"colab-df-container\">\n",
              "      <div>\n",
              "<style scoped>\n",
              "    .dataframe tbody tr th:only-of-type {\n",
              "        vertical-align: middle;\n",
              "    }\n",
              "\n",
              "    .dataframe tbody tr th {\n",
              "        vertical-align: top;\n",
              "    }\n",
              "\n",
              "    .dataframe thead th {\n",
              "        text-align: right;\n",
              "    }\n",
              "</style>\n",
              "<table border=\"1\" class=\"dataframe\">\n",
              "  <thead>\n",
              "    <tr style=\"text-align: right;\">\n",
              "      <th></th>\n",
              "      <th>Tree</th>\n",
              "      <th>Node</th>\n",
              "      <th>ID</th>\n",
              "      <th>Feature</th>\n",
              "      <th>Split</th>\n",
              "      <th>Yes</th>\n",
              "      <th>No</th>\n",
              "      <th>Missing</th>\n",
              "      <th>Gain</th>\n",
              "      <th>Cover</th>\n",
              "    </tr>\n",
              "  </thead>\n",
              "  <tbody>\n",
              "    <tr>\n",
              "      <th>0</th>\n",
              "      <td>0</td>\n",
              "      <td>0</td>\n",
              "      <td>0-0</td>\n",
              "      <td>bm</td>\n",
              "      <td>7.0</td>\n",
              "      <td>0-1</td>\n",
              "      <td>0-2</td>\n",
              "      <td>0-1</td>\n",
              "      <td>1849.691770</td>\n",
              "      <td>20236.00000</td>\n",
              "    </tr>\n",
              "    <tr>\n",
              "      <th>1</th>\n",
              "      <td>0</td>\n",
              "      <td>1</td>\n",
              "      <td>0-1</td>\n",
              "      <td>bm</td>\n",
              "      <td>2.0</td>\n",
              "      <td>0-3</td>\n",
              "      <td>0-4</td>\n",
              "      <td>0-3</td>\n",
              "      <td>291.496796</td>\n",
              "      <td>16056.05660</td>\n",
              "    </tr>\n",
              "    <tr>\n",
              "      <th>2</th>\n",
              "      <td>0</td>\n",
              "      <td>2</td>\n",
              "      <td>0-2</td>\n",
              "      <td>bm</td>\n",
              "      <td>11.0</td>\n",
              "      <td>0-5</td>\n",
              "      <td>0-6</td>\n",
              "      <td>0-5</td>\n",
              "      <td>233.626953</td>\n",
              "      <td>4179.94287</td>\n",
              "    </tr>\n",
              "    <tr>\n",
              "      <th>3</th>\n",
              "      <td>0</td>\n",
              "      <td>3</td>\n",
              "      <td>0-3</td>\n",
              "      <td>ageph</td>\n",
              "      <td>56.0</td>\n",
              "      <td>0-7</td>\n",
              "      <td>0-8</td>\n",
              "      <td>0-7</td>\n",
              "      <td>99.854431</td>\n",
              "      <td>11213.97850</td>\n",
              "    </tr>\n",
              "    <tr>\n",
              "      <th>4</th>\n",
              "      <td>0</td>\n",
              "      <td>4</td>\n",
              "      <td>0-4</td>\n",
              "      <td>fuel</td>\n",
              "      <td>1.0</td>\n",
              "      <td>0-9</td>\n",
              "      <td>0-10</td>\n",
              "      <td>0-9</td>\n",
              "      <td>49.854546</td>\n",
              "      <td>4842.07812</td>\n",
              "    </tr>\n",
              "    <tr>\n",
              "      <th>...</th>\n",
              "      <td>...</td>\n",
              "      <td>...</td>\n",
              "      <td>...</td>\n",
              "      <td>...</td>\n",
              "      <td>...</td>\n",
              "      <td>...</td>\n",
              "      <td>...</td>\n",
              "      <td>...</td>\n",
              "      <td>...</td>\n",
              "      <td>...</td>\n",
              "    </tr>\n",
              "    <tr>\n",
              "      <th>7417</th>\n",
              "      <td>499</td>\n",
              "      <td>10</td>\n",
              "      <td>499-10</td>\n",
              "      <td>Leaf</td>\n",
              "      <td>NaN</td>\n",
              "      <td>NaN</td>\n",
              "      <td>NaN</td>\n",
              "      <td>NaN</td>\n",
              "      <td>-0.000106</td>\n",
              "      <td>1166.39709</td>\n",
              "    </tr>\n",
              "    <tr>\n",
              "      <th>7418</th>\n",
              "      <td>499</td>\n",
              "      <td>11</td>\n",
              "      <td>499-11</td>\n",
              "      <td>Leaf</td>\n",
              "      <td>NaN</td>\n",
              "      <td>NaN</td>\n",
              "      <td>NaN</td>\n",
              "      <td>NaN</td>\n",
              "      <td>0.000035</td>\n",
              "      <td>1554.65686</td>\n",
              "    </tr>\n",
              "    <tr>\n",
              "      <th>7419</th>\n",
              "      <td>499</td>\n",
              "      <td>12</td>\n",
              "      <td>499-12</td>\n",
              "      <td>Leaf</td>\n",
              "      <td>NaN</td>\n",
              "      <td>NaN</td>\n",
              "      <td>NaN</td>\n",
              "      <td>NaN</td>\n",
              "      <td>-0.000359</td>\n",
              "      <td>6167.48486</td>\n",
              "    </tr>\n",
              "    <tr>\n",
              "      <th>7420</th>\n",
              "      <td>499</td>\n",
              "      <td>13</td>\n",
              "      <td>499-13</td>\n",
              "      <td>Leaf</td>\n",
              "      <td>NaN</td>\n",
              "      <td>NaN</td>\n",
              "      <td>NaN</td>\n",
              "      <td>NaN</td>\n",
              "      <td>0.000035</td>\n",
              "      <td>4505.63574</td>\n",
              "    </tr>\n",
              "    <tr>\n",
              "      <th>7421</th>\n",
              "      <td>499</td>\n",
              "      <td>14</td>\n",
              "      <td>499-14</td>\n",
              "      <td>Leaf</td>\n",
              "      <td>NaN</td>\n",
              "      <td>NaN</td>\n",
              "      <td>NaN</td>\n",
              "      <td>NaN</td>\n",
              "      <td>0.000477</td>\n",
              "      <td>5536.90527</td>\n",
              "    </tr>\n",
              "  </tbody>\n",
              "</table>\n",
              "<p>7422 rows × 10 columns</p>\n",
              "</div>\n",
              "      <button class=\"colab-df-convert\" onclick=\"convertToInteractive('df-688410d5-3ff6-49e1-9bd6-dcdb0e42f904')\"\n",
              "              title=\"Convert this dataframe to an interactive table.\"\n",
              "              style=\"display:none;\">\n",
              "        \n",
              "  <svg xmlns=\"http://www.w3.org/2000/svg\" height=\"24px\"viewBox=\"0 0 24 24\"\n",
              "       width=\"24px\">\n",
              "    <path d=\"M0 0h24v24H0V0z\" fill=\"none\"/>\n",
              "    <path d=\"M18.56 5.44l.94 2.06.94-2.06 2.06-.94-2.06-.94-.94-2.06-.94 2.06-2.06.94zm-11 1L8.5 8.5l.94-2.06 2.06-.94-2.06-.94L8.5 2.5l-.94 2.06-2.06.94zm10 10l.94 2.06.94-2.06 2.06-.94-2.06-.94-.94-2.06-.94 2.06-2.06.94z\"/><path d=\"M17.41 7.96l-1.37-1.37c-.4-.4-.92-.59-1.43-.59-.52 0-1.04.2-1.43.59L10.3 9.45l-7.72 7.72c-.78.78-.78 2.05 0 2.83L4 21.41c.39.39.9.59 1.41.59.51 0 1.02-.2 1.41-.59l7.78-7.78 2.81-2.81c.8-.78.8-2.07 0-2.86zM5.41 20L4 18.59l7.72-7.72 1.47 1.35L5.41 20z\"/>\n",
              "  </svg>\n",
              "      </button>\n",
              "      \n",
              "  <style>\n",
              "    .colab-df-container {\n",
              "      display:flex;\n",
              "      flex-wrap:wrap;\n",
              "      gap: 12px;\n",
              "    }\n",
              "\n",
              "    .colab-df-convert {\n",
              "      background-color: #E8F0FE;\n",
              "      border: none;\n",
              "      border-radius: 50%;\n",
              "      cursor: pointer;\n",
              "      display: none;\n",
              "      fill: #1967D2;\n",
              "      height: 32px;\n",
              "      padding: 0 0 0 0;\n",
              "      width: 32px;\n",
              "    }\n",
              "\n",
              "    .colab-df-convert:hover {\n",
              "      background-color: #E2EBFA;\n",
              "      box-shadow: 0px 1px 2px rgba(60, 64, 67, 0.3), 0px 1px 3px 1px rgba(60, 64, 67, 0.15);\n",
              "      fill: #174EA6;\n",
              "    }\n",
              "\n",
              "    [theme=dark] .colab-df-convert {\n",
              "      background-color: #3B4455;\n",
              "      fill: #D2E3FC;\n",
              "    }\n",
              "\n",
              "    [theme=dark] .colab-df-convert:hover {\n",
              "      background-color: #434B5C;\n",
              "      box-shadow: 0px 1px 3px 1px rgba(0, 0, 0, 0.15);\n",
              "      filter: drop-shadow(0px 1px 2px rgba(0, 0, 0, 0.3));\n",
              "      fill: #FFFFFF;\n",
              "    }\n",
              "  </style>\n",
              "\n",
              "      <script>\n",
              "        const buttonEl =\n",
              "          document.querySelector('#df-688410d5-3ff6-49e1-9bd6-dcdb0e42f904 button.colab-df-convert');\n",
              "        buttonEl.style.display =\n",
              "          google.colab.kernel.accessAllowed ? 'block' : 'none';\n",
              "\n",
              "        async function convertToInteractive(key) {\n",
              "          const element = document.querySelector('#df-688410d5-3ff6-49e1-9bd6-dcdb0e42f904');\n",
              "          const dataTable =\n",
              "            await google.colab.kernel.invokeFunction('convertToInteractive',\n",
              "                                                     [key], {});\n",
              "          if (!dataTable) return;\n",
              "\n",
              "          const docLinkHtml = 'Like what you see? Visit the ' +\n",
              "            '<a target=\"_blank\" href=https://colab.research.google.com/notebooks/data_table.ipynb>data table notebook</a>'\n",
              "            + ' to learn more about interactive tables.';\n",
              "          element.innerHTML = '';\n",
              "          dataTable['output_type'] = 'display_data';\n",
              "          await google.colab.output.renderOutput(dataTable, element);\n",
              "          const docLink = document.createElement('div');\n",
              "          docLink.innerHTML = docLinkHtml;\n",
              "          element.appendChild(docLink);\n",
              "        }\n",
              "      </script>\n",
              "    </div>\n",
              "  </div>\n",
              "  "
            ],
            "text/plain": [
              "      Tree  Node      ID Feature  Split  Yes    No Missing         Gain  \\\n",
              "0        0     0     0-0      bm    7.0  0-1   0-2     0-1  1849.691770   \n",
              "1        0     1     0-1      bm    2.0  0-3   0-4     0-3   291.496796   \n",
              "2        0     2     0-2      bm   11.0  0-5   0-6     0-5   233.626953   \n",
              "3        0     3     0-3   ageph   56.0  0-7   0-8     0-7    99.854431   \n",
              "4        0     4     0-4    fuel    1.0  0-9  0-10     0-9    49.854546   \n",
              "...    ...   ...     ...     ...    ...  ...   ...     ...          ...   \n",
              "7417   499    10  499-10    Leaf    NaN  NaN   NaN     NaN    -0.000106   \n",
              "7418   499    11  499-11    Leaf    NaN  NaN   NaN     NaN     0.000035   \n",
              "7419   499    12  499-12    Leaf    NaN  NaN   NaN     NaN    -0.000359   \n",
              "7420   499    13  499-13    Leaf    NaN  NaN   NaN     NaN     0.000035   \n",
              "7421   499    14  499-14    Leaf    NaN  NaN   NaN     NaN     0.000477   \n",
              "\n",
              "            Cover  \n",
              "0     20236.00000  \n",
              "1     16056.05660  \n",
              "2      4179.94287  \n",
              "3     11213.97850  \n",
              "4      4842.07812  \n",
              "...           ...  \n",
              "7417   1166.39709  \n",
              "7418   1554.65686  \n",
              "7419   6167.48486  \n",
              "7420   4505.63574  \n",
              "7421   5536.90527  \n",
              "\n",
              "[7422 rows x 10 columns]"
            ]
          },
          "metadata": {},
          "execution_count": 90
        }
      ],
      "source": [
        "# Collect all trees in a pd.DataFrame\n",
        "xgb_frequency.get_booster().trees_to_dataframe()"
      ],
      "metadata": {
        "pycharm": {
          "name": "#%%\n"
        },
        "colab": {
          "base_uri": "https://localhost:8080/",
          "height": 419
        },
        "id": "pgKPxDhHWt6s",
        "outputId": "9e630f6e-c785-4e93-db79-95d98057314c"
      }
    },
    {
      "cell_type": "markdown",
      "source": [
        "Inspecting the trees can be useful, but delivers fairly little information on an aggregate level of the underlying decision process. Let's look at some other tools for this."
      ],
      "metadata": {
        "collapsed": false,
        "id": "_jdMyYEjWt6s"
      }
    },
    {
      "cell_type": "markdown",
      "source": [
        "### 5.2 Feature importance\n",
        "\n",
        "A first tool that we will discover is about feature importance: a measure to give insights on how important each feature is in the final model."
      ],
      "metadata": {
        "collapsed": false,
        "id": "HuURPrv-Wt6t"
      }
    },
    {
      "cell_type": "markdown",
      "source": [
        "This information is stored as an attribute for the XGBoost model:"
      ],
      "metadata": {
        "collapsed": false,
        "id": "3N-IRJSaWt6t"
      }
    },
    {
      "cell_type": "code",
      "execution_count": null,
      "outputs": [
        {
          "output_type": "execute_result",
          "data": {
            "text/plain": [
              "array([0.62416416, 0.08494834, 0.04323797, 0.04204111, 0.0411024 ,\n",
              "       0.07140015, 0.0538618 , 0.02884159, 0.01040248], dtype=float32)"
            ]
          },
          "metadata": {},
          "execution_count": 91
        }
      ],
      "source": [
        "# Access the feature importance\n",
        "xgb_frequency.feature_importances_"
      ],
      "metadata": {
        "pycharm": {
          "name": "#%%\n"
        },
        "colab": {
          "base_uri": "https://localhost:8080/"
        },
        "id": "dTLe4IFFWt6t",
        "outputId": "9f6b2c20-e78d-4899-c0c8-7449502cea7b"
      }
    },
    {
      "cell_type": "markdown",
      "source": [
        "Let's add the feature names to get a better view on each one's importance:"
      ],
      "metadata": {
        "collapsed": false,
        "id": "bMEAq0WOWt6t"
      }
    },
    {
      "cell_type": "code",
      "execution_count": null,
      "outputs": [
        {
          "output_type": "execute_result",
          "data": {
            "text/html": [
              "\n",
              "  <div id=\"df-15b4d45a-cd8c-44c7-a2d9-d179927559b2\">\n",
              "    <div class=\"colab-df-container\">\n",
              "      <div>\n",
              "<style scoped>\n",
              "    .dataframe tbody tr th:only-of-type {\n",
              "        vertical-align: middle;\n",
              "    }\n",
              "\n",
              "    .dataframe tbody tr th {\n",
              "        vertical-align: top;\n",
              "    }\n",
              "\n",
              "    .dataframe thead th {\n",
              "        text-align: right;\n",
              "    }\n",
              "</style>\n",
              "<table border=\"1\" class=\"dataframe\">\n",
              "  <thead>\n",
              "    <tr style=\"text-align: right;\">\n",
              "      <th></th>\n",
              "      <th>feature</th>\n",
              "      <th>importance</th>\n",
              "    </tr>\n",
              "  </thead>\n",
              "  <tbody>\n",
              "    <tr>\n",
              "      <th>0</th>\n",
              "      <td>bm</td>\n",
              "      <td>0.624164</td>\n",
              "    </tr>\n",
              "    <tr>\n",
              "      <th>1</th>\n",
              "      <td>ageph</td>\n",
              "      <td>0.084948</td>\n",
              "    </tr>\n",
              "    <tr>\n",
              "      <th>2</th>\n",
              "      <td>agec</td>\n",
              "      <td>0.043238</td>\n",
              "    </tr>\n",
              "    <tr>\n",
              "      <th>3</th>\n",
              "      <td>power</td>\n",
              "      <td>0.042041</td>\n",
              "    </tr>\n",
              "    <tr>\n",
              "      <th>4</th>\n",
              "      <td>coverage</td>\n",
              "      <td>0.041102</td>\n",
              "    </tr>\n",
              "    <tr>\n",
              "      <th>5</th>\n",
              "      <td>fuel</td>\n",
              "      <td>0.071400</td>\n",
              "    </tr>\n",
              "    <tr>\n",
              "      <th>6</th>\n",
              "      <td>sex</td>\n",
              "      <td>0.053862</td>\n",
              "    </tr>\n",
              "    <tr>\n",
              "      <th>7</th>\n",
              "      <td>fleet</td>\n",
              "      <td>0.028842</td>\n",
              "    </tr>\n",
              "    <tr>\n",
              "      <th>8</th>\n",
              "      <td>use</td>\n",
              "      <td>0.010402</td>\n",
              "    </tr>\n",
              "  </tbody>\n",
              "</table>\n",
              "</div>\n",
              "      <button class=\"colab-df-convert\" onclick=\"convertToInteractive('df-15b4d45a-cd8c-44c7-a2d9-d179927559b2')\"\n",
              "              title=\"Convert this dataframe to an interactive table.\"\n",
              "              style=\"display:none;\">\n",
              "        \n",
              "  <svg xmlns=\"http://www.w3.org/2000/svg\" height=\"24px\"viewBox=\"0 0 24 24\"\n",
              "       width=\"24px\">\n",
              "    <path d=\"M0 0h24v24H0V0z\" fill=\"none\"/>\n",
              "    <path d=\"M18.56 5.44l.94 2.06.94-2.06 2.06-.94-2.06-.94-.94-2.06-.94 2.06-2.06.94zm-11 1L8.5 8.5l.94-2.06 2.06-.94-2.06-.94L8.5 2.5l-.94 2.06-2.06.94zm10 10l.94 2.06.94-2.06 2.06-.94-2.06-.94-.94-2.06-.94 2.06-2.06.94z\"/><path d=\"M17.41 7.96l-1.37-1.37c-.4-.4-.92-.59-1.43-.59-.52 0-1.04.2-1.43.59L10.3 9.45l-7.72 7.72c-.78.78-.78 2.05 0 2.83L4 21.41c.39.39.9.59 1.41.59.51 0 1.02-.2 1.41-.59l7.78-7.78 2.81-2.81c.8-.78.8-2.07 0-2.86zM5.41 20L4 18.59l7.72-7.72 1.47 1.35L5.41 20z\"/>\n",
              "  </svg>\n",
              "      </button>\n",
              "      \n",
              "  <style>\n",
              "    .colab-df-container {\n",
              "      display:flex;\n",
              "      flex-wrap:wrap;\n",
              "      gap: 12px;\n",
              "    }\n",
              "\n",
              "    .colab-df-convert {\n",
              "      background-color: #E8F0FE;\n",
              "      border: none;\n",
              "      border-radius: 50%;\n",
              "      cursor: pointer;\n",
              "      display: none;\n",
              "      fill: #1967D2;\n",
              "      height: 32px;\n",
              "      padding: 0 0 0 0;\n",
              "      width: 32px;\n",
              "    }\n",
              "\n",
              "    .colab-df-convert:hover {\n",
              "      background-color: #E2EBFA;\n",
              "      box-shadow: 0px 1px 2px rgba(60, 64, 67, 0.3), 0px 1px 3px 1px rgba(60, 64, 67, 0.15);\n",
              "      fill: #174EA6;\n",
              "    }\n",
              "\n",
              "    [theme=dark] .colab-df-convert {\n",
              "      background-color: #3B4455;\n",
              "      fill: #D2E3FC;\n",
              "    }\n",
              "\n",
              "    [theme=dark] .colab-df-convert:hover {\n",
              "      background-color: #434B5C;\n",
              "      box-shadow: 0px 1px 3px 1px rgba(0, 0, 0, 0.15);\n",
              "      filter: drop-shadow(0px 1px 2px rgba(0, 0, 0, 0.3));\n",
              "      fill: #FFFFFF;\n",
              "    }\n",
              "  </style>\n",
              "\n",
              "      <script>\n",
              "        const buttonEl =\n",
              "          document.querySelector('#df-15b4d45a-cd8c-44c7-a2d9-d179927559b2 button.colab-df-convert');\n",
              "        buttonEl.style.display =\n",
              "          google.colab.kernel.accessAllowed ? 'block' : 'none';\n",
              "\n",
              "        async function convertToInteractive(key) {\n",
              "          const element = document.querySelector('#df-15b4d45a-cd8c-44c7-a2d9-d179927559b2');\n",
              "          const dataTable =\n",
              "            await google.colab.kernel.invokeFunction('convertToInteractive',\n",
              "                                                     [key], {});\n",
              "          if (!dataTable) return;\n",
              "\n",
              "          const docLinkHtml = 'Like what you see? Visit the ' +\n",
              "            '<a target=\"_blank\" href=https://colab.research.google.com/notebooks/data_table.ipynb>data table notebook</a>'\n",
              "            + ' to learn more about interactive tables.';\n",
              "          element.innerHTML = '';\n",
              "          dataTable['output_type'] = 'display_data';\n",
              "          await google.colab.output.renderOutput(dataTable, element);\n",
              "          const docLink = document.createElement('div');\n",
              "          docLink.innerHTML = docLinkHtml;\n",
              "          element.appendChild(docLink);\n",
              "        }\n",
              "      </script>\n",
              "    </div>\n",
              "  </div>\n",
              "  "
            ],
            "text/plain": [
              "    feature  importance\n",
              "0        bm    0.624164\n",
              "1     ageph    0.084948\n",
              "2      agec    0.043238\n",
              "3     power    0.042041\n",
              "4  coverage    0.041102\n",
              "5      fuel    0.071400\n",
              "6       sex    0.053862\n",
              "7     fleet    0.028842\n",
              "8       use    0.010402"
            ]
          },
          "metadata": {},
          "execution_count": 92
        }
      ],
      "source": [
        "pd.DataFrame({'feature':X_mtpl.columns.values,\n",
        "              'importance':xgb_frequency.feature_importances_})"
      ],
      "metadata": {
        "pycharm": {
          "name": "#%%\n"
        },
        "colab": {
          "base_uri": "https://localhost:8080/",
          "height": 328
        },
        "id": "ayMlTnC8Wt6t",
        "outputId": "f25cde03-31c6-4bd6-be3b-36664493112f"
      }
    },
    {
      "cell_type": "markdown",
      "source": [
        "We can also plot these values in descending order of importance:"
      ],
      "metadata": {
        "collapsed": false,
        "id": "sHhDp-wVWt6t"
      }
    },
    {
      "cell_type": "code",
      "execution_count": null,
      "outputs": [
        {
          "output_type": "display_data",
          "data": {
            "image/png": "[encoded data removed]",
            "text/plain": [
              "<Figure size 432x288 with 1 Axes>"
            ]
          },
          "metadata": {
            "needs_background": "light"
          }
        }
      ],
      "source": [
        "sorted_idx = xgb_frequency.feature_importances_.argsort()\n",
        "plt.barh(X_mtpl.columns.values[sorted_idx], xgb_frequency.feature_importances_[sorted_idx])\n",
        "plt.xlabel(\"Xgboost Feature Importance\");"
      ],
      "metadata": {
        "pycharm": {
          "name": "#%%\n"
        },
        "colab": {
          "base_uri": "https://localhost:8080/",
          "height": 279
        },
        "id": "rCnGXNkOWt6t",
        "outputId": "f124c46e-1b22-40b4-bb5c-2ae479aa2874"
      }
    },
    {
      "cell_type": "markdown",
      "source": [
        "Now we know already which features are important in the model, but it would also be interesting to know how each feature relates to the predicted target."
      ],
      "metadata": {
        "collapsed": false,
        "id": "O5fsbgw8Wt6t"
      }
    },
    {
      "cell_type": "markdown",
      "source": [
        "### 5.3 Partial dependence plots\n",
        "\n",
        "Partial dependence plots (PDPs) capture the marginal relation of a feature (or multiple features) on the predicted target."
      ],
      "metadata": {
        "collapsed": false,
        "id": "_p35ZvEiWt6t"
      }
    },
    {
      "cell_type": "markdown",
      "source": [
        "The library scikit-learn has a very useful function to directly calculate PDPs from a model object, namely **PartialDependenceDisplay.from_estimator**.\n",
        "\n",
        "We first need to apply a small hack because otherwise sklearn thinks our XGBoost model is not fitted yet. We need to add a dummy attribute that ends with an underscore."
      ],
      "metadata": {
        "collapsed": false,
        "id": "h_JtHOjEWt6t"
      }
    },
    {
      "cell_type": "code",
      "source": [
        "from sklearn.utils import validation\n",
        "\n",
        "validation.check_is_fitted(estimator=xgb_frequency)"
      ],
      "metadata": {
        "colab": {
          "base_uri": "https://localhost:8080/",
          "height": 317
        },
        "id": "Ex179R3bkTee",
        "outputId": "b9ca1179-32a6-40cd-d5b2-abcf3678ac77"
      },
      "execution_count": null,
      "outputs": [
        {
          "output_type": "error",
          "ename": "NotFittedError",
          "evalue": "ignored",
          "traceback": [
            "\u001b[0;31m---------------------------------------------------------------------------\u001b[0m",
            "\u001b[0;31mNotFittedError\u001b[0m                            Traceback (most recent call last)",
            "\u001b[0;32m<ipython-input-94-281fc354b841>\u001b[0m in \u001b[0;36m<module>\u001b[0;34m()\u001b[0m\n\u001b[1;32m      1\u001b[0m \u001b[0;32mfrom\u001b[0m \u001b[0msklearn\u001b[0m\u001b[0;34m.\u001b[0m\u001b[0mutils\u001b[0m \u001b[0;32mimport\u001b[0m \u001b[0mvalidation\u001b[0m\u001b[0;34m\u001b[0m\u001b[0;34m\u001b[0m\u001b[0m\n\u001b[1;32m      2\u001b[0m \u001b[0;34m\u001b[0m\u001b[0m\n\u001b[0;32m----> 3\u001b[0;31m \u001b[0mvalidation\u001b[0m\u001b[0;34m.\u001b[0m\u001b[0mcheck_is_fitted\u001b[0m\u001b[0;34m(\u001b[0m\u001b[0mestimator\u001b[0m\u001b[0;34m=\u001b[0m\u001b[0mxgb_frequency\u001b[0m\u001b[0;34m)\u001b[0m\u001b[0;34m\u001b[0m\u001b[0;34m\u001b[0m\u001b[0m\n\u001b[0m",
            "\u001b[0;32m/usr/local/lib/python3.7/dist-packages/sklearn/utils/validation.py\u001b[0m in \u001b[0;36mcheck_is_fitted\u001b[0;34m(estimator, attributes, msg, all_or_any)\u001b[0m\n\u001b[1;32m   1220\u001b[0m \u001b[0;34m\u001b[0m\u001b[0m\n\u001b[1;32m   1221\u001b[0m     \u001b[0;32mif\u001b[0m \u001b[0;32mnot\u001b[0m \u001b[0mfitted\u001b[0m\u001b[0;34m:\u001b[0m\u001b[0;34m\u001b[0m\u001b[0;34m\u001b[0m\u001b[0m\n\u001b[0;32m-> 1222\u001b[0;31m         \u001b[0;32mraise\u001b[0m \u001b[0mNotFittedError\u001b[0m\u001b[0;34m(\u001b[0m\u001b[0mmsg\u001b[0m \u001b[0;34m%\u001b[0m \u001b[0;34m{\u001b[0m\u001b[0;34m\"name\"\u001b[0m\u001b[0;34m:\u001b[0m \u001b[0mtype\u001b[0m\u001b[0;34m(\u001b[0m\u001b[0mestimator\u001b[0m\u001b[0;34m)\u001b[0m\u001b[0;34m.\u001b[0m\u001b[0m__name__\u001b[0m\u001b[0;34m}\u001b[0m\u001b[0;34m)\u001b[0m\u001b[0;34m\u001b[0m\u001b[0;34m\u001b[0m\u001b[0m\n\u001b[0m\u001b[1;32m   1223\u001b[0m \u001b[0;34m\u001b[0m\u001b[0m\n\u001b[1;32m   1224\u001b[0m \u001b[0;34m\u001b[0m\u001b[0m\n",
            "\u001b[0;31mNotFittedError\u001b[0m: This XGBRegressor instance is not fitted yet. Call 'fit' with appropriate arguments before using this estimator."
          ]
        }
      ]
    },
    {
      "cell_type": "code",
      "source": [
        "xgb_frequency.dummy_ = \"dummy\"\n",
        "validation.check_is_fitted(estimator=xgb_frequency)"
      ],
      "metadata": {
        "id": "ajcR4fObizHB"
      },
      "execution_count": null,
      "outputs": []
    },
    {
      "cell_type": "markdown",
      "source": [
        "Now we pass the test and we can generate our PDPs."
      ],
      "metadata": {
        "id": "0aHSgzjOmFuZ"
      }
    },
    {
      "cell_type": "code",
      "execution_count": null,
      "outputs": [
        {
          "output_type": "display_data",
          "data": {
            "image/png": "[encoded data removed]",
            "text/plain": [
              "<Figure size 864x432 with 4 Axes>"
            ]
          },
          "metadata": {
            "needs_background": "light"
          }
        }
      ],
      "source": [
        "# PDPs for XGBoost model\n",
        "fig, ax = plt.subplots(figsize=(12, 6))\n",
        "ax.set_title(\"PDPs\")\n",
        "PartialDependenceDisplay.from_estimator(xgb_frequency, X=X_mtpl[0:1000],features = ['bm','ageph',('ageph','power')], ax=ax);"
      ],
      "metadata": {
        "pycharm": {
          "name": "#%%\n"
        },
        "colab": {
          "base_uri": "https://localhost:8080/",
          "height": 404
        },
        "id": "x4tKW1NXWt6u",
        "outputId": "52e01e31-9857-4653-cfe3-e1abd1ccc049"
      }
    },
    {
      "cell_type": "markdown",
      "source": [
        "Feel free to try to generate some other PDPs yourself now."
      ],
      "metadata": {
        "collapsed": false,
        "pycharm": {
          "name": "#%% md\n"
        },
        "id": "LWTjmuZrWt6u"
      }
    },
    {
      "cell_type": "markdown",
      "source": [
        "## 6. Extras"
      ],
      "metadata": {
        "collapsed": false,
        "id": "JEywVNPSWt6u"
      }
    },
    {
      "cell_type": "markdown",
      "source": [
        "### 6.1. DIY tuning experiment for frequency/severity model"
      ],
      "metadata": {
        "collapsed": false,
        "pycharm": {
          "name": "#%% md\n"
        },
        "id": "G7QH26m2Wt6u"
      }
    },
    {
      "cell_type": "markdown",
      "source": [
        "Set up a tuning experiment for a frequency and/or severity XGBoost model on the train data and obtain top performance on the test set."
      ],
      "metadata": {
        "id": "B3P_jAWXmQnX"
      }
    },
    {
      "cell_type": "markdown",
      "source": [
        "### 6.2. DIY Tweedie experiment"
      ],
      "metadata": {
        "collapsed": false,
        "pycharm": {
          "name": "#%% md\n"
        },
        "id": "CiPIi-2aWt6u"
      }
    },
    {
      "cell_type": "markdown",
      "source": [
        "You can develop a Tweedie XGBoost via **objective=reg:tweedie**. \n",
        "\n",
        "There is an extra parameter involved: **tweedie_variance_power**:\n",
        "* Parameter that controls the variance of the Tweedie distribution \n",
        "* default = 1.5\n",
        "* range: (1,2)\n",
        "* Set closer to 2 to shift towards a gamma distribution\n",
        "* Set closer to 1 to shift towards a Poisson distribution."
      ],
      "metadata": {
        "id": "o3JHsBV8miOr"
      }
    }
  ],
  "metadata": {
    "kernelspec": {
      "display_name": "Python 3",
      "language": "python",
      "name": "python3"
    },
    "language_info": {
      "codemirror_mode": {
        "name": "ipython",
        "version": 2
      },
      "file_extension": ".py",
      "mimetype": "text/x-python",
      "name": "python",
      "nbconvert_exporter": "python",
      "pygments_lexer": "ipython2",
      "version": "2.7.6"
    },
    "colab": {
      "name": "computerlab_lab_3_xgboost.ipynb",
      "provenance": [],
      "toc_visible": true,
      "collapsed_sections": []
    }
  },
  "nbformat": 4,
  "nbformat_minor": 0
}