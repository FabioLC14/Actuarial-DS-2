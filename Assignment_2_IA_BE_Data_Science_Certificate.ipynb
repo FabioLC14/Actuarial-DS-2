{
  "cells": [
    {
      "cell_type": "markdown",
      "metadata": {
        "id": "P4rSsKn88Dzc"
      },
      "source": [
        "## Assignment 2 - IA|BE Data Science Certificate\n",
        "\n",
      
        "\n",
        "In this assignment we will analyze claim frequency in the presence of some risk factors. We will perform a random forest and a gbm and compare both methods. Our research question will be which model provides the best deviance between Xgboost and Random Forest after hyper parameter tuning.\n",
        "\n"
      ]
    },
    {
      "cell_type": "markdown",
      "metadata": {
        "id": "brtzEflc8x6Y"
      },
      "source": [
        "#### Import the assignment data "
      ]
    },
    {
      "cell_type": "code",
      "execution_count": null,
      "metadata": {
        "colab": {
          "base_uri": "https://localhost:8080/",
          "height": 243
        },
        "id": "K3yZdccI82ot",
        "outputId": "8a8d1490-47b0-4668-f957-5b97c232c9a1"
      },
      "outputs": [
        {
          "name": "stderr",
          "output_type": "stream",
          "text": [
            "/usr/local/lib/python3.7/dist-packages/statsmodels/tools/_testing.py:19: FutureWarning: pandas.util.testing is deprecated. Use the functions in the public API at pandas.testing instead.\n",
            "  import pandas.util.testing as tm\n"
          ]
        },
        {
          "data": {
            "text/html": [
              "\n",
              "  <div id=\"df-38f51631-d96f-4104-b5fe-421ff2135628\">\n",
              "    <div class=\"colab-df-container\">\n",
              "      <div>\n",
              "<style scoped>\n",
              "    .dataframe tbody tr th:only-of-type {\n",
              "        vertical-align: middle;\n",
              "    }\n",
              "\n",
              "    .dataframe tbody tr th {\n",
              "        vertical-align: top;\n",
              "    }\n",
              "\n",
              "    .dataframe thead th {\n",
              "        text-align: right;\n",
              "    }\n",
              "</style>\n",
              "<table border=\"1\" class=\"dataframe\">\n",
              "  <thead>\n",
              "    <tr style=\"text-align: right;\">\n",
              "      <th></th>\n",
              "      <th>AGEPH</th>\n",
              "      <th>CODPOSS</th>\n",
              "      <th>duree</th>\n",
              "      <th>lnexpo</th>\n",
              "      <th>nbrtotc</th>\n",
              "      <th>nbrtotan</th>\n",
              "      <th>chargtot</th>\n",
              "      <th>agecar</th>\n",
              "      <th>sexp</th>\n",
              "      <th>fuelc</th>\n",
              "      <th>split</th>\n",
              "      <th>usec</th>\n",
              "      <th>fleetc</th>\n",
              "      <th>sportc</th>\n",
              "      <th>coverp</th>\n",
              "      <th>powerc</th>\n",
              "    </tr>\n",
              "  </thead>\n",
              "  <tbody>\n",
              "    <tr>\n",
              "      <th>0</th>\n",
              "      <td>64</td>\n",
              "      <td>1000</td>\n",
              "      <td>1.000000</td>\n",
              "      <td>0.000000</td>\n",
              "      <td>0</td>\n",
              "      <td>0.000000</td>\n",
              "      <td>0.000000</td>\n",
              "      <td>2-5</td>\n",
              "      <td>Female</td>\n",
              "      <td>Petrol</td>\n",
              "      <td>Once</td>\n",
              "      <td>Private</td>\n",
              "      <td>No</td>\n",
              "      <td>No</td>\n",
              "      <td>MTPL+</td>\n",
              "      <td>66-110</td>\n",
              "    </tr>\n",
              "    <tr>\n",
              "      <th>1</th>\n",
              "      <td>28</td>\n",
              "      <td>1000</td>\n",
              "      <td>0.046575</td>\n",
              "      <td>-3.066684</td>\n",
              "      <td>1</td>\n",
              "      <td>21.470588</td>\n",
              "      <td>155.974606</td>\n",
              "      <td>6-10</td>\n",
              "      <td>Female</td>\n",
              "      <td>Petrol</td>\n",
              "      <td>Twice</td>\n",
              "      <td>Private</td>\n",
              "      <td>No</td>\n",
              "      <td>No</td>\n",
              "      <td>MTPL</td>\n",
              "      <td>66-110</td>\n",
              "    </tr>\n",
              "    <tr>\n",
              "      <th>2</th>\n",
              "      <td>58</td>\n",
              "      <td>1000</td>\n",
              "      <td>0.402740</td>\n",
              "      <td>-0.909465</td>\n",
              "      <td>0</td>\n",
              "      <td>0.000000</td>\n",
              "      <td>0.000000</td>\n",
              "      <td>&gt;10</td>\n",
              "      <td>Female</td>\n",
              "      <td>Petrol</td>\n",
              "      <td>Thrice</td>\n",
              "      <td>Private</td>\n",
              "      <td>No</td>\n",
              "      <td>No</td>\n",
              "      <td>MTPL</td>\n",
              "      <td>&lt;66</td>\n",
              "    </tr>\n",
              "    <tr>\n",
              "      <th>3</th>\n",
              "      <td>37</td>\n",
              "      <td>1030</td>\n",
              "      <td>0.169863</td>\n",
              "      <td>-1.772763</td>\n",
              "      <td>0</td>\n",
              "      <td>0.000000</td>\n",
              "      <td>0.000000</td>\n",
              "      <td>2-5</td>\n",
              "      <td>Female</td>\n",
              "      <td>Petrol</td>\n",
              "      <td>Once</td>\n",
              "      <td>Professional</td>\n",
              "      <td>No</td>\n",
              "      <td>No</td>\n",
              "      <td>MTPL+++</td>\n",
              "      <td>66-110</td>\n",
              "    </tr>\n",
              "    <tr>\n",
              "      <th>4</th>\n",
              "      <td>29</td>\n",
              "      <td>1030</td>\n",
              "      <td>1.000000</td>\n",
              "      <td>0.000000</td>\n",
              "      <td>0</td>\n",
              "      <td>0.000000</td>\n",
              "      <td>0.000000</td>\n",
              "      <td>6-10</td>\n",
              "      <td>Female</td>\n",
              "      <td>Petrol</td>\n",
              "      <td>Once</td>\n",
              "      <td>Private</td>\n",
              "      <td>No</td>\n",
              "      <td>No</td>\n",
              "      <td>MTPL+</td>\n",
              "      <td>&lt;66</td>\n",
              "    </tr>\n",
              "  </tbody>\n",
              "</table>\n",
              "</div>\n",
              "      <button class=\"colab-df-convert\" onclick=\"convertToInteractive('df-38f51631-d96f-4104-b5fe-421ff2135628')\"\n",
              "              title=\"Convert this dataframe to an interactive table.\"\n",
              "              style=\"display:none;\">\n",
              "        \n",
              "  <svg xmlns=\"http://www.w3.org/2000/svg\" height=\"24px\"viewBox=\"0 0 24 24\"\n",
              "       width=\"24px\">\n",
              "    <path d=\"M0 0h24v24H0V0z\" fill=\"none\"/>\n",
              "    <path d=\"M18.56 5.44l.94 2.06.94-2.06 2.06-.94-2.06-.94-.94-2.06-.94 2.06-2.06.94zm-11 1L8.5 8.5l.94-2.06 2.06-.94-2.06-.94L8.5 2.5l-.94 2.06-2.06.94zm10 10l.94 2.06.94-2.06 2.06-.94-2.06-.94-.94-2.06-.94 2.06-2.06.94z\"/><path d=\"M17.41 7.96l-1.37-1.37c-.4-.4-.92-.59-1.43-.59-.52 0-1.04.2-1.43.59L10.3 9.45l-7.72 7.72c-.78.78-.78 2.05 0 2.83L4 21.41c.39.39.9.59 1.41.59.51 0 1.02-.2 1.41-.59l7.78-7.78 2.81-2.81c.8-.78.8-2.07 0-2.86zM5.41 20L4 18.59l7.72-7.72 1.47 1.35L5.41 20z\"/>\n",
              "  </svg>\n",
              "      </button>\n",
              "      \n",
              "  <style>\n",
              "    .colab-df-container {\n",
              "      display:flex;\n",
              "      flex-wrap:wrap;\n",
              "      gap: 12px;\n",
              "    }\n",
              "\n",
              "    .colab-df-convert {\n",
              "      background-color: #E8F0FE;\n",
              "      border: none;\n",
              "      border-radius: 50%;\n",
              "      cursor: pointer;\n",
              "      display: none;\n",
              "      fill: #1967D2;\n",
              "      height: 32px;\n",
              "      padding: 0 0 0 0;\n",
              "      width: 32px;\n",
              "    }\n",
              "\n",
              "    .colab-df-convert:hover {\n",
              "      background-color: #E2EBFA;\n",
              "      box-shadow: 0px 1px 2px rgba(60, 64, 67, 0.3), 0px 1px 3px 1px rgba(60, 64, 67, 0.15);\n",
              "      fill: #174EA6;\n",
              "    }\n",
              "\n",
              "    [theme=dark] .colab-df-convert {\n",
              "      background-color: #3B4455;\n",
              "      fill: #D2E3FC;\n",
              "    }\n",
              "\n",
              "    [theme=dark] .colab-df-convert:hover {\n",
              "      background-color: #434B5C;\n",
              "      box-shadow: 0px 1px 3px 1px rgba(0, 0, 0, 0.15);\n",
              "      filter: drop-shadow(0px 1px 2px rgba(0, 0, 0, 0.3));\n",
              "      fill: #FFFFFF;\n",
              "    }\n",
              "  </style>\n",
              "\n",
              "      <script>\n",
              "        const buttonEl =\n",
              "          document.querySelector('#df-38f51631-d96f-4104-b5fe-421ff2135628 button.colab-df-convert');\n",
              "        buttonEl.style.display =\n",
              "          google.colab.kernel.accessAllowed ? 'block' : 'none';\n",
              "\n",
              "        async function convertToInteractive(key) {\n",
              "          const element = document.querySelector('#df-38f51631-d96f-4104-b5fe-421ff2135628');\n",
              "          const dataTable =\n",
              "            await google.colab.kernel.invokeFunction('convertToInteractive',\n",
              "                                                     [key], {});\n",
              "          if (!dataTable) return;\n",
              "\n",
              "          const docLinkHtml = 'Like what you see? Visit the ' +\n",
              "            '<a target=\"_blank\" href=https://colab.research.google.com/notebooks/data_table.ipynb>data table notebook</a>'\n",
              "            + ' to learn more about interactive tables.';\n",
              "          element.innerHTML = '';\n",
              "          dataTable['output_type'] = 'display_data';\n",
              "          await google.colab.output.renderOutput(dataTable, element);\n",
              "          const docLink = document.createElement('div');\n",
              "          docLink.innerHTML = docLinkHtml;\n",
              "          element.appendChild(docLink);\n",
              "        }\n",
              "      </script>\n",
              "    </div>\n",
              "  </div>\n",
              "  "
            ],
            "text/plain": [
              "   AGEPH  CODPOSS     duree    lnexpo  nbrtotc   nbrtotan    chargtot agecar  \\\n",
              "0     64     1000  1.000000  0.000000        0   0.000000    0.000000    2-5   \n",
              "1     28     1000  0.046575 -3.066684        1  21.470588  155.974606   6-10   \n",
              "2     58     1000  0.402740 -0.909465        0   0.000000    0.000000    >10   \n",
              "3     37     1030  0.169863 -1.772763        0   0.000000    0.000000    2-5   \n",
              "4     29     1030  1.000000  0.000000        0   0.000000    0.000000   6-10   \n",
              "\n",
              "     sexp   fuelc   split          usec fleetc sportc   coverp  powerc  \n",
              "0  Female  Petrol    Once       Private     No     No    MTPL+  66-110  \n",
              "1  Female  Petrol   Twice       Private     No     No     MTPL  66-110  \n",
              "2  Female  Petrol  Thrice       Private     No     No     MTPL     <66  \n",
              "3  Female  Petrol    Once  Professional     No     No  MTPL+++  66-110  \n",
              "4  Female  Petrol    Once       Private     No     No    MTPL+     <66  "
            ]
          },
          "execution_count": 1,
          "metadata": {},
          "output_type": "execute_result"
        }
      ],
      "source": [
        "import time\n",
        "import random\n",
        "import math\n",
        "import numpy as np \n",
        "import pandas as pd \n",
        "import matplotlib.pyplot as plt\n",
        "import seaborn as sns\n",
        "import statsmodels.api as sm\n",
        "import statsmodels.formula.api as smf\n",
        "\n",
        "import pylab\n",
        "\n",
        "from mpl_toolkits.mplot3d import axes3d\n",
        "from matplotlib import cm\n",
        "\n",
        "from sklearn import metrics\n",
        "from sklearn.model_selection import train_test_split\n",
        "from sklearn.tree import DecisionTreeRegressor\n",
        "from sklearn.ensemble import BaggingRegressor\n",
        "from sklearn.ensemble import RandomForestRegressor, GradientBoostingRegressor\n",
        "from sklearn.model_selection import KFold\n",
        "from sklearn.model_selection import RandomizedSearchCV\n",
        "from sklearn.model_selection import GridSearchCV\n",
        "from sklearn.metrics import mean_squared_error\n",
        "from sklearn import tree\n",
        "\n",
        "\n",
        "\n",
        "import xgboost as xgb\n",
        "from sklearn.metrics import mean_squared_error\n",
        "from sklearn.inspection import PartialDependenceDisplay\n",
        "\n",
        "my_data = pd.read_csv(\"https://gitfront.io/r/katrienantonio/a29071bdc7b2f20f24268be573ef54b68c65168c/IABE-DS-module-1/raw/assignment/assignment_data.csv\", delimiter = \",\")\n",
        "my_data.head()"
      ]
    },
    {
      "cell_type": "code",
      "execution_count": null,
      "metadata": {
        "colab": {
          "base_uri": "https://localhost:8080/"
        },
        "id": "wGh-tawn9wAT",
        "outputId": "b397a102-d18b-46e1-b69b-31e0b4ba09ed"
      },
      "outputs": [
        {
          "data": {
            "text/plain": [
              "Index(['AGEPH', 'CODPOSS', 'duree', 'lnexpo', 'nbrtotc', 'nbrtotan',\n",
              "       'chargtot', 'agecar', 'sexp', 'fuelc', 'split', 'usec', 'fleetc',\n",
              "       'sportc', 'coverp', 'powerc'],\n",
              "      dtype='object')"
            ]
          },
          "execution_count": 2,
          "metadata": {},
          "output_type": "execute_result"
        }
      ],
      "source": [
        "my_data.columns"
      ]
    },
    {
      "cell_type": "code",
      "execution_count": null,
      "metadata": {
        "colab": {
          "base_uri": "https://localhost:8080/"
        },
        "id": "ynn-D4N295Q-",
        "outputId": "76a2989f-aa39-4b90-ce36-bca569fdd571"
      },
      "outputs": [
        {
          "data": {
            "text/plain": [
              "(163657, 16)"
            ]
          },
          "execution_count": 3,
          "metadata": {},
          "output_type": "execute_result"
        }
      ],
      "source": [
        "my_data.shape"
      ]
    },
    {
      "cell_type": "markdown",
      "metadata": {
        "id": "dfP7LiSRmHrT"
      },
      "source": [
        "#### Exploratory Data Analysis"
      ]
    },
    {
      "cell_type": "markdown",
      "metadata": {
        "id": "N2XTUaaB5Qtx"
      },
      "source": [
        "##### ***DB***"
      ]
    },
    {
      "cell_type": "code",
      "execution_count": null,
      "metadata": {
        "colab": {
          "base_uri": "https://localhost:8080/"
        },
        "id": "u_vA5F7DmeU6",
        "outputId": "e5c265a7-ee99-4df1-a35d-3d4c3fb452b7"
      },
      "outputs": [
        {
          "name": "stdout",
          "output_type": "stream",
          "text": [
            "my_data\n",
            "object     9\n",
            "float64    4\n",
            "int64      3\n",
            "dtype: int64\n"
          ]
        }
      ],
      "source": [
        "print(\"my_data\")\n",
        "print(my_data.dtypes.value_counts())"
      ]
    },
    {
      "cell_type": "code",
      "execution_count": null,
      "metadata": {
        "colab": {
          "base_uri": "https://localhost:8080/"
        },
        "id": "lvihFfVwnufq",
        "outputId": "5bc24279-764c-4693-9b29-96f733df3756"
      },
      "outputs": [
        {
          "name": "stdout",
          "output_type": "stream",
          "text": [
            "my_data\n",
            "<class 'pandas.core.frame.DataFrame'>\n",
            "RangeIndex: 163657 entries, 0 to 163656\n",
            "Data columns (total 16 columns):\n",
            " #   Column    Non-Null Count   Dtype  \n",
            "---  ------    --------------   -----  \n",
            " 0   AGEPH     163657 non-null  int64  \n",
            " 1   CODPOSS   163657 non-null  int64  \n",
            " 2   duree     163657 non-null  float64\n",
            " 3   lnexpo    163657 non-null  float64\n",
            " 4   nbrtotc   163657 non-null  int64  \n",
            " 5   nbrtotan  163657 non-null  float64\n",
            " 6   chargtot  163657 non-null  float64\n",
            " 7   agecar    163657 non-null  object \n",
            " 8   sexp      163657 non-null  object \n",
            " 9   fuelc     163657 non-null  object \n",
            " 10  split     163657 non-null  object \n",
            " 11  usec      163657 non-null  object \n",
            " 12  fleetc    163657 non-null  object \n",
            " 13  sportc    163657 non-null  object \n",
            " 14  coverp    163657 non-null  object \n",
            " 15  powerc    163657 non-null  object \n",
            "dtypes: float64(4), int64(3), object(9)\n",
            "memory usage: 20.0+ MB\n",
            "None\n",
            "AGEPH       0\n",
            "CODPOSS     0\n",
            "duree       0\n",
            "lnexpo      0\n",
            "nbrtotc     0\n",
            "nbrtotan    0\n",
            "chargtot    0\n",
            "agecar      0\n",
            "sexp        0\n",
            "fuelc       0\n",
            "split       0\n",
            "usec        0\n",
            "fleetc      0\n",
            "sportc      0\n",
            "coverp      0\n",
            "powerc      0\n",
            "dtype: int64\n"
          ]
        }
      ],
      "source": [
        "print(\"my_data\")\n",
        "print(my_data.info())\n",
        "print(my_data.isnull().sum()) # No missing values for each variable"
      ]
    },
    {
      "cell_type": "markdown",
      "metadata": {
        "id": "72OzguD3ZjWU"
      },
      "source": [
        "##### ***Response Variable***"
      ]
    },
    {
      "cell_type": "code",
      "execution_count": null,
      "metadata": {
        "colab": {
          "base_uri": "https://localhost:8080/"
        },
        "id": "VpaIb1HHZtsO",
        "outputId": "f9301bc3-76d3-4537-fe79-80d82976e3da"
      },
      "outputs": [
        {
          "data": {
            "text/plain": [
              "0.1393355156734497"
            ]
          },
          "execution_count": 6,
          "metadata": {},
          "output_type": "execute_result"
        }
      ],
      "source": [
        "my_data.nbrtotc.sum()/my_data.duree.sum()"
      ]
    },
    {
      "cell_type": "code",
      "execution_count": null,
      "metadata": {
        "colab": {
          "base_uri": "https://localhost:8080/"
        },
        "id": "aQ_h_P3kZ-n8",
        "outputId": "2cd48a4a-d260-4a4d-b0c9-8bdd4cf5fdb4"
      },
      "outputs": [
        {
          "data": {
            "text/plain": [
              "0    145312\n",
              "1     16602\n",
              "2      1562\n",
              "3       162\n",
              "4        17\n",
              "5         2\n",
              "Name: nbrtotc, dtype: int64"
            ]
          },
          "execution_count": 7,
          "metadata": {},
          "output_type": "execute_result"
        }
      ],
      "source": [
        "my_data.nbrtotc.value_counts()"
      ]
    },
    {
      "cell_type": "code",
      "execution_count": null,
      "metadata": {
        "colab": {
          "base_uri": "https://localhost:8080/",
          "height": 237
        },
        "id": "32SX5QBMaHRS",
        "outputId": "54274082-9884-464d-9b90-c43801767388"
      },
      "outputs": [
        {
          "data": {
            "text/html": [
              "\n",
              "  <div id=\"df-1147dc17-ec24-46c3-80e7-1924f5a257c5\">\n",
              "    <div class=\"colab-df-container\">\n",
              "      <div>\n",
              "<style scoped>\n",
              "    .dataframe tbody tr th:only-of-type {\n",
              "        vertical-align: middle;\n",
              "    }\n",
              "\n",
              "    .dataframe tbody tr th {\n",
              "        vertical-align: top;\n",
              "    }\n",
              "\n",
              "    .dataframe thead th {\n",
              "        text-align: right;\n",
              "    }\n",
              "</style>\n",
              "<table border=\"1\" class=\"dataframe\">\n",
              "  <thead>\n",
              "    <tr style=\"text-align: right;\">\n",
              "      <th></th>\n",
              "      <th>nbrtotc</th>\n",
              "      <th>tot_obs</th>\n",
              "      <th>tot_expo</th>\n",
              "    </tr>\n",
              "  </thead>\n",
              "  <tbody>\n",
              "    <tr>\n",
              "      <th>0</th>\n",
              "      <td>0</td>\n",
              "      <td>145312</td>\n",
              "      <td>128595.947945</td>\n",
              "    </tr>\n",
              "    <tr>\n",
              "      <th>1</th>\n",
              "      <td>1</td>\n",
              "      <td>16602</td>\n",
              "      <td>15410.320548</td>\n",
              "    </tr>\n",
              "    <tr>\n",
              "      <th>2</th>\n",
              "      <td>2</td>\n",
              "      <td>1562</td>\n",
              "      <td>1447.301370</td>\n",
              "    </tr>\n",
              "    <tr>\n",
              "      <th>3</th>\n",
              "      <td>3</td>\n",
              "      <td>162</td>\n",
              "      <td>150.454795</td>\n",
              "    </tr>\n",
              "    <tr>\n",
              "      <th>4</th>\n",
              "      <td>4</td>\n",
              "      <td>17</td>\n",
              "      <td>14.328767</td>\n",
              "    </tr>\n",
              "    <tr>\n",
              "      <th>5</th>\n",
              "      <td>5</td>\n",
              "      <td>2</td>\n",
              "      <td>1.375342</td>\n",
              "    </tr>\n",
              "  </tbody>\n",
              "</table>\n",
              "</div>\n",
              "      <button class=\"colab-df-convert\" onclick=\"convertToInteractive('df-1147dc17-ec24-46c3-80e7-1924f5a257c5')\"\n",
              "              title=\"Convert this dataframe to an interactive table.\"\n",
              "              style=\"display:none;\">\n",
              "        \n",
              "  <svg xmlns=\"http://www.w3.org/2000/svg\" height=\"24px\"viewBox=\"0 0 24 24\"\n",
              "       width=\"24px\">\n",
              "    <path d=\"M0 0h24v24H0V0z\" fill=\"none\"/>\n",
              "    <path d=\"M18.56 5.44l.94 2.06.94-2.06 2.06-.94-2.06-.94-.94-2.06-.94 2.06-2.06.94zm-11 1L8.5 8.5l.94-2.06 2.06-.94-2.06-.94L8.5 2.5l-.94 2.06-2.06.94zm10 10l.94 2.06.94-2.06 2.06-.94-2.06-.94-.94-2.06-.94 2.06-2.06.94z\"/><path d=\"M17.41 7.96l-1.37-1.37c-.4-.4-.92-.59-1.43-.59-.52 0-1.04.2-1.43.59L10.3 9.45l-7.72 7.72c-.78.78-.78 2.05 0 2.83L4 21.41c.39.39.9.59 1.41.59.51 0 1.02-.2 1.41-.59l7.78-7.78 2.81-2.81c.8-.78.8-2.07 0-2.86zM5.41 20L4 18.59l7.72-7.72 1.47 1.35L5.41 20z\"/>\n",
              "  </svg>\n",
              "      </button>\n",
              "      \n",
              "  <style>\n",
              "    .colab-df-container {\n",
              "      display:flex;\n",
              "      flex-wrap:wrap;\n",
              "      gap: 12px;\n",
              "    }\n",
              "\n",
              "    .colab-df-convert {\n",
              "      background-color: #E8F0FE;\n",
              "      border: none;\n",
              "      border-radius: 50%;\n",
              "      cursor: pointer;\n",
              "      display: none;\n",
              "      fill: #1967D2;\n",
              "      height: 32px;\n",
              "      padding: 0 0 0 0;\n",
              "      width: 32px;\n",
              "    }\n",
              "\n",
              "    .colab-df-convert:hover {\n",
              "      background-color: #E2EBFA;\n",
              "      box-shadow: 0px 1px 2px rgba(60, 64, 67, 0.3), 0px 1px 3px 1px rgba(60, 64, 67, 0.15);\n",
              "      fill: #174EA6;\n",
              "    }\n",
              "\n",
              "    [theme=dark] .colab-df-convert {\n",
              "      background-color: #3B4455;\n",
              "      fill: #D2E3FC;\n",
              "    }\n",
              "\n",
              "    [theme=dark] .colab-df-convert:hover {\n",
              "      background-color: #434B5C;\n",
              "      box-shadow: 0px 1px 3px 1px rgba(0, 0, 0, 0.15);\n",
              "      filter: drop-shadow(0px 1px 2px rgba(0, 0, 0, 0.3));\n",
              "      fill: #FFFFFF;\n",
              "    }\n",
              "  </style>\n",
              "\n",
              "      <script>\n",
              "        const buttonEl =\n",
              "          document.querySelector('#df-1147dc17-ec24-46c3-80e7-1924f5a257c5 button.colab-df-convert');\n",
              "        buttonEl.style.display =\n",
              "          google.colab.kernel.accessAllowed ? 'block' : 'none';\n",
              "\n",
              "        async function convertToInteractive(key) {\n",
              "          const element = document.querySelector('#df-1147dc17-ec24-46c3-80e7-1924f5a257c5');\n",
              "          const dataTable =\n",
              "            await google.colab.kernel.invokeFunction('convertToInteractive',\n",
              "                                                     [key], {});\n",
              "          if (!dataTable) return;\n",
              "\n",
              "          const docLinkHtml = 'Like what you see? Visit the ' +\n",
              "            '<a target=\"_blank\" href=https://colab.research.google.com/notebooks/data_table.ipynb>data table notebook</a>'\n",
              "            + ' to learn more about interactive tables.';\n",
              "          element.innerHTML = '';\n",
              "          dataTable['output_type'] = 'display_data';\n",
              "          await google.colab.output.renderOutput(dataTable, element);\n",
              "          const docLink = document.createElement('div');\n",
              "          docLink.innerHTML = docLinkHtml;\n",
              "          element.appendChild(docLink);\n",
              "        }\n",
              "      </script>\n",
              "    </div>\n",
              "  </div>\n",
              "  "
            ],
            "text/plain": [
              "   nbrtotc  tot_obs       tot_expo\n",
              "0        0   145312  128595.947945\n",
              "1        1    16602   15410.320548\n",
              "2        2     1562    1447.301370\n",
              "3        3      162     150.454795\n",
              "4        4       17      14.328767\n",
              "5        5        2       1.375342"
            ]
          },
          "execution_count": 8,
          "metadata": {},
          "output_type": "execute_result"
        }
      ],
      "source": [
        "emp_freq = my_data.groupby(\"nbrtotc\").agg(tot_obs = ('nbrtotc', 'count'), tot_expo = ('duree', 'sum'))\n",
        "emp_freq.reset_index(inplace = True)\n",
        "emp_freq"
      ]
    },
    {
      "cell_type": "code",
      "execution_count": null,
      "metadata": {
        "colab": {
          "base_uri": "https://localhost:8080/",
          "height": 350
        },
        "id": "q6o4v7uQgLaW",
        "outputId": "88749992-ae90-478b-c4ef-ab3ce0eab441"
      },
      "outputs": [
        {
          "data": {
            "image/png": "[encoded data removed]",
            "text/plain": [
              "<Figure size 720x360 with 1 Axes>"
            ]
          },
          "metadata": {},
          "output_type": "display_data"
        }
      ],
      "source": [
        "plt.figure(figsize = (10, 5))\n",
        "sns.barplot(data = emp_freq, x = \"nbrtotc\", y = \"tot_expo\", alpha = 0.5, color = \"blue\", edgecolor = 'black', linewidth = 1)\n",
        "plt.ylabel(\"Abs freq (in exposure)\")\n",
        "plt.xlabel(\"nbrtotc\")\n",
        "plt.title('Number of claims')\n",
        "plt.show()"
      ]
    },
    {
      "cell_type": "markdown",
      "metadata": {
        "id": "fxBKRW4c5ZHW"
      },
      "source": [
        "##### ***Explanatory Variables***"
      ]
    },
    {
      "cell_type": "code",
      "execution_count": null,
      "metadata": {
        "colab": {
          "base_uri": "https://localhost:8080/"
        },
        "id": "KtdV6pOtsBZ8",
        "outputId": "68939844-b7ef-47bc-bcf4-106661483f3f"
      },
      "outputs": [
        {
          "name": "stdout",
          "output_type": "stream",
          "text": [
            "17      2\n",
            "18     17\n",
            "19    116\n",
            "20    393\n",
            "21    704\n",
            "     ... \n",
            "91     12\n",
            "92     16\n",
            "93      9\n",
            "94      3\n",
            "95      5\n",
            "Name: AGEPH, Length: 79, dtype: int64\n"
          ]
        }
      ],
      "source": [
        "print(my_data.AGEPH.value_counts().sort_index())\n"
      ]
    },
    {
      "cell_type": "code",
      "execution_count": null,
      "metadata": {
        "colab": {
          "base_uri": "https://localhost:8080/",
          "height": 350
        },
        "id": "L3CnrEbjgbA8",
        "outputId": "f057e709-b33d-4385-d939-a2731e181c27"
      },
      "outputs": [
        {
          "data": {
            "image/png": "[encoded data removed]",
            "text/plain": [
              "<Figure size 720x360 with 1 Axes>"
            ]
          },
          "metadata": {},
          "output_type": "display_data"
        }
      ],
      "source": [
        "plt.figure(figsize = (10, 5))\n",
        "sns.histplot(data = my_data, x = \"AGEPH\", color = \"blue\", binwidth = 2, alpha = 0.5)\n",
        "plt.ylabel(\"Absolute frequency\")\n",
        "plt.title('Age policyholder')\n",
        "plt.show()"
      ]
    },
    {
      "cell_type": "code",
      "execution_count": null,
      "metadata": {
        "id": "WiQRVeuVjOcw"
      },
      "outputs": [],
      "source": [
        "my_data['AGEPH_cat'] = np.where(my_data['AGEPH'] < 20, \"17-19\", np.where(my_data['AGEPH'] < 23 ,\"20-22\", \\\n",
        "                              np.where(my_data['AGEPH'] < 26, \"23-25\", np.where(my_data['AGEPH'] < 31, \"26-30\", \\\n",
        "                              np.where(my_data['AGEPH'] < 36, \"31-35\", np.where(my_data['AGEPH'] < 41, \"36-40\", \\\n",
        "                              np.where(my_data['AGEPH'] < 46, \"41-45\", np.where(my_data['AGEPH'] < 51, \"46-50\", \\\n",
        "                              np.where(my_data['AGEPH'] < 56, \"51-55\", np.where(my_data['AGEPH'] < 61, \"56-60\", \\\n",
        "                              np.where(my_data['AGEPH'] < 66, \"61-65\", np.where(my_data['AGEPH'] < 71, \"66-70\", \\\n",
        "                              np.where(my_data['AGEPH'] < 76, \"71-75\", np.where(my_data['AGEPH'] < 81, \"76-80\", \">80\"))))))))))))))"
      ]
    },
    {
      "cell_type": "code",
      "execution_count": null,
      "metadata": {
        "colab": {
          "base_uri": "https://localhost:8080/"
        },
        "id": "3AE_9us_j0i-",
        "outputId": "74369b85-6558-440b-d52b-5018f5d550ab"
      },
      "outputs": [
        {
          "data": {
            "text/plain": [
              "17-19      135\n",
              "20-22     2050\n",
              "23-25     6092\n",
              "26-30    16074\n",
              "31-35    18362\n",
              "36-40    19337\n",
              "41-45    19539\n",
              "46-50    19183\n",
              "51-55    15728\n",
              "56-60    12621\n",
              "61-65    11509\n",
              "66-70    10606\n",
              "71-75     7432\n",
              "76-80     3505\n",
              ">80       1484\n",
              "Name: AGEPH_cat, dtype: int64"
            ]
          },
          "execution_count": 13,
          "metadata": {},
          "output_type": "execute_result"
        }
      ],
      "source": [
        "my_data['AGEPH_cat'].value_counts().sort_index()"
      ]
    },
    {
      "cell_type": "code",
      "execution_count": null,
      "metadata": {
        "colab": {
          "base_uri": "https://localhost:8080/"
        },
        "id": "QxY0hHontHqm",
        "outputId": "0a9314c7-e443-45de-e288-01835254a7ae"
      },
      "outputs": [
        {
          "name": "stdout",
          "output_type": "stream",
          "text": [
            "1000    1181\n",
            "1030     928\n",
            "1040     433\n",
            "1050     643\n",
            "1060     345\n",
            "        ... \n",
            "9950     110\n",
            "9960     185\n",
            "9970      48\n",
            "9980      39\n",
            "9990     136\n",
            "Name: CODPOSS, Length: 583, dtype: int64\n"
          ]
        }
      ],
      "source": [
        "print(my_data.CODPOSS.value_counts().sort_index())"
      ]
    },
    {
      "cell_type": "code",
      "execution_count": null,
      "metadata": {
        "colab": {
          "base_uri": "https://localhost:8080/",
          "height": 350
        },
        "id": "4AT9iF-MgqvB",
        "outputId": "d0bceaba-9fb1-4fee-929e-d343c0925efb"
      },
      "outputs": [
        {
          "data": {
            "image/png": "[encoded data removed]",
            "text/plain": [
              "<Figure size 720x360 with 1 Axes>"
            ]
          },
          "metadata": {},
          "output_type": "display_data"
        }
      ],
      "source": [
        "plt.figure(figsize = (10, 5))\n",
        "sns.histplot(data = my_data, x = \"CODPOSS\", color = \"blue\", binwidth = 2, alpha = 0.5)\n",
        "plt.ylabel(\"Absolute frequency\")\n",
        "plt.title('Postal Code')\n",
        "plt.show()"
      ]
    },
    {
      "cell_type": "code",
      "execution_count": null,
      "metadata": {
        "colab": {
          "base_uri": "https://localhost:8080/"
        },
        "id": "D8BiBDVwtZ_P",
        "outputId": "abcdeea7-ce55-479b-c75e-062754aec7f0"
      },
      "outputs": [
        {
          "name": "stdout",
          "output_type": "stream",
          "text": [
            "0-1      7766\n",
            "2-5     51559\n",
            "6-10    67151\n",
            ">10     37181\n",
            "Name: agecar, dtype: int64\n"
          ]
        }
      ],
      "source": [
        "print(my_data.agecar.value_counts().sort_index())"
      ]
    },
    {
      "cell_type": "code",
      "execution_count": null,
      "metadata": {
        "colab": {
          "base_uri": "https://localhost:8080/"
        },
        "id": "OBDonbbZxkZN",
        "outputId": "93a225ce-a573-4411-9a94-583a35212fbf"
      },
      "outputs": [
        {
          "data": {
            "text/plain": [
              "Male      120434\n",
              "Female     43223\n",
              "Name: sexp, dtype: int64"
            ]
          },
          "execution_count": 17,
          "metadata": {},
          "output_type": "execute_result"
        }
      ],
      "source": [
        "my_data.sexp.value_counts()"
      ]
    },
    {
      "cell_type": "code",
      "execution_count": null,
      "metadata": {
        "colab": {
          "base_uri": "https://localhost:8080/"
        },
        "id": "w2xwSozpxvmH",
        "outputId": "77bb55e2-36fe-41c1-b714-3c0795e29ebb"
      },
      "outputs": [
        {
          "data": {
            "text/plain": [
              "Petrol    113210\n",
              "Gasoil     50447\n",
              "Name: fuelc, dtype: int64"
            ]
          },
          "execution_count": 18,
          "metadata": {},
          "output_type": "execute_result"
        }
      ],
      "source": [
        "my_data.fuelc.value_counts()"
      ]
    },
    {
      "cell_type": "code",
      "execution_count": null,
      "metadata": {
        "colab": {
          "base_uri": "https://localhost:8080/"
        },
        "id": "aNmWGdXIzZ0O",
        "outputId": "5749e71e-c8e1-40ed-ad0b-1aaea587d3a5"
      },
      "outputs": [
        {
          "data": {
            "text/plain": [
              "Once       81479\n",
              "Twice      45961\n",
              "Monthly    23599\n",
              "Thrice     12618\n",
              "Name: split, dtype: int64"
            ]
          },
          "execution_count": 19,
          "metadata": {},
          "output_type": "execute_result"
        }
      ],
      "source": [
        "my_data.split.value_counts()"
      ]
    },
    {
      "cell_type": "code",
      "execution_count": null,
      "metadata": {
        "colab": {
          "base_uri": "https://localhost:8080/"
        },
        "id": "BlcITms7zr-G",
        "outputId": "d15090f8-2ee1-455c-86ba-b53f4b0ddfd8"
      },
      "outputs": [
        {
          "data": {
            "text/plain": [
              "Private         155652\n",
              "Professional      8005\n",
              "Name: usec, dtype: int64"
            ]
          },
          "execution_count": 20,
          "metadata": {},
          "output_type": "execute_result"
        }
      ],
      "source": [
        "my_data.usec.value_counts()"
      ]
    },
    {
      "cell_type": "code",
      "execution_count": null,
      "metadata": {
        "colab": {
          "base_uri": "https://localhost:8080/"
        },
        "id": "rt3UqaVuzx5T",
        "outputId": "27f37eb8-bdf3-4fce-990a-ed3ed00e9c80"
      },
      "outputs": [
        {
          "data": {
            "text/plain": [
              "No     158428\n",
              "Yes      5229\n",
              "Name: fleetc, dtype: int64"
            ]
          },
          "execution_count": 21,
          "metadata": {},
          "output_type": "execute_result"
        }
      ],
      "source": [
        "my_data.fleetc.value_counts()"
      ]
    },
    {
      "cell_type": "code",
      "execution_count": null,
      "metadata": {
        "colab": {
          "base_uri": "https://localhost:8080/"
        },
        "id": "cPIKOA45z4EE",
        "outputId": "16302d3b-a2b4-4550-f9fe-c7140c3451ac"
      },
      "outputs": [
        {
          "data": {
            "text/plain": [
              "No     162145\n",
              "Yes      1512\n",
              "Name: sportc, dtype: int64"
            ]
          },
          "execution_count": 22,
          "metadata": {},
          "output_type": "execute_result"
        }
      ],
      "source": [
        "my_data.sportc.value_counts()"
      ]
    },
    {
      "cell_type": "code",
      "execution_count": null,
      "metadata": {
        "colab": {
          "base_uri": "https://localhost:8080/"
        },
        "id": "zr21WZBIz74k",
        "outputId": "f919f8ce-132a-4398-cc2d-ad66d4c02341"
      },
      "outputs": [
        {
          "data": {
            "text/plain": [
              "MTPL       95409\n",
              "MTPL+      46073\n",
              "MTPL+++    22175\n",
              "Name: coverp, dtype: int64"
            ]
          },
          "execution_count": 23,
          "metadata": {},
          "output_type": "execute_result"
        }
      ],
      "source": [
        "my_data.coverp.value_counts()"
      ]
    },
    {
      "cell_type": "code",
      "execution_count": null,
      "metadata": {
        "colab": {
          "base_uri": "https://localhost:8080/"
        },
        "id": "3t8jLDvfz8BT",
        "outputId": "5a2ef9f6-01e1-4874-914a-cc63745b6219"
      },
      "outputs": [
        {
          "data": {
            "text/plain": [
              "<66       119809\n",
              "66-110     42188\n",
              ">110        1660\n",
              "Name: powerc, dtype: int64"
            ]
          },
          "execution_count": 24,
          "metadata": {},
          "output_type": "execute_result"
        }
      ],
      "source": [
        "my_data.powerc.value_counts()"
      ]
    },
    {
      "cell_type": "code",
      "execution_count": null,
      "metadata": {
        "colab": {
          "base_uri": "https://localhost:8080/"
        },
        "id": "uUKJjK-q0ygH",
        "outputId": "51812409-3313-4eb1-c72d-ab308c039e0e"
      },
      "outputs": [
        {
          "name": "stdout",
          "output_type": "stream",
          "text": [
            "<class 'pandas.core.frame.DataFrame'>\n",
            "RangeIndex: 163657 entries, 0 to 163656\n",
            "Data columns (total 17 columns):\n",
            " #   Column     Non-Null Count   Dtype   \n",
            "---  ------     --------------   -----   \n",
            " 0   AGEPH      163657 non-null  int64   \n",
            " 1   CODPOSS    163657 non-null  int64   \n",
            " 2   duree      163657 non-null  float64 \n",
            " 3   lnexpo     163657 non-null  float64 \n",
            " 4   nbrtotc    163657 non-null  int64   \n",
            " 5   nbrtotan   163657 non-null  float64 \n",
            " 6   chargtot   163657 non-null  float64 \n",
            " 7   agecar     163657 non-null  category\n",
            " 8   sexp       163657 non-null  category\n",
            " 9   fuelc      163657 non-null  category\n",
            " 10  split      163657 non-null  category\n",
            " 11  usec       163657 non-null  category\n",
            " 12  fleetc     163657 non-null  category\n",
            " 13  sportc     163657 non-null  category\n",
            " 14  coverp     163657 non-null  category\n",
            " 15  powerc     163657 non-null  category\n",
            " 16  AGEPH_cat  163657 non-null  category\n",
            "dtypes: category(10), float64(4), int64(3)\n",
            "memory usage: 10.3 MB\n"
          ]
        }
      ],
      "source": [
        "for c in [\"agecar\",\"sexp\",\"fuelc\",\"split\",\"usec\",\"fleetc\",\"sportc\",\"coverp\",\"powerc\",\"AGEPH_cat\"]:\n",
        "    my_data[c]=pd.Categorical(my_data[c])\n",
        "\n",
        "my_data[\"split\"] = my_data[\"split\"].cat.reorder_categories(['Once','Twice','Thrice','Monthly'])\n",
        "my_data[\"powerc\"] = my_data[\"powerc\"].cat.reorder_categories(['<66', '66-110','>110'])\n",
        "\n",
        "my_data.info()"
      ]
    },
    {
      "cell_type": "markdown",
      "metadata": {
        "id": "JXAtVrl_5G1C"
      },
      "source": [
        "##### ***One Way Analysis***"
      ]
    },
    {
      "cell_type": "code",
      "execution_count": null,
      "metadata": {
        "id": "2HDZREiNBwkq"
      },
      "outputs": [],
      "source": [
        "def my_data_description(variable):\n",
        "    \n",
        "    Nbr = my_data[['nbrtotc']].groupby([my_data[variable]]).sum().reset_index()\n",
        "    exp = my_data[['duree']].groupby([my_data[variable]]).sum().reset_index()\n",
        "    obs = pd.merge(Nbr,exp)\n",
        "    obs['Freq']=obs['nbrtotc']/obs['duree']\n",
        "   \n",
        "    return(obs)"
      ]
    },
    {
      "cell_type": "code",
      "execution_count": null,
      "metadata": {
        "id": "OVlbLkp18jBV"
      },
      "outputs": [],
      "source": [
        "def my_data_description_plot(variable):\n",
        "\n",
        "    plt.rcParams['figure.figsize'] = [15, 6]\n",
        "    table_to_plot=table.loc[:,[variable,'duree','Freq']]\n",
        "    table_to_plot.plot(kind='bar', secondary_y='duree', rot=0)\n",
        "    plt.xticks(range(table_to_plot.shape[0]),list(table_to_plot.iloc[:,0]))\n",
        "    plot=plt.show()\n",
        "    \n",
        "    return(plot)"
      ]
    },
    {
      "cell_type": "code",
      "execution_count": null,
      "metadata": {
        "colab": {
          "base_uri": "https://localhost:8080/",
          "height": 374
        },
        "id": "qU_KJQ-Z8rLd",
        "outputId": "821e43c0-426d-46f5-8b56-f66b83dfc9fc"
      },
      "outputs": [
        {
          "data": {
            "image/png": "[encoded data removed]",
            "text/plain": [
              "<Figure size 1080x432 with 2 Axes>"
            ]
          },
          "metadata": {},
          "output_type": "display_data"
        }
      ],
      "source": [
        "table=my_data_description(\"AGEPH_cat\")\n",
        "my_data_description_plot(\"AGEPH_cat\")"
      ]
    },
    {
      "cell_type": "code",
      "execution_count": null,
      "metadata": {
        "colab": {
          "base_uri": "https://localhost:8080/",
          "height": 374
        },
        "id": "wMxV5We1_-7w",
        "outputId": "5a4384b9-4345-4e98-c407-b2dd2cf5a833"
      },
      "outputs": [
        {
          "data": {
            "image/png": "[encoded data removed]",
            "text/plain": [
              "<Figure size 1080x432 with 2 Axes>"
            ]
          },
          "metadata": {},
          "output_type": "display_data"
        }
      ],
      "source": [
        "table=my_data_description(\"agecar\")\n",
        "my_data_description_plot(\"agecar\")"
      ]
    },
    {
      "cell_type": "code",
      "execution_count": null,
      "metadata": {
        "colab": {
          "base_uri": "https://localhost:8080/",
          "height": 374
        },
        "id": "LoMwmRImAD8d",
        "outputId": "586d1836-9e57-49da-f27f-347ad4ab64d7"
      },
      "outputs": [
        {
          "data": {
            "image/png": "[encoded data removed]",
            "text/plain": [
              "<Figure size 1080x432 with 2 Axes>"
            ]
          },
          "metadata": {},
          "output_type": "display_data"
        }
      ],
      "source": [
        "table=my_data_description(\"sexp\")\n",
        "my_data_description_plot(\"sexp\")"
      ]
    },
    {
      "cell_type": "code",
      "execution_count": null,
      "metadata": {
        "colab": {
          "base_uri": "https://localhost:8080/",
          "height": 374
        },
        "id": "QSHUKSWzAEF7",
        "outputId": "3a918cc6-61ce-4a3c-bb2d-ac5c0a28ccb9"
      },
      "outputs": [
        {
          "data": {
            "image/png": "[encoded data removed]",
            "text/plain": [
              "<Figure size 1080x432 with 2 Axes>"
            ]
          },
          "metadata": {},
          "output_type": "display_data"
        }
      ],
      "source": [
        "table=my_data_description(\"fuelc\")\n",
        "my_data_description_plot(\"fuelc\")"
      ]
    },
    {
      "cell_type": "code",
      "execution_count": null,
      "metadata": {
        "colab": {
          "base_uri": "https://localhost:8080/",
          "height": 374
        },
        "id": "X_sFIlUtAEOs",
        "outputId": "341c3a7a-14c4-48d0-8851-806c1dd3f146"
      },
      "outputs": [
        {
          "data": {
            "image/png": "[encoded data removed]",
            "text/plain": [
              "<Figure size 1080x432 with 2 Axes>"
            ]
          },
          "metadata": {},
          "output_type": "display_data"
        }
      ],
      "source": [
        "table=my_data_description(\"split\")\n",
        "my_data_description_plot(\"split\")"
      ]
    },
    {
      "cell_type": "code",
      "execution_count": null,
      "metadata": {
        "colab": {
          "base_uri": "https://localhost:8080/",
          "height": 374
        },
        "id": "a_LHn42lAEXI",
        "outputId": "608dcf5b-b14d-4453-b06e-5d126d5fda1f"
      },
      "outputs": [
        {
          "data": {
            "image/png": "[encoded data removed]",
            "text/plain": [
              "<Figure size 1080x432 with 2 Axes>"
            ]
          },
          "metadata": {},
          "output_type": "display_data"
        }
      ],
      "source": [
        "table=my_data_description(\"usec\")\n",
        "my_data_description_plot(\"usec\")"
      ]
    },
    {
      "cell_type": "code",
      "execution_count": null,
      "metadata": {
        "colab": {
          "base_uri": "https://localhost:8080/",
          "height": 374
        },
        "id": "UtUBRDXKAEf_",
        "outputId": "0b872318-8010-4425-fd47-b076bcfd70eb"
      },
      "outputs": [
        {
          "data": {
            "image/png": "[encoded data removed]",
            "text/plain": [
              "<Figure size 1080x432 with 2 Axes>"
            ]
          },
          "metadata": {},
          "output_type": "display_data"
        }
      ],
      "source": [
        "table=my_data_description(\"fleetc\")\n",
        "my_data_description_plot(\"fleetc\")"
      ]
    },
    {
      "cell_type": "code",
      "execution_count": null,
      "metadata": {
        "colab": {
          "base_uri": "https://localhost:8080/",
          "height": 374
        },
        "id": "dx1y68JAAEnQ",
        "outputId": "500b469a-8dff-42e1-8b26-4705c0b7d9f5"
      },
      "outputs": [
        {
          "data": {
            "image/png": "[encoded data removed]",
            "text/plain": [
              "<Figure size 1080x432 with 2 Axes>"
            ]
          },
          "metadata": {},
          "output_type": "display_data"
        }
      ],
      "source": [
        "table=my_data_description(\"sportc\")\n",
        "my_data_description_plot(\"sportc\")"
      ]
    },
    {
      "cell_type": "code",
      "execution_count": null,
      "metadata": {
        "colab": {
          "base_uri": "https://localhost:8080/",
          "height": 374
        },
        "id": "eEzpDH_aAEuR",
        "outputId": "c8cbd112-609f-4d73-9184-3394d242c5cb"
      },
      "outputs": [
        {
          "data": {
            "image/png": "[encoded data removed]",
            "text/plain": [
              "<Figure size 1080x432 with 2 Axes>"
            ]
          },
          "metadata": {},
          "output_type": "display_data"
        }
      ],
      "source": [
        "table=my_data_description(\"coverp\")\n",
        "my_data_description_plot(\"coverp\")"
      ]
    },
    {
      "cell_type": "code",
      "execution_count": null,
      "metadata": {
        "colab": {
          "base_uri": "https://localhost:8080/",
          "height": 374
        },
        "id": "vR-LUEghAE1x",
        "outputId": "af8fb6ba-c3ed-4da2-a2c8-d840558fc4d1"
      },
      "outputs": [
        {
          "data": {
            "image/png": "[encoded data removed]",
            "text/plain": [
              "<Figure size 1080x432 with 2 Axes>"
            ]
          },
          "metadata": {},
          "output_type": "display_data"
        }
      ],
      "source": [
        "table=my_data_description(\"powerc\")\n",
        "my_data_description_plot(\"powerc\")"
      ]
    },
    {
      "cell_type": "markdown",
      "metadata": {
        "id": "pCV0LjEwCASP"
      },
      "source": [
        "#### Method 1 : Random Forest"
      ]
    },
    {
      "cell_type": "markdown",
      "metadata": {
        "id": "9Uq3kURr1faV"
      },
      "source": [
        "##### ***Train-test split and one hot encoding***"
      ]
    },
    {
      "cell_type": "code",
      "execution_count": null,
      "metadata": {
        "colab": {
          "base_uri": "https://localhost:8080/"
        },
        "id": "VSwAjcsAEgdg",
        "outputId": "950b6af2-8143-42ba-b9a4-57f8cceb752f"
      },
      "outputs": [
        {
          "data": {
            "image/png": "[encoded data removed]",
            "text/plain": [
              "<Figure size 720x360 with 1 Axes>"
            ]
          },
          "metadata": {},
          "output_type": "display_data"
        }
      ],
      "source": [
        "np.random.seed(123)\n",
        "\n",
        "my_data_X = my_data.drop(labels=['AGEPH_cat','CODPOSS','lnexpo','nbrtotc','nbrtotan','chargtot'], axis=1) \n",
        "my_data_X_train, my_data_X_test, my_data_y_train, my_data_y_test = train_test_split(my_data_X, my_data.nbrtotc, test_size=0.2, stratify=my_data.nbrtotc)\n",
        "\n",
        "X_train=my_data_X_train\n",
        "y_train=my_data_y_train\n",
        "Duree_train=my_data_X_train['duree']\n",
        "X_train_1=my_data_X_train.drop(labels=['duree'],axis=1)\n",
        "X_train_2=pd.get_dummies(data=X_train_1,drop_first=True)\n",
        "y_train_2=my_data_y_train/my_data_X_train['duree']\n",
        "\n",
        "X_test=my_data_X_test\n",
        "y_test=my_data_y_test\n",
        "Duree_test=my_data_X_test['duree']\n",
        "X_test_1=my_data_X_test.drop(labels=['duree'],axis=1)\n",
        "X_test_2=pd.get_dummies(data=X_test_1,drop_first=True)\n",
        "y_test_2=my_data_y_test/my_data_X_test['duree']\n",
        "\n",
        "#create dataframe from different vector lengths\n",
        "df1= pd.DataFrame(my_data_y_train)\n",
        "df2= pd.DataFrame(my_data_y_test)\n",
        "plot_pd = pd.concat([df1,df2], ignore_index=True, axis=1)\n",
        "#rename columns for x-label\n",
        "plot_pd.columns = ['Number claims train', 'Number claims test']\n",
        "#plot \n",
        "fig, axs = plt.subplots(ncols=1, figsize=(10,5));\n",
        "sns.histplot(plot_pd['Number claims train'], ax = axs, color='r',stat=\"probability\").set(title='Number claims');\n",
        "sns.histplot(plot_pd['Number claims test'], ax = axs, color='k',stat=\"probability\");\n",
        "plt.show()"
      ]
    },
    {
      "cell_type": "markdown",
      "metadata": {
        "id": "9g7ZNGGDZZHD"
      },
      "source": [
        "##### ***A first Random Forest***"
      ]
    },
    {
      "cell_type": "code",
      "execution_count": null,
      "metadata": {
        "colab": {
          "base_uri": "https://localhost:8080/"
        },
        "id": "2165310e",
        "outputId": "9cb0e397-ca9c-4514-c397-023ba042bb59"
      },
      "outputs": [
        {
          "name": "stdout",
          "output_type": "stream",
          "text": [
            "10.845092535018921\n"
          ]
        }
      ],
      "source": [
        "class_rf = RandomForestRegressor(n_estimators=100,criterion='poisson',max_depth = 50, max_features='sqrt',random_state = 0)\n",
        "# Starting time\n",
        "start = time.time()\n",
        "# Training\n",
        "reg_rf=class_rf.fit(X_train_2, y_train_2, sample_weight=my_data_X_train['duree'])\n",
        "# Elapsed time\n",
        "end = time.time()\n",
        "print(end - start)\n"
      ]
    },
    {
      "cell_type": "code",
      "execution_count": null,
      "metadata": {
        "id": "phn-J6kKofwg"
      },
      "outputs": [],
      "source": [
        "def DeviancePoisson_scikit(lambdahat,N,v):\n",
        "\n",
        "    nlogn = np.array([np.nan for i in range(v.size)])\n",
        "    dev = np.array([np.nan for i in range(v.size)])\n",
        "    \n",
        "    for i in range(v.size):\n",
        "        if N[i]==0:\n",
        "            nlogn[i] = 0\n",
        "        else:\n",
        "            nlogn[i] = N[i]*math.log(N[i]/(lambdahat[i]*v[i]))\n",
        "            \n",
        "        dev[i] = ( nlogn[i] - (N[i] - lambdahat[i]*v[i]) )\n",
        "        \n",
        "    return(dev.sum()/v.sum())"
      ]
    },
    {
      "cell_type": "code",
      "execution_count": null,
      "metadata": {
        "colab": {
          "base_uri": "https://localhost:8080/"
        },
        "id": "bKo5FCpTdZ1k",
        "outputId": "f274db02-494e-46c7-d60e-5d1c8667b5bf"
      },
      "outputs": [
        {
          "name": "stdout",
          "output_type": "stream",
          "text": [
            "Poisson deviance on training set: 0.2691652659381797\n",
            "Poisson deviance on testing set: 0.31458854260896596\n"
          ]
        }
      ],
      "source": [
        "# Prediction\n",
        "y_pred_train = reg_rf.predict(X_train_2)\n",
        "y_pred_test = reg_rf.predict(X_test_2)\n",
        "\n",
        "print(\"Poisson deviance on training set:\", DeviancePoisson_scikit(np.array(y_pred_train),np.array(y_train),np.array(my_data_X_train['duree'])))\n",
        "print(\"Poisson deviance on testing set:\", DeviancePoisson_scikit(np.array(y_pred_test),np.array(y_test),np.array(my_data_X_test['duree'])))\n"
      ]
    },
    {
      "cell_type": "markdown",
      "metadata": {
        "id": "5vQiFHArgKN2"
      },
      "source": [
        "##### ***Hyper parameter Tuning***"
      ]
    },
    {
      "cell_type": "markdown",
      "metadata": {
        "id": "ueNyj17OynT7"
      },
      "source": [
        "###### Impact of the hyper parameters"
      ]
    },
    {
      "cell_type": "markdown",
      "metadata": {
        "id": "G2k-mGFOggv2"
      },
      "source": [
        "In the following section, we investigate the impact of the following hyperparameters:\n",
        "* n_estimators : the number of trees in the forest\n",
        "* max_depth : the maximum depth of the tree\n",
        "* min_samples_split : the minimum number of samples required to split an internal node\n",
        "* min_samples_leaf : the minimum number of samples required to be at a leaf node.\n"
      ]
    },
    {
      "cell_type": "markdown",
      "metadata": {
        "id": "HGvIIR2tl_DF"
      },
      "source": [
        "**Number of trees**"
      ]
    },
    {
      "cell_type": "code",
      "execution_count": null,
      "metadata": {
        "colab": {
          "base_uri": "https://localhost:8080/"
        },
        "id": "YtNCWCeyoqnD",
        "outputId": "0711e64c-e921-47e8-bf5e-8233e4be5114"
      },
      "outputs": [
        {
          "name": "stdout",
          "output_type": "stream",
          "text": [
            "Step 1 completed ( 1.8082287311553955 sec)...\n",
            "Step 2 completed ( 6.775289535522461 sec)...\n",
            "Step 3 completed ( 12.075722694396973 sec)...\n",
            "Step 4 completed ( 17.649260759353638 sec)...\n",
            "Step 5 completed ( 22.959863901138306 sec)...\n",
            "Step 6 completed ( 28.340275049209595 sec)...\n",
            "Step 7 completed ( 33.76645016670227 sec)...\n",
            "Step 8 completed ( 39.358623027801514 sec)...\n",
            "Step 9 completed ( 44.429866313934326 sec)...\n",
            "Step 10 completed ( 49.91442370414734 sec)...\n",
            "Step 11 completed ( 55.284947633743286 sec)...\n",
            "Total time: 312.374657869339 sec!\n"
          ]
        }
      ],
      "source": [
        "num_trees = np.append([1], np.arange(10, 101, 10))\n",
        "num_k_fold = 5\n",
        "scores = pd.DataFrame(columns = ['Number of trees', 'Mean Deviance (testing)', 'Mean Deviance (training)'],\n",
        "                      data = np.zeros((num_k_fold * len(num_trees), 3)))\n",
        "\n",
        "# Starting time\n",
        "start_global = time.time()\n",
        "\n",
        "# Loop over the number of trees\n",
        "for j in range(len(num_trees)):\n",
        "    i = 0\n",
        "    \n",
        "    # Initiate k-fold object\n",
        "    kf = KFold(n_splits = num_k_fold, shuffle = True)\n",
        "    \n",
        "    # Record starting time\n",
        "    start = time.time()\n",
        "    \n",
        "    # k-fold cross-validation for the selected number of trees\n",
        "    for train, test in kf.split(X_train_2):\n",
        "        # Select training and testing subsets\n",
        "        X_train_cv, y_train_cv, Duree_train_cv = X_train_2.iloc[train], y_train_2.iloc[train], Duree_train.iloc[train]\n",
        "        X_test_cv, y_test_cv, Duree_test_cv = X_train_2.iloc[test], y_train_2.iloc[test], Duree_train.iloc[test]\n",
        "        \n",
        "        # Training\n",
        "        class_rf = RandomForestRegressor(criterion = \"poisson\", max_features = \"sqrt\",\n",
        "                                   n_estimators = num_trees[j], max_depth = 50, random_state = 0, n_jobs = 1)\n",
        "        reg_rf=class_rf.fit(X_train_cv, y_train_cv, sample_weight= Duree_train_cv)\n",
        "        \n",
        "        # Prediction\n",
        "        y_pred_train_cv = reg_rf.predict(X_train_cv)\n",
        "        y_pred_test_cv = reg_rf.predict(X_test_cv)\n",
        "\n",
        "        # Metrics\n",
        "        index = j * num_k_fold + i\n",
        "        scores.at[index, 'Number of trees'] = num_trees[j]\n",
        "        scores.at[index, 'Mean Deviance (testing)'] = DeviancePoisson_scikit(np.array(y_pred_test_cv),np.array(y_test_cv*Duree_test_cv),np.array(Duree_test_cv))\n",
        "        scores.at[index, 'Mean Deviance (training)'] = DeviancePoisson_scikit(np.array(y_pred_train_cv),np.array(y_train_cv*Duree_train_cv),np.array(Duree_train_cv))\n",
        "        i = i + 1\n",
        "    \n",
        "    # Elasped time for the k-fold step\n",
        "    end = time.time()\n",
        "    elapsed = end - start\n",
        "    print('Step', j + 1, 'completed (', elapsed, 'sec)...')\n",
        "\n",
        "# Global elapsed time\n",
        "end_global = time.time()\n",
        "elapsed = end_global - start_global\n",
        "print('Total time:', elapsed, 'sec!')\n"
      ]
    },
    {
      "cell_type": "code",
      "execution_count": null,
      "metadata": {
        "colab": {
          "base_uri": "https://localhost:8080/",
          "height": 426
        },
        "id": "303VBvc-ut90",
        "outputId": "58801628-e4c1-468e-eea6-e7b44f32d94f"
      },
      "outputs": [
        {
          "data": {
            "text/html": [
              "\n",
              "  <div id=\"df-f18418d0-9152-4588-93ed-8dd45e6be261\">\n",
              "    <div class=\"colab-df-container\">\n",
              "      <div>\n",
              "<style scoped>\n",
              "    .dataframe tbody tr th:only-of-type {\n",
              "        vertical-align: middle;\n",
              "    }\n",
              "\n",
              "    .dataframe tbody tr th {\n",
              "        vertical-align: top;\n",
              "    }\n",
              "\n",
              "    .dataframe thead th {\n",
              "        text-align: right;\n",
              "    }\n",
              "</style>\n",
              "<table border=\"1\" class=\"dataframe\">\n",
              "  <thead>\n",
              "    <tr style=\"text-align: right;\">\n",
              "      <th></th>\n",
              "      <th>Mean Deviance (testing)</th>\n",
              "      <th>Mean Deviance (training)</th>\n",
              "    </tr>\n",
              "    <tr>\n",
              "      <th>Number of trees</th>\n",
              "      <th></th>\n",
              "      <th></th>\n",
              "    </tr>\n",
              "  </thead>\n",
              "  <tbody>\n",
              "    <tr>\n",
              "      <th>1.0</th>\n",
              "      <td>0.341291</td>\n",
              "      <td>0.301231</td>\n",
              "    </tr>\n",
              "    <tr>\n",
              "      <th>10.0</th>\n",
              "      <td>0.317396</td>\n",
              "      <td>0.270555</td>\n",
              "    </tr>\n",
              "    <tr>\n",
              "      <th>20.0</th>\n",
              "      <td>0.317067</td>\n",
              "      <td>0.268283</td>\n",
              "    </tr>\n",
              "    <tr>\n",
              "      <th>30.0</th>\n",
              "      <td>0.316482</td>\n",
              "      <td>0.267269</td>\n",
              "    </tr>\n",
              "    <tr>\n",
              "      <th>40.0</th>\n",
              "      <td>0.315047</td>\n",
              "      <td>0.267372</td>\n",
              "    </tr>\n",
              "    <tr>\n",
              "      <th>50.0</th>\n",
              "      <td>0.314699</td>\n",
              "      <td>0.267113</td>\n",
              "    </tr>\n",
              "    <tr>\n",
              "      <th>60.0</th>\n",
              "      <td>0.314679</td>\n",
              "      <td>0.266713</td>\n",
              "    </tr>\n",
              "    <tr>\n",
              "      <th>70.0</th>\n",
              "      <td>0.314250</td>\n",
              "      <td>0.266498</td>\n",
              "    </tr>\n",
              "    <tr>\n",
              "      <th>80.0</th>\n",
              "      <td>0.314731</td>\n",
              "      <td>0.266483</td>\n",
              "    </tr>\n",
              "    <tr>\n",
              "      <th>90.0</th>\n",
              "      <td>0.314692</td>\n",
              "      <td>0.266337</td>\n",
              "    </tr>\n",
              "    <tr>\n",
              "      <th>100.0</th>\n",
              "      <td>0.315189</td>\n",
              "      <td>0.266223</td>\n",
              "    </tr>\n",
              "  </tbody>\n",
              "</table>\n",
              "</div>\n",
              "      <button class=\"colab-df-convert\" onclick=\"convertToInteractive('df-f18418d0-9152-4588-93ed-8dd45e6be261')\"\n",
              "              title=\"Convert this dataframe to an interactive table.\"\n",
              "              style=\"display:none;\">\n",
              "        \n",
              "  <svg xmlns=\"http://www.w3.org/2000/svg\" height=\"24px\"viewBox=\"0 0 24 24\"\n",
              "       width=\"24px\">\n",
              "    <path d=\"M0 0h24v24H0V0z\" fill=\"none\"/>\n",
              "    <path d=\"M18.56 5.44l.94 2.06.94-2.06 2.06-.94-2.06-.94-.94-2.06-.94 2.06-2.06.94zm-11 1L8.5 8.5l.94-2.06 2.06-.94-2.06-.94L8.5 2.5l-.94 2.06-2.06.94zm10 10l.94 2.06.94-2.06 2.06-.94-2.06-.94-.94-2.06-.94 2.06-2.06.94z\"/><path d=\"M17.41 7.96l-1.37-1.37c-.4-.4-.92-.59-1.43-.59-.52 0-1.04.2-1.43.59L10.3 9.45l-7.72 7.72c-.78.78-.78 2.05 0 2.83L4 21.41c.39.39.9.59 1.41.59.51 0 1.02-.2 1.41-.59l7.78-7.78 2.81-2.81c.8-.78.8-2.07 0-2.86zM5.41 20L4 18.59l7.72-7.72 1.47 1.35L5.41 20z\"/>\n",
              "  </svg>\n",
              "      </button>\n",
              "      \n",
              "  <style>\n",
              "    .colab-df-container {\n",
              "      display:flex;\n",
              "      flex-wrap:wrap;\n",
              "      gap: 12px;\n",
              "    }\n",
              "\n",
              "    .colab-df-convert {\n",
              "      background-color: #E8F0FE;\n",
              "      border: none;\n",
              "      border-radius: 50%;\n",
              "      cursor: pointer;\n",
              "      display: none;\n",
              "      fill: #1967D2;\n",
              "      height: 32px;\n",
              "      padding: 0 0 0 0;\n",
              "      width: 32px;\n",
              "    }\n",
              "\n",
              "    .colab-df-convert:hover {\n",
              "      background-color: #E2EBFA;\n",
              "      box-shadow: 0px 1px 2px rgba(60, 64, 67, 0.3), 0px 1px 3px 1px rgba(60, 64, 67, 0.15);\n",
              "      fill: #174EA6;\n",
              "    }\n",
              "\n",
              "    [theme=dark] .colab-df-convert {\n",
              "      background-color: #3B4455;\n",
              "      fill: #D2E3FC;\n",
              "    }\n",
              "\n",
              "    [theme=dark] .colab-df-convert:hover {\n",
              "      background-color: #434B5C;\n",
              "      box-shadow: 0px 1px 3px 1px rgba(0, 0, 0, 0.15);\n",
              "      filter: drop-shadow(0px 1px 2px rgba(0, 0, 0, 0.3));\n",
              "      fill: #FFFFFF;\n",
              "    }\n",
              "  </style>\n",
              "\n",
              "      <script>\n",
              "        const buttonEl =\n",
              "          document.querySelector('#df-f18418d0-9152-4588-93ed-8dd45e6be261 button.colab-df-convert');\n",
              "        buttonEl.style.display =\n",
              "          google.colab.kernel.accessAllowed ? 'block' : 'none';\n",
              "\n",
              "        async function convertToInteractive(key) {\n",
              "          const element = document.querySelector('#df-f18418d0-9152-4588-93ed-8dd45e6be261');\n",
              "          const dataTable =\n",
              "            await google.colab.kernel.invokeFunction('convertToInteractive',\n",
              "                                                     [key], {});\n",
              "          if (!dataTable) return;\n",
              "\n",
              "          const docLinkHtml = 'Like what you see? Visit the ' +\n",
              "            '<a target=\"_blank\" href=https://colab.research.google.com/notebooks/data_table.ipynb>data table notebook</a>'\n",
              "            + ' to learn more about interactive tables.';\n",
              "          element.innerHTML = '';\n",
              "          dataTable['output_type'] = 'display_data';\n",
              "          await google.colab.output.renderOutput(dataTable, element);\n",
              "          const docLink = document.createElement('div');\n",
              "          docLink.innerHTML = docLinkHtml;\n",
              "          element.appendChild(docLink);\n",
              "        }\n",
              "      </script>\n",
              "    </div>\n",
              "  </div>\n",
              "  "
            ],
            "text/plain": [
              "                 Mean Deviance (testing)  Mean Deviance (training)\n",
              "Number of trees                                                   \n",
              "1.0                             0.341291                  0.301231\n",
              "10.0                            0.317396                  0.270555\n",
              "20.0                            0.317067                  0.268283\n",
              "30.0                            0.316482                  0.267269\n",
              "40.0                            0.315047                  0.267372\n",
              "50.0                            0.314699                  0.267113\n",
              "60.0                            0.314679                  0.266713\n",
              "70.0                            0.314250                  0.266498\n",
              "80.0                            0.314731                  0.266483\n",
              "90.0                            0.314692                  0.266337\n",
              "100.0                           0.315189                  0.266223"
            ]
          },
          "execution_count": 104,
          "metadata": {},
          "output_type": "execute_result"
        }
      ],
      "source": [
        "gp = scores.groupby('Number of trees')\n",
        "means = gp.mean()\n",
        "means"
      ]
    },
    {
      "cell_type": "code",
      "execution_count": null,
      "metadata": {
        "colab": {
          "base_uri": "https://localhost:8080/",
          "height": 374
        },
        "id": "xbzhybmU4z2D",
        "outputId": "7e5a67b2-4caf-4dca-e4f0-3a26a7c963e8"
      },
      "outputs": [
        {
          "data": {
            "image/png": "[encoded data removed]",
            "text/plain": [
              "<Figure size 1080x432 with 1 Axes>"
            ]
          },
          "metadata": {},
          "output_type": "display_data"
        }
      ],
      "source": [
        "measures = ['Mean Deviance (testing)','Mean Deviance (training)']\n",
        "plt.figure()\n",
        "plt.plot(means[measures])\n",
        "plt.legend(measures)\n",
        "plt.show()"
      ]
    },
    {
      "cell_type": "markdown",
      "metadata": {
        "id": "z7J6i4QymaDJ"
      },
      "source": [
        "**Maximum depth of the tree**"
      ]
    },
    {
      "cell_type": "code",
      "execution_count": null,
      "metadata": {
        "colab": {
          "base_uri": "https://localhost:8080/"
        },
        "id": "ivPOz5ZnvIaL",
        "outputId": "646d8994-6854-43ed-d1ec-e1ff77d65dea"
      },
      "outputs": [
        {
          "name": "stdout",
          "output_type": "stream",
          "text": [
            "Step 1 completed ( 6.6816565990448 sec)...\n",
            "Step 2 completed ( 29.242548942565918 sec)...\n",
            "Step 3 completed ( 48.17968487739563 sec)...\n",
            "Step 4 completed ( 55.0025098323822 sec)...\n",
            "Step 5 completed ( 55.256596326828 sec)...\n",
            "Step 6 completed ( 55.358633518218994 sec)...\n",
            "Step 7 completed ( 55.50013446807861 sec)...\n",
            "Step 8 completed ( 55.04474973678589 sec)...\n",
            "Step 9 completed ( 55.22763776779175 sec)...\n",
            "Step 10 completed ( 55.54601001739502 sec)...\n",
            "Step 11 completed ( 55.5246319770813 sec)...\n",
            "Total time: 526.5841767787933 sec!\n"
          ]
        }
      ],
      "source": [
        "depth_tree = np.append([1], np.arange(10, 101, 10))\n",
        "num_k_fold = 5\n",
        "scores = pd.DataFrame(columns = ['Depth of the tree', 'Mean Deviance (testing)', 'Mean Deviance (training)'],\n",
        "                      data = np.zeros((num_k_fold * len(depth_tree), 3)))\n",
        "\n",
        "# Starting time\n",
        "start_global = time.time()\n",
        "\n",
        "# Loop over the depth of the tree\n",
        "for j in range(len(depth_tree)):\n",
        "    i = 0\n",
        "    \n",
        "    # Initiate k-fold object\n",
        "    kf = KFold(n_splits = num_k_fold, shuffle = True)\n",
        "    \n",
        "    # Record starting time\n",
        "    start = time.time()\n",
        "    \n",
        "    # k-fold cross-validation for the selected depth of the tree\n",
        "    for train, test in kf.split(X_train_2):\n",
        "        # Select training and testing subsets\n",
        "        X_train_cv, y_train_cv, Duree_train_cv = X_train_2.iloc[train], y_train_2.iloc[train], Duree_train.iloc[train]\n",
        "        X_test_cv, y_test_cv, Duree_test_cv = X_train_2.iloc[test], y_train_2.iloc[test], Duree_train.iloc[test]\n",
        "        \n",
        "        # Training\n",
        "        class_rf = RandomForestRegressor(criterion = \"poisson\", max_features = \"sqrt\",\n",
        "                                   n_estimators = 100, max_depth = depth_tree[j], random_state = 0, n_jobs = 1)\n",
        "        reg_rf=class_rf.fit(X_train_cv, y_train_cv, sample_weight= Duree_train_cv)\n",
        "        \n",
        "        # Prediction\n",
        "        y_pred_train_cv = reg_rf.predict(X_train_cv)\n",
        "        y_pred_test_cv = reg_rf.predict(X_test_cv)\n",
        "\n",
        "        # Metrics\n",
        "        index = j * num_k_fold + i\n",
        "        scores.at[index, 'Depth of the tree'] = depth_tree[j]\n",
        "        scores.at[index, 'Mean Deviance (testing)'] = DeviancePoisson_scikit(np.array(y_pred_test_cv),np.array(y_test_cv*Duree_test_cv),np.array(Duree_test_cv))\n",
        "        scores.at[index, 'Mean Deviance (training)'] = DeviancePoisson_scikit(np.array(y_pred_train_cv),np.array(y_train_cv*Duree_train_cv),np.array(Duree_train_cv))\n",
        "        i = i + 1\n",
        "    \n",
        "    # Elasped time for the k-fold step\n",
        "    end = time.time()\n",
        "    elapsed = end - start\n",
        "    print('Step', j + 1, 'completed (', elapsed, 'sec)...')\n",
        "\n",
        "# Global elapsed time\n",
        "end_global = time.time()\n",
        "elapsed = end_global - start_global\n",
        "print('Total time:', elapsed, 'sec!')\n"
      ]
    },
    {
      "cell_type": "code",
      "execution_count": null,
      "metadata": {
        "colab": {
          "base_uri": "https://localhost:8080/",
          "height": 426
        },
        "id": "ZMRpy3WDvOZ2",
        "outputId": "e5da19bf-feec-4741-c254-f38e5f220f5d"
      },
      "outputs": [
        {
          "data": {
            "text/html": [
              "\n",
              "  <div id=\"df-86e82a30-638c-4c01-be48-ce52ff54a9e4\">\n",
              "    <div class=\"colab-df-container\">\n",
              "      <div>\n",
              "<style scoped>\n",
              "    .dataframe tbody tr th:only-of-type {\n",
              "        vertical-align: middle;\n",
              "    }\n",
              "\n",
              "    .dataframe tbody tr th {\n",
              "        vertical-align: top;\n",
              "    }\n",
              "\n",
              "    .dataframe thead th {\n",
              "        text-align: right;\n",
              "    }\n",
              "</style>\n",
              "<table border=\"1\" class=\"dataframe\">\n",
              "  <thead>\n",
              "    <tr style=\"text-align: right;\">\n",
              "      <th></th>\n",
              "      <th>Mean Deviance (testing)</th>\n",
              "      <th>Mean Deviance (training)</th>\n",
              "    </tr>\n",
              "    <tr>\n",
              "      <th>Depth of the tree</th>\n",
              "      <th></th>\n",
              "      <th></th>\n",
              "    </tr>\n",
              "  </thead>\n",
              "  <tbody>\n",
              "    <tr>\n",
              "      <th>1.0</th>\n",
              "      <td>0.309535</td>\n",
              "      <td>0.309513</td>\n",
              "    </tr>\n",
              "    <tr>\n",
              "      <th>10.0</th>\n",
              "      <td>0.307430</td>\n",
              "      <td>0.304169</td>\n",
              "    </tr>\n",
              "    <tr>\n",
              "      <th>20.0</th>\n",
              "      <td>0.308970</td>\n",
              "      <td>0.279006</td>\n",
              "    </tr>\n",
              "    <tr>\n",
              "      <th>30.0</th>\n",
              "      <td>0.314900</td>\n",
              "      <td>0.266713</td>\n",
              "    </tr>\n",
              "    <tr>\n",
              "      <th>40.0</th>\n",
              "      <td>0.314462</td>\n",
              "      <td>0.266386</td>\n",
              "    </tr>\n",
              "    <tr>\n",
              "      <th>50.0</th>\n",
              "      <td>0.314977</td>\n",
              "      <td>0.266297</td>\n",
              "    </tr>\n",
              "    <tr>\n",
              "      <th>60.0</th>\n",
              "      <td>0.314213</td>\n",
              "      <td>0.266458</td>\n",
              "    </tr>\n",
              "    <tr>\n",
              "      <th>70.0</th>\n",
              "      <td>0.314385</td>\n",
              "      <td>0.266408</td>\n",
              "    </tr>\n",
              "    <tr>\n",
              "      <th>80.0</th>\n",
              "      <td>0.314896</td>\n",
              "      <td>0.266311</td>\n",
              "    </tr>\n",
              "    <tr>\n",
              "      <th>90.0</th>\n",
              "      <td>0.315307</td>\n",
              "      <td>0.266306</td>\n",
              "    </tr>\n",
              "    <tr>\n",
              "      <th>100.0</th>\n",
              "      <td>0.314373</td>\n",
              "      <td>0.266419</td>\n",
              "    </tr>\n",
              "  </tbody>\n",
              "</table>\n",
              "</div>\n",
              "      <button class=\"colab-df-convert\" onclick=\"convertToInteractive('df-86e82a30-638c-4c01-be48-ce52ff54a9e4')\"\n",
              "              title=\"Convert this dataframe to an interactive table.\"\n",
              "              style=\"display:none;\">\n",
              "        \n",
              "  <svg xmlns=\"http://www.w3.org/2000/svg\" height=\"24px\"viewBox=\"0 0 24 24\"\n",
              "       width=\"24px\">\n",
              "    <path d=\"M0 0h24v24H0V0z\" fill=\"none\"/>\n",
              "    <path d=\"M18.56 5.44l.94 2.06.94-2.06 2.06-.94-2.06-.94-.94-2.06-.94 2.06-2.06.94zm-11 1L8.5 8.5l.94-2.06 2.06-.94-2.06-.94L8.5 2.5l-.94 2.06-2.06.94zm10 10l.94 2.06.94-2.06 2.06-.94-2.06-.94-.94-2.06-.94 2.06-2.06.94z\"/><path d=\"M17.41 7.96l-1.37-1.37c-.4-.4-.92-.59-1.43-.59-.52 0-1.04.2-1.43.59L10.3 9.45l-7.72 7.72c-.78.78-.78 2.05 0 2.83L4 21.41c.39.39.9.59 1.41.59.51 0 1.02-.2 1.41-.59l7.78-7.78 2.81-2.81c.8-.78.8-2.07 0-2.86zM5.41 20L4 18.59l7.72-7.72 1.47 1.35L5.41 20z\"/>\n",
              "  </svg>\n",
              "      </button>\n",
              "      \n",
              "  <style>\n",
              "    .colab-df-container {\n",
              "      display:flex;\n",
              "      flex-wrap:wrap;\n",
              "      gap: 12px;\n",
              "    }\n",
              "\n",
              "    .colab-df-convert {\n",
              "      background-color: #E8F0FE;\n",
              "      border: none;\n",
              "      border-radius: 50%;\n",
              "      cursor: pointer;\n",
              "      display: none;\n",
              "      fill: #1967D2;\n",
              "      height: 32px;\n",
              "      padding: 0 0 0 0;\n",
              "      width: 32px;\n",
              "    }\n",
              "\n",
              "    .colab-df-convert:hover {\n",
              "      background-color: #E2EBFA;\n",
              "      box-shadow: 0px 1px 2px rgba(60, 64, 67, 0.3), 0px 1px 3px 1px rgba(60, 64, 67, 0.15);\n",
              "      fill: #174EA6;\n",
              "    }\n",
              "\n",
              "    [theme=dark] .colab-df-convert {\n",
              "      background-color: #3B4455;\n",
              "      fill: #D2E3FC;\n",
              "    }\n",
              "\n",
              "    [theme=dark] .colab-df-convert:hover {\n",
              "      background-color: #434B5C;\n",
              "      box-shadow: 0px 1px 3px 1px rgba(0, 0, 0, 0.15);\n",
              "      filter: drop-shadow(0px 1px 2px rgba(0, 0, 0, 0.3));\n",
              "      fill: #FFFFFF;\n",
              "    }\n",
              "  </style>\n",
              "\n",
              "      <script>\n",
              "        const buttonEl =\n",
              "          document.querySelector('#df-86e82a30-638c-4c01-be48-ce52ff54a9e4 button.colab-df-convert');\n",
              "        buttonEl.style.display =\n",
              "          google.colab.kernel.accessAllowed ? 'block' : 'none';\n",
              "\n",
              "        async function convertToInteractive(key) {\n",
              "          const element = document.querySelector('#df-86e82a30-638c-4c01-be48-ce52ff54a9e4');\n",
              "          const dataTable =\n",
              "            await google.colab.kernel.invokeFunction('convertToInteractive',\n",
              "                                                     [key], {});\n",
              "          if (!dataTable) return;\n",
              "\n",
              "          const docLinkHtml = 'Like what you see? Visit the ' +\n",
              "            '<a target=\"_blank\" href=https://colab.research.google.com/notebooks/data_table.ipynb>data table notebook</a>'\n",
              "            + ' to learn more about interactive tables.';\n",
              "          element.innerHTML = '';\n",
              "          dataTable['output_type'] = 'display_data';\n",
              "          await google.colab.output.renderOutput(dataTable, element);\n",
              "          const docLink = document.createElement('div');\n",
              "          docLink.innerHTML = docLinkHtml;\n",
              "          element.appendChild(docLink);\n",
              "        }\n",
              "      </script>\n",
              "    </div>\n",
              "  </div>\n",
              "  "
            ],
            "text/plain": [
              "                   Mean Deviance (testing)  Mean Deviance (training)\n",
              "Depth of the tree                                                   \n",
              "1.0                               0.309535                  0.309513\n",
              "10.0                              0.307430                  0.304169\n",
              "20.0                              0.308970                  0.279006\n",
              "30.0                              0.314900                  0.266713\n",
              "40.0                              0.314462                  0.266386\n",
              "50.0                              0.314977                  0.266297\n",
              "60.0                              0.314213                  0.266458\n",
              "70.0                              0.314385                  0.266408\n",
              "80.0                              0.314896                  0.266311\n",
              "90.0                              0.315307                  0.266306\n",
              "100.0                             0.314373                  0.266419"
            ]
          },
          "execution_count": 107,
          "metadata": {},
          "output_type": "execute_result"
        }
      ],
      "source": [
        "gp = scores.groupby('Depth of the tree')\n",
        "means = gp.mean()\n",
        "means"
      ]
    },
    {
      "cell_type": "code",
      "execution_count": null,
      "metadata": {
        "colab": {
          "base_uri": "https://localhost:8080/",
          "height": 374
        },
        "id": "hMhGhlZI4mfH",
        "outputId": "f71bf260-850c-4e30-a1b4-5f51853e1ce5"
      },
      "outputs": [
        {
          "data": {
            "image/png": "[encoded data removed]",
            "text/plain": [
              "<Figure size 1080x432 with 1 Axes>"
            ]
          },
          "metadata": {},
          "output_type": "display_data"
        }
      ],
      "source": [
        "measures = ['Mean Deviance (testing)','Mean Deviance (training)']\n",
        "plt.figure()\n",
        "plt.plot(means[measures])\n",
        "plt.legend(measures)\n",
        "plt.show()"
      ]
    },
    {
      "cell_type": "markdown",
      "metadata": {
        "id": "6efAyNtbmaM3"
      },
      "source": [
        "**Minimum number of samples required to split an internal node**"
      ]
    },
    {
      "cell_type": "code",
      "execution_count": null,
      "metadata": {
        "colab": {
          "base_uri": "https://localhost:8080/"
        },
        "id": "mrJBZ8i-5E9J",
        "outputId": "5d27d63a-4645-4df8-a5c3-0f37d2d4d604"
      },
      "outputs": [
        {
          "name": "stdout",
          "output_type": "stream",
          "text": [
            "Step 1 completed ( 55.39097189903259 sec)...\n",
            "Step 2 completed ( 54.605303049087524 sec)...\n",
            "Step 3 completed ( 54.596935510635376 sec)...\n",
            "Step 4 completed ( 55.27218151092529 sec)...\n",
            "Step 5 completed ( 55.17992901802063 sec)...\n",
            "Step 6 completed ( 55.147953271865845 sec)...\n",
            "Step 7 completed ( 55.02551889419556 sec)...\n",
            "Step 8 completed ( 55.26871371269226 sec)...\n",
            "Step 9 completed ( 55.023972272872925 sec)...\n",
            "Total time: 495.5231673717499 sec!\n"
          ]
        }
      ],
      "source": [
        "num_split = np.arange(2, 11, 1)\n",
        "num_k_fold = 5\n",
        "scores = pd.DataFrame(columns = ['Number to split', 'Mean Deviance (testing)', 'Mean Deviance (training)'],\n",
        "                      data = np.zeros((num_k_fold * len(num_split), 3)))\n",
        "\n",
        "# Starting time\n",
        "start_global = time.time()\n",
        "\n",
        "# Loop over the number to split\n",
        "for j in range(len(num_split)):\n",
        "    i = 0\n",
        "    \n",
        "    # Initiate k-fold object\n",
        "    kf = KFold(n_splits = num_k_fold, shuffle = True)\n",
        "    \n",
        "    # Record starting time\n",
        "    start = time.time()\n",
        "    \n",
        "    # k-fold cross-validation for the selected number to split\n",
        "    for train, test in kf.split(X_train_2):\n",
        "        # Select training and testing subsets\n",
        "        X_train_cv, y_train_cv, Duree_train_cv = X_train_2.iloc[train], y_train_2.iloc[train], Duree_train.iloc[train]\n",
        "        X_test_cv, y_test_cv, Duree_test_cv = X_train_2.iloc[test], y_train_2.iloc[test], Duree_train.iloc[test]\n",
        "        \n",
        "        # Training\n",
        "        class_rf = RandomForestRegressor(criterion = \"poisson\", max_features = \"sqrt\",\n",
        "                                   n_estimators = 100, max_depth = 50, min_samples_split = num_split[j], \n",
        "                                   random_state = 0, n_jobs = 1)\n",
        "        reg_rf=class_rf.fit(X_train_cv, y_train_cv, sample_weight= Duree_train_cv)\n",
        "        \n",
        "        # Prediction\n",
        "        y_pred_train_cv = reg_rf.predict(X_train_cv)\n",
        "        y_pred_test_cv = reg_rf.predict(X_test_cv)\n",
        "\n",
        "        # Metrics\n",
        "        index = j * num_k_fold + i\n",
        "        scores.at[index, 'Number to split'] = num_split[j]\n",
        "        scores.at[index, 'Mean Deviance (testing)'] = DeviancePoisson_scikit(np.array(y_pred_test_cv),np.array(y_test_cv*Duree_test_cv),np.array(Duree_test_cv))\n",
        "        scores.at[index, 'Mean Deviance (training)'] = DeviancePoisson_scikit(np.array(y_pred_train_cv),np.array(y_train_cv*Duree_train_cv),np.array(Duree_train_cv))\n",
        "        i = i + 1\n",
        "    \n",
        "    # Elasped time for the k-fold step\n",
        "    end = time.time()\n",
        "    elapsed = end - start\n",
        "    print('Step', j + 1, 'completed (', elapsed, 'sec)...')\n",
        "\n",
        "# Global elapsed time\n",
        "end_global = time.time()\n",
        "elapsed = end_global - start_global\n",
        "print('Total time:', elapsed, 'sec!')\n"
      ]
    },
    {
      "cell_type": "code",
      "execution_count": null,
      "metadata": {
        "colab": {
          "base_uri": "https://localhost:8080/",
          "height": 363
        },
        "id": "HcxgM6O85FLx",
        "outputId": "20710d32-eb03-41bd-cf3d-d3f6e39a334e"
      },
      "outputs": [
        {
          "data": {
            "text/html": [
              "\n",
              "  <div id=\"df-52e9136c-fea2-413a-b6e6-97155277f0e4\">\n",
              "    <div class=\"colab-df-container\">\n",
              "      <div>\n",
              "<style scoped>\n",
              "    .dataframe tbody tr th:only-of-type {\n",
              "        vertical-align: middle;\n",
              "    }\n",
              "\n",
              "    .dataframe tbody tr th {\n",
              "        vertical-align: top;\n",
              "    }\n",
              "\n",
              "    .dataframe thead th {\n",
              "        text-align: right;\n",
              "    }\n",
              "</style>\n",
              "<table border=\"1\" class=\"dataframe\">\n",
              "  <thead>\n",
              "    <tr style=\"text-align: right;\">\n",
              "      <th></th>\n",
              "      <th>Mean Deviance (testing)</th>\n",
              "      <th>Mean Deviance (training)</th>\n",
              "    </tr>\n",
              "    <tr>\n",
              "      <th>Number to split</th>\n",
              "      <th></th>\n",
              "      <th></th>\n",
              "    </tr>\n",
              "  </thead>\n",
              "  <tbody>\n",
              "    <tr>\n",
              "      <th>2.0</th>\n",
              "      <td>0.314940</td>\n",
              "      <td>0.266220</td>\n",
              "    </tr>\n",
              "    <tr>\n",
              "      <th>3.0</th>\n",
              "      <td>0.314931</td>\n",
              "      <td>0.266493</td>\n",
              "    </tr>\n",
              "    <tr>\n",
              "      <th>4.0</th>\n",
              "      <td>0.314582</td>\n",
              "      <td>0.266291</td>\n",
              "    </tr>\n",
              "    <tr>\n",
              "      <th>5.0</th>\n",
              "      <td>0.314502</td>\n",
              "      <td>0.266493</td>\n",
              "    </tr>\n",
              "    <tr>\n",
              "      <th>6.0</th>\n",
              "      <td>0.313983</td>\n",
              "      <td>0.266851</td>\n",
              "    </tr>\n",
              "    <tr>\n",
              "      <th>7.0</th>\n",
              "      <td>0.314409</td>\n",
              "      <td>0.266992</td>\n",
              "    </tr>\n",
              "    <tr>\n",
              "      <th>8.0</th>\n",
              "      <td>0.313634</td>\n",
              "      <td>0.267173</td>\n",
              "    </tr>\n",
              "    <tr>\n",
              "      <th>9.0</th>\n",
              "      <td>0.314384</td>\n",
              "      <td>0.267271</td>\n",
              "    </tr>\n",
              "    <tr>\n",
              "      <th>10.0</th>\n",
              "      <td>0.313710</td>\n",
              "      <td>0.267719</td>\n",
              "    </tr>\n",
              "  </tbody>\n",
              "</table>\n",
              "</div>\n",
              "      <button class=\"colab-df-convert\" onclick=\"convertToInteractive('df-52e9136c-fea2-413a-b6e6-97155277f0e4')\"\n",
              "              title=\"Convert this dataframe to an interactive table.\"\n",
              "              style=\"display:none;\">\n",
              "        \n",
              "  <svg xmlns=\"http://www.w3.org/2000/svg\" height=\"24px\"viewBox=\"0 0 24 24\"\n",
              "       width=\"24px\">\n",
              "    <path d=\"M0 0h24v24H0V0z\" fill=\"none\"/>\n",
              "    <path d=\"M18.56 5.44l.94 2.06.94-2.06 2.06-.94-2.06-.94-.94-2.06-.94 2.06-2.06.94zm-11 1L8.5 8.5l.94-2.06 2.06-.94-2.06-.94L8.5 2.5l-.94 2.06-2.06.94zm10 10l.94 2.06.94-2.06 2.06-.94-2.06-.94-.94-2.06-.94 2.06-2.06.94z\"/><path d=\"M17.41 7.96l-1.37-1.37c-.4-.4-.92-.59-1.43-.59-.52 0-1.04.2-1.43.59L10.3 9.45l-7.72 7.72c-.78.78-.78 2.05 0 2.83L4 21.41c.39.39.9.59 1.41.59.51 0 1.02-.2 1.41-.59l7.78-7.78 2.81-2.81c.8-.78.8-2.07 0-2.86zM5.41 20L4 18.59l7.72-7.72 1.47 1.35L5.41 20z\"/>\n",
              "  </svg>\n",
              "      </button>\n",
              "      \n",
              "  <style>\n",
              "    .colab-df-container {\n",
              "      display:flex;\n",
              "      flex-wrap:wrap;\n",
              "      gap: 12px;\n",
              "    }\n",
              "\n",
              "    .colab-df-convert {\n",
              "      background-color: #E8F0FE;\n",
              "      border: none;\n",
              "      border-radius: 50%;\n",
              "      cursor: pointer;\n",
              "      display: none;\n",
              "      fill: #1967D2;\n",
              "      height: 32px;\n",
              "      padding: 0 0 0 0;\n",
              "      width: 32px;\n",
              "    }\n",
              "\n",
              "    .colab-df-convert:hover {\n",
              "      background-color: #E2EBFA;\n",
              "      box-shadow: 0px 1px 2px rgba(60, 64, 67, 0.3), 0px 1px 3px 1px rgba(60, 64, 67, 0.15);\n",
              "      fill: #174EA6;\n",
              "    }\n",
              "\n",
              "    [theme=dark] .colab-df-convert {\n",
              "      background-color: #3B4455;\n",
              "      fill: #D2E3FC;\n",
              "    }\n",
              "\n",
              "    [theme=dark] .colab-df-convert:hover {\n",
              "      background-color: #434B5C;\n",
              "      box-shadow: 0px 1px 3px 1px rgba(0, 0, 0, 0.15);\n",
              "      filter: drop-shadow(0px 1px 2px rgba(0, 0, 0, 0.3));\n",
              "      fill: #FFFFFF;\n",
              "    }\n",
              "  </style>\n",
              "\n",
              "      <script>\n",
              "        const buttonEl =\n",
              "          document.querySelector('#df-52e9136c-fea2-413a-b6e6-97155277f0e4 button.colab-df-convert');\n",
              "        buttonEl.style.display =\n",
              "          google.colab.kernel.accessAllowed ? 'block' : 'none';\n",
              "\n",
              "        async function convertToInteractive(key) {\n",
              "          const element = document.querySelector('#df-52e9136c-fea2-413a-b6e6-97155277f0e4');\n",
              "          const dataTable =\n",
              "            await google.colab.kernel.invokeFunction('convertToInteractive',\n",
              "                                                     [key], {});\n",
              "          if (!dataTable) return;\n",
              "\n",
              "          const docLinkHtml = 'Like what you see? Visit the ' +\n",
              "            '<a target=\"_blank\" href=https://colab.research.google.com/notebooks/data_table.ipynb>data table notebook</a>'\n",
              "            + ' to learn more about interactive tables.';\n",
              "          element.innerHTML = '';\n",
              "          dataTable['output_type'] = 'display_data';\n",
              "          await google.colab.output.renderOutput(dataTable, element);\n",
              "          const docLink = document.createElement('div');\n",
              "          docLink.innerHTML = docLinkHtml;\n",
              "          element.appendChild(docLink);\n",
              "        }\n",
              "      </script>\n",
              "    </div>\n",
              "  </div>\n",
              "  "
            ],
            "text/plain": [
              "                 Mean Deviance (testing)  Mean Deviance (training)\n",
              "Number to split                                                   \n",
              "2.0                             0.314940                  0.266220\n",
              "3.0                             0.314931                  0.266493\n",
              "4.0                             0.314582                  0.266291\n",
              "5.0                             0.314502                  0.266493\n",
              "6.0                             0.313983                  0.266851\n",
              "7.0                             0.314409                  0.266992\n",
              "8.0                             0.313634                  0.267173\n",
              "9.0                             0.314384                  0.267271\n",
              "10.0                            0.313710                  0.267719"
            ]
          },
          "execution_count": 110,
          "metadata": {},
          "output_type": "execute_result"
        }
      ],
      "source": [
        "gp = scores.groupby('Number to split')\n",
        "means = gp.mean()\n",
        "means"
      ]
    },
    {
      "cell_type": "code",
      "execution_count": null,
      "metadata": {
        "colab": {
          "base_uri": "https://localhost:8080/",
          "height": 374
        },
        "id": "Kxjx_J2k5FXg",
        "outputId": "72dee150-be0d-45dc-f74e-1e19fe8fcd82"
      },
      "outputs": [
        {
          "data": {
            "image/png": "[encoded data removed]",
            "text/plain": [
              "<Figure size 1080x432 with 1 Axes>"
            ]
          },
          "metadata": {},
          "output_type": "display_data"
        }
      ],
      "source": [
        "measures = ['Mean Deviance (testing)','Mean Deviance (training)']\n",
        "plt.figure()\n",
        "plt.plot(means[measures])\n",
        "plt.legend(measures)\n",
        "plt.show()"
      ]
    },
    {
      "cell_type": "markdown",
      "metadata": {
        "id": "sKQTcC3kmaVV"
      },
      "source": [
        "**Minimum number of samples required to be at a leaf node**"
      ]
    },
    {
      "cell_type": "code",
      "execution_count": null,
      "metadata": {
        "colab": {
          "base_uri": "https://localhost:8080/"
        },
        "id": "3wNxDUdz-dIB",
        "outputId": "92dd9523-688b-444b-efab-4be44d9ca9cf"
      },
      "outputs": [
        {
          "name": "stdout",
          "output_type": "stream",
          "text": [
            "Step 1 completed ( 55.84931969642639 sec)...\n",
            "Step 2 completed ( 38.3892924785614 sec)...\n",
            "Step 3 completed ( 34.14306926727295 sec)...\n",
            "Step 4 completed ( 31.563315868377686 sec)...\n",
            "Step 5 completed ( 29.80270004272461 sec)...\n",
            "Step 6 completed ( 28.657790422439575 sec)...\n",
            "Step 7 completed ( 27.89190697669983 sec)...\n",
            "Step 8 completed ( 27.47639513015747 sec)...\n",
            "Step 9 completed ( 26.98468828201294 sec)...\n",
            "Step 10 completed ( 26.429246425628662 sec)...\n",
            "Step 11 completed ( 26.00547957420349 sec)...\n",
            "Total time: 353.21004486083984 sec!\n"
          ]
        }
      ],
      "source": [
        "num_leaf = np.append([1],np.arange(start = 50, stop = 501, step = 50))\n",
        "num_k_fold = 5\n",
        "scores = pd.DataFrame(columns = ['Number for leaf', 'Mean Deviance (testing)', 'Mean Deviance (training)'],\n",
        "                      data = np.zeros((num_k_fold * len(num_leaf), 3)))\n",
        "\n",
        "# Starting time\n",
        "start_global = time.time()\n",
        "\n",
        "# Loop over the number for leaf\n",
        "for j in range(len(num_leaf)):\n",
        "    i = 0\n",
        "    \n",
        "    # Initiate k-fold object\n",
        "    kf = KFold(n_splits = num_k_fold, shuffle = True)\n",
        "    \n",
        "    # Record starting time\n",
        "    start = time.time()\n",
        "    \n",
        "    # k-fold cross-validation for the selected number for leaf\n",
        "    for train, test in kf.split(X_train_2):\n",
        "        # Select training and testing subsets\n",
        "        X_train_cv, y_train_cv, Duree_train_cv = X_train_2.iloc[train], y_train_2.iloc[train], Duree_train.iloc[train]\n",
        "        X_test_cv, y_test_cv, Duree_test_cv = X_train_2.iloc[test], y_train_2.iloc[test], Duree_train.iloc[test]\n",
        "        \n",
        "        # Training\n",
        "        class_rf = RandomForestRegressor(criterion = \"poisson\", max_features = \"sqrt\",\n",
        "                                   n_estimators = 100, max_depth = 50, min_samples_leaf = num_leaf[j],\n",
        "                                   random_state = 0, n_jobs = 1,)\n",
        "        reg_rf=class_rf.fit(X_train_cv, y_train_cv, sample_weight= Duree_train_cv)\n",
        "        \n",
        "        # Prediction\n",
        "        y_pred_train_cv = reg_rf.predict(X_train_cv)\n",
        "        y_pred_test_cv = reg_rf.predict(X_test_cv)\n",
        "\n",
        "        # Metrics\n",
        "        index = j * num_k_fold + i\n",
        "        scores.at[index, 'Number for leaf'] = num_leaf[j]\n",
        "        scores.at[index, 'Mean Deviance (testing)'] = DeviancePoisson_scikit(np.array(y_pred_test_cv),np.array(y_test_cv*Duree_test_cv),np.array(Duree_test_cv))\n",
        "        scores.at[index, 'Mean Deviance (training)'] = DeviancePoisson_scikit(np.array(y_pred_train_cv),np.array(y_train_cv*Duree_train_cv),np.array(Duree_train_cv))\n",
        "        i = i + 1\n",
        "    \n",
        "    # Elasped time for the k-fold step\n",
        "    end = time.time()\n",
        "    elapsed = end - start\n",
        "    print('Step', j + 1, 'completed (', elapsed, 'sec)...')\n",
        "\n",
        "# Global elapsed time\n",
        "end_global = time.time()\n",
        "elapsed = end_global - start_global\n",
        "print('Total time:', elapsed, 'sec!')\n"
      ]
    },
    {
      "cell_type": "code",
      "execution_count": null,
      "metadata": {
        "colab": {
          "base_uri": "https://localhost:8080/",
          "height": 426
        },
        "id": "WHlVWy30-dST",
        "outputId": "cef197da-5c29-41aa-e09b-0a726438db24"
      },
      "outputs": [
        {
          "data": {
            "text/html": [
              "\n",
              "  <div id=\"df-4b3695ad-4c9e-4e2d-bc50-6c358cec5cfb\">\n",
              "    <div class=\"colab-df-container\">\n",
              "      <div>\n",
              "<style scoped>\n",
              "    .dataframe tbody tr th:only-of-type {\n",
              "        vertical-align: middle;\n",
              "    }\n",
              "\n",
              "    .dataframe tbody tr th {\n",
              "        vertical-align: top;\n",
              "    }\n",
              "\n",
              "    .dataframe thead th {\n",
              "        text-align: right;\n",
              "    }\n",
              "</style>\n",
              "<table border=\"1\" class=\"dataframe\">\n",
              "  <thead>\n",
              "    <tr style=\"text-align: right;\">\n",
              "      <th></th>\n",
              "      <th>Mean Deviance (testing)</th>\n",
              "      <th>Mean Deviance (training)</th>\n",
              "    </tr>\n",
              "    <tr>\n",
              "      <th>Number for leaf</th>\n",
              "      <th></th>\n",
              "      <th></th>\n",
              "    </tr>\n",
              "  </thead>\n",
              "  <tbody>\n",
              "    <tr>\n",
              "      <th>1.0</th>\n",
              "      <td>0.314618</td>\n",
              "      <td>0.266355</td>\n",
              "    </tr>\n",
              "    <tr>\n",
              "      <th>50.0</th>\n",
              "      <td>0.304982</td>\n",
              "      <td>0.299562</td>\n",
              "    </tr>\n",
              "    <tr>\n",
              "      <th>100.0</th>\n",
              "      <td>0.305255</td>\n",
              "      <td>0.302708</td>\n",
              "    </tr>\n",
              "    <tr>\n",
              "      <th>150.0</th>\n",
              "      <td>0.305463</td>\n",
              "      <td>0.303842</td>\n",
              "    </tr>\n",
              "    <tr>\n",
              "      <th>200.0</th>\n",
              "      <td>0.305618</td>\n",
              "      <td>0.304391</td>\n",
              "    </tr>\n",
              "    <tr>\n",
              "      <th>250.0</th>\n",
              "      <td>0.305833</td>\n",
              "      <td>0.304714</td>\n",
              "    </tr>\n",
              "    <tr>\n",
              "      <th>300.0</th>\n",
              "      <td>0.305899</td>\n",
              "      <td>0.304976</td>\n",
              "    </tr>\n",
              "    <tr>\n",
              "      <th>350.0</th>\n",
              "      <td>0.305994</td>\n",
              "      <td>0.305199</td>\n",
              "    </tr>\n",
              "    <tr>\n",
              "      <th>400.0</th>\n",
              "      <td>0.306051</td>\n",
              "      <td>0.305294</td>\n",
              "    </tr>\n",
              "    <tr>\n",
              "      <th>450.0</th>\n",
              "      <td>0.306148</td>\n",
              "      <td>0.305456</td>\n",
              "    </tr>\n",
              "    <tr>\n",
              "      <th>500.0</th>\n",
              "      <td>0.306114</td>\n",
              "      <td>0.305539</td>\n",
              "    </tr>\n",
              "  </tbody>\n",
              "</table>\n",
              "</div>\n",
              "      <button class=\"colab-df-convert\" onclick=\"convertToInteractive('df-4b3695ad-4c9e-4e2d-bc50-6c358cec5cfb')\"\n",
              "              title=\"Convert this dataframe to an interactive table.\"\n",
              "              style=\"display:none;\">\n",
              "        \n",
              "  <svg xmlns=\"http://www.w3.org/2000/svg\" height=\"24px\"viewBox=\"0 0 24 24\"\n",
              "       width=\"24px\">\n",
              "    <path d=\"M0 0h24v24H0V0z\" fill=\"none\"/>\n",
              "    <path d=\"M18.56 5.44l.94 2.06.94-2.06 2.06-.94-2.06-.94-.94-2.06-.94 2.06-2.06.94zm-11 1L8.5 8.5l.94-2.06 2.06-.94-2.06-.94L8.5 2.5l-.94 2.06-2.06.94zm10 10l.94 2.06.94-2.06 2.06-.94-2.06-.94-.94-2.06-.94 2.06-2.06.94z\"/><path d=\"M17.41 7.96l-1.37-1.37c-.4-.4-.92-.59-1.43-.59-.52 0-1.04.2-1.43.59L10.3 9.45l-7.72 7.72c-.78.78-.78 2.05 0 2.83L4 21.41c.39.39.9.59 1.41.59.51 0 1.02-.2 1.41-.59l7.78-7.78 2.81-2.81c.8-.78.8-2.07 0-2.86zM5.41 20L4 18.59l7.72-7.72 1.47 1.35L5.41 20z\"/>\n",
              "  </svg>\n",
              "      </button>\n",
              "      \n",
              "  <style>\n",
              "    .colab-df-container {\n",
              "      display:flex;\n",
              "      flex-wrap:wrap;\n",
              "      gap: 12px;\n",
              "    }\n",
              "\n",
              "    .colab-df-convert {\n",
              "      background-color: #E8F0FE;\n",
              "      border: none;\n",
              "      border-radius: 50%;\n",
              "      cursor: pointer;\n",
              "      display: none;\n",
              "      fill: #1967D2;\n",
              "      height: 32px;\n",
              "      padding: 0 0 0 0;\n",
              "      width: 32px;\n",
              "    }\n",
              "\n",
              "    .colab-df-convert:hover {\n",
              "      background-color: #E2EBFA;\n",
              "      box-shadow: 0px 1px 2px rgba(60, 64, 67, 0.3), 0px 1px 3px 1px rgba(60, 64, 67, 0.15);\n",
              "      fill: #174EA6;\n",
              "    }\n",
              "\n",
              "    [theme=dark] .colab-df-convert {\n",
              "      background-color: #3B4455;\n",
              "      fill: #D2E3FC;\n",
              "    }\n",
              "\n",
              "    [theme=dark] .colab-df-convert:hover {\n",
              "      background-color: #434B5C;\n",
              "      box-shadow: 0px 1px 3px 1px rgba(0, 0, 0, 0.15);\n",
              "      filter: drop-shadow(0px 1px 2px rgba(0, 0, 0, 0.3));\n",
              "      fill: #FFFFFF;\n",
              "    }\n",
              "  </style>\n",
              "\n",
              "      <script>\n",
              "        const buttonEl =\n",
              "          document.querySelector('#df-4b3695ad-4c9e-4e2d-bc50-6c358cec5cfb button.colab-df-convert');\n",
              "        buttonEl.style.display =\n",
              "          google.colab.kernel.accessAllowed ? 'block' : 'none';\n",
              "\n",
              "        async function convertToInteractive(key) {\n",
              "          const element = document.querySelector('#df-4b3695ad-4c9e-4e2d-bc50-6c358cec5cfb');\n",
              "          const dataTable =\n",
              "            await google.colab.kernel.invokeFunction('convertToInteractive',\n",
              "                                                     [key], {});\n",
              "          if (!dataTable) return;\n",
              "\n",
              "          const docLinkHtml = 'Like what you see? Visit the ' +\n",
              "            '<a target=\"_blank\" href=https://colab.research.google.com/notebooks/data_table.ipynb>data table notebook</a>'\n",
              "            + ' to learn more about interactive tables.';\n",
              "          element.innerHTML = '';\n",
              "          dataTable['output_type'] = 'display_data';\n",
              "          await google.colab.output.renderOutput(dataTable, element);\n",
              "          const docLink = document.createElement('div');\n",
              "          docLink.innerHTML = docLinkHtml;\n",
              "          element.appendChild(docLink);\n",
              "        }\n",
              "      </script>\n",
              "    </div>\n",
              "  </div>\n",
              "  "
            ],
            "text/plain": [
              "                 Mean Deviance (testing)  Mean Deviance (training)\n",
              "Number for leaf                                                   \n",
              "1.0                             0.314618                  0.266355\n",
              "50.0                            0.304982                  0.299562\n",
              "100.0                           0.305255                  0.302708\n",
              "150.0                           0.305463                  0.303842\n",
              "200.0                           0.305618                  0.304391\n",
              "250.0                           0.305833                  0.304714\n",
              "300.0                           0.305899                  0.304976\n",
              "350.0                           0.305994                  0.305199\n",
              "400.0                           0.306051                  0.305294\n",
              "450.0                           0.306148                  0.305456\n",
              "500.0                           0.306114                  0.305539"
            ]
          },
          "execution_count": 113,
          "metadata": {},
          "output_type": "execute_result"
        }
      ],
      "source": [
        "gp = scores.groupby('Number for leaf')\n",
        "means = gp.mean()\n",
        "means"
      ]
    },
    {
      "cell_type": "code",
      "execution_count": null,
      "metadata": {
        "colab": {
          "base_uri": "https://localhost:8080/",
          "height": 374
        },
        "id": "3pfZ64XF-daz",
        "outputId": "1f1afcf1-0be3-4c02-9aef-9010a03beb83"
      },
      "outputs": [
        {
          "data": {
            "image/png": "[encoded data removed]",
            "text/plain": [
              "<Figure size 1080x432 with 1 Axes>"
            ]
          },
          "metadata": {},
          "output_type": "display_data"
        }
      ],
      "source": [
        "measures = ['Mean Deviance (testing)','Mean Deviance (training)']\n",
        "plt.figure()\n",
        "plt.plot(means[measures])\n",
        "plt.legend(measures)\n",
        "plt.show()"
      ]
    },
    {
      "cell_type": "markdown",
      "metadata": {
        "id": "-hOmEQGEzfAu"
      },
      "source": [
        "###### Random search"
      ]
    },
    {
      "cell_type": "markdown",
      "metadata": {
        "id": "FESQtXfJ0Gkw"
      },
      "source": [
        "We will use RandomizedSearchCV to implement a randomized search on three hyper parameters (n_estimators, max_depth and min_samples_leaf)."
      ]
    },
    {
      "cell_type": "code",
      "execution_count": null,
      "metadata": {
        "colab": {
          "base_uri": "https://localhost:8080/"
        },
        "id": "Ryxcg3-BBoIj",
        "outputId": "17bb4fae-a4cf-4019-8dc9-3e45f07bfc7f"
      },
      "outputs": [
        {
          "data": {
            "text/plain": [
              "{'max_depth': array([  1,  10,  20,  30,  40,  50,  60,  70,  80,  90, 100]),\n",
              " 'min_samples_leaf': array([  1,  50, 100, 150, 200, 250, 300, 350, 400, 450, 500]),\n",
              " 'n_estimators': array([  1,  10,  20,  30,  40,  50,  60,  70,  80,  90, 100])}"
            ]
          },
          "execution_count": 115,
          "metadata": {},
          "output_type": "execute_result"
        }
      ],
      "source": [
        "num_trees = np.append([1], np.arange(10, 101, 10))\n",
        "depth_tree = np.append([1], np.arange(10, 101, 10))\n",
        "min_sample_per_leaf = np.append([1],np.arange(start = 50, stop = 501, step = 50))\n",
        "\n",
        "random_grid = {'n_estimators': num_trees,\n",
        "               'max_depth': depth_tree,\n",
        "               'min_samples_leaf': min_sample_per_leaf}\n",
        "random_grid"
      ]
    },
    {
      "cell_type": "code",
      "execution_count": null,
      "metadata": {
        "colab": {
          "base_uri": "https://localhost:8080/"
        },
        "id": "PEPDisRKCN1b",
        "outputId": "1f3d50d4-78ef-49e7-bd00-21e1d7447028"
      },
      "outputs": [
        {
          "name": "stdout",
          "output_type": "stream",
          "text": [
            "Fitting 5 folds for each of 200 candidates, totalling 1000 fits\n"
          ]
        },
        {
          "name": "stderr",
          "output_type": "stream",
          "text": [
            "/usr/local/lib/python3.7/dist-packages/sklearn/model_selection/_search.py:972: UserWarning: One or more of the test scores are non-finite: [-0.75949584 -0.75964757 -0.75948145         nan         nan -0.76040298\n",
            " -0.77214308 -0.78204706 -0.75935646 -0.76641492 -0.75930032 -0.7595764\n",
            " -0.75971934 -0.75964757 -0.75944211 -0.75971934 -0.75971517 -0.7609233\n",
            " -0.76653391 -0.76899814 -0.76009034 -0.75971517 -0.75980927 -0.76899724\n",
            " -0.76897922 -0.76886148 -0.76897922 -0.76030608 -0.75965804 -0.75995667\n",
            " -0.75988805 -0.76898095 -0.75968265 -0.76957288 -0.76236573 -0.76119035\n",
            " -0.75971572 -0.75980927 -0.75955884 -0.76858137 -0.76075137 -0.75935366\n",
            " -0.76513719 -0.75947739         nan -0.7596131          nan -0.76075459\n",
            " -0.77376217         nan -0.76625882 -0.75937214 -0.7597159  -0.75997197\n",
            " -0.76410565 -0.75981065 -0.75972206 -0.76659244 -0.75996109 -0.75962016\n",
            " -0.75993469 -0.75965804 -0.76887577 -0.76858137 -0.76709876 -0.75944211\n",
            " -0.76211716 -0.76631404 -0.7593661  -0.76513719 -0.7597159  -0.75968265\n",
            " -0.75931666         nan -0.76610103 -0.76061895 -0.77214308 -0.76047488\n",
            " -0.76631404 -0.76631404 -0.76641492 -0.76186876 -0.76217481 -0.75958965\n",
            " -0.76009034 -0.76186876         nan -0.76023098 -0.75971572 -0.75954225\n",
            " -0.76001286 -0.76900225 -0.75967135 -0.76653391 -0.75971517 -0.76897922\n",
            " -0.75954204 -0.7596131  -0.76660575 -0.76893653 -0.75965804 -0.75997197\n",
            " -0.75972206 -0.76119035 -0.75931666 -0.76051829 -0.75970859 -0.76775947\n",
            " -0.76055807         nan -0.75976078 -0.76099911 -0.76047488 -0.75967721\n",
            " -0.76061895 -0.75967721 -0.75971934 -0.76899814 -0.76900223 -0.75981065\n",
            " -0.75996109 -0.75958965 -0.78204706         nan -0.75977486 -0.75993592\n",
            " -0.76886148 -0.76099911 -0.76212816 -0.75960168 -0.75967509 -0.76660575\n",
            " -0.75955884 -0.76893653 -0.76101057 -0.7598577  -0.75967135 -0.76023098\n",
            " -0.77376217 -0.75971572 -0.76005353 -0.75971233 -0.75968265 -0.75959346\n",
            " -0.76237672 -0.75930824 -0.76893653         nan -0.75958474 -0.76005353\n",
            " -0.75962016 -0.75976078 -0.76263753 -0.75998213 -0.77036328 -0.75949584\n",
            "         nan -0.76897922 -0.76119035 -0.76075459 -0.7597521  -0.75958965\n",
            " -0.76893653 -0.7625273  -0.7596131  -0.75990158 -0.7596131  -0.76217481\n",
            " -0.76659244 -0.76900223 -0.75948145 -0.7689814  -0.75962016 -0.75954751\n",
            " -0.75954751 -0.76897922 -0.76212816 -0.76096273 -0.76009034 -0.75954751\n",
            " -0.76513719 -0.76513719 -0.76625882 -0.76055807 -0.76186653 -0.76024583\n",
            " -0.75962016 -0.76298251 -0.76899814 -0.7595807          nan -0.75967509\n",
            " -0.75931666 -0.76212816 -0.76899724 -0.76357591 -0.75949584 -0.75975524\n",
            " -0.75967721 -0.76410565]\n",
            "  category=UserWarning,\n"
          ]
        }
      ],
      "source": [
        "class_rf = RandomForestRegressor(random_state=0)\n",
        "class_rf_random = RandomizedSearchCV(estimator = class_rf, param_distributions = random_grid, n_iter = 200, cv = 5, \n",
        "                                     verbose=2, random_state=0, n_jobs = -1, scoring='neg_mean_poisson_deviance')\n",
        "reg_rf_random=class_rf_random.fit(X_train_2, y_train_2, sample_weight = Duree_train)"
      ]
    },
    {
      "cell_type": "code",
      "execution_count": null,
      "metadata": {
        "colab": {
          "base_uri": "https://localhost:8080/"
        },
        "id": "lwSx5N20Cv9h",
        "outputId": "2ce9f3d4-6213-4a47-e3d5-407c6d04212f"
      },
      "outputs": [
        {
          "data": {
            "text/plain": [
              "{'max_depth': 30, 'min_samples_leaf': 450, 'n_estimators': 100}"
            ]
          },
          "execution_count": 117,
          "metadata": {},
          "output_type": "execute_result"
        }
      ],
      "source": [
        "reg_rf_random.best_params_"
      ]
    },
    {
      "cell_type": "code",
      "execution_count": null,
      "metadata": {
        "colab": {
          "base_uri": "https://localhost:8080/"
        },
        "id": "ePQImpbWJCUS",
        "outputId": "c8f98457-aeec-4857-d4b9-46726f28e0c4"
      },
      "outputs": [
        {
          "data": {
            "text/plain": [
              "0.7593003211454353"
            ]
          },
          "execution_count": 118,
          "metadata": {},
          "output_type": "execute_result"
        }
      ],
      "source": [
        "best_index = np.nonzero(reg_rf_random.cv_results_[\"rank_test_score\"] == 1)[0][0]\n",
        "\n",
        "Z=-reg_rf_random.cv_results_[\"mean_test_score\"].astype(float)\n",
        "Z[best_index]"
      ]
    },
    {
      "cell_type": "markdown",
      "metadata": {
        "id": "hvMhQ8yvzoYq"
      },
      "source": [
        "###### Grid search"
      ]
    },
    {
      "cell_type": "markdown",
      "metadata": {
        "id": "Axs1HUMqzt5h"
      },
      "source": [
        "We will perform a grid search around the best parameters found during the random search."
      ]
    },
    {
      "cell_type": "code",
      "execution_count": null,
      "metadata": {
        "colab": {
          "base_uri": "https://localhost:8080/"
        },
        "id": "Y912A_ANHc-_",
        "outputId": "14157d4a-ed7a-41de-a087-d572afaa30fc"
      },
      "outputs": [
        {
          "data": {
            "text/plain": [
              "{'max_depth': array([10, 15, 20, 25, 30, 35, 40]),\n",
              " 'min_samples_leaf': array([430, 440, 450, 460, 470]),\n",
              " 'n_estimators': array([ 90,  95, 100, 105, 110, 115, 120])}"
            ]
          },
          "execution_count": 124,
          "metadata": {},
          "output_type": "execute_result"
        }
      ],
      "source": [
        "param_grid = {'n_estimators': np.arange(start = 90, stop = 121, step = 5),\n",
        "              'max_depth': np.arange(start = 10, stop = 41, step = 5),\n",
        "              'min_samples_leaf': np.arange(start = 430, stop = 471, step = 10)}\n",
        "param_grid"
      ]
    },
    {
      "cell_type": "code",
      "execution_count": null,
      "metadata": {
        "colab": {
          "base_uri": "https://localhost:8080/"
        },
        "id": "QYlHVlspIdEs",
        "outputId": "25fd9719-1e9c-48e6-ece5-2c3af3fbb697"
      },
      "outputs": [
        {
          "name": "stdout",
          "output_type": "stream",
          "text": [
            "Fitting 5 folds for each of 245 candidates, totalling 1225 fits\n"
          ]
        },
        {
          "data": {
            "text/plain": [
              "GridSearchCV(cv=5, estimator=RandomForestRegressor(random_state=0), n_jobs=-1,\n",
              "             param_grid={'max_depth': array([10, 15, 20, 25, 30, 35, 40]),\n",
              "                         'min_samples_leaf': array([430, 440, 450, 460, 470]),\n",
              "                         'n_estimators': array([ 90,  95, 100, 105, 110, 115, 120])},\n",
              "             scoring='neg_mean_poisson_deviance', verbose=2)"
            ]
          },
          "execution_count": 125,
          "metadata": {},
          "output_type": "execute_result"
        }
      ],
      "source": [
        "class_rf = RandomForestRegressor(random_state=0)\n",
        "reg_rf_grid = GridSearchCV(estimator = class_rf, param_grid = param_grid,\n",
        "                          cv = 5, n_jobs = -1, verbose = 2, scoring='neg_mean_poisson_deviance')\n",
        "reg_rf_grid.fit(X_train_2, y_train_2, sample_weight = Duree_train)"
      ]
    },
    {
      "cell_type": "code",
      "execution_count": null,
      "metadata": {
        "colab": {
          "base_uri": "https://localhost:8080/"
        },
        "id": "GfOXDDUkIu2h",
        "outputId": "25264e31-7bfc-47c8-e831-81a8f4f0996f"
      },
      "outputs": [
        {
          "data": {
            "text/plain": [
              "{'max_depth': 15, 'min_samples_leaf': 450, 'n_estimators': 115}"
            ]
          },
          "execution_count": 126,
          "metadata": {},
          "output_type": "execute_result"
        }
      ],
      "source": [
        "reg_rf_grid.best_params_"
      ]
    },
    {
      "cell_type": "code",
      "execution_count": null,
      "metadata": {
        "colab": {
          "base_uri": "https://localhost:8080/"
        },
        "id": "2PB-9kKMI8vB",
        "outputId": "d677c8d3-3097-42fe-8961-a814be76a2ef"
      },
      "outputs": [
        {
          "data": {
            "text/plain": [
              "0.7592307616283693"
            ]
          },
          "execution_count": 127,
          "metadata": {},
          "output_type": "execute_result"
        }
      ],
      "source": [
        "best_index = np.nonzero(reg_rf_grid.cv_results_[\"rank_test_score\"] == 1)[0][0]\n",
        "\n",
        "Z=-reg_rf_grid.cv_results_[\"mean_test_score\"].astype(float)\n",
        "Z[best_index]"
      ]
    },
    {
      "cell_type": "markdown",
      "metadata": {
        "id": "mdm2j8qgzyYm"
      },
      "source": [
        "##### ***A Random Forest model with tuned hyper parameters***"
      ]
    },
    {
      "cell_type": "markdown",
      "metadata": {
        "id": "vReaWs9H0StP"
      },
      "source": [
        "###### The model"
      ]
    },
    {
      "cell_type": "code",
      "execution_count": null,
      "metadata": {
        "colab": {
          "base_uri": "https://localhost:8080/"
        },
        "id": "RonFBKs40ufd",
        "outputId": "c9036925-de97-4a05-d265-c4f4af37c460"
      },
      "outputs": [
        {
          "name": "stdout",
          "output_type": "stream",
          "text": [
            "6.406615257263184\n"
          ]
        }
      ],
      "source": [
        "class_rf = RandomForestRegressor(n_estimators=reg_rf_grid.best_params_['n_estimators'],\n",
        "                                 max_depth=reg_rf_grid.best_params_['max_depth'],\n",
        "                                 min_samples_leaf=reg_rf_grid.best_params_['min_samples_leaf'],\n",
        "                                 criterion='poisson',max_features='sqrt',random_state = 0)\n",
        "\n",
        "# Starting time\n",
        "start = time.time()\n",
        "# Training\n",
        "reg_rf=class_rf.fit(X_train_2, y_train_2, sample_weight=my_data_X_train['duree'])\n",
        "# Elapsed time\n",
        "end = time.time()\n",
        "print(end - start)"
      ]
    },
    {
      "cell_type": "code",
      "execution_count": null,
      "metadata": {
        "colab": {
          "base_uri": "https://localhost:8080/"
        },
        "id": "oEGopg_w1Xl4",
        "outputId": "050a341c-38da-4252-d8c3-a45733f8b069"
      },
      "outputs": [
        {
          "name": "stdout",
          "output_type": "stream",
          "text": [
            "Poisson Deviance on training set: 0.3053591010362241\n",
            "Poisson Deviance on testing set: 0.30575595531804095\n"
          ]
        }
      ],
      "source": [
        "# Prediction\n",
        "y_pred_train = reg_rf.predict(X_train_2)\n",
        "y_pred_test = reg_rf.predict(X_test_2)\n",
        "\n",
        "print(\"Poisson Deviance on training set:\", DeviancePoisson_scikit(np.array(y_pred_train),np.array(y_train),np.array(my_data_X_train['duree'])))\n",
        "print(\"Poisson Deviance on testing set:\", DeviancePoisson_scikit(np.array(y_pred_test),np.array(y_test),np.array(my_data_X_test['duree'])))"
      ]
    },
    {
      "cell_type": "markdown",
      "metadata": {
        "id": "6gQZDYnu0XIR"
      },
      "source": [
        "###### Interpretation of the model"
      ]
    },
    {
      "cell_type": "markdown",
      "metadata": {
        "id": "zXWhYw220fPr"
      },
      "source": [
        "***Variable Importance***"
      ]
    },
    {
      "cell_type": "markdown",
      "metadata": {
        "id": "8nYmr8sn2g6X"
      },
      "source": [
        "Variable importance refers to how much the random forest relies on a variable to make predictions."
      ]
    },
    {
      "cell_type": "code",
      "execution_count": null,
      "metadata": {
        "colab": {
          "base_uri": "https://localhost:8080/",
          "height": 402
        },
        "id": "NvJ3POLB1mT5",
        "outputId": "9ef3e8a3-2032-4812-c73f-5b07ddf2cacf"
      },
      "outputs": [
        {
          "data": {
            "image/png": "[encoded data removed]",
            "text/plain": [
              "<Figure size 1080x432 with 1 Axes>"
            ]
          },
          "metadata": {},
          "output_type": "display_data"
        }
      ],
      "source": [
        "# Features' names\n",
        "features = list(X_train_2)\n",
        "\n",
        "# Importance measures\n",
        "importances = reg_rf.feature_importances_\n",
        "\n",
        "# We sort the features by highest importance\n",
        "indices = np.flip(np.argsort(importances))\n",
        "\n",
        "\n",
        "#Plot\n",
        "plt.title('Variables importances')\n",
        "plt.barh(range(len(indices)), importances[indices] / importances[indices[0]], color = 'b', align = 'center')\n",
        "plt.yticks(range(len(indices)), [features[i] for i in indices])\n",
        "plt.xlabel('Relative importance')\n",
        "plt.show()"
      ]
    },
    {
      "cell_type": "markdown",
      "metadata": {
        "id": "xlV9AyWI2liw"
      },
      "source": [
        "The age of the policyholder is the most important feature. "
      ]
    },
    {
      "cell_type": "markdown",
      "metadata": {
        "id": "mjOC1tZj0yow"
      },
      "source": [
        "***Partial Dependence Plot (PDP)***"
      ]
    },
    {
      "cell_type": "markdown",
      "metadata": {
        "id": "WuHiGVNs3LSd"
      },
      "source": [
        "A PDP shows the marginal effect one or two features have on the predicted outcome of a machine learning model. A PDP can show whether the relationship between the target and a feature is linear, monotonic or more complex.\n",
        "\n",
        "A flat PDP indicates that the feature is not important.\n",
        "\n",
        "We will show a PDP for the most important feature, the age of the policyholder."
      ]
    },
    {
      "cell_type": "code",
      "execution_count": null,
      "metadata": {
        "colab": {
          "base_uri": "https://localhost:8080/",
          "height": 404
        },
        "id": "KYlJCv3f2Rgq",
        "outputId": "24bd9b64-6965-40c8-a86b-12e27a02437e"
      },
      "outputs": [
        {
          "data": {
            "image/png": "[encoded data removed]",
            "text/plain": [
              "<Figure size 864x432 with 2 Axes>"
            ]
          },
          "metadata": {},
          "output_type": "display_data"
        }
      ],
      "source": [
        "from sklearn.datasets import make_hastie_10_2\n",
        "from sklearn.ensemble import GradientBoostingClassifier\n",
        "from sklearn.inspection import PartialDependenceDisplay\n",
        "\n",
        "#labels=np.flip(features)\n",
        "labels=['AGEPH']\n",
        "\n",
        "fig, ax = plt.subplots(figsize=(12, 6))\n",
        "ax.set_title(\"PDP Age Policyholder\")\n",
        "PartialDependenceDisplay.from_estimator(reg_rf, X = X_train_2, features = labels, ax=ax);"
      ]
    },
    {
      "cell_type": "markdown",
      "metadata": {
        "id": "EPymCBVSjumY"
      },
      "source": [
        "The PDP clearly shows a very high claim frequency for young drivers. The claim frequency decreases until the age of 75 years and slowly increases again for 75+."
      ]
    },
    {
      "cell_type": "markdown",
      "metadata": {
        "id": "HaBBGRNT0F1t"
      },
      "source": [
        "#### Method 2 : GBM"
      ]
    },
    {
      "cell_type": "markdown",
      "source": [
        "In this second section, we will do an Xgboost to compare our frequency model results from the first section.  We will use deviance to compare our models and use a PDP to better understand what the model is giving us in results"
      ],
      "metadata": {
        "id": "RA1cnAPjRxLt"
      }
    },
    {
      "cell_type": "markdown",
      "metadata": {
        "id": "bCI6Ezs0CYAJ"
      },
      "source": [
        "##### ***A first GBM***"
      ]
    },
    {
      "cell_type": "markdown",
      "source": [
        "Below we will launch a first model of Xgboost without hyper parameter tuning in order to have a first view on the Xgboost model"
      ],
      "metadata": {
        "id": "uP6_qLK7SLHG"
      }
    },
    {
      "cell_type": "code",
      "execution_count": null,
      "metadata": {
        "id": "ZPKc9BnWCltP"
      },
      "outputs": [],
      "source": [
        "# import relevant libraries\n",
        "import xgboost as xgb\n",
        "from sklearn.model_selection import train_test_split,GridSearchCV,RandomizedSearchCV\n",
        "from sklearn.metrics import mean_squared_error\n",
        "from sklearn.inspection import PartialDependenceDisplay"
      ]
    },
    {
      "cell_type": "code",
      "execution_count": null,
      "metadata": {
        "id": "eRe8djvHCNBd"
      },
      "outputs": [],
      "source": [
        "y_mtpl_freq = np.array(y_train_2)\n",
        "w_mtpl_freq = np.array(my_data_X_train['duree'])"
      ]
    },
    {
      "cell_type": "code",
      "execution_count": null,
      "metadata": {
        "colab": {
          "base_uri": "https://localhost:8080/"
        },
        "id": "L6Q9kWTfCU04",
        "outputId": "fb232187-761c-4f12-d8f7-95fb60ecb5b8"
      },
      "outputs": [
        {
          "output_type": "execute_result",
          "data": {
            "text/plain": [
              "XGBRegressor(base_score=0.13938126247193397, learning_rate=0.01,\n",
              "             n_estimators=500, objective='count:poisson')"
            ]
          },
          "metadata": {},
          "execution_count": 115
        }
      ],
      "source": [
        "xgb_frequency = xgb.XGBRegressor(n_estimators = 500,\n",
        "                                 objective='count:poisson',\n",
        "                                 max_depth = 3,\n",
        "                                 learning_rate = 0.01,\n",
        "                                 base_score = np.sum(y_mtpl_freq * w_mtpl_freq)/np.sum(w_mtpl_freq))\n",
        "\n",
        "xgb_frequency.fit(X_train_2, y_train_2, sample_weight=w_mtpl_freq)"
      ]
    },
    {
      "cell_type": "code",
      "execution_count": null,
      "metadata": {
        "colab": {
          "base_uri": "https://localhost:8080/"
        },
        "id": "wQLEExErDWRS",
        "outputId": "2af936a5-6c6e-4d6c-c90d-f35ad172f659"
      },
      "outputs": [
        {
          "output_type": "stream",
          "name": "stdout",
          "text": [
            "Poisson Deviance on training set: 0.30174253790430217\n",
            "Poisson Deviance on testing set: 0.30297377836764544\n"
          ]
        }
      ],
      "source": [
        "y_pred_train_xgb_1 = xgb_frequency.predict(X_train_2)\n",
        "y_pred_test_xgb_1 = xgb_frequency.predict(X_test_2)\n",
        "\n",
        "print(\"Poisson Deviance on training set:\", DeviancePoisson_scikit(np.array(y_pred_train_xgb_1),np.array(y_train),np.array(my_data_X_train['duree'])))\n",
        "print(\"Poisson Deviance on testing set:\", DeviancePoisson_scikit(np.array(y_pred_test_xgb_1),np.array(y_test),np.array(my_data_X_test['duree'])))\n",
        "\n"
      ]
    },
    {
      "cell_type": "markdown",
      "source": [
        "Now that we have our 'first view', we will run a random search with CV for hyper parameter tuning in the section below."
      ],
      "metadata": {
        "id": "dD3ZqMYiS2Pk"
      }
    },
    {
      "cell_type": "markdown",
      "metadata": {
        "id": "_DUwD2aC_BXX"
      },
      "source": [
        "##### ***Hyper parameter Tuning***"
      ]
    },
    {
      "cell_type": "markdown",
      "metadata": {
        "id": "lGGAjnjFEcoN"
      },
      "source": [
        "###### Random search"
      ]
    },
    {
      "cell_type": "code",
      "execution_count": null,
      "metadata": {
        "id": "IPC1sMQyEjqN"
      },
      "outputs": [],
      "source": [
        "# define dictionary for gridsearch\n",
        "search_dict = {'max_depth':[1,2,3,5,7],\n",
        "               'learning_rate':[0.0001,0.001,0.01,0.025 ,0.05,0.1,0.5,1],\n",
        "               'n_estimator': np.append([1],np.arange(start = 50, stop = 501, step = 100)) }\n",
        "\n",
        "# Initialize an XGBRegressor\n",
        "xgb_grid = xgb.XGBRegressor(objective='count:poisson',\n",
        "                            \n",
        "                            booster='gbtree')\n"
      ]
    },
    {
      "cell_type": "code",
      "execution_count": null,
      "metadata": {
        "colab": {
          "background_save": true,
          "base_uri": "https://localhost:8080/"
        },
        "id": "B4Ajs5MKHoW6",
        "outputId": "4bf65a28-8c08-4c48-f51d-1922dd748410"
      },
      "outputs": [
        {
          "name": "stdout",
          "output_type": "stream",
          "text": [
            "Fitting 5 folds for each of 50 candidates, totalling 250 fits\n"
          ]
        },
        {
          "data": {
            "text/plain": [
              "RandomizedSearchCV(cv=5, estimator=XGBRegressor(objective='count:poisson'),\n",
              "                   n_iter=50,\n",
              "                   param_distributions={'learning_rate': [0.0001, 0.001, 0.01,\n",
              "                                                          0.025, 0.05, 0.1, 0.5,\n",
              "                                                          1],\n",
              "                                        'max_depth': [1, 2, 3, 5, 7],\n",
              "                                        'n_estimator': array([  1,  50, 150, 250, 350, 450])},\n",
              "                   random_state=54321, scoring='neg_mean_poisson_deviance',\n",
              "                   verbose=1)"
            ]
          },
          "execution_count": null,
          "metadata": {},
          "output_type": "execute_result"
        }
      ],
      "source": [
        "# execute cross_validation\n",
        "xgb_randomsearch = RandomizedSearchCV(estimator=xgb_grid,\n",
        "                                      param_distributions=search_dict,\n",
        "                                      n_iter=50,\n",
        "                                      scoring='neg_mean_poisson_deviance',\n",
        "                                      return_train_score=False,\n",
        "                                      verbose=1,\n",
        "                                      cv=5,\n",
        "                                      random_state = 54321)\n",
        "xgb_randomsearch.fit(X_train_2, y_train_2, sample_weight=w_mtpl_freq)"
      ]
    },
    {
      "cell_type": "code",
      "execution_count": null,
      "metadata": {
        "colab": {
          "base_uri": "https://localhost:8080/"
        },
        "id": "11I-PDjsby_Y",
        "outputId": "1a2fecc7-4e54-47f8-8a5e-0cab82389ab3"
      },
      "outputs": [
        {
          "output_type": "execute_result",
          "data": {
            "text/plain": [
              "{'learning_rate': 0.1, 'max_depth': 3, 'n_estimator': 250}"
            ]
          },
          "metadata": {},
          "execution_count": 65
        }
      ],
      "source": [
        "xgb_randomsearch.best_params_"
      ]
    },
    {
      "cell_type": "markdown",
      "source": [
        "We will perform a grid search around the best parameters found during the random search."
      ],
      "metadata": {
        "id": "pckdjdDbTOdg"
      }
    },
    {
      "cell_type": "markdown",
      "metadata": {
        "id": "obgp1c-kBUvc"
      },
      "source": [
        "###### Grid Search"
      ]
    },
    {
      "cell_type": "code",
      "execution_count": null,
      "metadata": {
        "colab": {
          "base_uri": "https://localhost:8080/"
        },
        "id": "c_sYfI7lcCDl",
        "outputId": "6397da42-3e77-4939-acf3-0bd55ff37f8f"
      },
      "outputs": [
        {
          "output_type": "execute_result",
          "data": {
            "text/plain": [
              "{'learning_rate': [0.08, 0.09, 0.1, 0.11, 0.12],\n",
              " 'max_depth': [2, 3],\n",
              " 'n_estimator': array([100, 150, 200, 250, 300])}"
            ]
          },
          "metadata": {},
          "execution_count": 105
        }
      ],
      "source": [
        "param_grid_xgb = {\n",
        "                'max_depth':[2,3],\n",
        "               'learning_rate':[0.08,0.09,0.10,0.11,0.12],\n",
        "               'n_estimator': np.arange(start = 100, stop = 350, step = 50)\n",
        "}\n",
        "param_grid_xgb"
      ]
    },
    {
      "cell_type": "code",
      "execution_count": null,
      "metadata": {
        "colab": {
          "base_uri": "https://localhost:8080/"
        },
        "id": "pXTFF-Syctwt",
        "outputId": "5037afea-0027-4a14-dfd1-0a56b62ee97b"
      },
      "outputs": [
        {
          "output_type": "stream",
          "name": "stdout",
          "text": [
            "Fitting 5 folds for each of 50 candidates, totalling 250 fits\n"
          ]
        },
        {
          "output_type": "execute_result",
          "data": {
            "text/plain": [
              "GridSearchCV(cv=5, estimator=XGBRegressor(objective='count:poisson'),\n",
              "             param_grid={'learning_rate': [0.08, 0.09, 0.1, 0.11, 0.12],\n",
              "                         'max_depth': [2, 3],\n",
              "                         'n_estimator': array([100, 150, 200, 250, 300])},\n",
              "             scoring='neg_mean_poisson_deviance', verbose=1)"
            ]
          },
          "metadata": {},
          "execution_count": 106
        }
      ],
      "source": [
        "# execute cross_validation\n",
        "xgb_gridsearch = GridSearchCV(estimator=xgb_grid,\n",
        "                              param_grid=param_grid_xgb,\n",
        "                              scoring='neg_mean_poisson_deviance',\n",
        "                              return_train_score=False,\n",
        "                              verbose=1,\n",
        "                              cv=5)\n",
        "\n",
        "xgb_gridsearch.fit(X_train_2, y_train_2, sample_weight=w_mtpl_freq)"
      ]
    },
    {
      "cell_type": "code",
      "execution_count": null,
      "metadata": {
        "colab": {
          "base_uri": "https://localhost:8080/"
        },
        "id": "0zmSHr0wACjJ",
        "outputId": "9249d381-278a-4156-d20e-d3c9a024e67b"
      },
      "outputs": [
        {
          "output_type": "execute_result",
          "data": {
            "text/plain": [
              "{'learning_rate': 0.09, 'max_depth': 3, 'n_estimator': 100}"
            ]
          },
          "metadata": {},
          "execution_count": 107
        }
      ],
      "source": [
        "xgb_gridsearch.best_params_"
      ]
    },
    {
      "cell_type": "markdown",
      "metadata": {
        "id": "oIr0ApX4Y1J0"
      },
      "source": [
        "##### ***A XGboost model with tuned hyper parameters***"
      ]
    },
    {
      "cell_type": "markdown",
      "source": [
        "Our best model has a learning rate of 0.09, a depth of 3 and a number of estimators of 100"
      ],
      "metadata": {
        "id": "zM9S065YTcok"
      }
    },
    {
      "cell_type": "markdown",
      "metadata": {
        "id": "W6czlVBkZJI7"
      },
      "source": [
        "###### The model"
      ]
    },
    {
      "cell_type": "code",
      "execution_count": null,
      "metadata": {
        "colab": {
          "base_uri": "https://localhost:8080/"
        },
        "id": "LumuIQY9ZLUb",
        "outputId": "b7431747-7104-46c4-ae21-e74d3bb5d6bd"
      },
      "outputs": [
        {
          "output_type": "execute_result",
          "data": {
            "text/plain": [
              "XGBRegressor(base_score=0.13938126247193397, learning_rate=0.09,\n",
              "             objective='count:poisson')"
            ]
          },
          "metadata": {},
          "execution_count": 108
        }
      ],
      "source": [
        "\n",
        "xgb_frequency_opti = xgb.XGBRegressor(n_estimators = xgb_gridsearch.best_params_['n_estimator'],\n",
        "                                 objective='count:poisson',\n",
        "                                 max_depth = xgb_gridsearch.best_params_['max_depth'],\n",
        "                                 learning_rate = xgb_gridsearch.best_params_['learning_rate'],\n",
        "                                 base_score = np.sum(y_mtpl_freq * w_mtpl_freq)/np.sum(w_mtpl_freq))\n",
        "\n",
        "xgb_frequency_opti.fit(X_train_2, y_train_2, sample_weight=w_mtpl_freq)\n"
      ]
    },
    {
      "cell_type": "code",
      "execution_count": null,
      "metadata": {
        "colab": {
          "base_uri": "https://localhost:8080/"
        },
        "id": "IFyro_Vlhgy9",
        "outputId": "c848a24d-92fe-491c-b361-0bba097e916f"
      },
      "outputs": [
        {
          "output_type": "stream",
          "name": "stdout",
          "text": [
            "Poisson Deviance on training set: 0.3012231665147244\n",
            "Poisson Deviance on testing set: 0.3028855076423962\n"
          ]
        }
      ],
      "source": [
        "# Prediction\n",
        "y_pred_train_xgb = xgb_frequency_opti.predict(X_train_2)\n",
        "y_pred_test_xgb = xgb_frequency_opti.predict(X_test_2)\n",
        "\n",
        "print(\"Poisson Deviance on training set:\", DeviancePoisson_scikit(np.array(y_pred_train_xgb),np.array(y_train),np.array(my_data_X_train['duree'])))\n",
        "print(\"Poisson Deviance on testing set:\", DeviancePoisson_scikit(np.array(y_pred_test_xgb),np.array(y_test),np.array(my_data_X_test['duree'])))"
      ]
    },
    {
      "cell_type": "markdown",
      "metadata": {
        "id": "2VVhAozkinJB"
      },
      "source": [
        "###### Interpretation of the model"
      ]
    },
    {
      "cell_type": "markdown",
      "source": [
        "Below the relative feature importance. As for the RF, the age of the policyholder is the most important feature."
      ],
      "metadata": {
        "id": "K2w1JFOGZeZh"
      }
    },
    {
      "cell_type": "code",
      "execution_count": null,
      "metadata": {
        "colab": {
          "base_uri": "https://localhost:8080/",
          "height": 404
        },
        "id": "m9NErT5li0DY",
        "outputId": "9252bcfa-813a-4822-d7e1-04d9628abde4"
      },
      "outputs": [
        {
          "output_type": "display_data",
          "data": {
            "text/plain": [
              "<Figure size 1080x432 with 1 Axes>"
            ],
            "image/png": "[encoded data removed]"
          },
          "metadata": {
            "needs_background": "light"
          }
        }
      ],
      "source": [
        "\n",
        "# Features' names\n",
        "features_xgb = list(X_train_2)\n",
        "\n",
        "# Importance measures\n",
        "importances_xgb = xgb_frequency_opti.feature_importances_\n",
        "\n",
        "# We sort the features by highest importance\n",
        "indices = np.flip(np.argsort(importances_xgb))\n",
        "\n",
        "\n",
        "#Plot\n",
        "plt.title('Variables importances')\n",
        "plt.barh(range(len(indices)), importances_xgb[indices] / importances_xgb[indices[0]], color = 'b', align = 'center')\n",
        "plt.yticks(range(len(indices)), [features_xgb[i] for i in indices])\n",
        "plt.xlabel('Relative importance')\n",
        "plt.show()"
      ]
    },
    {
      "cell_type": "code",
      "execution_count": null,
      "metadata": {
        "colab": {
          "base_uri": "https://localhost:8080/",
          "height": 337
        },
        "id": "6YoEKzFNlEde",
        "outputId": "44905521-8aec-40b3-831a-620c294e8b93"
      },
      "outputs": [
        {
          "output_type": "error",
          "ename": "NotFittedError",
          "evalue": "ignored",
          "traceback": [
            "\u001b[0;31m---------------------------------------------------------------------------\u001b[0m",
            "\u001b[0;31mNotFittedError\u001b[0m                            Traceback (most recent call last)",
            "\u001b[0;32m<ipython-input-111-27f319b8e426>\u001b[0m in \u001b[0;36m<module>\u001b[0;34m()\u001b[0m\n\u001b[1;32m      1\u001b[0m \u001b[0;32mfrom\u001b[0m \u001b[0msklearn\u001b[0m\u001b[0;34m.\u001b[0m\u001b[0mutils\u001b[0m \u001b[0;32mimport\u001b[0m \u001b[0mvalidation\u001b[0m\u001b[0;34m\u001b[0m\u001b[0;34m\u001b[0m\u001b[0m\n\u001b[1;32m      2\u001b[0m \u001b[0;34m\u001b[0m\u001b[0m\n\u001b[0;32m----> 3\u001b[0;31m \u001b[0mvalidation\u001b[0m\u001b[0;34m.\u001b[0m\u001b[0mcheck_is_fitted\u001b[0m\u001b[0;34m(\u001b[0m\u001b[0mestimator\u001b[0m\u001b[0;34m=\u001b[0m\u001b[0mxgb_frequency_opti\u001b[0m\u001b[0;34m)\u001b[0m\u001b[0;34m\u001b[0m\u001b[0;34m\u001b[0m\u001b[0m\n\u001b[0m",
            "\u001b[0;32m/usr/local/lib/python3.7/dist-packages/sklearn/utils/validation.py\u001b[0m in \u001b[0;36mcheck_is_fitted\u001b[0;34m(estimator, attributes, msg, all_or_any)\u001b[0m\n\u001b[1;32m   1220\u001b[0m \u001b[0;34m\u001b[0m\u001b[0m\n\u001b[1;32m   1221\u001b[0m     \u001b[0;32mif\u001b[0m \u001b[0;32mnot\u001b[0m \u001b[0mfitted\u001b[0m\u001b[0;34m:\u001b[0m\u001b[0;34m\u001b[0m\u001b[0;34m\u001b[0m\u001b[0m\n\u001b[0;32m-> 1222\u001b[0;31m         \u001b[0;32mraise\u001b[0m \u001b[0mNotFittedError\u001b[0m\u001b[0;34m(\u001b[0m\u001b[0mmsg\u001b[0m \u001b[0;34m%\u001b[0m \u001b[0;34m{\u001b[0m\u001b[0;34m\"name\"\u001b[0m\u001b[0;34m:\u001b[0m \u001b[0mtype\u001b[0m\u001b[0;34m(\u001b[0m\u001b[0mestimator\u001b[0m\u001b[0;34m)\u001b[0m\u001b[0;34m.\u001b[0m\u001b[0m__name__\u001b[0m\u001b[0;34m}\u001b[0m\u001b[0;34m)\u001b[0m\u001b[0;34m\u001b[0m\u001b[0;34m\u001b[0m\u001b[0m\n\u001b[0m\u001b[1;32m   1223\u001b[0m \u001b[0;34m\u001b[0m\u001b[0m\n\u001b[1;32m   1224\u001b[0m \u001b[0;34m\u001b[0m\u001b[0m\n",
            "\u001b[0;31mNotFittedError\u001b[0m: This XGBRegressor instance is not fitted yet. Call 'fit' with appropriate arguments before using this estimator."
          ]
        }
      ],
      "source": [
        "from sklearn.utils import validation\n",
        "\n",
        "validation.check_is_fitted(estimator=xgb_frequency_opti)"
      ]
    },
    {
      "cell_type": "markdown",
      "source": [
        "small trick to get the PDP from Xgboost:"
      ],
      "metadata": {
        "id": "IWalPMlaZkTt"
      }
    },
    {
      "cell_type": "code",
      "execution_count": null,
      "metadata": {
        "id": "0hiEHBTClMGv"
      },
      "outputs": [],
      "source": [
        "xgb_frequency_opti.dummy_ = \"dummy\"\n",
        "validation.check_is_fitted(estimator=xgb_frequency_opti)"
      ]
    },
    {
      "cell_type": "markdown",
      "source": [
        "As the policyholder age is the most important feature as in the random forest, we decided to plot the pdp of this variable. We notice that for both methods, the frequency for young people is higher and then tend to decrease until a certain age. In the random forest, the range of the graph is lower between 0.15 and 0.1 while here in the xgboost the range goes from about 0.15 to 0.3. The loss frequency of the PDP of the xgboost is higher for young people  and then decreases and goes up for older people more or less from the age of 75.\n"
      ],
      "metadata": {
        "id": "kXIRE09Makz3"
      }
    },
    {
      "cell_type": "code",
      "execution_count": null,
      "metadata": {
        "colab": {
          "base_uri": "https://localhost:8080/",
          "height": 404
        },
        "id": "joUuHCJ2lSok",
        "outputId": "2f0912a8-cd6c-46be-9bea-215475c35aed"
      },
      "outputs": [
        {
          "output_type": "display_data",
          "data": {
            "text/plain": [
              "<Figure size 864x432 with 2 Axes>"
            ],
            "image/png": "[encoded data removed]"
          },
          "metadata": {
            "needs_background": "light"
          }
        }
      ],
      "source": [
        "# PDPs for XGBoost model\n",
        "fig, ax = plt.subplots(figsize=(12, 6))\n",
        "ax.set_title(\"PDPs\")\n",
        "PartialDependenceDisplay.from_estimator(xgb_frequency_opti, X=X_train_2,features = ['AGEPH'], ax=ax);"
      ]
    },
    {
      "cell_type": "markdown",
      "metadata": {
        "id": "ugaoKMmr9rLZ"
      },
      "source": [
        "#### Comparison and conclusion"
      ]
    },
    {
      "cell_type": "markdown",
      "source": [
        "The poisson deviance from the Random Forest model in the training and test set is around 0.305. The Xgboost gave us better poisson deviance (0.301 and 0.302). The deviance improvement seems very small, but as we have seen in the theoretical sessions: a small deviance improvement can in reality be significant."
      ],
      "metadata": {
        "id": "TcTvrt2DYagN"
      }
    },
    {
      "cell_type": "markdown",
      "source": [
        "In conclusion, the Xgboost gave better results in terms of deviance in the training and test set for the claim frequency. In both methods the most important feature was the age and the global trend of the PDP was similar for this feature. "
      ],
      "metadata": {
        "id": "1K7v_Jy1bKgl"
      }
    }
  ],
  "metadata": {
    "colab": {
      "collapsed_sections": [
        "brtzEflc8x6Y",
        "dfP7LiSRmHrT",
        "72OzguD3ZjWU",
        "9Uq3kURr1faV",
        "9g7ZNGGDZZHD",
        "ueNyj17OynT7",
        "-hOmEQGEzfAu",
        "hvMhQ8yvzoYq",
        "vReaWs9H0StP",
        "6gQZDYnu0XIR"
      ],
      "provenance": [],
      "toc_visible": true
    },
    "kernelspec": {
      "display_name": "Python 3",
      "name": "python3"
    },
    "language_info": {
      "name": "python"
    }
  },
  "nbformat": 4,
  "nbformat_minor": 0
}
